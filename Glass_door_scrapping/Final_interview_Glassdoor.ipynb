{
 "cells": [
  {
   "cell_type": "code",
   "execution_count": 1,
   "id": "7adeb277",
   "metadata": {},
   "outputs": [],
   "source": [
    "#Libraries\n",
    "import pandas as pd\n",
    "import re\n",
    "import requests\n",
    "\n",
    "import os\n",
    "import time\n",
    "\n",
    "from selenium import webdriver\n",
    "from selenium.webdriver.common.keys import Keys\n",
    "import config \n",
    "\n",
    "from getpass import getpass\n",
    "\n",
    "import random\n",
    "\n",
    "from selenium.webdriver.common.action_chains import ActionChains"
   ]
  },
  {
   "cell_type": "code",
   "execution_count": 2,
   "id": "84b8bc00",
   "metadata": {},
   "outputs": [],
   "source": [
    "## first we need to initiate the driver##\n",
    "driver = webdriver.Chrome('C:\\\\Users\\\\catar\\\\OneDrive\\\\Documentos\\\\chromedriver.exe')"
   ]
  },
  {
   "cell_type": "code",
   "execution_count": 3,
   "id": "3b3a2486",
   "metadata": {},
   "outputs": [],
   "source": [
    "# open the website\n",
    "driver.get('https://www.glassdoor.com')"
   ]
  },
  {
   "cell_type": "code",
   "execution_count": 4,
   "id": "a9024a1e",
   "metadata": {},
   "outputs": [],
   "source": [
    "# Login in\n",
    "signin = driver.find_elements_by_css_selector(\"button[class^='d-flex align-items-center justify-content-center order-1 order-md-2 mr-auto mr-md-0 p-0 LockedHomeHeaderStyles__signInButton']\")[0].click()\n",
    "\n",
    "time.sleep(2.5) ## sleep timer in order to mimic human interaction"
   ]
  },
  {
   "cell_type": "code",
   "execution_count": 5,
   "id": "b9a84b0f",
   "metadata": {},
   "outputs": [],
   "source": [
    "# Insert email\n",
    "email = getpass('Enter your email') ## input email\n",
    "\n",
    "email_box = driver.find_element_by_id(\"userEmail\") ## box to input email\n",
    "\n",
    "email_box.send_keys(email)  ## send email to webpage\n",
    "\n",
    "time.sleep(3.5) ## sleep timer in order to mimic human interaction"
   ]
  },
  {
   "cell_type": "code",
   "execution_count": 6,
   "id": "2bc9a3b6",
   "metadata": {},
   "outputs": [],
   "source": [
    "#Insert password\n",
    "\n",
    "password = getpass('Enter your password') ## input password\n",
    "\n",
    "pass_box = driver.find_element_by_id('userPassword') ## box to input password\n",
    "\n",
    "pass_box.send_keys(password)  ## send password to webpage\n",
    "\n",
    "time.sleep(1.3) ## sleep timer in order to mimic human interaction"
   ]
  },
  {
   "cell_type": "code",
   "execution_count": 7,
   "id": "81dfc0f2",
   "metadata": {},
   "outputs": [],
   "source": [
    "#login\n",
    "\n",
    "login = driver.find_elements_by_css_selector(\"button[class^='gd-ui-button minWidthBtn css-8i7bc2']\")[0].click()\n",
    "\n",
    "time.sleep(1.6)  ## sleep timer in order to mimic human interaction\n"
   ]
  },
  {
   "cell_type": "code",
   "execution_count": 8,
   "id": "9753874a",
   "metadata": {},
   "outputs": [],
   "source": [
    "#######################################"
   ]
  },
  {
   "cell_type": "code",
   "execution_count": 9,
   "id": "c39cc366",
   "metadata": {},
   "outputs": [],
   "source": [
    "# Lets try a function for that\n",
    "\n",
    "def interview_info(job_title,location):\n",
    "    \n",
    "    actions = ActionChains(driver)\n",
    "    \n",
    "    # first lets go to interview page\n",
    "    interview_icon = \"//a[@data-test = 'site-header-interviews']\" \n",
    "    interview_button = driver.find_element_by_xpath(interview_icon)\n",
    "    interview_click = interview_button.click()\n",
    "    time.sleep(random.uniform(5,7)) ## sleep timer in order to mimic human interaction\n",
    "    \n",
    "    # lets input the job title to search\n",
    "    job_title_box = driver.find_element_by_id(\"KeywordSearch\") ## box to input job title\n",
    "    job_title_box.send_keys(job_title) ## send job title to page\n",
    "    time.sleep(random.uniform(5,7)) ## sleep timer in order to mimic human interaction\n",
    "    \n",
    "    # lets input the location to search\n",
    "    location_box = driver.find_element_by_id(\"LocationSearch\")  ## box to input job title\n",
    "    location_box.clear() ##clear initial input\n",
    "    location_box.send_keys(location) ## send job title to page\n",
    "    time.sleep(random.uniform(5,7)) ## sleep timer in order to mimic human interaction\n",
    "    \n",
    "    # find information\n",
    "    interview_search = driver.find_element_by_id('HeroSearchButton') ## click search button\n",
    "    interview_search.click()  ## click search button\n",
    "    time.sleep(random.uniform(5,7))  ## sleep timer in order to mimic human interaction\n",
    "    \n",
    "    ## Now that we have the results lets check total number of results and page of results\n",
    "    results = \"//div[@class='reviewCount center']\"\n",
    "    total_results = driver.find_element_by_xpath(results).text\n",
    "    number_of_results = int(total_results)\n",
    "    number_of_pages = round(number_of_results/10)\n",
    "\n",
    "    ## Create to add the info scrapped\n",
    "    job_company = []\n",
    "    questions = []\n",
    "    answers = []\n",
    "\n",
    "    ## Actions\n",
    "    actions = ActionChains(driver)\n",
    "    \n",
    "    #lets iterate throw the questions\n",
    "    for i in range(1,(number_of_results+1)):\n",
    "        display(i)\n",
    "        \n",
    "        #company info\n",
    "        xpath1 = \"//div[starts-with(@id, 'InterviewQuestionResult_\"+str(i)+\"')]//span[@class='authorInfo']\"\n",
    "        job_company_name = driver.find_element_by_xpath(xpath1)\n",
    "        job_company_name_text = job_company_name.text\n",
    "        display(job_company_name_text)\n",
    "        job_company.append(job_company_name_text)\n",
    "        time.sleep(random.uniform(3,6))\n",
    "\n",
    "        #question info\n",
    "        xpath2 = \"//div[starts-with(@id, 'InterviewQuestionResult_\"+str(i)+\"')]//p[@class='questionText h3']\"\n",
    "        questions_gd = driver.find_element_by_xpath(xpath2)\n",
    "        questions_gd_text = questions_gd.text\n",
    "        display(questions_gd_text)\n",
    "        questions.append(questions_gd_text)\n",
    "        time.sleep(random.uniform(3,6))\n",
    "\n",
    "        #answer info\n",
    "        try:\n",
    "            #click answer button\n",
    "            if ((i%10) != 1):   \n",
    "                xpath3 = \"//div[starts-with(@id, 'InterviewQuestionResult_\"+str(i)+\"')]//a[@class='userResponseLink margTop block hiddenLink mmLink ']\"\n",
    "                answer_icon = driver.find_element_by_xpath(xpath3)\n",
    "                answer_icon_click = answer_icon.click()\n",
    "                time.sleep(random.uniform(3,6))         \n",
    "        \n",
    "            #get answer info            \n",
    "            xpath4 = \"//div[starts-with(@id, 'InterviewQuestionResult_\"+str(i)+\"')]//div[@class='responseText padTopSm tbl fill']\"\n",
    "            answers_gd = driver.find_element_by_xpath(xpath4)\n",
    "            answers_gd_text = answers_gd.text\n",
    "            display(answers_gd_text)\n",
    "            answers.append(answers_gd_text)\n",
    "            time.sleep(random.uniform(3,6))\n",
    "        \n",
    "        #if no answer presented\n",
    "        except:\n",
    "            answers_gd_text = 'No answer'\n",
    "            display(answers_gd_text)\n",
    "            answers.append(answers_gd_text)\n",
    "            time.sleep(random.uniform(3,6))\n",
    "            \n",
    "        #go to next page\n",
    "        if ((i%10) == 0):\n",
    "            xpath_page = \"//div[@class='pagingControls cell middle']//li[@class ='next']\"\n",
    "            page_change = driver.find_element_by_xpath(xpath_page)\n",
    "            page_change_button = page_change.click()\n",
    "            time.sleep(random.uniform(35,40))\n",
    "    \n",
    "    \n",
    "    #lets retrieve dataframe with this info\n",
    "    interview_data = pd.DataFrame([job_company,questions,answers]).T\n",
    "    interview_data.columns = ['job_company', 'questions','answers']\n",
    "    display(interview_data)\n",
    "\n",
    "    return interview_data"
   ]
  },
  {
   "cell_type": "code",
   "execution_count": 10,
   "metadata": {},
   "outputs": [],
   "source": [
    "def data_to_csv(scrap_data):\n",
    "    t = time.localtime() # check time\n",
    "    m = str(t.tm_mon) #scrap month\n",
    "    d = str(t.tm_mday) #scrap day\n",
    "    h = str(t.tm_hour) #scrap hour\n",
    "    mt = str(t.tm_min) #scrap minute\n",
    "\n",
    "    #lets structure how to present this info in the file name\n",
    "    structure = \"_m\"+str(m)+\"_d\"+str(d)+\"_h\"+str(h)+\"_\"+str(mt)\n",
    "\n",
    "    #turn into csv\n",
    "    scrap_data.to_csv(\"interview_data\"+structure+\".csv\",sep = ',',index=False)\n"
   ]
  },
  {
   "cell_type": "code",
   "execution_count": 11,
   "id": "d29a4fe5",
   "metadata": {},
   "outputs": [
    {
     "output_type": "display_data",
     "data": {
      "text/plain": "1"
     },
     "metadata": {}
    },
    {
     "output_type": "display_data",
     "data": {
      "text/plain": "'Senior Data Scientist at OLX Group was asked...'"
     },
     "metadata": {}
    },
    {
     "output_type": "display_data",
     "data": {
      "text/plain": "'explain the reasoning in resolving the case'"
     },
     "metadata": {}
    },
    {
     "output_type": "display_data",
     "data": {
      "text/plain": "'I answer all the insights I had based on data analysis and business acumen'"
     },
     "metadata": {}
    },
    {
     "output_type": "display_data",
     "data": {
      "text/plain": "2"
     },
     "metadata": {}
    },
    {
     "output_type": "display_data",
     "data": {
      "text/plain": "'Data Science at MOG Technologies was asked...'"
     },
     "metadata": {}
    },
    {
     "output_type": "display_data",
     "data": {
      "text/plain": "'Nothing too technical, they presented one of their current problems and i was asked if i thought that it could be solved and how i would solve it.'"
     },
     "metadata": {}
    },
    {
     "output_type": "display_data",
     "data": {
      "text/plain": "'I told them that it could be solved and presented a sketch of a possible solution.'"
     },
     "metadata": {}
    },
    {
     "output_type": "display_data",
     "data": {
      "text/plain": "3"
     },
     "metadata": {}
    },
    {
     "output_type": "display_data",
     "data": {
      "text/plain": "'Data Scientist at Smart Consulting was asked...'"
     },
     "metadata": {}
    },
    {
     "output_type": "display_data",
     "data": {
      "text/plain": "'Tell me about 2 projects that you seem fit to the position you are applying'"
     },
     "metadata": {}
    },
    {
     "output_type": "display_data",
     "data": {
      "text/plain": "'Described two projetcs about AI'"
     },
     "metadata": {}
    },
    {
     "output_type": "display_data",
     "data": {
      "text/plain": "4"
     },
     "metadata": {}
    },
    {
     "output_type": "display_data",
     "data": {
      "text/plain": "'Data Scientist at Deloitte was asked...'"
     },
     "metadata": {}
    },
    {
     "output_type": "display_data",
     "data": {
      "text/plain": "'What your motivations are?'"
     },
     "metadata": {}
    },
    {
     "output_type": "display_data",
     "data": {
      "text/plain": "'If the data adequately represent reality, by studying the former you get to better understand the latter. Through the expertise of data science, I am able to extract knowledge from the data which makes me passionate for my role as a data scientist.'"
     },
     "metadata": {}
    },
    {
     "output_type": "display_data",
     "data": {
      "text/plain": "5"
     },
     "metadata": {}
    },
    {
     "output_type": "display_data",
     "data": {
      "text/plain": "'Data Scientist at 360imprimir was asked...'"
     },
     "metadata": {}
    },
    {
     "output_type": "display_data",
     "data": {
      "text/plain": "'Logic question( cases resolution)'"
     },
     "metadata": {}
    },
    {
     "output_type": "display_data",
     "data": {
      "text/plain": "'Detailed explanation about the reasoning behind the solution'"
     },
     "metadata": {}
    },
    {
     "output_type": "display_data",
     "data": {
      "text/plain": "6"
     },
     "metadata": {}
    },
    {
     "output_type": "display_data",
     "data": {
      "text/plain": "'Data Scientist at MGM Resorts International was asked...'"
     },
     "metadata": {}
    },
    {
     "output_type": "display_data",
     "data": {
      "text/plain": "'Classified customers based not only based on their historical data, but also on psychological part of view.'"
     },
     "metadata": {}
    },
    {
     "output_type": "display_data",
     "data": {
      "text/plain": "'presented many data mining models'"
     },
     "metadata": {}
    },
    {
     "output_type": "display_data",
     "data": {
      "text/plain": "7"
     },
     "metadata": {}
    },
    {
     "output_type": "display_data",
     "data": {
      "text/plain": "'Data Analyst at SDG Group was asked...'"
     },
     "metadata": {}
    },
    {
     "output_type": "display_data",
     "data": {
      "text/plain": "'What data modelling schemas do you know?'"
     },
     "metadata": {}
    },
    {
     "output_type": "display_data",
     "data": {
      "text/plain": "'No answer'"
     },
     "metadata": {}
    },
    {
     "output_type": "display_data",
     "data": {
      "text/plain": "8"
     },
     "metadata": {}
    },
    {
     "output_type": "display_data",
     "data": {
      "text/plain": "'Data Scientist at Casafari was asked...'"
     },
     "metadata": {}
    },
    {
     "output_type": "display_data",
     "data": {
      "text/plain": "'What is 27 * 27'"
     },
     "metadata": {}
    },
    {
     "output_type": "display_data",
     "data": {
      "text/plain": "'No answer'"
     },
     "metadata": {}
    },
    {
     "output_type": "display_data",
     "data": {
      "text/plain": "9"
     },
     "metadata": {}
    },
    {
     "output_type": "display_data",
     "data": {
      "text/plain": "'Data Analyst at everis was asked...'"
     },
     "metadata": {}
    },
    {
     "output_type": "display_data",
     "data": {
      "text/plain": "'Explain hierarchy in Java. I was asked in the first interview my salary expectations.'"
     },
     "metadata": {}
    },
    {
     "output_type": "display_data",
     "data": {
      "text/plain": "'No answer'"
     },
     "metadata": {}
    },
    {
     "output_type": "display_data",
     "data": {
      "text/plain": "10"
     },
     "metadata": {}
    },
    {
     "output_type": "display_data",
     "data": {
      "text/plain": "'Data Analyst at SDG Group was asked...'"
     },
     "metadata": {}
    },
    {
     "output_type": "display_data",
     "data": {
      "text/plain": "'Does your background can bring value to the company? In which sense?'"
     },
     "metadata": {}
    },
    {
     "output_type": "display_data",
     "data": {
      "text/plain": "'No answer'"
     },
     "metadata": {}
    },
    {
     "output_type": "display_data",
     "data": {
      "text/plain": "11"
     },
     "metadata": {}
    },
    {
     "output_type": "display_data",
     "data": {
      "text/plain": "'Data Scientist Internship at BNP Paribas was asked...'"
     },
     "metadata": {}
    },
    {
     "output_type": "display_data",
     "data": {
      "text/plain": "'Describe the project (in CV) and what treatment did the data have.'"
     },
     "metadata": {}
    },
    {
     "output_type": "display_data",
     "data": {
      "text/plain": "'No answer'"
     },
     "metadata": {}
    },
    {
     "output_type": "display_data",
     "data": {
      "text/plain": "12"
     },
     "metadata": {}
    },
    {
     "output_type": "display_data",
     "data": {
      "text/plain": "'Data Analyst at BNP Paribas was asked...'"
     },
     "metadata": {}
    },
    {
     "output_type": "display_data",
     "data": {
      "text/plain": "'Why did you choose bnp'"
     },
     "metadata": {}
    },
    {
     "output_type": "display_data",
     "data": {
      "text/plain": "'No answer'"
     },
     "metadata": {}
    },
    {
     "output_type": "display_data",
     "data": {
      "text/plain": "13"
     },
     "metadata": {}
    },
    {
     "output_type": "display_data",
     "data": {
      "text/plain": "'Data Analyst at BOLD by Devoteam was asked...'"
     },
     "metadata": {}
    },
    {
     "output_type": "display_data",
     "data": {
      "text/plain": "\"All questions revolved around qualifications and previous work experience, either to double-check what I listed in my resume or to make up for the lack of preparation and help fill the company's job applicant profile.\""
     },
     "metadata": {}
    },
    {
     "output_type": "display_data",
     "data": {
      "text/plain": "'No answer'"
     },
     "metadata": {}
    },
    {
     "output_type": "display_data",
     "data": {
      "text/plain": "14"
     },
     "metadata": {}
    },
    {
     "output_type": "display_data",
     "data": {
      "text/plain": "'Data Scientist at Feedzai was asked...'"
     },
     "metadata": {}
    },
    {
     "output_type": "display_data",
     "data": {
      "text/plain": "'Do a presentation about any topic.'"
     },
     "metadata": {}
    },
    {
     "output_type": "display_data",
     "data": {
      "text/plain": "'No answer'"
     },
     "metadata": {}
    },
    {
     "output_type": "display_data",
     "data": {
      "text/plain": "15"
     },
     "metadata": {}
    },
    {
     "output_type": "display_data",
     "data": {
      "text/plain": "'Junior Data Scientist at Imaginary Cloud was asked...'"
     },
     "metadata": {}
    },
    {
     "output_type": "display_data",
     "data": {
      "text/plain": "'From the second interview: What is most important? Inspiration or Hard Work?'"
     },
     "metadata": {}
    },
    {
     "output_type": "display_data",
     "data": {
      "text/plain": "'No answer'"
     },
     "metadata": {}
    },
    {
     "output_type": "display_data",
     "data": {
      "text/plain": "16"
     },
     "metadata": {}
    },
    {
     "output_type": "display_data",
     "data": {
      "text/plain": "'Data Scientist at BJSS was asked...'"
     },
     "metadata": {}
    },
    {
     "output_type": "display_data",
     "data": {
      "text/plain": "'Tell me about what models were used and how you evaluated the results in this specific project?'"
     },
     "metadata": {}
    },
    {
     "output_type": "display_data",
     "data": {
      "text/plain": "'No answer'"
     },
     "metadata": {}
    },
    {
     "output_type": "display_data",
     "data": {
      "text/plain": "17"
     },
     "metadata": {}
    },
    {
     "output_type": "display_data",
     "data": {
      "text/plain": "'Data Analyst at FARFETCH was asked...'"
     },
     "metadata": {}
    },
    {
     "output_type": "display_data",
     "data": {
      "text/plain": "'What do you know about A/B testing? What kind of BI Visualization software do you use?'"
     },
     "metadata": {}
    },
    {
     "output_type": "display_data",
     "data": {
      "text/plain": "'No answer'"
     },
     "metadata": {}
    },
    {
     "output_type": "display_data",
     "data": {
      "text/plain": "18"
     },
     "metadata": {}
    },
    {
     "output_type": "display_data",
     "data": {
      "text/plain": "'Data Scientist at Aubay was asked...'"
     },
     "metadata": {}
    },
    {
     "output_type": "display_data",
     "data": {
      "text/plain": "'Talk me about your journey'"
     },
     "metadata": {}
    },
    {
     "output_type": "display_data",
     "data": {
      "text/plain": "'No answer'"
     },
     "metadata": {}
    },
    {
     "output_type": "display_data",
     "data": {
      "text/plain": "19"
     },
     "metadata": {}
    },
    {
     "output_type": "display_data",
     "data": {
      "text/plain": "'Data Analyst at SDG Group was asked...'"
     },
     "metadata": {}
    },
    {
     "output_type": "display_data",
     "data": {
      "text/plain": "'During the skype interview I was asked to perform dome calculations in excel.'"
     },
     "metadata": {}
    },
    {
     "output_type": "display_data",
     "data": {
      "text/plain": "'No answer'"
     },
     "metadata": {}
    },
    {
     "output_type": "display_data",
     "data": {
      "text/plain": "20"
     },
     "metadata": {}
    },
    {
     "output_type": "display_data",
     "data": {
      "text/plain": "'Junior Data Scientist at KWAN was asked...'"
     },
     "metadata": {}
    },
    {
     "output_type": "display_data",
     "data": {
      "text/plain": "'They asked me about my experience in coding and other Data Science technologies.'"
     },
     "metadata": {}
    },
    {
     "output_type": "display_data",
     "data": {
      "text/plain": "'No answer'"
     },
     "metadata": {}
    },
    {
     "output_type": "display_data",
     "data": {
      "text/plain": "21"
     },
     "metadata": {}
    },
    {
     "output_type": "display_data",
     "data": {
      "text/plain": "'Data Scientist at InnoWave Technologies was asked...'"
     },
     "metadata": {}
    },
    {
     "output_type": "display_data",
     "data": {
      "text/plain": "'My goals in life, what type of environment do you prefer to work on, your weaknesses and strengths, some technical questions related with the'"
     },
     "metadata": {}
    },
    {
     "output_type": "display_data",
     "data": {
      "text/plain": "'No answer'"
     },
     "metadata": {}
    },
    {
     "output_type": "display_data",
     "data": {
      "text/plain": "22"
     },
     "metadata": {}
    },
    {
     "output_type": "display_data",
     "data": {
      "text/plain": "'Data Scientist at Axians was asked...'"
     },
     "metadata": {}
    },
    {
     "output_type": "display_data",
     "data": {
      "text/plain": "\"I presented past projects, answered questions about them, with a lot of emphasis on the math and logic of model evaluation metrics and model's themselves.\""
     },
     "metadata": {}
    },
    {
     "output_type": "display_data",
     "data": {
      "text/plain": "'No answer'"
     },
     "metadata": {}
    },
    {
     "output_type": "display_data",
     "data": {
      "text/plain": "23"
     },
     "metadata": {}
    },
    {
     "output_type": "display_data",
     "data": {
      "text/plain": "'Business Data Analyst at Adentis was asked...'"
     },
     "metadata": {}
    },
    {
     "output_type": "display_data",
     "data": {
      "text/plain": "'What is the subject that you would like to work in and did you ever did something in that area'"
     },
     "metadata": {}
    },
    {
     "output_type": "display_data",
     "data": {
      "text/plain": "'No answer'"
     },
     "metadata": {}
    },
    {
     "output_type": "display_data",
     "data": {
      "text/plain": "24"
     },
     "metadata": {}
    },
    {
     "output_type": "display_data",
     "data": {
      "text/plain": "'Business Data Analyst at Adentis was asked...'"
     },
     "metadata": {}
    },
    {
     "output_type": "display_data",
     "data": {
      "text/plain": "'Describe yourself and your experiences'"
     },
     "metadata": {}
    },
    {
     "output_type": "display_data",
     "data": {
      "text/plain": "'No answer'"
     },
     "metadata": {}
    },
    {
     "output_type": "display_data",
     "data": {
      "text/plain": "25"
     },
     "metadata": {}
    },
    {
     "output_type": "display_data",
     "data": {
      "text/plain": "'Data Scientist at BOLD by Devoteam was asked...'"
     },
     "metadata": {}
    },
    {
     "output_type": "display_data",
     "data": {
      "text/plain": "'What is your background in Data Science ?'"
     },
     "metadata": {}
    },
    {
     "output_type": "display_data",
     "data": {
      "text/plain": "'No answer'"
     },
     "metadata": {}
    },
    {
     "output_type": "display_data",
     "data": {
      "text/plain": "26"
     },
     "metadata": {}
    },
    {
     "output_type": "display_data",
     "data": {
      "text/plain": "'Business Data Scientist at Parfois was asked...'"
     },
     "metadata": {}
    },
    {
     "output_type": "display_data",
     "data": {
      "text/plain": "'What is your best quality?'"
     },
     "metadata": {}
    },
    {
     "output_type": "display_data",
     "data": {
      "text/plain": "'No answer'"
     },
     "metadata": {}
    },
    {
     "output_type": "display_data",
     "data": {
      "text/plain": "27"
     },
     "metadata": {}
    },
    {
     "output_type": "display_data",
     "data": {
      "text/plain": "'Data Scientist at Capgemini Engineering was asked...'"
     },
     "metadata": {}
    },
    {
     "output_type": "display_data",
     "data": {
      "text/plain": "'Technical questions: What is overfitting. This was the only question. However, this was only the first interview (the following should have more questions).'"
     },
     "metadata": {}
    },
    {
     "output_type": "display_data",
     "data": {
      "text/plain": "'No answer'"
     },
     "metadata": {}
    },
    {
     "output_type": "display_data",
     "data": {
      "text/plain": "28"
     },
     "metadata": {}
    },
    {
     "output_type": "display_data",
     "data": {
      "text/plain": "'Data Analyst at Uniplaces was asked...'"
     },
     "metadata": {}
    },
    {
     "output_type": "display_data",
     "data": {
      "text/plain": "'How well do you work with Microsoft Excel?'"
     },
     "metadata": {}
    },
    {
     "output_type": "display_data",
     "data": {
      "text/plain": "'No answer'"
     },
     "metadata": {}
    },
    {
     "output_type": "display_data",
     "data": {
      "text/plain": "29"
     },
     "metadata": {}
    },
    {
     "output_type": "display_data",
     "data": {
      "text/plain": "'Data Scientist at INESC-Porto was asked...'"
     },
     "metadata": {}
    },
    {
     "output_type": "display_data",
     "data": {
      "text/plain": "'Mostly just personal questions with no'"
     },
     "metadata": {}
    },
    {
     "output_type": "display_data",
     "data": {
      "text/plain": "'No answer'"
     },
     "metadata": {}
    },
    {
     "output_type": "display_data",
     "data": {
      "text/plain": "30"
     },
     "metadata": {}
    },
    {
     "output_type": "display_data",
     "data": {
      "text/plain": "'Data Scientist at Smart Consulting was asked...'"
     },
     "metadata": {}
    },
    {
     "output_type": "display_data",
     "data": {
      "text/plain": "'A brief introduction of myself and my path'"
     },
     "metadata": {}
    },
    {
     "output_type": "display_data",
     "data": {
      "text/plain": "'No answer'"
     },
     "metadata": {}
    },
    {
     "output_type": "display_data",
     "data": {
      "text/plain": "31"
     },
     "metadata": {}
    },
    {
     "output_type": "display_data",
     "data": {
      "text/plain": "'Data Science at Casafari was asked...'"
     },
     "metadata": {}
    },
    {
     "output_type": "display_data",
     "data": {
      "text/plain": "\"How to make more data to train models when you can't collect more?\""
     },
     "metadata": {}
    },
    {
     "output_type": "display_data",
     "data": {
      "text/plain": "'No answer'"
     },
     "metadata": {}
    },
    {
     "output_type": "display_data",
     "data": {
      "text/plain": "32"
     },
     "metadata": {}
    },
    {
     "output_type": "display_data",
     "data": {
      "text/plain": "'Data Scientist at closerlook was asked...'"
     },
     "metadata": {}
    },
    {
     "output_type": "display_data",
     "data": {
      "text/plain": "'In your opinion what are the most important traits in a data scientist?'"
     },
     "metadata": {}
    },
    {
     "output_type": "display_data",
     "data": {
      "text/plain": "'No answer'"
     },
     "metadata": {}
    },
    {
     "output_type": "display_data",
     "data": {
      "text/plain": "33"
     },
     "metadata": {}
    },
    {
     "output_type": "display_data",
     "data": {
      "text/plain": "'Data Scientist at Cocus was asked...'"
     },
     "metadata": {}
    },
    {
     "output_type": "display_data",
     "data": {
      "text/plain": "'The pipeline of a machine learning project.'"
     },
     "metadata": {}
    },
    {
     "output_type": "display_data",
     "data": {
      "text/plain": "'No answer'"
     },
     "metadata": {}
    },
    {
     "output_type": "display_data",
     "data": {
      "text/plain": "34"
     },
     "metadata": {}
    },
    {
     "output_type": "display_data",
     "data": {
      "text/plain": "'Data Analyst at Growin was asked...'"
     },
     "metadata": {}
    },
    {
     "output_type": "display_data",
     "data": {
      "text/plain": "'Which technologies i used in the past'"
     },
     "metadata": {}
    },
    {
     "output_type": "display_data",
     "data": {
      "text/plain": "'No answer'"
     },
     "metadata": {}
    },
    {
     "output_type": "display_data",
     "data": {
      "text/plain": "35"
     },
     "metadata": {}
    },
    {
     "output_type": "display_data",
     "data": {
      "text/plain": "'Data Scientist at Feedzai was asked...'"
     },
     "metadata": {}
    },
    {
     "output_type": "display_data",
     "data": {
      "text/plain": "'How would you explain precision, recall and AUC metrics of evaluation?'"
     },
     "metadata": {}
    },
    {
     "output_type": "display_data",
     "data": {
      "text/plain": "'No answer'"
     },
     "metadata": {}
    },
    {
     "output_type": "display_data",
     "data": {
      "text/plain": "36"
     },
     "metadata": {}
    },
    {
     "output_type": "display_data",
     "data": {
      "text/plain": "'Data Scientist at Feedzai was asked...'"
     },
     "metadata": {}
    },
    {
     "output_type": "display_data",
     "data": {
      "text/plain": "\"How do you explain a customer what's precision and recall?\""
     },
     "metadata": {}
    },
    {
     "output_type": "display_data",
     "data": {
      "text/plain": "'No answer'"
     },
     "metadata": {}
    },
    {
     "output_type": "display_data",
     "data": {
      "text/plain": "37"
     },
     "metadata": {}
    },
    {
     "output_type": "display_data",
     "data": {
      "text/plain": "'Senior Data Analyst at OLX Group was asked...'"
     },
     "metadata": {}
    },
    {
     "output_type": "display_data",
     "data": {
      "text/plain": "'Business case study, you can use any technology'"
     },
     "metadata": {}
    },
    {
     "output_type": "display_data",
     "data": {
      "text/plain": "'No answer'"
     },
     "metadata": {}
    },
    {
     "output_type": "display_data",
     "data": {
      "text/plain": "38"
     },
     "metadata": {}
    },
    {
     "output_type": "display_data",
     "data": {
      "text/plain": "'BI Data Analyst at Miniclip was asked...'"
     },
     "metadata": {}
    },
    {
     "output_type": "display_data",
     "data": {
      "text/plain": "'What did you find challenging about your previous job? What do you like doing in your spare time? Why do you think you would be a good fit?'"
     },
     "metadata": {}
    },
    {
     "output_type": "display_data",
     "data": {
      "text/plain": "'No answer'"
     },
     "metadata": {}
    },
    {
     "output_type": "display_data",
     "data": {
      "text/plain": "39"
     },
     "metadata": {}
    },
    {
     "output_type": "display_data",
     "data": {
      "text/plain": "'Data Analyst at Miniclip was asked...'"
     },
     "metadata": {}
    },
    {
     "output_type": "display_data",
     "data": {
      "text/plain": "'What did you find challenging about your previous job? Why do you think you are suited for this position? What do you like to do in your spare time?'"
     },
     "metadata": {}
    },
    {
     "output_type": "display_data",
     "data": {
      "text/plain": "'No answer'"
     },
     "metadata": {}
    },
    {
     "output_type": "display_data",
     "data": {
      "text/plain": "40"
     },
     "metadata": {}
    },
    {
     "output_type": "display_data",
     "data": {
      "text/plain": "'Data Scientist at FARFETCH was asked...'"
     },
     "metadata": {}
    },
    {
     "output_type": "display_data",
     "data": {
      "text/plain": "'Preguntas técnicas de programación (a escoger el lenguaje) y de conocimientos de Machine Learning.'"
     },
     "metadata": {}
    },
    {
     "output_type": "display_data",
     "data": {
      "text/plain": "'No answer'"
     },
     "metadata": {}
    },
    {
     "output_type": "display_data",
     "data": {
      "text/plain": "41"
     },
     "metadata": {}
    },
    {
     "output_type": "display_data",
     "data": {
      "text/plain": "'Data Scientist at Imaginary Cloud was asked...'"
     },
     "metadata": {}
    },
    {
     "output_type": "display_data",
     "data": {
      "text/plain": "'General data science questions Propose and programme solution to a data science task'"
     },
     "metadata": {}
    },
    {
     "output_type": "display_data",
     "data": {
      "text/plain": "'No answer'"
     },
     "metadata": {}
    },
    {
     "output_type": "display_data",
     "data": {
      "text/plain": "42"
     },
     "metadata": {}
    },
    {
     "output_type": "display_data",
     "data": {
      "text/plain": "'Graduate Data Analyst at Vodafone was asked...'"
     },
     "metadata": {}
    },
    {
     "output_type": "display_data",
     "data": {
      "text/plain": "'Describe a situation in which you had to adapt to change quickly. Describe a situation in which you worked as a team and faced some challenges. What were your the challenges, your actions, and the outcome? The games were to assess our logic and numerical skills.'"
     },
     "metadata": {}
    },
    {
     "output_type": "display_data",
     "data": {
      "text/plain": "'No answer'"
     },
     "metadata": {}
    },
    {
     "output_type": "display_data",
     "data": {
      "text/plain": "43"
     },
     "metadata": {}
    },
    {
     "output_type": "display_data",
     "data": {
      "text/plain": "'Data Scientist at Aubay was asked...'"
     },
     "metadata": {}
    },
    {
     "output_type": "display_data",
     "data": {
      "text/plain": "'Which academic project was your favorite?'"
     },
     "metadata": {}
    },
    {
     "output_type": "display_data",
     "data": {
      "text/plain": "'No answer'"
     },
     "metadata": {}
    },
    {
     "output_type": "display_data",
     "data": {
      "text/plain": "44"
     },
     "metadata": {}
    },
    {
     "output_type": "display_data",
     "data": {
      "text/plain": "'Data Scientist at Aubay was asked...'"
     },
     "metadata": {}
    },
    {
     "output_type": "display_data",
     "data": {
      "text/plain": "'How much do you expect to receive'"
     },
     "metadata": {}
    },
    {
     "output_type": "display_data",
     "data": {
      "text/plain": "'No answer'"
     },
     "metadata": {}
    },
    {
     "output_type": "display_data",
     "data": {
      "text/plain": "45"
     },
     "metadata": {}
    },
    {
     "output_type": "display_data",
     "data": {
      "text/plain": "'Data Analyst at Uniplaces was asked...'"
     },
     "metadata": {}
    },
    {
     "output_type": "display_data",
     "data": {
      "text/plain": "'What is your professional experience?'"
     },
     "metadata": {}
    },
    {
     "output_type": "display_data",
     "data": {
      "text/plain": "'No answer'"
     },
     "metadata": {}
    },
    {
     "output_type": "display_data",
     "data": {
      "text/plain": "46"
     },
     "metadata": {}
    },
    {
     "output_type": "display_data",
     "data": {
      "text/plain": "'Data Scientist at Casafari was asked...'"
     },
     "metadata": {}
    },
    {
     "output_type": "display_data",
     "data": {
      "text/plain": "'How do you deal with missing values'"
     },
     "metadata": {}
    },
    {
     "output_type": "display_data",
     "data": {
      "text/plain": "'No answer'"
     },
     "metadata": {}
    },
    {
     "output_type": "display_data",
     "data": {
      "text/plain": "47"
     },
     "metadata": {}
    },
    {
     "output_type": "display_data",
     "data": {
      "text/plain": "'Internship data Science at Smart Consulting Solutions was asked...'"
     },
     "metadata": {}
    },
    {
     "output_type": "display_data",
     "data": {
      "text/plain": "'What kind of skills I gained in college'"
     },
     "metadata": {}
    },
    {
     "output_type": "display_data",
     "data": {
      "text/plain": "'No answer'"
     },
     "metadata": {}
    },
    {
     "output_type": "display_data",
     "data": {
      "text/plain": "48"
     },
     "metadata": {}
    },
    {
     "output_type": "display_data",
     "data": {
      "text/plain": "'Data Scientist at Smart Consulting was asked...'"
     },
     "metadata": {}
    },
    {
     "output_type": "display_data",
     "data": {
      "text/plain": "'What kind of experience did I have in similar projects'"
     },
     "metadata": {}
    },
    {
     "output_type": "display_data",
     "data": {
      "text/plain": "'No answer'"
     },
     "metadata": {}
    },
    {
     "output_type": "display_data",
     "data": {
      "text/plain": "49"
     },
     "metadata": {}
    },
    {
     "output_type": "display_data",
     "data": {
      "text/plain": "'Data Scientist at Cocus was asked...'"
     },
     "metadata": {}
    },
    {
     "output_type": "display_data",
     "data": {
      "text/plain": "'How to deploy models into production?'"
     },
     "metadata": {}
    },
    {
     "output_type": "display_data",
     "data": {
      "text/plain": "'No answer'"
     },
     "metadata": {}
    },
    {
     "output_type": "display_data",
     "data": {
      "text/plain": "50"
     },
     "metadata": {}
    },
    {
     "output_type": "display_data",
     "data": {
      "text/plain": "'Business Data Analyst at Adentis was asked...'"
     },
     "metadata": {}
    },
    {
     "output_type": "display_data",
     "data": {
      "text/plain": "'Did you ever work with ETL'"
     },
     "metadata": {}
    },
    {
     "output_type": "display_data",
     "data": {
      "text/plain": "'No answer'"
     },
     "metadata": {}
    },
    {
     "output_type": "display_data",
     "data": {
      "text/plain": "51"
     },
     "metadata": {}
    },
    {
     "output_type": "display_data",
     "data": {
      "text/plain": "'Data Scientist at Feedzai was asked...'"
     },
     "metadata": {}
    },
    {
     "output_type": "display_data",
     "data": {
      "text/plain": "'Choose a machine learning method that you are comfortable with and explain how it works.'"
     },
     "metadata": {}
    },
    {
     "output_type": "display_data",
     "data": {
      "text/plain": "'No answer'"
     },
     "metadata": {}
    },
    {
     "output_type": "display_data",
     "data": {
      "text/plain": "52"
     },
     "metadata": {}
    },
    {
     "output_type": "display_data",
     "data": {
      "text/plain": "'Data Scientist at Feedzai was asked...'"
     },
     "metadata": {}
    },
    {
     "output_type": "display_data",
     "data": {
      "text/plain": "'Describe a previous project that you worked on.'"
     },
     "metadata": {}
    },
    {
     "output_type": "display_data",
     "data": {
      "text/plain": "'No answer'"
     },
     "metadata": {}
    },
    {
     "output_type": "display_data",
     "data": {
      "text/plain": "53"
     },
     "metadata": {}
    },
    {
     "output_type": "display_data",
     "data": {
      "text/plain": "\"L&#39;Oreal Data Analyst Trainee at L'Oréal was asked...\""
     },
     "metadata": {}
    },
    {
     "output_type": "display_data",
     "data": {
      "text/plain": "'Many questions about my past experience: most of them about situations where I succeded or failed, what are my good traits and bad traits. Also one or two projects in the area. Why do I see myself working there'"
     },
     "metadata": {}
    },
    {
     "output_type": "display_data",
     "data": {
      "text/plain": "'No answer'"
     },
     "metadata": {}
    },
    {
     "output_type": "display_data",
     "data": {
      "text/plain": "54"
     },
     "metadata": {}
    },
    {
     "output_type": "display_data",
     "data": {
      "text/plain": "'Data Analyst at Uniplaces was asked...'"
     },
     "metadata": {}
    },
    {
     "output_type": "display_data",
     "data": {
      "text/plain": "'What is your availability?'"
     },
     "metadata": {}
    },
    {
     "output_type": "display_data",
     "data": {
      "text/plain": "'No answer'"
     },
     "metadata": {}
    },
    {
     "output_type": "display_data",
     "data": {
      "text/plain": "55"
     },
     "metadata": {}
    },
    {
     "output_type": "display_data",
     "data": {
      "text/plain": "'Data Scientist at Casafari was asked...'"
     },
     "metadata": {}
    },
    {
     "output_type": "display_data",
     "data": {
      "text/plain": "'Describe your workflow in a machine learning project to match duplicate ads'"
     },
     "metadata": {}
    },
    {
     "output_type": "display_data",
     "data": {
      "text/plain": "'No answer'"
     },
     "metadata": {}
    },
    {
     "output_type": "display_data",
     "data": {
      "text/plain": "56"
     },
     "metadata": {}
    },
    {
     "output_type": "display_data",
     "data": {
      "text/plain": "'Data Analyst at Casafari was asked...'"
     },
     "metadata": {}
    },
    {
     "output_type": "display_data",
     "data": {
      "text/plain": "'What are my main hard and soft skills that I could add to the team?'"
     },
     "metadata": {}
    },
    {
     "output_type": "display_data",
     "data": {
      "text/plain": "'No answer'"
     },
     "metadata": {}
    },
    {
     "output_type": "display_data",
     "data": {
      "text/plain": "57"
     },
     "metadata": {}
    },
    {
     "output_type": "display_data",
     "data": {
      "text/plain": "'Data Scientist at Decskill was asked...'"
     },
     "metadata": {}
    },
    {
     "output_type": "display_data",
     "data": {
      "text/plain": "'What do you value most in a working environment?'"
     },
     "metadata": {}
    },
    {
     "output_type": "display_data",
     "data": {
      "text/plain": "'No answer'"
     },
     "metadata": {}
    },
    {
     "output_type": "display_data",
     "data": {
      "text/plain": "58"
     },
     "metadata": {}
    },
    {
     "output_type": "display_data",
     "data": {
      "text/plain": "'Data Scientist at Smart Consulting was asked...'"
     },
     "metadata": {}
    },
    {
     "output_type": "display_data",
     "data": {
      "text/plain": "'What is the expected salary'"
     },
     "metadata": {}
    },
    {
     "output_type": "display_data",
     "data": {
      "text/plain": "'No answer'"
     },
     "metadata": {}
    },
    {
     "output_type": "display_data",
     "data": {
      "text/plain": "59"
     },
     "metadata": {}
    },
    {
     "output_type": "display_data",
     "data": {
      "text/plain": "'Data Scientist at Cocus was asked...'"
     },
     "metadata": {}
    },
    {
     "output_type": "display_data",
     "data": {
      "text/plain": "'What are feature selection mechanisms and PCA?'"
     },
     "metadata": {}
    },
    {
     "output_type": "display_data",
     "data": {
      "text/plain": "'No answer'"
     },
     "metadata": {}
    },
    {
     "output_type": "display_data",
     "data": {
      "text/plain": "60"
     },
     "metadata": {}
    },
    {
     "output_type": "display_data",
     "data": {
      "text/plain": "'Data Analyst at Nestlé was asked...'"
     },
     "metadata": {}
    },
    {
     "output_type": "display_data",
     "data": {
      "text/plain": "'Se eu já tinha experiencia com o sistema SAP'"
     },
     "metadata": {}
    },
    {
     "output_type": "display_data",
     "data": {
      "text/plain": "'No answer'"
     },
     "metadata": {}
    },
    {
     "output_type": "display_data",
     "data": {
      "text/plain": "61"
     },
     "metadata": {}
    },
    {
     "output_type": "display_data",
     "data": {
      "text/plain": "'Business Data Analyst at Adentis was asked...'"
     },
     "metadata": {}
    },
    {
     "output_type": "display_data",
     "data": {
      "text/plain": "'what is the salary you want to earn'"
     },
     "metadata": {}
    },
    {
     "output_type": "display_data",
     "data": {
      "text/plain": "'No answer'"
     },
     "metadata": {}
    },
    {
     "output_type": "display_data",
     "data": {
      "text/plain": "62"
     },
     "metadata": {}
    },
    {
     "output_type": "display_data",
     "data": {
      "text/plain": "'Data Scientist at Builtrix was asked...'"
     },
     "metadata": {}
    },
    {
     "output_type": "display_data",
     "data": {
      "text/plain": "'Questions related to your past work experience. Describe the project in detail. General conceptual questions about machine learning algorithms you know about.'"
     },
     "metadata": {}
    },
    {
     "output_type": "display_data",
     "data": {
      "text/plain": "'No answer'"
     },
     "metadata": {}
    },
    {
     "output_type": "display_data",
     "data": {
      "text/plain": "63"
     },
     "metadata": {}
    },
    {
     "output_type": "display_data",
     "data": {
      "text/plain": "'Data Scientist at Feedzai was asked...'"
     },
     "metadata": {}
    },
    {
     "output_type": "display_data",
     "data": {
      "text/plain": "'that is quite fuzzy screening test, with necessary calculations, with short time that you have to read more than once to understand, looks like you are doing exames in school again'"
     },
     "metadata": {}
    },
    {
     "output_type": "display_data",
     "data": {
      "text/plain": "'No answer'"
     },
     "metadata": {}
    },
    {
     "output_type": "display_data",
     "data": {
      "text/plain": "64"
     },
     "metadata": {}
    },
    {
     "output_type": "display_data",
     "data": {
      "text/plain": "'Data Scientist at Feedzai was asked...'"
     },
     "metadata": {}
    },
    {
     "output_type": "display_data",
     "data": {
      "text/plain": "'Describe two of your past projects that had Machine Learning.'"
     },
     "metadata": {}
    },
    {
     "output_type": "display_data",
     "data": {
      "text/plain": "'No answer'"
     },
     "metadata": {}
    },
    {
     "output_type": "display_data",
     "data": {
      "text/plain": "65"
     },
     "metadata": {}
    },
    {
     "output_type": "display_data",
     "data": {
      "text/plain": "'Data Scientist at Miniclip was asked...'"
     },
     "metadata": {}
    },
    {
     "output_type": "display_data",
     "data": {
      "text/plain": "'- Technical questions about the challenge'"
     },
     "metadata": {}
    },
    {
     "output_type": "display_data",
     "data": {
      "text/plain": "'No answer'"
     },
     "metadata": {}
    },
    {
     "output_type": "display_data",
     "data": {
      "text/plain": "66"
     },
     "metadata": {}
    },
    {
     "output_type": "display_data",
     "data": {
      "text/plain": "'Junior Data Scientist at FARFETCH was asked...'"
     },
     "metadata": {}
    },
    {
     "output_type": "display_data",
     "data": {
      "text/plain": "\"They asked me to explain the advantages of my case-study solution to a business person, who don't know anything about to Data Science and Machine Learning.\""
     },
     "metadata": {}
    },
    {
     "output_type": "display_data",
     "data": {
      "text/plain": "'No answer'"
     },
     "metadata": {}
    },
    {
     "output_type": "display_data",
     "data": {
      "text/plain": "                                        job_company  \\\n0   Senior Data Scientist at OLX Group was asked...   \n1     Data Science at MOG Technologies was asked...   \n2   Data Scientist at Smart Consulting was asked...   \n3           Data Scientist at Deloitte was asked...   \n4        Data Scientist at 360imprimir was asked...   \n..                                              ...   \n61          Data Scientist at Builtrix was asked...   \n62           Data Scientist at Feedzai was asked...   \n63           Data Scientist at Feedzai was asked...   \n64          Data Scientist at Miniclip was asked...   \n65   Junior Data Scientist at FARFETCH was asked...   \n\n                                            questions  \\\n0         explain the reasoning in resolving the case   \n1   Nothing too technical, they presented one of t...   \n2   Tell me about 2 projects that you seem fit to ...   \n3                          What your motivations are?   \n4                   Logic question( cases resolution)   \n..                                                ...   \n61  Questions related to your past work experience...   \n62  that is quite fuzzy screening test, with neces...   \n63  Describe two of your past projects that had Ma...   \n64          - Technical questions about the challenge   \n65  They asked me to explain the advantages of my ...   \n\n                                              answers  \n0   I answer all the insights I had based on data ...  \n1   I told them that it could be solved and presen...  \n2                     Described two projetcs about AI  \n3   If the data adequately represent reality, by s...  \n4   Detailed explanation about the reasoning behin...  \n..                                                ...  \n61                                          No answer  \n62                                          No answer  \n63                                          No answer  \n64                                          No answer  \n65                                          No answer  \n\n[66 rows x 3 columns]",
      "text/html": "<div>\n<style scoped>\n    .dataframe tbody tr th:only-of-type {\n        vertical-align: middle;\n    }\n\n    .dataframe tbody tr th {\n        vertical-align: top;\n    }\n\n    .dataframe thead th {\n        text-align: right;\n    }\n</style>\n<table border=\"1\" class=\"dataframe\">\n  <thead>\n    <tr style=\"text-align: right;\">\n      <th></th>\n      <th>job_company</th>\n      <th>questions</th>\n      <th>answers</th>\n    </tr>\n  </thead>\n  <tbody>\n    <tr>\n      <th>0</th>\n      <td>Senior Data Scientist at OLX Group was asked...</td>\n      <td>explain the reasoning in resolving the case</td>\n      <td>I answer all the insights I had based on data ...</td>\n    </tr>\n    <tr>\n      <th>1</th>\n      <td>Data Science at MOG Technologies was asked...</td>\n      <td>Nothing too technical, they presented one of t...</td>\n      <td>I told them that it could be solved and presen...</td>\n    </tr>\n    <tr>\n      <th>2</th>\n      <td>Data Scientist at Smart Consulting was asked...</td>\n      <td>Tell me about 2 projects that you seem fit to ...</td>\n      <td>Described two projetcs about AI</td>\n    </tr>\n    <tr>\n      <th>3</th>\n      <td>Data Scientist at Deloitte was asked...</td>\n      <td>What your motivations are?</td>\n      <td>If the data adequately represent reality, by s...</td>\n    </tr>\n    <tr>\n      <th>4</th>\n      <td>Data Scientist at 360imprimir was asked...</td>\n      <td>Logic question( cases resolution)</td>\n      <td>Detailed explanation about the reasoning behin...</td>\n    </tr>\n    <tr>\n      <th>...</th>\n      <td>...</td>\n      <td>...</td>\n      <td>...</td>\n    </tr>\n    <tr>\n      <th>61</th>\n      <td>Data Scientist at Builtrix was asked...</td>\n      <td>Questions related to your past work experience...</td>\n      <td>No answer</td>\n    </tr>\n    <tr>\n      <th>62</th>\n      <td>Data Scientist at Feedzai was asked...</td>\n      <td>that is quite fuzzy screening test, with neces...</td>\n      <td>No answer</td>\n    </tr>\n    <tr>\n      <th>63</th>\n      <td>Data Scientist at Feedzai was asked...</td>\n      <td>Describe two of your past projects that had Ma...</td>\n      <td>No answer</td>\n    </tr>\n    <tr>\n      <th>64</th>\n      <td>Data Scientist at Miniclip was asked...</td>\n      <td>- Technical questions about the challenge</td>\n      <td>No answer</td>\n    </tr>\n    <tr>\n      <th>65</th>\n      <td>Junior Data Scientist at FARFETCH was asked...</td>\n      <td>They asked me to explain the advantages of my ...</td>\n      <td>No answer</td>\n    </tr>\n  </tbody>\n</table>\n<p>66 rows × 3 columns</p>\n</div>"
     },
     "metadata": {}
    }
   ],
   "source": [
    "job_title_da = 'Data Analyst' ## Lets search Data analytics\n",
    "location_pt = 'Portugal' ## Lets search Data analytics\n",
    "\n",
    "data_to_csv(interview_info(job_title_da,location_pt))"
   ]
  },
  {
   "cell_type": "code",
   "execution_count": 51,
   "id": "0a5b5795",
   "metadata": {},
   "outputs": [],
   "source": [
    "driver.close()"
   ]
  }
 ],
 "metadata": {
  "kernelspec": {
   "name": "python388jvsc74a57bd0f01b1a26c0677924dfb9bb3c0adc99f4a4ad3f1a3781fcda47cbcaac5b4f6244",
   "display_name": "Python 3.8.8 64-bit ('Ironhack': conda)"
  },
  "language_info": {
   "codemirror_mode": {
    "name": "ipython",
    "version": 3
   },
   "file_extension": ".py",
   "mimetype": "text/x-python",
   "name": "python",
   "nbconvert_exporter": "python",
   "pygments_lexer": "ipython3",
   "version": "3.8.8"
  }
 },
 "nbformat": 4,
 "nbformat_minor": 5
}