{
 "cells": [
  {
   "cell_type": "code",
   "execution_count": 1,
   "id": "7adeb277",
   "metadata": {},
   "outputs": [],
   "source": [
    "#Libraries\n",
    "import pandas as pd\n",
    "import re\n",
    "import requests\n",
    "\n",
    "import os\n",
    "import time\n",
    "\n",
    "from selenium import webdriver\n",
    "from selenium.webdriver.common.keys import Keys\n",
    "import config \n",
    "\n",
    "from getpass import getpass\n",
    "\n",
    "import random\n",
    "\n",
    "from selenium.webdriver.common.action_chains import ActionChains"
   ]
  },
  {
   "cell_type": "code",
   "execution_count": 2,
   "id": "84b8bc00",
   "metadata": {},
   "outputs": [],
   "source": [
    "## first we need to initiate the driver##\n",
    "driver = webdriver.Chrome('C:\\\\Users\\\\catar\\\\OneDrive\\\\Documentos\\\\chromedriver.exe')"
   ]
  },
  {
   "cell_type": "code",
   "execution_count": 3,
   "id": "3b3a2486",
   "metadata": {},
   "outputs": [],
   "source": [
    "# open the website\n",
    "driver.get('https://www.glassdoor.com')"
   ]
  },
  {
   "cell_type": "code",
   "execution_count": 4,
   "id": "a9024a1e",
   "metadata": {},
   "outputs": [],
   "source": [
    "# Login in\n",
    "signin = driver.find_elements_by_css_selector(\"button[class^='d-flex align-items-center justify-content-center order-1 order-md-2 mr-auto mr-md-0 p-0 LockedHomeHeaderStyles__signInButton']\")[0].click()\n",
    "\n",
    "time.sleep(2.5) ## sleep timer in order to mimic human interaction"
   ]
  },
  {
   "cell_type": "code",
   "execution_count": 5,
   "id": "b9a84b0f",
   "metadata": {},
   "outputs": [],
   "source": [
    "# Insert email\n",
    "email = getpass('Enter your email') ## input email\n",
    "\n",
    "email_box = driver.find_element_by_id(\"userEmail\") ## box to input email\n",
    "\n",
    "email_box.send_keys(email)  ## send email to webpage\n",
    "\n",
    "time.sleep(3.5) ## sleep timer in order to mimic human interaction"
   ]
  },
  {
   "cell_type": "code",
   "execution_count": 6,
   "id": "2bc9a3b6",
   "metadata": {},
   "outputs": [],
   "source": [
    "#Insert password\n",
    "\n",
    "password = getpass('Enter your password') ## input password\n",
    "\n",
    "pass_box = driver.find_element_by_id('userPassword') ## box to input password\n",
    "\n",
    "pass_box.send_keys(password)  ## send password to webpage\n",
    "\n",
    "time.sleep(1.3) ## sleep timer in order to mimic human interaction"
   ]
  },
  {
   "cell_type": "code",
   "execution_count": 7,
   "id": "81dfc0f2",
   "metadata": {},
   "outputs": [],
   "source": [
    "#login\n",
    "\n",
    "login = driver.find_elements_by_css_selector(\"button[class^='gd-ui-button minWidthBtn css-8i7bc2']\")[0].click()\n",
    "\n",
    "time.sleep(1.6)  ## sleep timer in order to mimic human interaction\n"
   ]
  },
  {
   "cell_type": "code",
   "execution_count": 8,
   "id": "9753874a",
   "metadata": {},
   "outputs": [],
   "source": [
    "#######################################"
   ]
  },
  {
   "cell_type": "code",
   "execution_count": 31,
   "id": "c39cc366",
   "metadata": {},
   "outputs": [],
   "source": [
    "# Lets try a function for that\n",
    "\n",
    "def interview_info(job_title,location):\n",
    "    \n",
    "    actions = ActionChains(driver)\n",
    "    \n",
    "    # first lets go to interview page\n",
    "    interview_icon = \"//a[@data-test = 'site-header-interviews']\" \n",
    "    interview_button = driver.find_element_by_xpath(interview_icon)\n",
    "    interview_click = interview_button.click()\n",
    "    time.sleep(random.uniform(5,7)) ## sleep timer in order to mimic human interaction\n",
    "    \n",
    "    # lets input the job title to search\n",
    "    job_title_box = driver.find_element_by_id(\"KeywordSearch\") ## box to input job title\n",
    "    job_title_box.send_keys(job_title) ## send job title to page\n",
    "    time.sleep(random.uniform(5,7)) ## sleep timer in order to mimic human interaction\n",
    "    \n",
    "    # lets input the location to search\n",
    "    location_box = driver.find_element_by_id(\"LocationSearch\")  ## box to input job title\n",
    "    location_box.clear() ##clear initial input\n",
    "    location_box.send_keys(location) ## send job title to page\n",
    "    time.sleep(random.uniform(5,7)) ## sleep timer in order to mimic human interaction\n",
    "    \n",
    "    # find information\n",
    "    interview_search = driver.find_element_by_id('HeroSearchButton') ## click search button\n",
    "    interview_search.click()  ## click search button\n",
    "    time.sleep(random.uniform(5,7))  ## sleep timer in order to mimic human interaction\n",
    "    \n",
    "    ## Now that we have the results lets check total number of results and page of results\n",
    "    results = \"//div[@class='reviewCount center']\"\n",
    "    total_results = driver.find_element_by_xpath(results).text\n",
    "    number_of_results = int(total_results)\n",
    "    number_of_pages = round(number_of_results/10)\n",
    "\n",
    "    ## Create to add the info scrapped\n",
    "    job_company = []\n",
    "    questions = []\n",
    "    answers = []\n",
    "\n",
    "    ## Actions\n",
    "    actions = ActionChains(driver)\n",
    "    \n",
    "    #lets iterate throw the questions\n",
    "    for i in range(1,(number_of_results+1)):\n",
    "        display(i)\n",
    "        \n",
    "        #company info\n",
    "        xpath1 = \"//div[starts-with(@id, 'InterviewQuestionResult_\"+str(i)+\"')]//span[@class='authorInfo']\"\n",
    "        job_company_name = driver.find_element_by_xpath(xpath1)\n",
    "        job_company_name_text = job_company_name.text\n",
    "        display(job_company_name_text)\n",
    "        job_company.append(job_company_name_text)\n",
    "        time.sleep(random.uniform(3,6))\n",
    "\n",
    "        #question info\n",
    "        xpath2 = \"//div[starts-with(@id, 'InterviewQuestionResult_\"+str(i)+\"')]//p[@class='questionText h3']\"\n",
    "        questions_gd = driver.find_element_by_xpath(xpath2)\n",
    "        questions_gd_text = questions_gd.text\n",
    "        display(questions_gd_text)\n",
    "        questions.append(questions_gd_text)\n",
    "        time.sleep(random.uniform(3,6))\n",
    "\n",
    "        #answer info\n",
    "        try:\n",
    "            #click answer button\n",
    "            if ((i%10) != 1):   \n",
    "                xpath3 = \"//div[starts-with(@id, 'InterviewQuestionResult_\"+str(i)+\"')]//a[@class='userResponseLink margTop block hiddenLink mmLink ']\"\n",
    "                answer_icon = driver.find_element_by_xpath(xpath3)\n",
    "                answer_icon_click = answer_icon.click()\n",
    "                time.sleep(random.uniform(3,6))         \n",
    "        \n",
    "            #get answer info            \n",
    "            xpath4 = \"//div[starts-with(@id, 'InterviewQuestionResult_\"+str(i)+\"')]//div[@class='responseText padTopSm tbl fill']\"\n",
    "            answers_gd = driver.find_element_by_xpath(xpath4)\n",
    "            answers_gd_text = answers_gd.text\n",
    "            display(answers_gd_text)\n",
    "            answers.append(answers_gd_text)\n",
    "            time.sleep(random.uniform(3,6))\n",
    "        \n",
    "        #if no answer presented\n",
    "        except:\n",
    "            answers_gd_text = 'No answer'\n",
    "            display(answers_gd_text)\n",
    "            answers.append(answers_gd_text)\n",
    "            time.sleep(random.uniform(3,6))\n",
    "            \n",
    "        #go to next page\n",
    "        if ((i%10) == 0):\n",
    "            xpath_page = \"//div[@class='pagingControls cell middle']//li[@class ='next']\"\n",
    "            page_change = driver.find_element_by_xpath(xpath_page)\n",
    "            page_change_button = page_change.click()\n",
    "            time.sleep(random.uniform(15,20))\n",
    "    \n",
    "    \n",
    "    #lets retrieve dataframe with this info\n",
    "    interview_data = pd.DataFrame([job_company,questions,answers]).T\n",
    "    interview_data.columns = ['job_company', 'questions','answers']\n",
    "    interview_data['country'] = location\n",
    "    interview_data['area'] = job_title\n",
    "    display(interview_data)\n",
    "\n",
    "    return interview_data"
   ]
  },
  {
   "cell_type": "code",
   "execution_count": 20,
   "metadata": {},
   "outputs": [],
   "source": [
    "def data_to_csv(location,scrap_data):\n",
    "    t = time.localtime() # check time\n",
    "    m = str(t.tm_mon) #scrap month\n",
    "    d = str(t.tm_mday) #scrap day\n",
    "    h = str(t.tm_hour) #scrap hour\n",
    "    mt = str(t.tm_min) #scrap minute\n",
    "\n",
    "    #lets structure how to present this info in the file name\n",
    "    structure = str(location_pt)+\"_m\"+str(m)+\"_d\"+str(d)+\"_h\"+str(h)+\"_\"+str(mt)\n",
    "\n",
    "    #turn into csv\n",
    "    scrap_data.to_csv(\"interview_data_\"+structure+\".csv\",sep = ',',index=False)\n"
   ]
  },
  {
   "cell_type": "code",
   "execution_count": 22,
   "id": "d29a4fe5",
   "metadata": {},
   "outputs": [
    {
     "output_type": "display_data",
     "data": {
      "text/plain": "1"
     },
     "metadata": {}
    },
    {
     "output_type": "display_data",
     "data": {
      "text/plain": "'Senior Data Scientist at OLX Group was asked...'"
     },
     "metadata": {}
    },
    {
     "output_type": "display_data",
     "data": {
      "text/plain": "'explain the reasoning in resolving the case'"
     },
     "metadata": {}
    },
    {
     "output_type": "display_data",
     "data": {
      "text/plain": "'I answer all the insights I had based on data analysis and business acumen'"
     },
     "metadata": {}
    },
    {
     "output_type": "display_data",
     "data": {
      "text/plain": "2"
     },
     "metadata": {}
    },
    {
     "output_type": "display_data",
     "data": {
      "text/plain": "'Data Science at MOG Technologies was asked...'"
     },
     "metadata": {}
    },
    {
     "output_type": "display_data",
     "data": {
      "text/plain": "'Nothing too technical, they presented one of their current problems and i was asked if i thought that it could be solved and how i would solve it.'"
     },
     "metadata": {}
    },
    {
     "output_type": "display_data",
     "data": {
      "text/plain": "'I told them that it could be solved and presented a sketch of a possible solution.'"
     },
     "metadata": {}
    },
    {
     "output_type": "display_data",
     "data": {
      "text/plain": "3"
     },
     "metadata": {}
    },
    {
     "output_type": "display_data",
     "data": {
      "text/plain": "'Data Scientist at Smart Consulting was asked...'"
     },
     "metadata": {}
    },
    {
     "output_type": "display_data",
     "data": {
      "text/plain": "'Tell me about 2 projects that you seem fit to the position you are applying'"
     },
     "metadata": {}
    },
    {
     "output_type": "display_data",
     "data": {
      "text/plain": "'Described two projetcs about AI'"
     },
     "metadata": {}
    },
    {
     "output_type": "display_data",
     "data": {
      "text/plain": "4"
     },
     "metadata": {}
    },
    {
     "output_type": "display_data",
     "data": {
      "text/plain": "'Data Scientist at Deloitte was asked...'"
     },
     "metadata": {}
    },
    {
     "output_type": "display_data",
     "data": {
      "text/plain": "'What your motivations are?'"
     },
     "metadata": {}
    },
    {
     "output_type": "display_data",
     "data": {
      "text/plain": "'If the data adequately represent reality, by studying the former you get to better understand the latter. Through the expertise of data science, I am able to extract knowledge from the data which makes me passionate for my role as a data scientist.'"
     },
     "metadata": {}
    },
    {
     "output_type": "display_data",
     "data": {
      "text/plain": "5"
     },
     "metadata": {}
    },
    {
     "output_type": "display_data",
     "data": {
      "text/plain": "'Data Scientist at 360imprimir was asked...'"
     },
     "metadata": {}
    },
    {
     "output_type": "display_data",
     "data": {
      "text/plain": "'Logic question( cases resolution)'"
     },
     "metadata": {}
    },
    {
     "output_type": "display_data",
     "data": {
      "text/plain": "'Detailed explanation about the reasoning behind the solution'"
     },
     "metadata": {}
    },
    {
     "output_type": "display_data",
     "data": {
      "text/plain": "6"
     },
     "metadata": {}
    },
    {
     "output_type": "display_data",
     "data": {
      "text/plain": "'Data Scientist at MGM Resorts International was asked...'"
     },
     "metadata": {}
    },
    {
     "output_type": "display_data",
     "data": {
      "text/plain": "'Classified customers based not only based on their historical data, but also on psychological part of view.'"
     },
     "metadata": {}
    },
    {
     "output_type": "display_data",
     "data": {
      "text/plain": "'presented many data mining models'"
     },
     "metadata": {}
    },
    {
     "output_type": "display_data",
     "data": {
      "text/plain": "7"
     },
     "metadata": {}
    },
    {
     "output_type": "display_data",
     "data": {
      "text/plain": "'Data Analyst at SDG Group was asked...'"
     },
     "metadata": {}
    },
    {
     "output_type": "display_data",
     "data": {
      "text/plain": "'What data modelling schemas do you know?'"
     },
     "metadata": {}
    },
    {
     "output_type": "display_data",
     "data": {
      "text/plain": "'No answer'"
     },
     "metadata": {}
    },
    {
     "output_type": "display_data",
     "data": {
      "text/plain": "8"
     },
     "metadata": {}
    },
    {
     "output_type": "display_data",
     "data": {
      "text/plain": "'Data Scientist at Casafari was asked...'"
     },
     "metadata": {}
    },
    {
     "output_type": "display_data",
     "data": {
      "text/plain": "'What is 27 * 27'"
     },
     "metadata": {}
    },
    {
     "output_type": "display_data",
     "data": {
      "text/plain": "'No answer'"
     },
     "metadata": {}
    },
    {
     "output_type": "display_data",
     "data": {
      "text/plain": "9"
     },
     "metadata": {}
    },
    {
     "output_type": "display_data",
     "data": {
      "text/plain": "'Data Analyst at everis was asked...'"
     },
     "metadata": {}
    },
    {
     "output_type": "display_data",
     "data": {
      "text/plain": "'Explain hierarchy in Java. I was asked in the first interview my salary expectations.'"
     },
     "metadata": {}
    },
    {
     "output_type": "display_data",
     "data": {
      "text/plain": "'No answer'"
     },
     "metadata": {}
    },
    {
     "output_type": "display_data",
     "data": {
      "text/plain": "10"
     },
     "metadata": {}
    },
    {
     "output_type": "display_data",
     "data": {
      "text/plain": "'Data Analyst at SDG Group was asked...'"
     },
     "metadata": {}
    },
    {
     "output_type": "display_data",
     "data": {
      "text/plain": "'Does your background can bring value to the company? In which sense?'"
     },
     "metadata": {}
    },
    {
     "output_type": "display_data",
     "data": {
      "text/plain": "'No answer'"
     },
     "metadata": {}
    },
    {
     "output_type": "display_data",
     "data": {
      "text/plain": "11"
     },
     "metadata": {}
    },
    {
     "output_type": "display_data",
     "data": {
      "text/plain": "'Data Scientist Internship at BNP Paribas was asked...'"
     },
     "metadata": {}
    },
    {
     "output_type": "display_data",
     "data": {
      "text/plain": "'Describe the project (in CV) and what treatment did the data have.'"
     },
     "metadata": {}
    },
    {
     "output_type": "display_data",
     "data": {
      "text/plain": "'No answer'"
     },
     "metadata": {}
    },
    {
     "output_type": "display_data",
     "data": {
      "text/plain": "12"
     },
     "metadata": {}
    },
    {
     "output_type": "display_data",
     "data": {
      "text/plain": "'Data Analyst at BNP Paribas was asked...'"
     },
     "metadata": {}
    },
    {
     "output_type": "display_data",
     "data": {
      "text/plain": "'Why did you choose bnp'"
     },
     "metadata": {}
    },
    {
     "output_type": "display_data",
     "data": {
      "text/plain": "'No answer'"
     },
     "metadata": {}
    },
    {
     "output_type": "display_data",
     "data": {
      "text/plain": "13"
     },
     "metadata": {}
    },
    {
     "output_type": "display_data",
     "data": {
      "text/plain": "'Data Analyst at BOLD by Devoteam was asked...'"
     },
     "metadata": {}
    },
    {
     "output_type": "display_data",
     "data": {
      "text/plain": "\"All questions revolved around qualifications and previous work experience, either to double-check what I listed in my resume or to make up for the lack of preparation and help fill the company's job applicant profile.\""
     },
     "metadata": {}
    },
    {
     "output_type": "display_data",
     "data": {
      "text/plain": "'No answer'"
     },
     "metadata": {}
    },
    {
     "output_type": "display_data",
     "data": {
      "text/plain": "14"
     },
     "metadata": {}
    },
    {
     "output_type": "display_data",
     "data": {
      "text/plain": "'Data Scientist at Feedzai was asked...'"
     },
     "metadata": {}
    },
    {
     "output_type": "display_data",
     "data": {
      "text/plain": "'Do a presentation about any topic.'"
     },
     "metadata": {}
    },
    {
     "output_type": "display_data",
     "data": {
      "text/plain": "'No answer'"
     },
     "metadata": {}
    },
    {
     "output_type": "display_data",
     "data": {
      "text/plain": "15"
     },
     "metadata": {}
    },
    {
     "output_type": "display_data",
     "data": {
      "text/plain": "'Junior Data Scientist at Imaginary Cloud was asked...'"
     },
     "metadata": {}
    },
    {
     "output_type": "display_data",
     "data": {
      "text/plain": "'From the second interview: What is most important? Inspiration or Hard Work?'"
     },
     "metadata": {}
    },
    {
     "output_type": "display_data",
     "data": {
      "text/plain": "'No answer'"
     },
     "metadata": {}
    },
    {
     "output_type": "display_data",
     "data": {
      "text/plain": "16"
     },
     "metadata": {}
    },
    {
     "output_type": "display_data",
     "data": {
      "text/plain": "'Data Scientist at BJSS was asked...'"
     },
     "metadata": {}
    },
    {
     "output_type": "display_data",
     "data": {
      "text/plain": "'Tell me about what models were used and how you evaluated the results in this specific project?'"
     },
     "metadata": {}
    },
    {
     "output_type": "display_data",
     "data": {
      "text/plain": "'No answer'"
     },
     "metadata": {}
    },
    {
     "output_type": "display_data",
     "data": {
      "text/plain": "17"
     },
     "metadata": {}
    },
    {
     "output_type": "display_data",
     "data": {
      "text/plain": "'Data Analyst at FARFETCH was asked...'"
     },
     "metadata": {}
    },
    {
     "output_type": "display_data",
     "data": {
      "text/plain": "'What do you know about A/B testing? What kind of BI Visualization software do you use?'"
     },
     "metadata": {}
    },
    {
     "output_type": "display_data",
     "data": {
      "text/plain": "'No answer'"
     },
     "metadata": {}
    },
    {
     "output_type": "display_data",
     "data": {
      "text/plain": "18"
     },
     "metadata": {}
    },
    {
     "output_type": "display_data",
     "data": {
      "text/plain": "'Data Scientist at Aubay was asked...'"
     },
     "metadata": {}
    },
    {
     "output_type": "display_data",
     "data": {
      "text/plain": "'Talk me about your journey'"
     },
     "metadata": {}
    },
    {
     "output_type": "display_data",
     "data": {
      "text/plain": "'No answer'"
     },
     "metadata": {}
    },
    {
     "output_type": "display_data",
     "data": {
      "text/plain": "19"
     },
     "metadata": {}
    },
    {
     "output_type": "display_data",
     "data": {
      "text/plain": "'Data Analyst at SDG Group was asked...'"
     },
     "metadata": {}
    },
    {
     "output_type": "display_data",
     "data": {
      "text/plain": "'During the skype interview I was asked to perform dome calculations in excel.'"
     },
     "metadata": {}
    },
    {
     "output_type": "display_data",
     "data": {
      "text/plain": "'No answer'"
     },
     "metadata": {}
    },
    {
     "output_type": "display_data",
     "data": {
      "text/plain": "20"
     },
     "metadata": {}
    },
    {
     "output_type": "display_data",
     "data": {
      "text/plain": "'Junior Data Scientist at KWAN was asked...'"
     },
     "metadata": {}
    },
    {
     "output_type": "display_data",
     "data": {
      "text/plain": "'They asked me about my experience in coding and other Data Science technologies.'"
     },
     "metadata": {}
    },
    {
     "output_type": "display_data",
     "data": {
      "text/plain": "'No answer'"
     },
     "metadata": {}
    },
    {
     "output_type": "display_data",
     "data": {
      "text/plain": "21"
     },
     "metadata": {}
    },
    {
     "output_type": "display_data",
     "data": {
      "text/plain": "'Data Scientist at InnoWave Technologies was asked...'"
     },
     "metadata": {}
    },
    {
     "output_type": "display_data",
     "data": {
      "text/plain": "'My goals in life, what type of environment do you prefer to work on, your weaknesses and strengths, some technical questions related with the'"
     },
     "metadata": {}
    },
    {
     "output_type": "display_data",
     "data": {
      "text/plain": "'No answer'"
     },
     "metadata": {}
    },
    {
     "output_type": "display_data",
     "data": {
      "text/plain": "22"
     },
     "metadata": {}
    },
    {
     "output_type": "display_data",
     "data": {
      "text/plain": "'Data Scientist at Axians was asked...'"
     },
     "metadata": {}
    },
    {
     "output_type": "display_data",
     "data": {
      "text/plain": "\"I presented past projects, answered questions about them, with a lot of emphasis on the math and logic of model evaluation metrics and model's themselves.\""
     },
     "metadata": {}
    },
    {
     "output_type": "display_data",
     "data": {
      "text/plain": "'No answer'"
     },
     "metadata": {}
    },
    {
     "output_type": "display_data",
     "data": {
      "text/plain": "23"
     },
     "metadata": {}
    },
    {
     "output_type": "display_data",
     "data": {
      "text/plain": "'Business Data Analyst at Adentis was asked...'"
     },
     "metadata": {}
    },
    {
     "output_type": "display_data",
     "data": {
      "text/plain": "'What is the subject that you would like to work in and did you ever did something in that area'"
     },
     "metadata": {}
    },
    {
     "output_type": "display_data",
     "data": {
      "text/plain": "'No answer'"
     },
     "metadata": {}
    },
    {
     "output_type": "display_data",
     "data": {
      "text/plain": "24"
     },
     "metadata": {}
    },
    {
     "output_type": "display_data",
     "data": {
      "text/plain": "'Business Data Analyst at Adentis was asked...'"
     },
     "metadata": {}
    },
    {
     "output_type": "display_data",
     "data": {
      "text/plain": "'Describe yourself and your experiences'"
     },
     "metadata": {}
    },
    {
     "output_type": "display_data",
     "data": {
      "text/plain": "'No answer'"
     },
     "metadata": {}
    },
    {
     "output_type": "display_data",
     "data": {
      "text/plain": "25"
     },
     "metadata": {}
    },
    {
     "output_type": "display_data",
     "data": {
      "text/plain": "'Data Scientist at BOLD by Devoteam was asked...'"
     },
     "metadata": {}
    },
    {
     "output_type": "display_data",
     "data": {
      "text/plain": "'What is your background in Data Science ?'"
     },
     "metadata": {}
    },
    {
     "output_type": "display_data",
     "data": {
      "text/plain": "'No answer'"
     },
     "metadata": {}
    },
    {
     "output_type": "display_data",
     "data": {
      "text/plain": "26"
     },
     "metadata": {}
    },
    {
     "output_type": "display_data",
     "data": {
      "text/plain": "'Business Data Scientist at Parfois was asked...'"
     },
     "metadata": {}
    },
    {
     "output_type": "display_data",
     "data": {
      "text/plain": "'What is your best quality?'"
     },
     "metadata": {}
    },
    {
     "output_type": "display_data",
     "data": {
      "text/plain": "'No answer'"
     },
     "metadata": {}
    },
    {
     "output_type": "display_data",
     "data": {
      "text/plain": "27"
     },
     "metadata": {}
    },
    {
     "output_type": "display_data",
     "data": {
      "text/plain": "'Data Scientist at Capgemini Engineering was asked...'"
     },
     "metadata": {}
    },
    {
     "output_type": "display_data",
     "data": {
      "text/plain": "'Technical questions: What is overfitting. This was the only question. However, this was only the first interview (the following should have more questions).'"
     },
     "metadata": {}
    },
    {
     "output_type": "display_data",
     "data": {
      "text/plain": "'No answer'"
     },
     "metadata": {}
    },
    {
     "output_type": "display_data",
     "data": {
      "text/plain": "28"
     },
     "metadata": {}
    },
    {
     "output_type": "display_data",
     "data": {
      "text/plain": "'Data Analyst at Uniplaces was asked...'"
     },
     "metadata": {}
    },
    {
     "output_type": "display_data",
     "data": {
      "text/plain": "'How well do you work with Microsoft Excel?'"
     },
     "metadata": {}
    },
    {
     "output_type": "display_data",
     "data": {
      "text/plain": "'No answer'"
     },
     "metadata": {}
    },
    {
     "output_type": "display_data",
     "data": {
      "text/plain": "29"
     },
     "metadata": {}
    },
    {
     "output_type": "display_data",
     "data": {
      "text/plain": "'Data Scientist at INESC-Porto was asked...'"
     },
     "metadata": {}
    },
    {
     "output_type": "display_data",
     "data": {
      "text/plain": "'Mostly just personal questions with no'"
     },
     "metadata": {}
    },
    {
     "output_type": "display_data",
     "data": {
      "text/plain": "'No answer'"
     },
     "metadata": {}
    },
    {
     "output_type": "display_data",
     "data": {
      "text/plain": "30"
     },
     "metadata": {}
    },
    {
     "output_type": "display_data",
     "data": {
      "text/plain": "'Data Scientist at Smart Consulting was asked...'"
     },
     "metadata": {}
    },
    {
     "output_type": "display_data",
     "data": {
      "text/plain": "'A brief introduction of myself and my path'"
     },
     "metadata": {}
    },
    {
     "output_type": "display_data",
     "data": {
      "text/plain": "'No answer'"
     },
     "metadata": {}
    },
    {
     "output_type": "display_data",
     "data": {
      "text/plain": "31"
     },
     "metadata": {}
    },
    {
     "output_type": "display_data",
     "data": {
      "text/plain": "'Data Science at Casafari was asked...'"
     },
     "metadata": {}
    },
    {
     "output_type": "display_data",
     "data": {
      "text/plain": "\"How to make more data to train models when you can't collect more?\""
     },
     "metadata": {}
    },
    {
     "output_type": "display_data",
     "data": {
      "text/plain": "'No answer'"
     },
     "metadata": {}
    },
    {
     "output_type": "display_data",
     "data": {
      "text/plain": "32"
     },
     "metadata": {}
    },
    {
     "output_type": "display_data",
     "data": {
      "text/plain": "'Data Scientist at closerlook was asked...'"
     },
     "metadata": {}
    },
    {
     "output_type": "display_data",
     "data": {
      "text/plain": "'In your opinion what are the most important traits in a data scientist?'"
     },
     "metadata": {}
    },
    {
     "output_type": "display_data",
     "data": {
      "text/plain": "'No answer'"
     },
     "metadata": {}
    },
    {
     "output_type": "display_data",
     "data": {
      "text/plain": "33"
     },
     "metadata": {}
    },
    {
     "output_type": "display_data",
     "data": {
      "text/plain": "'Data Scientist at Cocus was asked...'"
     },
     "metadata": {}
    },
    {
     "output_type": "display_data",
     "data": {
      "text/plain": "'The pipeline of a machine learning project.'"
     },
     "metadata": {}
    },
    {
     "output_type": "display_data",
     "data": {
      "text/plain": "'No answer'"
     },
     "metadata": {}
    },
    {
     "output_type": "display_data",
     "data": {
      "text/plain": "34"
     },
     "metadata": {}
    },
    {
     "output_type": "display_data",
     "data": {
      "text/plain": "'Data Analyst at Growin was asked...'"
     },
     "metadata": {}
    },
    {
     "output_type": "display_data",
     "data": {
      "text/plain": "'Which technologies i used in the past'"
     },
     "metadata": {}
    },
    {
     "output_type": "display_data",
     "data": {
      "text/plain": "'No answer'"
     },
     "metadata": {}
    },
    {
     "output_type": "display_data",
     "data": {
      "text/plain": "35"
     },
     "metadata": {}
    },
    {
     "output_type": "display_data",
     "data": {
      "text/plain": "'Data Scientist at Feedzai was asked...'"
     },
     "metadata": {}
    },
    {
     "output_type": "display_data",
     "data": {
      "text/plain": "'How would you explain precision, recall and AUC metrics of evaluation?'"
     },
     "metadata": {}
    },
    {
     "output_type": "display_data",
     "data": {
      "text/plain": "'No answer'"
     },
     "metadata": {}
    },
    {
     "output_type": "display_data",
     "data": {
      "text/plain": "36"
     },
     "metadata": {}
    },
    {
     "output_type": "display_data",
     "data": {
      "text/plain": "'Data Scientist at Feedzai was asked...'"
     },
     "metadata": {}
    },
    {
     "output_type": "display_data",
     "data": {
      "text/plain": "\"How do you explain a customer what's precision and recall?\""
     },
     "metadata": {}
    },
    {
     "output_type": "display_data",
     "data": {
      "text/plain": "'No answer'"
     },
     "metadata": {}
    },
    {
     "output_type": "display_data",
     "data": {
      "text/plain": "37"
     },
     "metadata": {}
    },
    {
     "output_type": "display_data",
     "data": {
      "text/plain": "'Senior Data Analyst at OLX Group was asked...'"
     },
     "metadata": {}
    },
    {
     "output_type": "display_data",
     "data": {
      "text/plain": "'Business case study, you can use any technology'"
     },
     "metadata": {}
    },
    {
     "output_type": "display_data",
     "data": {
      "text/plain": "'No answer'"
     },
     "metadata": {}
    },
    {
     "output_type": "display_data",
     "data": {
      "text/plain": "38"
     },
     "metadata": {}
    },
    {
     "output_type": "display_data",
     "data": {
      "text/plain": "'BI Data Analyst at Miniclip was asked...'"
     },
     "metadata": {}
    },
    {
     "output_type": "display_data",
     "data": {
      "text/plain": "'What did you find challenging about your previous job? What do you like doing in your spare time? Why do you think you would be a good fit?'"
     },
     "metadata": {}
    },
    {
     "output_type": "display_data",
     "data": {
      "text/plain": "'No answer'"
     },
     "metadata": {}
    },
    {
     "output_type": "display_data",
     "data": {
      "text/plain": "39"
     },
     "metadata": {}
    },
    {
     "output_type": "display_data",
     "data": {
      "text/plain": "'Data Analyst at Miniclip was asked...'"
     },
     "metadata": {}
    },
    {
     "output_type": "display_data",
     "data": {
      "text/plain": "'What did you find challenging about your previous job? Why do you think you are suited for this position? What do you like to do in your spare time?'"
     },
     "metadata": {}
    },
    {
     "output_type": "display_data",
     "data": {
      "text/plain": "'No answer'"
     },
     "metadata": {}
    },
    {
     "output_type": "display_data",
     "data": {
      "text/plain": "40"
     },
     "metadata": {}
    },
    {
     "output_type": "display_data",
     "data": {
      "text/plain": "'Data Scientist at FARFETCH was asked...'"
     },
     "metadata": {}
    },
    {
     "output_type": "display_data",
     "data": {
      "text/plain": "'Preguntas técnicas de programación (a escoger el lenguaje) y de conocimientos de Machine Learning.'"
     },
     "metadata": {}
    },
    {
     "output_type": "display_data",
     "data": {
      "text/plain": "'No answer'"
     },
     "metadata": {}
    },
    {
     "output_type": "display_data",
     "data": {
      "text/plain": "41"
     },
     "metadata": {}
    },
    {
     "output_type": "display_data",
     "data": {
      "text/plain": "'Data Scientist at Imaginary Cloud was asked...'"
     },
     "metadata": {}
    },
    {
     "output_type": "display_data",
     "data": {
      "text/plain": "'General data science questions Propose and programme solution to a data science task'"
     },
     "metadata": {}
    },
    {
     "output_type": "display_data",
     "data": {
      "text/plain": "'No answer'"
     },
     "metadata": {}
    },
    {
     "output_type": "display_data",
     "data": {
      "text/plain": "42"
     },
     "metadata": {}
    },
    {
     "output_type": "display_data",
     "data": {
      "text/plain": "'Graduate Data Analyst at Vodafone was asked...'"
     },
     "metadata": {}
    },
    {
     "output_type": "display_data",
     "data": {
      "text/plain": "'Describe a situation in which you had to adapt to change quickly. Describe a situation in which you worked as a team and faced some challenges. What were your the challenges, your actions, and the outcome? The games were to assess our logic and numerical skills.'"
     },
     "metadata": {}
    },
    {
     "output_type": "display_data",
     "data": {
      "text/plain": "'No answer'"
     },
     "metadata": {}
    },
    {
     "output_type": "display_data",
     "data": {
      "text/plain": "43"
     },
     "metadata": {}
    },
    {
     "output_type": "display_data",
     "data": {
      "text/plain": "'Data Scientist at Aubay was asked...'"
     },
     "metadata": {}
    },
    {
     "output_type": "display_data",
     "data": {
      "text/plain": "'Which academic project was your favorite?'"
     },
     "metadata": {}
    },
    {
     "output_type": "display_data",
     "data": {
      "text/plain": "'No answer'"
     },
     "metadata": {}
    },
    {
     "output_type": "display_data",
     "data": {
      "text/plain": "44"
     },
     "metadata": {}
    },
    {
     "output_type": "display_data",
     "data": {
      "text/plain": "'Data Scientist at Aubay was asked...'"
     },
     "metadata": {}
    },
    {
     "output_type": "display_data",
     "data": {
      "text/plain": "'How much do you expect to receive'"
     },
     "metadata": {}
    },
    {
     "output_type": "display_data",
     "data": {
      "text/plain": "'No answer'"
     },
     "metadata": {}
    },
    {
     "output_type": "display_data",
     "data": {
      "text/plain": "45"
     },
     "metadata": {}
    },
    {
     "output_type": "display_data",
     "data": {
      "text/plain": "'Data Analyst at Uniplaces was asked...'"
     },
     "metadata": {}
    },
    {
     "output_type": "display_data",
     "data": {
      "text/plain": "'What is your professional experience?'"
     },
     "metadata": {}
    },
    {
     "output_type": "display_data",
     "data": {
      "text/plain": "'No answer'"
     },
     "metadata": {}
    },
    {
     "output_type": "display_data",
     "data": {
      "text/plain": "46"
     },
     "metadata": {}
    },
    {
     "output_type": "display_data",
     "data": {
      "text/plain": "'Data Scientist at Casafari was asked...'"
     },
     "metadata": {}
    },
    {
     "output_type": "display_data",
     "data": {
      "text/plain": "'How do you deal with missing values'"
     },
     "metadata": {}
    },
    {
     "output_type": "display_data",
     "data": {
      "text/plain": "'No answer'"
     },
     "metadata": {}
    },
    {
     "output_type": "display_data",
     "data": {
      "text/plain": "47"
     },
     "metadata": {}
    },
    {
     "output_type": "display_data",
     "data": {
      "text/plain": "'Internship data Science at Smart Consulting Solutions was asked...'"
     },
     "metadata": {}
    },
    {
     "output_type": "display_data",
     "data": {
      "text/plain": "'What kind of skills I gained in college'"
     },
     "metadata": {}
    },
    {
     "output_type": "display_data",
     "data": {
      "text/plain": "'No answer'"
     },
     "metadata": {}
    },
    {
     "output_type": "display_data",
     "data": {
      "text/plain": "48"
     },
     "metadata": {}
    },
    {
     "output_type": "display_data",
     "data": {
      "text/plain": "'Data Scientist at Smart Consulting was asked...'"
     },
     "metadata": {}
    },
    {
     "output_type": "display_data",
     "data": {
      "text/plain": "'What kind of experience did I have in similar projects'"
     },
     "metadata": {}
    },
    {
     "output_type": "display_data",
     "data": {
      "text/plain": "'No answer'"
     },
     "metadata": {}
    },
    {
     "output_type": "display_data",
     "data": {
      "text/plain": "49"
     },
     "metadata": {}
    },
    {
     "output_type": "display_data",
     "data": {
      "text/plain": "'Data Scientist at Cocus was asked...'"
     },
     "metadata": {}
    },
    {
     "output_type": "display_data",
     "data": {
      "text/plain": "'How to deploy models into production?'"
     },
     "metadata": {}
    },
    {
     "output_type": "display_data",
     "data": {
      "text/plain": "'No answer'"
     },
     "metadata": {}
    },
    {
     "output_type": "display_data",
     "data": {
      "text/plain": "50"
     },
     "metadata": {}
    },
    {
     "output_type": "display_data",
     "data": {
      "text/plain": "'Business Data Analyst at Adentis was asked...'"
     },
     "metadata": {}
    },
    {
     "output_type": "display_data",
     "data": {
      "text/plain": "'Did you ever work with ETL'"
     },
     "metadata": {}
    },
    {
     "output_type": "display_data",
     "data": {
      "text/plain": "'No answer'"
     },
     "metadata": {}
    },
    {
     "output_type": "display_data",
     "data": {
      "text/plain": "51"
     },
     "metadata": {}
    },
    {
     "output_type": "display_data",
     "data": {
      "text/plain": "'Data Scientist at Feedzai was asked...'"
     },
     "metadata": {}
    },
    {
     "output_type": "display_data",
     "data": {
      "text/plain": "'Choose a machine learning method that you are comfortable with and explain how it works.'"
     },
     "metadata": {}
    },
    {
     "output_type": "display_data",
     "data": {
      "text/plain": "'No answer'"
     },
     "metadata": {}
    },
    {
     "output_type": "display_data",
     "data": {
      "text/plain": "52"
     },
     "metadata": {}
    },
    {
     "output_type": "display_data",
     "data": {
      "text/plain": "'Data Scientist at Feedzai was asked...'"
     },
     "metadata": {}
    },
    {
     "output_type": "display_data",
     "data": {
      "text/plain": "'Describe a previous project that you worked on.'"
     },
     "metadata": {}
    },
    {
     "output_type": "display_data",
     "data": {
      "text/plain": "'No answer'"
     },
     "metadata": {}
    },
    {
     "output_type": "display_data",
     "data": {
      "text/plain": "53"
     },
     "metadata": {}
    },
    {
     "output_type": "display_data",
     "data": {
      "text/plain": "\"L&#39;Oreal Data Analyst Trainee at L'Oréal was asked...\""
     },
     "metadata": {}
    },
    {
     "output_type": "display_data",
     "data": {
      "text/plain": "'Many questions about my past experience: most of them about situations where I succeded or failed, what are my good traits and bad traits. Also one or two projects in the area. Why do I see myself working there'"
     },
     "metadata": {}
    },
    {
     "output_type": "display_data",
     "data": {
      "text/plain": "'No answer'"
     },
     "metadata": {}
    },
    {
     "output_type": "display_data",
     "data": {
      "text/plain": "54"
     },
     "metadata": {}
    },
    {
     "output_type": "display_data",
     "data": {
      "text/plain": "'Data Analyst at Uniplaces was asked...'"
     },
     "metadata": {}
    },
    {
     "output_type": "display_data",
     "data": {
      "text/plain": "'What is your availability?'"
     },
     "metadata": {}
    },
    {
     "output_type": "display_data",
     "data": {
      "text/plain": "'No answer'"
     },
     "metadata": {}
    },
    {
     "output_type": "display_data",
     "data": {
      "text/plain": "55"
     },
     "metadata": {}
    },
    {
     "output_type": "display_data",
     "data": {
      "text/plain": "'Data Scientist at Casafari was asked...'"
     },
     "metadata": {}
    },
    {
     "output_type": "display_data",
     "data": {
      "text/plain": "'Describe your workflow in a machine learning project to match duplicate ads'"
     },
     "metadata": {}
    },
    {
     "output_type": "display_data",
     "data": {
      "text/plain": "'No answer'"
     },
     "metadata": {}
    },
    {
     "output_type": "display_data",
     "data": {
      "text/plain": "56"
     },
     "metadata": {}
    },
    {
     "output_type": "display_data",
     "data": {
      "text/plain": "'Data Analyst at Casafari was asked...'"
     },
     "metadata": {}
    },
    {
     "output_type": "display_data",
     "data": {
      "text/plain": "'What are my main hard and soft skills that I could add to the team?'"
     },
     "metadata": {}
    },
    {
     "output_type": "display_data",
     "data": {
      "text/plain": "'No answer'"
     },
     "metadata": {}
    },
    {
     "output_type": "display_data",
     "data": {
      "text/plain": "57"
     },
     "metadata": {}
    },
    {
     "output_type": "display_data",
     "data": {
      "text/plain": "'Data Scientist at Decskill was asked...'"
     },
     "metadata": {}
    },
    {
     "output_type": "display_data",
     "data": {
      "text/plain": "'What do you value most in a working environment?'"
     },
     "metadata": {}
    },
    {
     "output_type": "display_data",
     "data": {
      "text/plain": "'No answer'"
     },
     "metadata": {}
    },
    {
     "output_type": "display_data",
     "data": {
      "text/plain": "58"
     },
     "metadata": {}
    },
    {
     "output_type": "display_data",
     "data": {
      "text/plain": "'Data Scientist at Smart Consulting was asked...'"
     },
     "metadata": {}
    },
    {
     "output_type": "display_data",
     "data": {
      "text/plain": "'What is the expected salary'"
     },
     "metadata": {}
    },
    {
     "output_type": "display_data",
     "data": {
      "text/plain": "'No answer'"
     },
     "metadata": {}
    },
    {
     "output_type": "display_data",
     "data": {
      "text/plain": "59"
     },
     "metadata": {}
    },
    {
     "output_type": "display_data",
     "data": {
      "text/plain": "'Data Scientist at Cocus was asked...'"
     },
     "metadata": {}
    },
    {
     "output_type": "display_data",
     "data": {
      "text/plain": "'What are feature selection mechanisms and PCA?'"
     },
     "metadata": {}
    },
    {
     "output_type": "display_data",
     "data": {
      "text/plain": "'No answer'"
     },
     "metadata": {}
    },
    {
     "output_type": "display_data",
     "data": {
      "text/plain": "60"
     },
     "metadata": {}
    },
    {
     "output_type": "display_data",
     "data": {
      "text/plain": "'Data Analyst at Nestlé was asked...'"
     },
     "metadata": {}
    },
    {
     "output_type": "display_data",
     "data": {
      "text/plain": "'Se eu já tinha experiencia com o sistema SAP'"
     },
     "metadata": {}
    },
    {
     "output_type": "display_data",
     "data": {
      "text/plain": "'No answer'"
     },
     "metadata": {}
    },
    {
     "output_type": "display_data",
     "data": {
      "text/plain": "61"
     },
     "metadata": {}
    },
    {
     "output_type": "display_data",
     "data": {
      "text/plain": "'Business Data Analyst at Adentis was asked...'"
     },
     "metadata": {}
    },
    {
     "output_type": "display_data",
     "data": {
      "text/plain": "'what is the salary you want to earn'"
     },
     "metadata": {}
    },
    {
     "output_type": "display_data",
     "data": {
      "text/plain": "'No answer'"
     },
     "metadata": {}
    },
    {
     "output_type": "display_data",
     "data": {
      "text/plain": "62"
     },
     "metadata": {}
    },
    {
     "output_type": "display_data",
     "data": {
      "text/plain": "'Data Scientist at Builtrix was asked...'"
     },
     "metadata": {}
    },
    {
     "output_type": "display_data",
     "data": {
      "text/plain": "'Questions related to your past work experience. Describe the project in detail. General conceptual questions about machine learning algorithms you know about.'"
     },
     "metadata": {}
    },
    {
     "output_type": "display_data",
     "data": {
      "text/plain": "'No answer'"
     },
     "metadata": {}
    },
    {
     "output_type": "display_data",
     "data": {
      "text/plain": "63"
     },
     "metadata": {}
    },
    {
     "output_type": "display_data",
     "data": {
      "text/plain": "'Data Scientist at Feedzai was asked...'"
     },
     "metadata": {}
    },
    {
     "output_type": "display_data",
     "data": {
      "text/plain": "'that is quite fuzzy screening test, with necessary calculations, with short time that you have to read more than once to understand, looks like you are doing exames in school again'"
     },
     "metadata": {}
    },
    {
     "output_type": "display_data",
     "data": {
      "text/plain": "'No answer'"
     },
     "metadata": {}
    },
    {
     "output_type": "display_data",
     "data": {
      "text/plain": "64"
     },
     "metadata": {}
    },
    {
     "output_type": "display_data",
     "data": {
      "text/plain": "'Data Scientist at Feedzai was asked...'"
     },
     "metadata": {}
    },
    {
     "output_type": "display_data",
     "data": {
      "text/plain": "'Describe two of your past projects that had Machine Learning.'"
     },
     "metadata": {}
    },
    {
     "output_type": "display_data",
     "data": {
      "text/plain": "'No answer'"
     },
     "metadata": {}
    },
    {
     "output_type": "display_data",
     "data": {
      "text/plain": "65"
     },
     "metadata": {}
    },
    {
     "output_type": "display_data",
     "data": {
      "text/plain": "'Data Scientist at Miniclip was asked...'"
     },
     "metadata": {}
    },
    {
     "output_type": "display_data",
     "data": {
      "text/plain": "'- Technical questions about the challenge'"
     },
     "metadata": {}
    },
    {
     "output_type": "display_data",
     "data": {
      "text/plain": "'No answer'"
     },
     "metadata": {}
    },
    {
     "output_type": "display_data",
     "data": {
      "text/plain": "66"
     },
     "metadata": {}
    },
    {
     "output_type": "display_data",
     "data": {
      "text/plain": "'Junior Data Scientist at FARFETCH was asked...'"
     },
     "metadata": {}
    },
    {
     "output_type": "display_data",
     "data": {
      "text/plain": "\"They asked me to explain the advantages of my case-study solution to a business person, who don't know anything about to Data Science and Machine Learning.\""
     },
     "metadata": {}
    },
    {
     "output_type": "display_data",
     "data": {
      "text/plain": "'No answer'"
     },
     "metadata": {}
    },
    {
     "output_type": "display_data",
     "data": {
      "text/plain": "                                        job_company  \\\n0   Senior Data Scientist at OLX Group was asked...   \n1     Data Science at MOG Technologies was asked...   \n2   Data Scientist at Smart Consulting was asked...   \n3           Data Scientist at Deloitte was asked...   \n4        Data Scientist at 360imprimir was asked...   \n..                                              ...   \n61          Data Scientist at Builtrix was asked...   \n62           Data Scientist at Feedzai was asked...   \n63           Data Scientist at Feedzai was asked...   \n64          Data Scientist at Miniclip was asked...   \n65   Junior Data Scientist at FARFETCH was asked...   \n\n                                            questions  \\\n0         explain the reasoning in resolving the case   \n1   Nothing too technical, they presented one of t...   \n2   Tell me about 2 projects that you seem fit to ...   \n3                          What your motivations are?   \n4                   Logic question( cases resolution)   \n..                                                ...   \n61  Questions related to your past work experience...   \n62  that is quite fuzzy screening test, with neces...   \n63  Describe two of your past projects that had Ma...   \n64          - Technical questions about the challenge   \n65  They asked me to explain the advantages of my ...   \n\n                                              answers   country          area  \n0   I answer all the insights I had based on data ...  Portugal  Data Analyst  \n1   I told them that it could be solved and presen...  Portugal  Data Analyst  \n2                     Described two projetcs about AI  Portugal  Data Analyst  \n3   If the data adequately represent reality, by s...  Portugal  Data Analyst  \n4   Detailed explanation about the reasoning behin...  Portugal  Data Analyst  \n..                                                ...       ...           ...  \n61                                          No answer  Portugal  Data Analyst  \n62                                          No answer  Portugal  Data Analyst  \n63                                          No answer  Portugal  Data Analyst  \n64                                          No answer  Portugal  Data Analyst  \n65                                          No answer  Portugal  Data Analyst  \n\n[66 rows x 5 columns]",
      "text/html": "<div>\n<style scoped>\n    .dataframe tbody tr th:only-of-type {\n        vertical-align: middle;\n    }\n\n    .dataframe tbody tr th {\n        vertical-align: top;\n    }\n\n    .dataframe thead th {\n        text-align: right;\n    }\n</style>\n<table border=\"1\" class=\"dataframe\">\n  <thead>\n    <tr style=\"text-align: right;\">\n      <th></th>\n      <th>job_company</th>\n      <th>questions</th>\n      <th>answers</th>\n      <th>country</th>\n      <th>area</th>\n    </tr>\n  </thead>\n  <tbody>\n    <tr>\n      <th>0</th>\n      <td>Senior Data Scientist at OLX Group was asked...</td>\n      <td>explain the reasoning in resolving the case</td>\n      <td>I answer all the insights I had based on data ...</td>\n      <td>Portugal</td>\n      <td>Data Analyst</td>\n    </tr>\n    <tr>\n      <th>1</th>\n      <td>Data Science at MOG Technologies was asked...</td>\n      <td>Nothing too technical, they presented one of t...</td>\n      <td>I told them that it could be solved and presen...</td>\n      <td>Portugal</td>\n      <td>Data Analyst</td>\n    </tr>\n    <tr>\n      <th>2</th>\n      <td>Data Scientist at Smart Consulting was asked...</td>\n      <td>Tell me about 2 projects that you seem fit to ...</td>\n      <td>Described two projetcs about AI</td>\n      <td>Portugal</td>\n      <td>Data Analyst</td>\n    </tr>\n    <tr>\n      <th>3</th>\n      <td>Data Scientist at Deloitte was asked...</td>\n      <td>What your motivations are?</td>\n      <td>If the data adequately represent reality, by s...</td>\n      <td>Portugal</td>\n      <td>Data Analyst</td>\n    </tr>\n    <tr>\n      <th>4</th>\n      <td>Data Scientist at 360imprimir was asked...</td>\n      <td>Logic question( cases resolution)</td>\n      <td>Detailed explanation about the reasoning behin...</td>\n      <td>Portugal</td>\n      <td>Data Analyst</td>\n    </tr>\n    <tr>\n      <th>...</th>\n      <td>...</td>\n      <td>...</td>\n      <td>...</td>\n      <td>...</td>\n      <td>...</td>\n    </tr>\n    <tr>\n      <th>61</th>\n      <td>Data Scientist at Builtrix was asked...</td>\n      <td>Questions related to your past work experience...</td>\n      <td>No answer</td>\n      <td>Portugal</td>\n      <td>Data Analyst</td>\n    </tr>\n    <tr>\n      <th>62</th>\n      <td>Data Scientist at Feedzai was asked...</td>\n      <td>that is quite fuzzy screening test, with neces...</td>\n      <td>No answer</td>\n      <td>Portugal</td>\n      <td>Data Analyst</td>\n    </tr>\n    <tr>\n      <th>63</th>\n      <td>Data Scientist at Feedzai was asked...</td>\n      <td>Describe two of your past projects that had Ma...</td>\n      <td>No answer</td>\n      <td>Portugal</td>\n      <td>Data Analyst</td>\n    </tr>\n    <tr>\n      <th>64</th>\n      <td>Data Scientist at Miniclip was asked...</td>\n      <td>- Technical questions about the challenge</td>\n      <td>No answer</td>\n      <td>Portugal</td>\n      <td>Data Analyst</td>\n    </tr>\n    <tr>\n      <th>65</th>\n      <td>Junior Data Scientist at FARFETCH was asked...</td>\n      <td>They asked me to explain the advantages of my ...</td>\n      <td>No answer</td>\n      <td>Portugal</td>\n      <td>Data Analyst</td>\n    </tr>\n  </tbody>\n</table>\n<p>66 rows × 5 columns</p>\n</div>"
     },
     "metadata": {}
    }
   ],
   "source": [
    "job_title_da = 'Data Analyst' ## Lets search Data analytics\n",
    "location_pt = 'Portugal' ## Lets search Data analytics\n",
    "\n",
    "data_to_csv(location_pt,interview_info(job_title_da,location_pt))"
   ]
  },
  {
   "cell_type": "code",
   "execution_count": 24,
   "metadata": {},
   "outputs": [
    {
     "output_type": "display_data",
     "data": {
      "text/plain": "1"
     },
     "metadata": {}
    },
    {
     "output_type": "display_data",
     "data": {
      "text/plain": "'Web Developer Junior at Prime IT was asked...'"
     },
     "metadata": {}
    },
    {
     "output_type": "display_data",
     "data": {
      "text/plain": "'Seu eu sabia o que fazia a Prime IT'"
     },
     "metadata": {}
    },
    {
     "output_type": "display_data",
     "data": {
      "text/plain": "'Falando o que havia lido a respeito da empresa e de seus metodos de trabalho'"
     },
     "metadata": {}
    },
    {
     "output_type": "display_data",
     "data": {
      "text/plain": "2"
     },
     "metadata": {}
    },
    {
     "output_type": "display_data",
     "data": {
      "text/plain": "'Web Developer at Leya was asked...'"
     },
     "metadata": {}
    },
    {
     "output_type": "display_data",
     "data": {
      "text/plain": "\"They asked all the usual job interview questions, specially regarding past professional experience, work I've done and skills I had. They also presented me with a small programming test, where I had to write on paper the general programming logic for the development of an arkanoid-like javascript game from scratch.\""
     },
     "metadata": {}
    },
    {
     "output_type": "display_data",
     "data": {
      "text/plain": "\"I wrote down the general programming logic, in the form of strutured code as required, of the game's development from scratch using oop standards.\""
     },
     "metadata": {}
    },
    {
     "output_type": "display_data",
     "data": {
      "text/plain": "3"
     },
     "metadata": {}
    },
    {
     "output_type": "display_data",
     "data": {
      "text/plain": "'Web Developer at Landing.jobs was asked...'"
     },
     "metadata": {}
    },
    {
     "output_type": "display_data",
     "data": {
      "text/plain": "'If I would feel Ok with unpaid extra time every day'"
     },
     "metadata": {}
    },
    {
     "output_type": "display_data",
     "data": {
      "text/plain": "'Obviously not.'"
     },
     "metadata": {}
    },
    {
     "output_type": "display_data",
     "data": {
      "text/plain": "4"
     },
     "metadata": {}
    },
    {
     "output_type": "display_data",
     "data": {
      "text/plain": "'Junior Web Developer at iTGROW was asked...'"
     },
     "metadata": {}
    },
    {
     "output_type": "display_data",
     "data": {
      "text/plain": "'Difference between foreach and map Java functions'"
     },
     "metadata": {}
    },
    {
     "output_type": "display_data",
     "data": {
      "text/plain": "\"Map returns values, foreach doesn't,...\""
     },
     "metadata": {}
    },
    {
     "output_type": "display_data",
     "data": {
      "text/plain": "5"
     },
     "metadata": {}
    },
    {
     "output_type": "display_data",
     "data": {
      "text/plain": "'Web Developer at PDM&FC was asked...'"
     },
     "metadata": {}
    },
    {
     "output_type": "display_data",
     "data": {
      "text/plain": "'I was asked about Java and JavaScript even though the job position was for JavaScript Web Developer'"
     },
     "metadata": {}
    },
    {
     "output_type": "display_data",
     "data": {
      "text/plain": "'No answer'"
     },
     "metadata": {}
    },
    {
     "output_type": "display_data",
     "data": {
      "text/plain": "6"
     },
     "metadata": {}
    },
    {
     "output_type": "display_data",
     "data": {
      "text/plain": "'Web Developer at Wiremaze was asked...'"
     },
     "metadata": {}
    },
    {
     "output_type": "display_data",
     "data": {
      "text/plain": "\"What's your salary expectation?\""
     },
     "metadata": {}
    },
    {
     "output_type": "display_data",
     "data": {
      "text/plain": "'No answer'"
     },
     "metadata": {}
    },
    {
     "output_type": "display_data",
     "data": {
      "text/plain": "7"
     },
     "metadata": {}
    },
    {
     "output_type": "display_data",
     "data": {
      "text/plain": "'Web Developer at Eticadata was asked...'"
     },
     "metadata": {}
    },
    {
     "output_type": "display_data",
     "data": {
      "text/plain": "'Database questions, CRUD'"
     },
     "metadata": {}
    },
    {
     "output_type": "display_data",
     "data": {
      "text/plain": "'No answer'"
     },
     "metadata": {}
    },
    {
     "output_type": "display_data",
     "data": {
      "text/plain": "8"
     },
     "metadata": {}
    },
    {
     "output_type": "display_data",
     "data": {
      "text/plain": "'Web Developer at rVisual was asked...'"
     },
     "metadata": {}
    },
    {
     "output_type": "display_data",
     "data": {
      "text/plain": "'they asked me to fix old broken code without being able to testing it'"
     },
     "metadata": {}
    },
    {
     "output_type": "display_data",
     "data": {
      "text/plain": "'No answer'"
     },
     "metadata": {}
    },
    {
     "output_type": "display_data",
     "data": {
      "text/plain": "9"
     },
     "metadata": {}
    },
    {
     "output_type": "display_data",
     "data": {
      "text/plain": "'Web Developer at Wiremaze was asked...'"
     },
     "metadata": {}
    },
    {
     "output_type": "display_data",
     "data": {
      "text/plain": "'I was asked to do a simple HTML page, with some CSS, and then apply some Javascript algorithms to it.'"
     },
     "metadata": {}
    },
    {
     "output_type": "display_data",
     "data": {
      "text/plain": "'No answer'"
     },
     "metadata": {}
    },
    {
     "output_type": "display_data",
     "data": {
      "text/plain": "10"
     },
     "metadata": {}
    },
    {
     "output_type": "display_data",
     "data": {
      "text/plain": "'Web Developer at Alter Solutions was asked...'"
     },
     "metadata": {}
    },
    {
     "output_type": "display_data",
     "data": {
      "text/plain": "'What kind of projects that you work?'"
     },
     "metadata": {}
    },
    {
     "output_type": "display_data",
     "data": {
      "text/plain": "'No answer'"
     },
     "metadata": {}
    },
    {
     "output_type": "display_data",
     "data": {
      "text/plain": "11"
     },
     "metadata": {}
    },
    {
     "output_type": "display_data",
     "data": {
      "text/plain": "'Web Developer at KCS IT was asked...'"
     },
     "metadata": {}
    },
    {
     "output_type": "display_data",
     "data": {
      "text/plain": "'Area de Preferencias? Linguagens que sentes confortavel? Ingles? O que fazes nos tempos livres?'"
     },
     "metadata": {}
    },
    {
     "output_type": "display_data",
     "data": {
      "text/plain": "'No answer'"
     },
     "metadata": {}
    },
    {
     "output_type": "display_data",
     "data": {
      "text/plain": "12"
     },
     "metadata": {}
    },
    {
     "output_type": "display_data",
     "data": {
      "text/plain": "'Junior Web Developer at iTGROW was asked...'"
     },
     "metadata": {}
    },
    {
     "output_type": "display_data",
     "data": {
      "text/plain": "'If I had knowlegde on design patterns and naming conventions'"
     },
     "metadata": {}
    },
    {
     "output_type": "display_data",
     "data": {
      "text/plain": "'No answer'"
     },
     "metadata": {}
    },
    {
     "output_type": "display_data",
     "data": {
      "text/plain": "13"
     },
     "metadata": {}
    },
    {
     "output_type": "display_data",
     "data": {
      "text/plain": "'Front End Web Developer at Movvo was asked...'"
     },
     "metadata": {}
    },
    {
     "output_type": "display_data",
     "data": {
      "text/plain": "'Why do you want to work here'"
     },
     "metadata": {}
    },
    {
     "output_type": "display_data",
     "data": {
      "text/plain": "'No answer'"
     },
     "metadata": {}
    },
    {
     "output_type": "display_data",
     "data": {
      "text/plain": "14"
     },
     "metadata": {}
    },
    {
     "output_type": "display_data",
     "data": {
      "text/plain": "'Junior Web Developer at Bee Engineering was asked...'"
     },
     "metadata": {}
    },
    {
     "output_type": "display_data",
     "data": {
      "text/plain": "\"What's your Technology Stack and future preferences for a career plan?\""
     },
     "metadata": {}
    },
    {
     "output_type": "display_data",
     "data": {
      "text/plain": "'No answer'"
     },
     "metadata": {}
    },
    {
     "output_type": "display_data",
     "data": {
      "text/plain": "15"
     },
     "metadata": {}
    },
    {
     "output_type": "display_data",
     "data": {
      "text/plain": "'Full Stack Web Developer at Streetbees was asked...'"
     },
     "metadata": {}
    },
    {
     "output_type": "display_data",
     "data": {
      "text/plain": "'If I really want to embrace a new challenge and why streetbees can fulfill my expectations.'"
     },
     "metadata": {}
    },
    {
     "output_type": "display_data",
     "data": {
      "text/plain": "'No answer'"
     },
     "metadata": {}
    },
    {
     "output_type": "display_data",
     "data": {
      "text/plain": "16"
     },
     "metadata": {}
    },
    {
     "output_type": "display_data",
     "data": {
      "text/plain": "'Full Stack Web Developer at ITSector was asked...'"
     },
     "metadata": {}
    },
    {
     "output_type": "display_data",
     "data": {
      "text/plain": "'What are the SOLID principles?'"
     },
     "metadata": {}
    },
    {
     "output_type": "display_data",
     "data": {
      "text/plain": "'No answer'"
     },
     "metadata": {}
    },
    {
     "output_type": "display_data",
     "data": {
      "text/plain": "17"
     },
     "metadata": {}
    },
    {
     "output_type": "display_data",
     "data": {
      "text/plain": "'Full Stack Web Developer at ITSector was asked...'"
     },
     "metadata": {}
    },
    {
     "output_type": "display_data",
     "data": {
      "text/plain": "'What are the 4 principles of Object Oriented Programming?'"
     },
     "metadata": {}
    },
    {
     "output_type": "display_data",
     "data": {
      "text/plain": "'No answer'"
     },
     "metadata": {}
    },
    {
     "output_type": "display_data",
     "data": {
      "text/plain": "18"
     },
     "metadata": {}
    },
    {
     "output_type": "display_data",
     "data": {
      "text/plain": "'Full Stack Web Developer at ITSector was asked...'"
     },
     "metadata": {}
    },
    {
     "output_type": "display_data",
     "data": {
      "text/plain": "'What is the difference between a left, right and inner join ?'"
     },
     "metadata": {}
    },
    {
     "output_type": "display_data",
     "data": {
      "text/plain": "'No answer'"
     },
     "metadata": {}
    },
    {
     "output_type": "display_data",
     "data": {
      "text/plain": "19"
     },
     "metadata": {}
    },
    {
     "output_type": "display_data",
     "data": {
      "text/plain": "'Senior Web Developer at EdirectInsure Group was asked...'"
     },
     "metadata": {}
    },
    {
     "output_type": "display_data",
     "data": {
      "text/plain": "'Request to make a small changelle. Create a task manager using php and ajax.'"
     },
     "metadata": {}
    },
    {
     "output_type": "display_data",
     "data": {
      "text/plain": "'No answer'"
     },
     "metadata": {}
    },
    {
     "output_type": "display_data",
     "data": {
      "text/plain": "20"
     },
     "metadata": {}
    },
    {
     "output_type": "display_data",
     "data": {
      "text/plain": "'Full Stack Web Developer at Streetbees was asked...'"
     },
     "metadata": {}
    },
    {
     "output_type": "display_data",
     "data": {
      "text/plain": "'If I really want to embrace a new challenge and why streetbees can fulfill my expectations.'"
     },
     "metadata": {}
    },
    {
     "output_type": "display_data",
     "data": {
      "text/plain": "'No answer'"
     },
     "metadata": {}
    },
    {
     "output_type": "display_data",
     "data": {
      "text/plain": "21"
     },
     "metadata": {}
    },
    {
     "output_type": "display_data",
     "data": {
      "text/plain": "'Full Stack Web Developer at ITSector was asked...'"
     },
     "metadata": {}
    },
    {
     "output_type": "display_data",
     "data": {
      "text/plain": "'What is the difference between an interface and an abstract class?'"
     },
     "metadata": {}
    },
    {
     "output_type": "display_data",
     "data": {
      "text/plain": "'No answer'"
     },
     "metadata": {}
    },
    {
     "output_type": "display_data",
     "data": {
      "text/plain": "22"
     },
     "metadata": {}
    },
    {
     "output_type": "display_data",
     "data": {
      "text/plain": "'Full Stack Web Developer at ITSector was asked...'"
     },
     "metadata": {}
    },
    {
     "output_type": "display_data",
     "data": {
      "text/plain": "'Can an abstract class be instantiated?'"
     },
     "metadata": {}
    },
    {
     "output_type": "display_data",
     "data": {
      "text/plain": "'No answer'"
     },
     "metadata": {}
    },
    {
     "output_type": "display_data",
     "data": {
      "text/plain": "23"
     },
     "metadata": {}
    },
    {
     "output_type": "display_data",
     "data": {
      "text/plain": "'Junior Web Developer at iTGROW was asked...'"
     },
     "metadata": {}
    },
    {
     "output_type": "display_data",
     "data": {
      "text/plain": "'Difference between Continuous Integration and Continuous Delivery'"
     },
     "metadata": {}
    },
    {
     "output_type": "display_data",
     "data": {
      "text/plain": "'No answer'"
     },
     "metadata": {}
    },
    {
     "output_type": "display_data",
     "data": {
      "text/plain": "24"
     },
     "metadata": {}
    },
    {
     "output_type": "display_data",
     "data": {
      "text/plain": "'Junior Web Developer at iTGROW was asked...'"
     },
     "metadata": {}
    },
    {
     "output_type": "display_data",
     "data": {
      "text/plain": "'Difference between PUT and POST'"
     },
     "metadata": {}
    },
    {
     "output_type": "display_data",
     "data": {
      "text/plain": "'No answer'"
     },
     "metadata": {}
    },
    {
     "output_type": "display_data",
     "data": {
      "text/plain": "25"
     },
     "metadata": {}
    },
    {
     "output_type": "display_data",
     "data": {
      "text/plain": "'Junior Web Developer at iTGROW was asked...'"
     },
     "metadata": {}
    },
    {
     "output_type": "display_data",
     "data": {
      "text/plain": "'Difference between AngularJS and Angular2, also if I had any knowlegde in React'"
     },
     "metadata": {}
    },
    {
     "output_type": "display_data",
     "data": {
      "text/plain": "'No answer'"
     },
     "metadata": {}
    },
    {
     "output_type": "display_data",
     "data": {
      "text/plain": "26"
     },
     "metadata": {}
    },
    {
     "output_type": "display_data",
     "data": {
      "text/plain": "'Web Developer at Sam-Sys was asked...'"
     },
     "metadata": {}
    },
    {
     "output_type": "display_data",
     "data": {
      "text/plain": "'Where you are yourself in five years'"
     },
     "metadata": {}
    },
    {
     "output_type": "display_data",
     "data": {
      "text/plain": "'No answer'"
     },
     "metadata": {}
    },
    {
     "output_type": "display_data",
     "data": {
      "text/plain": "27"
     },
     "metadata": {}
    },
    {
     "output_type": "display_data",
     "data": {
      "text/plain": "'Web Developer at High Creative Studio was asked...'"
     },
     "metadata": {}
    },
    {
     "output_type": "display_data",
     "data": {
      "text/plain": "'They asked about problem solving skills.'"
     },
     "metadata": {}
    },
    {
     "output_type": "display_data",
     "data": {
      "text/plain": "'No answer'"
     },
     "metadata": {}
    },
    {
     "output_type": "display_data",
     "data": {
      "text/plain": "28"
     },
     "metadata": {}
    },
    {
     "output_type": "display_data",
     "data": {
      "text/plain": "'Web Developer at Novabase was asked...'"
     },
     "metadata": {}
    },
    {
     "output_type": "display_data",
     "data": {
      "text/plain": "\"In the first step there was some question, like binary question, that i didn't know because i haven't learn that.\""
     },
     "metadata": {}
    },
    {
     "output_type": "display_data",
     "data": {
      "text/plain": "'No answer'"
     },
     "metadata": {}
    },
    {
     "output_type": "display_data",
     "data": {
      "text/plain": "29"
     },
     "metadata": {}
    },
    {
     "output_type": "display_data",
     "data": {
      "text/plain": "'Web Developer at Randstad was asked...'"
     },
     "metadata": {}
    },
    {
     "output_type": "display_data",
     "data": {
      "text/plain": "'Why had I left my previous job in another company'"
     },
     "metadata": {}
    },
    {
     "output_type": "display_data",
     "data": {
      "text/plain": "'No answer'"
     },
     "metadata": {}
    },
    {
     "output_type": "display_data",
     "data": {
      "text/plain": "30"
     },
     "metadata": {}
    },
    {
     "output_type": "display_data",
     "data": {
      "text/plain": "'Web Developer at ITSector was asked...'"
     },
     "metadata": {}
    },
    {
     "output_type": "display_data",
     "data": {
      "text/plain": "'Qual é a motivação? O seu percurso.'"
     },
     "metadata": {}
    },
    {
     "output_type": "display_data",
     "data": {
      "text/plain": "'No answer'"
     },
     "metadata": {}
    },
    {
     "output_type": "display_data",
     "data": {
      "text/plain": "31"
     },
     "metadata": {}
    },
    {
     "output_type": "display_data",
     "data": {
      "text/plain": "'Full Stack Web Developer at ITSector was asked...'"
     },
     "metadata": {}
    },
    {
     "output_type": "display_data",
     "data": {
      "text/plain": "'On a blank board do a simple algorithm to find a capicua.'"
     },
     "metadata": {}
    },
    {
     "output_type": "display_data",
     "data": {
      "text/plain": "'No answer'"
     },
     "metadata": {}
    },
    {
     "output_type": "display_data",
     "data": {
      "text/plain": "                                          job_company  \\\n0       Web Developer Junior at Prime IT was asked...   \n1                  Web Developer at Leya was asked...   \n2          Web Developer at Landing.jobs was asked...   \n3         Junior Web Developer at iTGROW was asked...   \n4                Web Developer at PDM&FC was asked...   \n5              Web Developer at Wiremaze was asked...   \n6             Web Developer at Eticadata was asked...   \n7               Web Developer at rVisual was asked...   \n8              Web Developer at Wiremaze was asked...   \n9       Web Developer at Alter Solutions was asked...   \n10               Web Developer at KCS IT was asked...   \n11        Junior Web Developer at iTGROW was asked...   \n12      Front End Web Developer at Movvo was asked...   \n13  Junior Web Developer at Bee Engineering was as...   \n14  Full Stack Web Developer at Streetbees was ask...   \n15  Full Stack Web Developer at ITSector was asked...   \n16  Full Stack Web Developer at ITSector was asked...   \n17  Full Stack Web Developer at ITSector was asked...   \n18  Senior Web Developer at EdirectInsure Group wa...   \n19  Full Stack Web Developer at Streetbees was ask...   \n20  Full Stack Web Developer at ITSector was asked...   \n21  Full Stack Web Developer at ITSector was asked...   \n22        Junior Web Developer at iTGROW was asked...   \n23        Junior Web Developer at iTGROW was asked...   \n24        Junior Web Developer at iTGROW was asked...   \n25              Web Developer at Sam-Sys was asked...   \n26  Web Developer at High Creative Studio was aske...   \n27             Web Developer at Novabase was asked...   \n28             Web Developer at Randstad was asked...   \n29             Web Developer at ITSector was asked...   \n30  Full Stack Web Developer at ITSector was asked...   \n\n                                            questions  \\\n0                 Seu eu sabia o que fazia a Prime IT   \n1   They asked all the usual job interview questio...   \n2   If I would feel Ok with unpaid extra time ever...   \n3   Difference between foreach and map Java functions   \n4   I was asked about Java and JavaScript even tho...   \n5                     What's your salary expectation?   \n6                            Database questions, CRUD   \n7   they asked me to fix old broken code without b...   \n8   I was asked to do a simple HTML page, with som...   \n9                What kind of projects that you work?   \n10  Area de Preferencias? Linguagens que sentes co...   \n11  If I had knowlegde on design patterns and nami...   \n12                       Why do you want to work here   \n13  What's your Technology Stack and future prefer...   \n14  If I really want to embrace a new challenge an...   \n15                     What are the SOLID principles?   \n16  What are the 4 principles of Object Oriented P...   \n17  What is the difference between a left, right a...   \n18  Request to make a small changelle. Create a ta...   \n19  If I really want to embrace a new challenge an...   \n20  What is the difference between an interface an...   \n21             Can an abstract class be instantiated?   \n22  Difference between Continuous Integration and ...   \n23                    Difference between PUT and POST   \n24  Difference between AngularJS and Angular2, als...   \n25               Where you are yourself in five years   \n26           They asked about problem solving skills.   \n27  In the first step there was some question, lik...   \n28  Why had I left my previous job in another company   \n29                Qual é a motivação? O seu percurso.   \n30  On a blank board do a simple algorithm to find...   \n\n                                              answers   country           area  \n0   Falando o que havia lido a respeito da empresa...  Portugal  Web Developer  \n1   I wrote down the general programming logic, in...  Portugal  Web Developer  \n2                                      Obviously not.  Portugal  Web Developer  \n3             Map returns values, foreach doesn't,...  Portugal  Web Developer  \n4                                           No answer  Portugal  Web Developer  \n5                                           No answer  Portugal  Web Developer  \n6                                           No answer  Portugal  Web Developer  \n7                                           No answer  Portugal  Web Developer  \n8                                           No answer  Portugal  Web Developer  \n9                                           No answer  Portugal  Web Developer  \n10                                          No answer  Portugal  Web Developer  \n11                                          No answer  Portugal  Web Developer  \n12                                          No answer  Portugal  Web Developer  \n13                                          No answer  Portugal  Web Developer  \n14                                          No answer  Portugal  Web Developer  \n15                                          No answer  Portugal  Web Developer  \n16                                          No answer  Portugal  Web Developer  \n17                                          No answer  Portugal  Web Developer  \n18                                          No answer  Portugal  Web Developer  \n19                                          No answer  Portugal  Web Developer  \n20                                          No answer  Portugal  Web Developer  \n21                                          No answer  Portugal  Web Developer  \n22                                          No answer  Portugal  Web Developer  \n23                                          No answer  Portugal  Web Developer  \n24                                          No answer  Portugal  Web Developer  \n25                                          No answer  Portugal  Web Developer  \n26                                          No answer  Portugal  Web Developer  \n27                                          No answer  Portugal  Web Developer  \n28                                          No answer  Portugal  Web Developer  \n29                                          No answer  Portugal  Web Developer  \n30                                          No answer  Portugal  Web Developer  ",
      "text/html": "<div>\n<style scoped>\n    .dataframe tbody tr th:only-of-type {\n        vertical-align: middle;\n    }\n\n    .dataframe tbody tr th {\n        vertical-align: top;\n    }\n\n    .dataframe thead th {\n        text-align: right;\n    }\n</style>\n<table border=\"1\" class=\"dataframe\">\n  <thead>\n    <tr style=\"text-align: right;\">\n      <th></th>\n      <th>job_company</th>\n      <th>questions</th>\n      <th>answers</th>\n      <th>country</th>\n      <th>area</th>\n    </tr>\n  </thead>\n  <tbody>\n    <tr>\n      <th>0</th>\n      <td>Web Developer Junior at Prime IT was asked...</td>\n      <td>Seu eu sabia o que fazia a Prime IT</td>\n      <td>Falando o que havia lido a respeito da empresa...</td>\n      <td>Portugal</td>\n      <td>Web Developer</td>\n    </tr>\n    <tr>\n      <th>1</th>\n      <td>Web Developer at Leya was asked...</td>\n      <td>They asked all the usual job interview questio...</td>\n      <td>I wrote down the general programming logic, in...</td>\n      <td>Portugal</td>\n      <td>Web Developer</td>\n    </tr>\n    <tr>\n      <th>2</th>\n      <td>Web Developer at Landing.jobs was asked...</td>\n      <td>If I would feel Ok with unpaid extra time ever...</td>\n      <td>Obviously not.</td>\n      <td>Portugal</td>\n      <td>Web Developer</td>\n    </tr>\n    <tr>\n      <th>3</th>\n      <td>Junior Web Developer at iTGROW was asked...</td>\n      <td>Difference between foreach and map Java functions</td>\n      <td>Map returns values, foreach doesn't,...</td>\n      <td>Portugal</td>\n      <td>Web Developer</td>\n    </tr>\n    <tr>\n      <th>4</th>\n      <td>Web Developer at PDM&amp;FC was asked...</td>\n      <td>I was asked about Java and JavaScript even tho...</td>\n      <td>No answer</td>\n      <td>Portugal</td>\n      <td>Web Developer</td>\n    </tr>\n    <tr>\n      <th>5</th>\n      <td>Web Developer at Wiremaze was asked...</td>\n      <td>What's your salary expectation?</td>\n      <td>No answer</td>\n      <td>Portugal</td>\n      <td>Web Developer</td>\n    </tr>\n    <tr>\n      <th>6</th>\n      <td>Web Developer at Eticadata was asked...</td>\n      <td>Database questions, CRUD</td>\n      <td>No answer</td>\n      <td>Portugal</td>\n      <td>Web Developer</td>\n    </tr>\n    <tr>\n      <th>7</th>\n      <td>Web Developer at rVisual was asked...</td>\n      <td>they asked me to fix old broken code without b...</td>\n      <td>No answer</td>\n      <td>Portugal</td>\n      <td>Web Developer</td>\n    </tr>\n    <tr>\n      <th>8</th>\n      <td>Web Developer at Wiremaze was asked...</td>\n      <td>I was asked to do a simple HTML page, with som...</td>\n      <td>No answer</td>\n      <td>Portugal</td>\n      <td>Web Developer</td>\n    </tr>\n    <tr>\n      <th>9</th>\n      <td>Web Developer at Alter Solutions was asked...</td>\n      <td>What kind of projects that you work?</td>\n      <td>No answer</td>\n      <td>Portugal</td>\n      <td>Web Developer</td>\n    </tr>\n    <tr>\n      <th>10</th>\n      <td>Web Developer at KCS IT was asked...</td>\n      <td>Area de Preferencias? Linguagens que sentes co...</td>\n      <td>No answer</td>\n      <td>Portugal</td>\n      <td>Web Developer</td>\n    </tr>\n    <tr>\n      <th>11</th>\n      <td>Junior Web Developer at iTGROW was asked...</td>\n      <td>If I had knowlegde on design patterns and nami...</td>\n      <td>No answer</td>\n      <td>Portugal</td>\n      <td>Web Developer</td>\n    </tr>\n    <tr>\n      <th>12</th>\n      <td>Front End Web Developer at Movvo was asked...</td>\n      <td>Why do you want to work here</td>\n      <td>No answer</td>\n      <td>Portugal</td>\n      <td>Web Developer</td>\n    </tr>\n    <tr>\n      <th>13</th>\n      <td>Junior Web Developer at Bee Engineering was as...</td>\n      <td>What's your Technology Stack and future prefer...</td>\n      <td>No answer</td>\n      <td>Portugal</td>\n      <td>Web Developer</td>\n    </tr>\n    <tr>\n      <th>14</th>\n      <td>Full Stack Web Developer at Streetbees was ask...</td>\n      <td>If I really want to embrace a new challenge an...</td>\n      <td>No answer</td>\n      <td>Portugal</td>\n      <td>Web Developer</td>\n    </tr>\n    <tr>\n      <th>15</th>\n      <td>Full Stack Web Developer at ITSector was asked...</td>\n      <td>What are the SOLID principles?</td>\n      <td>No answer</td>\n      <td>Portugal</td>\n      <td>Web Developer</td>\n    </tr>\n    <tr>\n      <th>16</th>\n      <td>Full Stack Web Developer at ITSector was asked...</td>\n      <td>What are the 4 principles of Object Oriented P...</td>\n      <td>No answer</td>\n      <td>Portugal</td>\n      <td>Web Developer</td>\n    </tr>\n    <tr>\n      <th>17</th>\n      <td>Full Stack Web Developer at ITSector was asked...</td>\n      <td>What is the difference between a left, right a...</td>\n      <td>No answer</td>\n      <td>Portugal</td>\n      <td>Web Developer</td>\n    </tr>\n    <tr>\n      <th>18</th>\n      <td>Senior Web Developer at EdirectInsure Group wa...</td>\n      <td>Request to make a small changelle. Create a ta...</td>\n      <td>No answer</td>\n      <td>Portugal</td>\n      <td>Web Developer</td>\n    </tr>\n    <tr>\n      <th>19</th>\n      <td>Full Stack Web Developer at Streetbees was ask...</td>\n      <td>If I really want to embrace a new challenge an...</td>\n      <td>No answer</td>\n      <td>Portugal</td>\n      <td>Web Developer</td>\n    </tr>\n    <tr>\n      <th>20</th>\n      <td>Full Stack Web Developer at ITSector was asked...</td>\n      <td>What is the difference between an interface an...</td>\n      <td>No answer</td>\n      <td>Portugal</td>\n      <td>Web Developer</td>\n    </tr>\n    <tr>\n      <th>21</th>\n      <td>Full Stack Web Developer at ITSector was asked...</td>\n      <td>Can an abstract class be instantiated?</td>\n      <td>No answer</td>\n      <td>Portugal</td>\n      <td>Web Developer</td>\n    </tr>\n    <tr>\n      <th>22</th>\n      <td>Junior Web Developer at iTGROW was asked...</td>\n      <td>Difference between Continuous Integration and ...</td>\n      <td>No answer</td>\n      <td>Portugal</td>\n      <td>Web Developer</td>\n    </tr>\n    <tr>\n      <th>23</th>\n      <td>Junior Web Developer at iTGROW was asked...</td>\n      <td>Difference between PUT and POST</td>\n      <td>No answer</td>\n      <td>Portugal</td>\n      <td>Web Developer</td>\n    </tr>\n    <tr>\n      <th>24</th>\n      <td>Junior Web Developer at iTGROW was asked...</td>\n      <td>Difference between AngularJS and Angular2, als...</td>\n      <td>No answer</td>\n      <td>Portugal</td>\n      <td>Web Developer</td>\n    </tr>\n    <tr>\n      <th>25</th>\n      <td>Web Developer at Sam-Sys was asked...</td>\n      <td>Where you are yourself in five years</td>\n      <td>No answer</td>\n      <td>Portugal</td>\n      <td>Web Developer</td>\n    </tr>\n    <tr>\n      <th>26</th>\n      <td>Web Developer at High Creative Studio was aske...</td>\n      <td>They asked about problem solving skills.</td>\n      <td>No answer</td>\n      <td>Portugal</td>\n      <td>Web Developer</td>\n    </tr>\n    <tr>\n      <th>27</th>\n      <td>Web Developer at Novabase was asked...</td>\n      <td>In the first step there was some question, lik...</td>\n      <td>No answer</td>\n      <td>Portugal</td>\n      <td>Web Developer</td>\n    </tr>\n    <tr>\n      <th>28</th>\n      <td>Web Developer at Randstad was asked...</td>\n      <td>Why had I left my previous job in another company</td>\n      <td>No answer</td>\n      <td>Portugal</td>\n      <td>Web Developer</td>\n    </tr>\n    <tr>\n      <th>29</th>\n      <td>Web Developer at ITSector was asked...</td>\n      <td>Qual é a motivação? O seu percurso.</td>\n      <td>No answer</td>\n      <td>Portugal</td>\n      <td>Web Developer</td>\n    </tr>\n    <tr>\n      <th>30</th>\n      <td>Full Stack Web Developer at ITSector was asked...</td>\n      <td>On a blank board do a simple algorithm to find...</td>\n      <td>No answer</td>\n      <td>Portugal</td>\n      <td>Web Developer</td>\n    </tr>\n  </tbody>\n</table>\n</div>"
     },
     "metadata": {}
    }
   ],
   "source": [
    "job_title_da = 'Web Developer' ## Lets search Data analytics\n",
    "location_pt = 'Portugal' ## Lets search Data analytics\n",
    "\n",
    "data_to_csv(location_pt,interview_info(job_title_da,location_pt))"
   ]
  },
  {
   "cell_type": "code",
   "execution_count": 25,
   "metadata": {},
   "outputs": [
    {
     "output_type": "display_data",
     "data": {
      "text/plain": "1"
     },
     "metadata": {}
    },
    {
     "output_type": "display_data",
     "data": {
      "text/plain": "'UX Designer at Sport Zone was asked...'"
     },
     "metadata": {}
    },
    {
     "output_type": "display_data",
     "data": {
      "text/plain": "'Can you work under pressure?'"
     },
     "metadata": {}
    },
    {
     "output_type": "display_data",
     "data": {
      "text/plain": "'Yes.'"
     },
     "metadata": {}
    },
    {
     "output_type": "display_data",
     "data": {
      "text/plain": "2"
     },
     "metadata": {}
    },
    {
     "output_type": "display_data",
     "data": {
      "text/plain": "'UX Designer at Sport Zone was asked...'"
     },
     "metadata": {}
    },
    {
     "output_type": "display_data",
     "data": {
      "text/plain": "'Why do you want to leave you actual job?'"
     },
     "metadata": {}
    },
    {
     "output_type": "display_data",
     "data": {
      "text/plain": "'I want a new experience.'"
     },
     "metadata": {}
    },
    {
     "output_type": "display_data",
     "data": {
      "text/plain": "3"
     },
     "metadata": {}
    },
    {
     "output_type": "display_data",
     "data": {
      "text/plain": "'UX Designer at Sport Zone was asked...'"
     },
     "metadata": {}
    },
    {
     "output_type": "display_data",
     "data": {
      "text/plain": "'Talk about you and your experience.'"
     },
     "metadata": {}
    },
    {
     "output_type": "display_data",
     "data": {
      "text/plain": "'I just focused on my experience.'"
     },
     "metadata": {}
    },
    {
     "output_type": "display_data",
     "data": {
      "text/plain": "4"
     },
     "metadata": {}
    },
    {
     "output_type": "display_data",
     "data": {
      "text/plain": "'UI & UX Designer at BNP Paribas was asked...'"
     },
     "metadata": {}
    },
    {
     "output_type": "display_data",
     "data": {
      "text/plain": "'Previous experiences with data visualization'"
     },
     "metadata": {}
    },
    {
     "output_type": "display_data",
     "data": {
      "text/plain": "'No answer'"
     },
     "metadata": {}
    },
    {
     "output_type": "display_data",
     "data": {
      "text/plain": "5"
     },
     "metadata": {}
    },
    {
     "output_type": "display_data",
     "data": {
      "text/plain": "'UX Designer at Zalando was asked...'"
     },
     "metadata": {}
    },
    {
     "output_type": "display_data",
     "data": {
      "text/plain": "'The interview was more about my experience, method and processes. It was not very technical.'"
     },
     "metadata": {}
    },
    {
     "output_type": "display_data",
     "data": {
      "text/plain": "'No answer'"
     },
     "metadata": {}
    },
    {
     "output_type": "display_data",
     "data": {
      "text/plain": "6"
     },
     "metadata": {}
    },
    {
     "output_type": "display_data",
     "data": {
      "text/plain": "'UI/UX Designer at Pixelmatters was asked...'"
     },
     "metadata": {}
    },
    {
     "output_type": "display_data",
     "data": {
      "text/plain": "'What is for you/your understading of UI/UX Design?'"
     },
     "metadata": {}
    },
    {
     "output_type": "display_data",
     "data": {
      "text/plain": "'No answer'"
     },
     "metadata": {}
    },
    {
     "output_type": "display_data",
     "data": {
      "text/plain": "7"
     },
     "metadata": {}
    },
    {
     "output_type": "display_data",
     "data": {
      "text/plain": "'Ui\\\\Ux Designer at YGroup Companies was asked...'"
     },
     "metadata": {}
    },
    {
     "output_type": "display_data",
     "data": {
      "text/plain": "'If you had to validate this solution, how would you test it?'"
     },
     "metadata": {}
    },
    {
     "output_type": "display_data",
     "data": {
      "text/plain": "'No answer'"
     },
     "metadata": {}
    },
    {
     "output_type": "display_data",
     "data": {
      "text/plain": "8"
     },
     "metadata": {}
    },
    {
     "output_type": "display_data",
     "data": {
      "text/plain": "'UX Designer at Sport Zone was asked...'"
     },
     "metadata": {}
    },
    {
     "output_type": "display_data",
     "data": {
      "text/plain": "'What do you expect from this job?'"
     },
     "metadata": {}
    },
    {
     "output_type": "display_data",
     "data": {
      "text/plain": "'Be happy doing what I love to do. A fair salary. Grow as a professionnal.'"
     },
     "metadata": {}
    },
    {
     "output_type": "display_data",
     "data": {
      "text/plain": "9"
     },
     "metadata": {}
    },
    {
     "output_type": "display_data",
     "data": {
      "text/plain": "'UX Designer at Feedzai was asked...'"
     },
     "metadata": {}
    },
    {
     "output_type": "display_data",
     "data": {
      "text/plain": "'They questioned Front-End Development instead of UX Design related ones. Also almost mocked about Design Thinking.'"
     },
     "metadata": {}
    },
    {
     "output_type": "display_data",
     "data": {
      "text/plain": "'No answer'"
     },
     "metadata": {}
    },
    {
     "output_type": "display_data",
     "data": {
      "text/plain": "10"
     },
     "metadata": {}
    },
    {
     "output_type": "display_data",
     "data": {
      "text/plain": "'Sr UX Designer 2 at Springer Nature was asked...'"
     },
     "metadata": {}
    },
    {
     "output_type": "display_data",
     "data": {
      "text/plain": "'Tell me about your experience, explain your design process'"
     },
     "metadata": {}
    },
    {
     "output_type": "display_data",
     "data": {
      "text/plain": "'No answer'"
     },
     "metadata": {}
    },
    {
     "output_type": "display_data",
     "data": {
      "text/plain": "11"
     },
     "metadata": {}
    },
    {
     "output_type": "display_data",
     "data": {
      "text/plain": "'UI/UX Designer at OutSystems was asked...'"
     },
     "metadata": {}
    },
    {
     "output_type": "display_data",
     "data": {
      "text/plain": "'Describe the UX process you are aware of.'"
     },
     "metadata": {}
    },
    {
     "output_type": "display_data",
     "data": {
      "text/plain": "'No answer'"
     },
     "metadata": {}
    },
    {
     "output_type": "display_data",
     "data": {
      "text/plain": "                                         job_company  \\\n0             UX Designer at Sport Zone was asked...   \n1             UX Designer at Sport Zone was asked...   \n2             UX Designer at Sport Zone was asked...   \n3       UI & UX Designer at BNP Paribas was asked...   \n4                UX Designer at Zalando was asked...   \n5        UI/UX Designer at Pixelmatters was asked...   \n6    Ui\\Ux Designer at YGroup Companies was asked...   \n7             UX Designer at Sport Zone was asked...   \n8                UX Designer at Feedzai was asked...   \n9   Sr UX Designer 2 at Springer Nature was asked...   \n10         UI/UX Designer at OutSystems was asked...   \n\n                                            questions  \\\n0                        Can you work under pressure?   \n1            Why do you want to leave you actual job?   \n2                 Talk about you and your experience.   \n3        Previous experiences with data visualization   \n4   The interview was more about my experience, me...   \n5   What is for you/your understading of UI/UX Des...   \n6   If you had to validate this solution, how woul...   \n7                   What do you expect from this job?   \n8   They questioned Front-End Development instead ...   \n9   Tell me about your experience, explain your de...   \n10          Describe the UX process you are aware of.   \n\n                                              answers   country         area  \n0                                                Yes.  Portugal  UX Designer  \n1                            I want a new experience.  Portugal  UX Designer  \n2                    I just focused on my experience.  Portugal  UX Designer  \n3                                           No answer  Portugal  UX Designer  \n4                                           No answer  Portugal  UX Designer  \n5                                           No answer  Portugal  UX Designer  \n6                                           No answer  Portugal  UX Designer  \n7   Be happy doing what I love to do. A fair salar...  Portugal  UX Designer  \n8                                           No answer  Portugal  UX Designer  \n9                                           No answer  Portugal  UX Designer  \n10                                          No answer  Portugal  UX Designer  ",
      "text/html": "<div>\n<style scoped>\n    .dataframe tbody tr th:only-of-type {\n        vertical-align: middle;\n    }\n\n    .dataframe tbody tr th {\n        vertical-align: top;\n    }\n\n    .dataframe thead th {\n        text-align: right;\n    }\n</style>\n<table border=\"1\" class=\"dataframe\">\n  <thead>\n    <tr style=\"text-align: right;\">\n      <th></th>\n      <th>job_company</th>\n      <th>questions</th>\n      <th>answers</th>\n      <th>country</th>\n      <th>area</th>\n    </tr>\n  </thead>\n  <tbody>\n    <tr>\n      <th>0</th>\n      <td>UX Designer at Sport Zone was asked...</td>\n      <td>Can you work under pressure?</td>\n      <td>Yes.</td>\n      <td>Portugal</td>\n      <td>UX Designer</td>\n    </tr>\n    <tr>\n      <th>1</th>\n      <td>UX Designer at Sport Zone was asked...</td>\n      <td>Why do you want to leave you actual job?</td>\n      <td>I want a new experience.</td>\n      <td>Portugal</td>\n      <td>UX Designer</td>\n    </tr>\n    <tr>\n      <th>2</th>\n      <td>UX Designer at Sport Zone was asked...</td>\n      <td>Talk about you and your experience.</td>\n      <td>I just focused on my experience.</td>\n      <td>Portugal</td>\n      <td>UX Designer</td>\n    </tr>\n    <tr>\n      <th>3</th>\n      <td>UI &amp; UX Designer at BNP Paribas was asked...</td>\n      <td>Previous experiences with data visualization</td>\n      <td>No answer</td>\n      <td>Portugal</td>\n      <td>UX Designer</td>\n    </tr>\n    <tr>\n      <th>4</th>\n      <td>UX Designer at Zalando was asked...</td>\n      <td>The interview was more about my experience, me...</td>\n      <td>No answer</td>\n      <td>Portugal</td>\n      <td>UX Designer</td>\n    </tr>\n    <tr>\n      <th>5</th>\n      <td>UI/UX Designer at Pixelmatters was asked...</td>\n      <td>What is for you/your understading of UI/UX Des...</td>\n      <td>No answer</td>\n      <td>Portugal</td>\n      <td>UX Designer</td>\n    </tr>\n    <tr>\n      <th>6</th>\n      <td>Ui\\Ux Designer at YGroup Companies was asked...</td>\n      <td>If you had to validate this solution, how woul...</td>\n      <td>No answer</td>\n      <td>Portugal</td>\n      <td>UX Designer</td>\n    </tr>\n    <tr>\n      <th>7</th>\n      <td>UX Designer at Sport Zone was asked...</td>\n      <td>What do you expect from this job?</td>\n      <td>Be happy doing what I love to do. A fair salar...</td>\n      <td>Portugal</td>\n      <td>UX Designer</td>\n    </tr>\n    <tr>\n      <th>8</th>\n      <td>UX Designer at Feedzai was asked...</td>\n      <td>They questioned Front-End Development instead ...</td>\n      <td>No answer</td>\n      <td>Portugal</td>\n      <td>UX Designer</td>\n    </tr>\n    <tr>\n      <th>9</th>\n      <td>Sr UX Designer 2 at Springer Nature was asked...</td>\n      <td>Tell me about your experience, explain your de...</td>\n      <td>No answer</td>\n      <td>Portugal</td>\n      <td>UX Designer</td>\n    </tr>\n    <tr>\n      <th>10</th>\n      <td>UI/UX Designer at OutSystems was asked...</td>\n      <td>Describe the UX process you are aware of.</td>\n      <td>No answer</td>\n      <td>Portugal</td>\n      <td>UX Designer</td>\n    </tr>\n  </tbody>\n</table>\n</div>"
     },
     "metadata": {}
    }
   ],
   "source": [
    "job_title_da = 'UX Designer' ## Lets search Data analytics\n",
    "location_pt = 'Portugal' ## Lets search Data analytics\n",
    "\n",
    "data_to_csv(location_pt,interview_info(job_title_da,location_pt))"
   ]
  },
  {
   "cell_type": "code",
   "execution_count": 26,
   "metadata": {},
   "outputs": [
    {
     "output_type": "display_data",
     "data": {
      "text/plain": "1"
     },
     "metadata": {}
    },
    {
     "output_type": "display_data",
     "data": {
      "text/plain": "'UI Designer at WIT Software was asked...'"
     },
     "metadata": {}
    },
    {
     "output_type": "display_data",
     "data": {
      "text/plain": "'Why do you want to join us? What motivates you?'"
     },
     "metadata": {}
    },
    {
     "output_type": "display_data",
     "data": {
      "text/plain": "'To live and learn, to contribute and to evolve, because what motivates me to do this, my children.'"
     },
     "metadata": {}
    },
    {
     "output_type": "display_data",
     "data": {
      "text/plain": "2"
     },
     "metadata": {}
    },
    {
     "output_type": "display_data",
     "data": {
      "text/plain": "'UX-UI Designer at NDrive was asked...'"
     },
     "metadata": {}
    },
    {
     "output_type": "display_data",
     "data": {
      "text/plain": "'- Why were i interested in working there and how could i bring value to the team'"
     },
     "metadata": {}
    },
    {
     "output_type": "display_data",
     "data": {
      "text/plain": "'No answer'"
     },
     "metadata": {}
    },
    {
     "output_type": "display_data",
     "data": {
      "text/plain": "3"
     },
     "metadata": {}
    },
    {
     "output_type": "display_data",
     "data": {
      "text/plain": "'UI & UX Designer at BNP Paribas was asked...'"
     },
     "metadata": {}
    },
    {
     "output_type": "display_data",
     "data": {
      "text/plain": "'Previous experiences with data visualization'"
     },
     "metadata": {}
    },
    {
     "output_type": "display_data",
     "data": {
      "text/plain": "'No answer'"
     },
     "metadata": {}
    },
    {
     "output_type": "display_data",
     "data": {
      "text/plain": "4"
     },
     "metadata": {}
    },
    {
     "output_type": "display_data",
     "data": {
      "text/plain": "'UI/UX Designer at Pixelmatters was asked...'"
     },
     "metadata": {}
    },
    {
     "output_type": "display_data",
     "data": {
      "text/plain": "'What is for you/your understading of UI/UX Design?'"
     },
     "metadata": {}
    },
    {
     "output_type": "display_data",
     "data": {
      "text/plain": "'No answer'"
     },
     "metadata": {}
    },
    {
     "output_type": "display_data",
     "data": {
      "text/plain": "5"
     },
     "metadata": {}
    },
    {
     "output_type": "display_data",
     "data": {
      "text/plain": "'Ui\\\\Ux Designer at YGroup Companies was asked...'"
     },
     "metadata": {}
    },
    {
     "output_type": "display_data",
     "data": {
      "text/plain": "'If you had to validate this solution, how would you test it?'"
     },
     "metadata": {}
    },
    {
     "output_type": "display_data",
     "data": {
      "text/plain": "'No answer'"
     },
     "metadata": {}
    },
    {
     "output_type": "display_data",
     "data": {
      "text/plain": "6"
     },
     "metadata": {}
    },
    {
     "output_type": "display_data",
     "data": {
      "text/plain": "'UX-UI Designer at BOOST IT was asked...'"
     },
     "metadata": {}
    },
    {
     "output_type": "display_data",
     "data": {
      "text/plain": "'The interview was mostly a Q&A session based on specific topics I mentioned while talking about my career path.'"
     },
     "metadata": {}
    },
    {
     "output_type": "display_data",
     "data": {
      "text/plain": "'No answer'"
     },
     "metadata": {}
    },
    {
     "output_type": "display_data",
     "data": {
      "text/plain": "7"
     },
     "metadata": {}
    },
    {
     "output_type": "display_data",
     "data": {
      "text/plain": "'User Experience/UI Designer at Blip was asked...'"
     },
     "metadata": {}
    },
    {
     "output_type": "display_data",
     "data": {
      "text/plain": "'Regular questions about your method, collaboration, background and experience.'"
     },
     "metadata": {}
    },
    {
     "output_type": "display_data",
     "data": {
      "text/plain": "'No answer'"
     },
     "metadata": {}
    },
    {
     "output_type": "display_data",
     "data": {
      "text/plain": "8"
     },
     "metadata": {}
    },
    {
     "output_type": "display_data",
     "data": {
      "text/plain": "'UI/UX Designer at OutSystems was asked...'"
     },
     "metadata": {}
    },
    {
     "output_type": "display_data",
     "data": {
      "text/plain": "'Describe the UX process you are aware of.'"
     },
     "metadata": {}
    },
    {
     "output_type": "display_data",
     "data": {
      "text/plain": "'No answer'"
     },
     "metadata": {}
    },
    {
     "output_type": "display_data",
     "data": {
      "text/plain": "                                        job_company  \\\n0          UI Designer at WIT Software was asked...   \n1             UX-UI Designer at NDrive was asked...   \n2      UI & UX Designer at BNP Paribas was asked...   \n3       UI/UX Designer at Pixelmatters was asked...   \n4   Ui\\Ux Designer at YGroup Companies was asked...   \n5           UX-UI Designer at BOOST IT was asked...   \n6  User Experience/UI Designer at Blip was asked...   \n7         UI/UX Designer at OutSystems was asked...   \n\n                                           questions  \\\n0    Why do you want to join us? What motivates you?   \n1  - Why were i interested in working there and h...   \n2       Previous experiences with data visualization   \n3  What is for you/your understading of UI/UX Des...   \n4  If you had to validate this solution, how woul...   \n5  The interview was mostly a Q&A session based o...   \n6  Regular questions about your method, collabora...   \n7          Describe the UX process you are aware of.   \n\n                                             answers   country         area  \n0  To live and learn, to contribute and to evolve...  Portugal  UI Designer  \n1                                          No answer  Portugal  UI Designer  \n2                                          No answer  Portugal  UI Designer  \n3                                          No answer  Portugal  UI Designer  \n4                                          No answer  Portugal  UI Designer  \n5                                          No answer  Portugal  UI Designer  \n6                                          No answer  Portugal  UI Designer  \n7                                          No answer  Portugal  UI Designer  ",
      "text/html": "<div>\n<style scoped>\n    .dataframe tbody tr th:only-of-type {\n        vertical-align: middle;\n    }\n\n    .dataframe tbody tr th {\n        vertical-align: top;\n    }\n\n    .dataframe thead th {\n        text-align: right;\n    }\n</style>\n<table border=\"1\" class=\"dataframe\">\n  <thead>\n    <tr style=\"text-align: right;\">\n      <th></th>\n      <th>job_company</th>\n      <th>questions</th>\n      <th>answers</th>\n      <th>country</th>\n      <th>area</th>\n    </tr>\n  </thead>\n  <tbody>\n    <tr>\n      <th>0</th>\n      <td>UI Designer at WIT Software was asked...</td>\n      <td>Why do you want to join us? What motivates you?</td>\n      <td>To live and learn, to contribute and to evolve...</td>\n      <td>Portugal</td>\n      <td>UI Designer</td>\n    </tr>\n    <tr>\n      <th>1</th>\n      <td>UX-UI Designer at NDrive was asked...</td>\n      <td>- Why were i interested in working there and h...</td>\n      <td>No answer</td>\n      <td>Portugal</td>\n      <td>UI Designer</td>\n    </tr>\n    <tr>\n      <th>2</th>\n      <td>UI &amp; UX Designer at BNP Paribas was asked...</td>\n      <td>Previous experiences with data visualization</td>\n      <td>No answer</td>\n      <td>Portugal</td>\n      <td>UI Designer</td>\n    </tr>\n    <tr>\n      <th>3</th>\n      <td>UI/UX Designer at Pixelmatters was asked...</td>\n      <td>What is for you/your understading of UI/UX Des...</td>\n      <td>No answer</td>\n      <td>Portugal</td>\n      <td>UI Designer</td>\n    </tr>\n    <tr>\n      <th>4</th>\n      <td>Ui\\Ux Designer at YGroup Companies was asked...</td>\n      <td>If you had to validate this solution, how woul...</td>\n      <td>No answer</td>\n      <td>Portugal</td>\n      <td>UI Designer</td>\n    </tr>\n    <tr>\n      <th>5</th>\n      <td>UX-UI Designer at BOOST IT was asked...</td>\n      <td>The interview was mostly a Q&amp;A session based o...</td>\n      <td>No answer</td>\n      <td>Portugal</td>\n      <td>UI Designer</td>\n    </tr>\n    <tr>\n      <th>6</th>\n      <td>User Experience/UI Designer at Blip was asked...</td>\n      <td>Regular questions about your method, collabora...</td>\n      <td>No answer</td>\n      <td>Portugal</td>\n      <td>UI Designer</td>\n    </tr>\n    <tr>\n      <th>7</th>\n      <td>UI/UX Designer at OutSystems was asked...</td>\n      <td>Describe the UX process you are aware of.</td>\n      <td>No answer</td>\n      <td>Portugal</td>\n      <td>UI Designer</td>\n    </tr>\n  </tbody>\n</table>\n</div>"
     },
     "metadata": {}
    }
   ],
   "source": [
    "job_title_da = 'UI Designer' ## Lets search Data analytics\n",
    "location_pt = 'Portugal' ## Lets search Data analytics\n",
    "\n",
    "data_to_csv(location_pt,interview_info(job_title_da,location_pt))"
   ]
  },
  {
   "cell_type": "code",
   "execution_count": 17,
   "metadata": {},
   "outputs": [
    {
     "output_type": "display_data",
     "data": {
      "text/plain": "1"
     },
     "metadata": {}
    },
    {
     "output_type": "display_data",
     "data": {
      "text/plain": "'Data Analyst at Electronic Arts was asked...'"
     },
     "metadata": {}
    },
    {
     "output_type": "display_data",
     "data": {
      "text/plain": "'What was one of the biggest challenge on your last work? Are you more an analytical or creative person?'"
     },
     "metadata": {}
    },
    {
     "output_type": "display_data",
     "data": {
      "text/plain": "'I answered with a challenge I had when I had to start a unit from scratch.'"
     },
     "metadata": {}
    },
    {
     "output_type": "display_data",
     "data": {
      "text/plain": "2"
     },
     "metadata": {}
    },
    {
     "output_type": "display_data",
     "data": {
      "text/plain": "'Business Intelligence and Data Science Analyst at Atrapalo was asked...'"
     },
     "metadata": {}
    },
    {
     "output_type": "display_data",
     "data": {
      "text/plain": "'How many universes did I managed'"
     },
     "metadata": {}
    },
    {
     "output_type": "display_data",
     "data": {
      "text/plain": "'Really I have enough with mine ;)'"
     },
     "metadata": {}
    },
    {
     "output_type": "display_data",
     "data": {
      "text/plain": "3"
     },
     "metadata": {}
    },
    {
     "output_type": "display_data",
     "data": {
      "text/plain": "'Data Scientist at Typeform was asked...'"
     },
     "metadata": {}
    },
    {
     "output_type": "display_data",
     "data": {
      "text/plain": "'How experienced are you with SQL?'"
     },
     "metadata": {}
    },
    {
     "output_type": "display_data",
     "data": {
      "text/plain": "'Sounds about right -- shady company.'"
     },
     "metadata": {}
    },
    {
     "output_type": "display_data",
     "data": {
      "text/plain": "4"
     },
     "metadata": {}
    },
    {
     "output_type": "display_data",
     "data": {
      "text/plain": "'Data Scientist at King was asked...'"
     },
     "metadata": {}
    },
    {
     "output_type": "display_data",
     "data": {
      "text/plain": "'How would you implement a factorial function with no for loops?'"
     },
     "metadata": {}
    },
    {
     "output_type": "display_data",
     "data": {
      "text/plain": "'Recursion function factorial(n) { if n = 0 return 1 else return n * factorial(n-1) }'"
     },
     "metadata": {}
    },
    {
     "output_type": "display_data",
     "data": {
      "text/plain": "5"
     },
     "metadata": {}
    },
    {
     "output_type": "display_data",
     "data": {
      "text/plain": "'Data Analyst/Data Scientist at Boston Consulting Group was asked...'"
     },
     "metadata": {}
    },
    {
     "output_type": "display_data",
     "data": {
      "text/plain": "'Specific bussiness related questions to a case problem about airlines competition between companies.'"
     },
     "metadata": {}
    },
    {
     "output_type": "display_data",
     "data": {
      "text/plain": "'Calculations. You only have 1:30 seconds per question and I answered less than half of the questions'"
     },
     "metadata": {}
    },
    {
     "output_type": "display_data",
     "data": {
      "text/plain": "6"
     },
     "metadata": {}
    },
    {
     "output_type": "display_data",
     "data": {
      "text/plain": "'Junior Data Analyst at Criteo was asked...'"
     },
     "metadata": {}
    },
    {
     "output_type": "display_data",
     "data": {
      "text/plain": "'How many mattresses have been sold in UK over the past year?'"
     },
     "metadata": {}
    },
    {
     "output_type": "display_data",
     "data": {
      "text/plain": "'I calculated'"
     },
     "metadata": {}
    },
    {
     "output_type": "display_data",
     "data": {
      "text/plain": "7"
     },
     "metadata": {}
    },
    {
     "output_type": "display_data",
     "data": {
      "text/plain": "'Data Analyst, Business Analyst at Criteo was asked...'"
     },
     "metadata": {}
    },
    {
     "output_type": "display_data",
     "data": {
      "text/plain": "'Guessitmation Question--- How many mattress are sold in the UK each year?'"
     },
     "metadata": {}
    },
    {
     "output_type": "display_data",
     "data": {
      "text/plain": "'No answer'"
     },
     "metadata": {}
    },
    {
     "output_type": "display_data",
     "data": {
      "text/plain": "8"
     },
     "metadata": {}
    },
    {
     "output_type": "display_data",
     "data": {
      "text/plain": "'Data Analyst at Accenture was asked...'"
     },
     "metadata": {}
    },
    {
     "output_type": "display_data",
     "data": {
      "text/plain": "'Where do you see yourself in 5 years'"
     },
     "metadata": {}
    },
    {
     "output_type": "display_data",
     "data": {
      "text/plain": "'No answer'"
     },
     "metadata": {}
    },
    {
     "output_type": "display_data",
     "data": {
      "text/plain": "9"
     },
     "metadata": {}
    },
    {
     "output_type": "display_data",
     "data": {
      "text/plain": "'Consultant, Data Analyst at SDG Group was asked...'"
     },
     "metadata": {}
    },
    {
     "output_type": "display_data",
     "data": {
      "text/plain": "'Que te ha hecho apuntarte en esta oferta?'"
     },
     "metadata": {}
    },
    {
     "output_type": "display_data",
     "data": {
      "text/plain": "'por mi futuro laboral'"
     },
     "metadata": {}
    },
    {
     "output_type": "display_data",
     "data": {
      "text/plain": "10"
     },
     "metadata": {}
    },
    {
     "output_type": "display_data",
     "data": {
      "text/plain": "'Senior Data Analyst at McKinsey & Company was asked...'"
     },
     "metadata": {}
    },
    {
     "output_type": "display_data",
     "data": {
      "text/plain": "'There was an unexpected math test after the PST which was difficult for someone who has not done permutations and whatnot in a while.'"
     },
     "metadata": {}
    },
    {
     "output_type": "display_data",
     "data": {
      "text/plain": "'Still waiting for first round.'"
     },
     "metadata": {}
    },
    {
     "output_type": "display_data",
     "data": {
      "text/plain": "11"
     },
     "metadata": {}
    },
    {
     "output_type": "display_data",
     "data": {
      "text/plain": "'HR Reward & Data Analyst at TravelPerk was asked...'"
     },
     "metadata": {}
    },
    {
     "output_type": "display_data",
     "data": {
      "text/plain": "'Sounds that you are happy in your current company, why do you really want to join TK?'"
     },
     "metadata": {}
    },
    {
     "output_type": "display_data",
     "data": {
      "text/plain": "''"
     },
     "metadata": {}
    },
    {
     "output_type": "display_data",
     "data": {
      "text/plain": "12"
     },
     "metadata": {}
    },
    {
     "output_type": "display_data",
     "data": {
      "text/plain": "'Data Analyst at Glovo was asked...'"
     },
     "metadata": {}
    },
    {
     "output_type": "display_data",
     "data": {
      "text/plain": "'Puedes explicar el código que escribiste?'"
     },
     "metadata": {}
    },
    {
     "output_type": "display_data",
     "data": {
      "text/plain": "'Sustentar lo que se hizo.'"
     },
     "metadata": {}
    },
    {
     "output_type": "display_data",
     "data": {
      "text/plain": "13"
     },
     "metadata": {}
    },
    {
     "output_type": "display_data",
     "data": {
      "text/plain": "'Data Scientist at Accenture was asked...'"
     },
     "metadata": {}
    },
    {
     "output_type": "display_data",
     "data": {
      "text/plain": "'What is your familiarity with statistical methods and passed projects ?'"
     },
     "metadata": {}
    },
    {
     "output_type": "display_data",
     "data": {
      "text/plain": "'Naming some previous work, studies and methods I used in my work. Bayesian networks, Some example of optimization problems.'"
     },
     "metadata": {}
    },
    {
     "output_type": "display_data",
     "data": {
      "text/plain": "14"
     },
     "metadata": {}
    },
    {
     "output_type": "display_data",
     "data": {
      "text/plain": "'Intern data scientist at ExoClick was asked...'"
     },
     "metadata": {}
    },
    {
     "output_type": "display_data",
     "data": {
      "text/plain": "'Analyse a dataset of views per ad_type, and predict the eCPM for the next days.'"
     },
     "metadata": {}
    },
    {
     "output_type": "display_data",
     "data": {
      "text/plain": "'Use time series analysis.'"
     },
     "metadata": {}
    },
    {
     "output_type": "display_data",
     "data": {
      "text/plain": "15"
     },
     "metadata": {}
    },
    {
     "output_type": "display_data",
     "data": {
      "text/plain": "'Data Analyst at Amazon was asked...'"
     },
     "metadata": {}
    },
    {
     "output_type": "display_data",
     "data": {
      "text/plain": "'1)What do you do when a customer is not satisfied with a company product? ( I would be very happy if somebody tells me the relationship between the position title and the question) 2) What is the KNN in the machine learning? (Very funny) 3) Do you help other employees if needed?'"
     },
     "metadata": {}
    },
    {
     "output_type": "display_data",
     "data": {
      "text/plain": "'They are testing you on their first principle, which is \"Customer Obsession\". It\\'s about how much value you give to the customer experience, the end customer can also be a client here.'"
     },
     "metadata": {}
    },
    {
     "output_type": "display_data",
     "data": {
      "text/plain": "16"
     },
     "metadata": {}
    },
    {
     "output_type": "display_data",
     "data": {
      "text/plain": "'Data Scientist at Trovit was asked...'"
     },
     "metadata": {}
    },
    {
     "output_type": "display_data",
     "data": {
      "text/plain": "'How do you think your skills are useful to the position?'"
     },
     "metadata": {}
    },
    {
     "output_type": "display_data",
     "data": {
      "text/plain": "'I come from a research institution and the position, although slightly different from my background, was a applied research position. Personally, I think the skills I gained during my Ph.D. and postdoc completely suit the demands of the company since it is a job I have done already.'"
     },
     "metadata": {}
    },
    {
     "output_type": "display_data",
     "data": {
      "text/plain": "17"
     },
     "metadata": {}
    },
    {
     "output_type": "display_data",
     "data": {
      "text/plain": "'Data Analyst at Center for Genomic Regulation was asked...'"
     },
     "metadata": {}
    },
    {
     "output_type": "display_data",
     "data": {
      "text/plain": "\"There was some question for doing something on computer, but they didn't give me a prepared one for that, I had to use my own laptop, most time spent on download necessary stuff, didn't finish the task.\""
     },
     "metadata": {}
    },
    {
     "output_type": "display_data",
     "data": {
      "text/plain": "'Except the one where I had to use my laptop, all answered ARAIR.'"
     },
     "metadata": {}
    },
    {
     "output_type": "display_data",
     "data": {
      "text/plain": "18"
     },
     "metadata": {}
    },
    {
     "output_type": "display_data",
     "data": {
      "text/plain": "'Data Scientist at EY was asked...'"
     },
     "metadata": {}
    },
    {
     "output_type": "display_data",
     "data": {
      "text/plain": "'¿Como consideras tu nivel de inglés?'"
     },
     "metadata": {}
    },
    {
     "output_type": "display_data",
     "data": {
      "text/plain": "'Nivel intermedio'"
     },
     "metadata": {}
    },
    {
     "output_type": "display_data",
     "data": {
      "text/plain": "19"
     },
     "metadata": {}
    },
    {
     "output_type": "display_data",
     "data": {
      "text/plain": "'Game Data Scientist/Analyst at Socialpoint was asked...'"
     },
     "metadata": {}
    },
    {
     "output_type": "display_data",
     "data": {
      "text/plain": "'Why am I interested in this role at this company? They wanted to make sure I was passionate about the industry.'"
     },
     "metadata": {}
    },
    {
     "output_type": "display_data",
     "data": {
      "text/plain": "'With sincerity. I love video games and data science, so the position and company were great fits.'"
     },
     "metadata": {}
    },
    {
     "output_type": "display_data",
     "data": {
      "text/plain": "20"
     },
     "metadata": {}
    },
    {
     "output_type": "display_data",
     "data": {
      "text/plain": "'Senior Data Scientist at Glovo was asked...'"
     },
     "metadata": {}
    },
    {
     "output_type": "display_data",
     "data": {
      "text/plain": "'How would you evaluate a forecast'"
     },
     "metadata": {}
    },
    {
     "output_type": "display_data",
     "data": {
      "text/plain": "'depending on the forecasting: Mainly there are 2 kinds (there are more) of forecasting, a numerical( a real number) or categorical (True/False). * for numerical forecasting the most usual metric is RMSE [Root Mean Square Error] * for categorical the most common one is AUC-ROC or AUC [Area Under the Curve of Recovery Operating Characteristic]'"
     },
     "metadata": {}
    },
    {
     "output_type": "display_data",
     "data": {
      "text/plain": "21"
     },
     "metadata": {}
    },
    {
     "output_type": "display_data",
     "data": {
      "text/plain": "'Senior Data Scientist at Glovo was asked...'"
     },
     "metadata": {}
    },
    {
     "output_type": "display_data",
     "data": {
      "text/plain": "'How would you evaluate a forecast'"
     },
     "metadata": {}
    },
    {
     "output_type": "display_data",
     "data": {
      "text/plain": "''"
     },
     "metadata": {}
    },
    {
     "output_type": "display_data",
     "data": {
      "text/plain": "22"
     },
     "metadata": {}
    },
    {
     "output_type": "display_data",
     "data": {
      "text/plain": "'Senior Data Scientist at NTT Ltd. was asked...'"
     },
     "metadata": {}
    },
    {
     "output_type": "display_data",
     "data": {
      "text/plain": "'As I said before solve problems of nested list, pointers in C++, bayesian and deep learning and its mathematical details.'"
     },
     "metadata": {}
    },
    {
     "output_type": "display_data",
     "data": {
      "text/plain": "'Text books answers, that usually are not used in real life problems. But they ask a lot details in the mathematical approach, equations (write them in a white board)'"
     },
     "metadata": {}
    },
    {
     "output_type": "display_data",
     "data": {
      "text/plain": "23"
     },
     "metadata": {}
    },
    {
     "output_type": "display_data",
     "data": {
      "text/plain": "'Data Analyst at YGroup Companies was asked...'"
     },
     "metadata": {}
    },
    {
     "output_type": "display_data",
     "data": {
      "text/plain": "'Cuantos gramos de jamon serrano se cosumieron en España el 24 de diciembre ? Una marca de bolsos vende en todo España y quiere crecer en su venta online, como le hace?'"
     },
     "metadata": {}
    },
    {
     "output_type": "display_data",
     "data": {
      "text/plain": "'No answer'"
     },
     "metadata": {}
    },
    {
     "output_type": "display_data",
     "data": {
      "text/plain": "24"
     },
     "metadata": {}
    },
    {
     "output_type": "display_data",
     "data": {
      "text/plain": "'Data Scientist at Endesa S.A. was asked...'"
     },
     "metadata": {}
    },
    {
     "output_type": "display_data",
     "data": {
      "text/plain": "'Preguntas del tipo que has estudiado, por que te interesa la compañia, que conoces de la compañia...'"
     },
     "metadata": {}
    },
    {
     "output_type": "display_data",
     "data": {
      "text/plain": "'No answer'"
     },
     "metadata": {}
    },
    {
     "output_type": "display_data",
     "data": {
      "text/plain": "25"
     },
     "metadata": {}
    },
    {
     "output_type": "display_data",
     "data": {
      "text/plain": "'Data Analyst at YGroup was asked...'"
     },
     "metadata": {}
    },
    {
     "output_type": "display_data",
     "data": {
      "text/plain": "'Experiencia previa como consultor. Adaptacion de mis proyectos a la realidad de la pandemia'"
     },
     "metadata": {}
    },
    {
     "output_type": "display_data",
     "data": {
      "text/plain": "'No answer'"
     },
     "metadata": {}
    },
    {
     "output_type": "display_data",
     "data": {
      "text/plain": "26"
     },
     "metadata": {}
    },
    {
     "output_type": "display_data",
     "data": {
      "text/plain": "'Junior Data Analyst at 360 Talent Acquisition was asked...'"
     },
     "metadata": {}
    },
    {
     "output_type": "display_data",
     "data": {
      "text/plain": "'No llegué a avanzar la entrevista. Muy maleducados.'"
     },
     "metadata": {}
    },
    {
     "output_type": "display_data",
     "data": {
      "text/plain": "'No answer'"
     },
     "metadata": {}
    },
    {
     "output_type": "display_data",
     "data": {
      "text/plain": "27"
     },
     "metadata": {}
    },
    {
     "output_type": "display_data",
     "data": {
      "text/plain": "'Data Science at S2 Grupo was asked...'"
     },
     "metadata": {}
    },
    {
     "output_type": "display_data",
     "data": {
      "text/plain": "'Deep knowledge of fundamentals of machine learning, data mining and statistical predictive modeling, and extensive experience applying these methods to real world problems Strong skills in software prototyping and engineering with expertise in applicable programming and analytics languages (Python, R, C/C++) and various open source machine learning and analytics packages to generate deliverable modules and prototype demonstrations of their work Desired interdisciplinary skills include big data technologies, ETL, statistics and causal inference, Deep Learning, modeling and simulation Breadth of skills and experience in machine learning diverse types of data, diverse data sources, dfferent types of learning models, diverse learning settings Ability and inclination to work in multi-disciplinary environments, and desire to see ideas realized in practice Experience and knowledge in services domains such as business process outsourcing systems, transportation systems, healthcare systems and financial services is valued Demonstrated ability to propose novel solutions to problems, performing experiments to show feasibility of their solutions and working to refine the solutions into a real-world context Strong analytical, written, and verbal communication skills'"
     },
     "metadata": {}
    },
    {
     "output_type": "display_data",
     "data": {
      "text/plain": "'No answer'"
     },
     "metadata": {}
    },
    {
     "output_type": "display_data",
     "data": {
      "text/plain": "28"
     },
     "metadata": {}
    },
    {
     "output_type": "display_data",
     "data": {
      "text/plain": "'Data Scientist at McKinsey & Company was asked...'"
     },
     "metadata": {}
    },
    {
     "output_type": "display_data",
     "data": {
      "text/plain": "'Sobre experiencias pasadas, relacionadas con trabajos anteriores.'"
     },
     "metadata": {}
    },
    {
     "output_type": "display_data",
     "data": {
      "text/plain": "'No answer'"
     },
     "metadata": {}
    },
    {
     "output_type": "display_data",
     "data": {
      "text/plain": "29"
     },
     "metadata": {}
    },
    {
     "output_type": "display_data",
     "data": {
      "text/plain": "'Data Scientist at McKinsey & Company was asked...'"
     },
     "metadata": {}
    },
    {
     "output_type": "display_data",
     "data": {
      "text/plain": "'Short programming questions. Multiple choice, reoder code, complete code, etc.'"
     },
     "metadata": {}
    },
    {
     "output_type": "display_data",
     "data": {
      "text/plain": "'No answer'"
     },
     "metadata": {}
    },
    {
     "output_type": "display_data",
     "data": {
      "text/plain": "30"
     },
     "metadata": {}
    },
    {
     "output_type": "display_data",
     "data": {
      "text/plain": "'Data Scientist at McKinsey & Company was asked...'"
     },
     "metadata": {}
    },
    {
     "output_type": "display_data",
     "data": {
      "text/plain": "'Preguntas generales en la entrevista telefonica y preguntas técnicas matematicas, estadistica, programacion en python en hackerrank'"
     },
     "metadata": {}
    },
    {
     "output_type": "display_data",
     "data": {
      "text/plain": "'No answer'"
     },
     "metadata": {}
    },
    {
     "output_type": "display_data",
     "data": {
      "text/plain": "31"
     },
     "metadata": {}
    },
    {
     "output_type": "display_data",
     "data": {
      "text/plain": "'Data Analyst at Basebone was asked...'"
     },
     "metadata": {}
    },
    {
     "output_type": "display_data",
     "data": {
      "text/plain": "'Are you a BDA? Would you administer Cassandra? What is the most difficult part of data analysis?'"
     },
     "metadata": {}
    },
    {
     "output_type": "display_data",
     "data": {
      "text/plain": "'No answer'"
     },
     "metadata": {}
    },
    {
     "output_type": "display_data",
     "data": {
      "text/plain": "32"
     },
     "metadata": {}
    },
    {
     "output_type": "display_data",
     "data": {
      "text/plain": "'Data Analyst at Basebone was asked...'"
     },
     "metadata": {}
    },
    {
     "output_type": "display_data",
     "data": {
      "text/plain": "'Do you mind to work in a fast changing environment?'"
     },
     "metadata": {}
    },
    {
     "output_type": "display_data",
     "data": {
      "text/plain": "'No answer'"
     },
     "metadata": {}
    },
    {
     "output_type": "display_data",
     "data": {
      "text/plain": "33"
     },
     "metadata": {}
    },
    {
     "output_type": "display_data",
     "data": {
      "text/plain": "'Data Scientist at Cabify was asked...'"
     },
     "metadata": {}
    },
    {
     "output_type": "display_data",
     "data": {
      "text/plain": "'Design an A/B test for a real scenario.'"
     },
     "metadata": {}
    },
    {
     "output_type": "display_data",
     "data": {
      "text/plain": "'No answer'"
     },
     "metadata": {}
    },
    {
     "output_type": "display_data",
     "data": {
      "text/plain": "34"
     },
     "metadata": {}
    },
    {
     "output_type": "display_data",
     "data": {
      "text/plain": "'Data Scientist at Cabify was asked...'"
     },
     "metadata": {}
    },
    {
     "output_type": "display_data",
     "data": {
      "text/plain": "'Describe the last project you were involved in.'"
     },
     "metadata": {}
    },
    {
     "output_type": "display_data",
     "data": {
      "text/plain": "'No answer'"
     },
     "metadata": {}
    },
    {
     "output_type": "display_data",
     "data": {
      "text/plain": "35"
     },
     "metadata": {}
    },
    {
     "output_type": "display_data",
     "data": {
      "text/plain": "'Data Scientist at ExoClick was asked...'"
     },
     "metadata": {}
    },
    {
     "output_type": "display_data",
     "data": {
      "text/plain": "'They gave me a simple dataset and a recipe to do something'"
     },
     "metadata": {}
    },
    {
     "output_type": "display_data",
     "data": {
      "text/plain": "'No answer'"
     },
     "metadata": {}
    },
    {
     "output_type": "display_data",
     "data": {
      "text/plain": "36"
     },
     "metadata": {}
    },
    {
     "output_type": "display_data",
     "data": {
      "text/plain": "'Data Scientist at Typeform was asked...'"
     },
     "metadata": {}
    },
    {
     "output_type": "display_data",
     "data": {
      "text/plain": "'Two typical questions to check coding skills involving logic implementation to solve a problem with lists/strings etc'"
     },
     "metadata": {}
    },
    {
     "output_type": "display_data",
     "data": {
      "text/plain": "'No answer'"
     },
     "metadata": {}
    },
    {
     "output_type": "display_data",
     "data": {
      "text/plain": "37"
     },
     "metadata": {}
    },
    {
     "output_type": "display_data",
     "data": {
      "text/plain": "'Data Analyst at Atmira was asked...'"
     },
     "metadata": {}
    },
    {
     "output_type": "display_data",
     "data": {
      "text/plain": "'¿Hasta donde dominas de Qlik? ¿Qué conoces de la herramienta?'"
     },
     "metadata": {}
    },
    {
     "output_type": "display_data",
     "data": {
      "text/plain": "'No answer'"
     },
     "metadata": {}
    },
    {
     "output_type": "display_data",
     "data": {
      "text/plain": "38"
     },
     "metadata": {}
    },
    {
     "output_type": "display_data",
     "data": {
      "text/plain": "'Data Analyst at Apple was asked...'"
     },
     "metadata": {}
    },
    {
     "output_type": "display_data",
     "data": {
      "text/plain": "'- How do you keep motivated when you are doing a repetitive task? - What do you think about AI? - What do you do when you join a new team?'"
     },
     "metadata": {}
    },
    {
     "output_type": "display_data",
     "data": {
      "text/plain": "'No answer'"
     },
     "metadata": {}
    },
    {
     "output_type": "display_data",
     "data": {
      "text/plain": "39"
     },
     "metadata": {}
    },
    {
     "output_type": "display_data",
     "data": {
      "text/plain": "'Data Scientist at King was asked...'"
     },
     "metadata": {}
    },
    {
     "output_type": "display_data",
     "data": {
      "text/plain": "'Which coding practices make a good code?'"
     },
     "metadata": {}
    },
    {
     "output_type": "display_data",
     "data": {
      "text/plain": "'No answer'"
     },
     "metadata": {}
    },
    {
     "output_type": "display_data",
     "data": {
      "text/plain": "40"
     },
     "metadata": {}
    },
    {
     "output_type": "display_data",
     "data": {
      "text/plain": "'Data Science Intern at King was asked...'"
     },
     "metadata": {}
    },
    {
     "output_type": "display_data",
     "data": {
      "text/plain": "'How would the distribution of Candy Crush players over the levels of the game look like?'"
     },
     "metadata": {}
    },
    {
     "output_type": "display_data",
     "data": {
      "text/plain": "'No answer'"
     },
     "metadata": {}
    },
    {
     "output_type": "display_data",
     "data": {
      "text/plain": "41"
     },
     "metadata": {}
    },
    {
     "output_type": "display_data",
     "data": {
      "text/plain": "'Data Scientist at King was asked...'"
     },
     "metadata": {}
    },
    {
     "output_type": "display_data",
     "data": {
      "text/plain": "'All questions I got have already been posted.'"
     },
     "metadata": {}
    },
    {
     "output_type": "display_data",
     "data": {
      "text/plain": "'No answer'"
     },
     "metadata": {}
    },
    {
     "output_type": "display_data",
     "data": {
      "text/plain": "42"
     },
     "metadata": {}
    },
    {
     "output_type": "display_data",
     "data": {
      "text/plain": "'Data Scientist at King was asked...'"
     },
     "metadata": {}
    },
    {
     "output_type": "display_data",
     "data": {
      "text/plain": "'Which coding practices make a good code?'"
     },
     "metadata": {}
    },
    {
     "output_type": "display_data",
     "data": {
      "text/plain": "'No answer'"
     },
     "metadata": {}
    },
    {
     "output_type": "display_data",
     "data": {
      "text/plain": "43"
     },
     "metadata": {}
    },
    {
     "output_type": "display_data",
     "data": {
      "text/plain": "'Data Science Intern at King was asked...'"
     },
     "metadata": {}
    },
    {
     "output_type": "display_data",
     "data": {
      "text/plain": "'How would the distribution of Candy Crush players over the levels of the game look like?'"
     },
     "metadata": {}
    },
    {
     "output_type": "display_data",
     "data": {
      "text/plain": "'No answer'"
     },
     "metadata": {}
    },
    {
     "output_type": "display_data",
     "data": {
      "text/plain": "44"
     },
     "metadata": {}
    },
    {
     "output_type": "display_data",
     "data": {
      "text/plain": "'Data Analyst at Returnly was asked...'"
     },
     "metadata": {}
    },
    {
     "output_type": "display_data",
     "data": {
      "text/plain": "'- Test on Stats and SQL - An assignment was given , it had the data for a particular merchant, you have to analyse their data and finally make a presentation to convince the merchant by making him see the value added by returnly to his business'"
     },
     "metadata": {}
    },
    {
     "output_type": "display_data",
     "data": {
      "text/plain": "'No answer'"
     },
     "metadata": {}
    },
    {
     "output_type": "display_data",
     "data": {
      "text/plain": "45"
     },
     "metadata": {}
    },
    {
     "output_type": "display_data",
     "data": {
      "text/plain": "'Data Analyst at Qustodio was asked...'"
     },
     "metadata": {}
    },
    {
     "output_type": "display_data",
     "data": {
      "text/plain": "'How does a Random Forest make each tree unique'"
     },
     "metadata": {}
    },
    {
     "output_type": "display_data",
     "data": {
      "text/plain": "'No answer'"
     },
     "metadata": {}
    },
    {
     "output_type": "display_data",
     "data": {
      "text/plain": "46"
     },
     "metadata": {}
    },
    {
     "output_type": "display_data",
     "data": {
      "text/plain": "'Data Analyst at Preply was asked...'"
     },
     "metadata": {}
    },
    {
     "output_type": "display_data",
     "data": {
      "text/plain": "'How do you solve problems?'"
     },
     "metadata": {}
    },
    {
     "output_type": "display_data",
     "data": {
      "text/plain": "'No answer'"
     },
     "metadata": {}
    },
    {
     "output_type": "display_data",
     "data": {
      "text/plain": "47"
     },
     "metadata": {}
    },
    {
     "output_type": "display_data",
     "data": {
      "text/plain": "'Game Data Analyst at Socialpoint was asked...'"
     },
     "metadata": {}
    },
    {
     "output_type": "display_data",
     "data": {
      "text/plain": "'What metrics would you use to measure user enjoyment of a new feature?'"
     },
     "metadata": {}
    },
    {
     "output_type": "display_data",
     "data": {
      "text/plain": "'No answer'"
     },
     "metadata": {}
    },
    {
     "output_type": "display_data",
     "data": {
      "text/plain": "48"
     },
     "metadata": {}
    },
    {
     "output_type": "display_data",
     "data": {
      "text/plain": "'Data Scientist at Socialpoint was asked...'"
     },
     "metadata": {}
    },
    {
     "output_type": "display_data",
     "data": {
      "text/plain": "'Given some databases write a query to extract some data in SQL.'"
     },
     "metadata": {}
    },
    {
     "output_type": "display_data",
     "data": {
      "text/plain": "'No answer'"
     },
     "metadata": {}
    },
    {
     "output_type": "display_data",
     "data": {
      "text/plain": "49"
     },
     "metadata": {}
    },
    {
     "output_type": "display_data",
     "data": {
      "text/plain": "'Junior Data Scientist at Glovo was asked...'"
     },
     "metadata": {}
    },
    {
     "output_type": "display_data",
     "data": {
      "text/plain": "'Cómo estimarías el tiempo de elaboración de un pedido y qué proceso seguirías para automatizarlo.'"
     },
     "metadata": {}
    },
    {
     "output_type": "display_data",
     "data": {
      "text/plain": "'No answer'"
     },
     "metadata": {}
    },
    {
     "output_type": "display_data",
     "data": {
      "text/plain": "50"
     },
     "metadata": {}
    },
    {
     "output_type": "display_data",
     "data": {
      "text/plain": "'Data Analyst at Glovo was asked...'"
     },
     "metadata": {}
    },
    {
     "output_type": "display_data",
     "data": {
      "text/plain": "'Por qué buscaba un cambio de trabajo?'"
     },
     "metadata": {}
    },
    {
     "output_type": "display_data",
     "data": {
      "text/plain": "'No answer'"
     },
     "metadata": {}
    },
    {
     "output_type": "display_data",
     "data": {
      "text/plain": "51"
     },
     "metadata": {}
    },
    {
     "output_type": "display_data",
     "data": {
      "text/plain": "'Data Analyst at Glovo was asked...'"
     },
     "metadata": {}
    },
    {
     "output_type": "display_data",
     "data": {
      "text/plain": "\"Questions about the CV. Then simple questions about Glovo case studies. Asked if I knew SQL, explain what's WHERE and HAVING.\""
     },
     "metadata": {}
    },
    {
     "output_type": "display_data",
     "data": {
      "text/plain": "'No answer'"
     },
     "metadata": {}
    },
    {
     "output_type": "display_data",
     "data": {
      "text/plain": "52"
     },
     "metadata": {}
    },
    {
     "output_type": "display_data",
     "data": {
      "text/plain": "'Data Analyst at Glovo was asked...'"
     },
     "metadata": {}
    },
    {
     "output_type": "display_data",
     "data": {
      "text/plain": "'Si tuvieras que descartar uno de los valores de Glovo ,cuál sería?'"
     },
     "metadata": {}
    },
    {
     "output_type": "display_data",
     "data": {
      "text/plain": "'No answer'"
     },
     "metadata": {}
    },
    {
     "output_type": "display_data",
     "data": {
      "text/plain": "53"
     },
     "metadata": {}
    },
    {
     "output_type": "display_data",
     "data": {
      "text/plain": "'Operations Data Analyst at Stuart was asked...'"
     },
     "metadata": {}
    },
    {
     "output_type": "display_data",
     "data": {
      "text/plain": "'What do you think you can offer to the team'"
     },
     "metadata": {}
    },
    {
     "output_type": "display_data",
     "data": {
      "text/plain": "'No answer'"
     },
     "metadata": {}
    },
    {
     "output_type": "display_data",
     "data": {
      "text/plain": "54"
     },
     "metadata": {}
    },
    {
     "output_type": "display_data",
     "data": {
      "text/plain": "'Data Analyst at Allianz was asked...'"
     },
     "metadata": {}
    },
    {
     "output_type": "display_data",
     "data": {
      "text/plain": "'Software: cuál uso y si tengo interés por aprender los que usan ellos.'"
     },
     "metadata": {}
    },
    {
     "output_type": "display_data",
     "data": {
      "text/plain": "'No answer'"
     },
     "metadata": {}
    },
    {
     "output_type": "display_data",
     "data": {
      "text/plain": "55"
     },
     "metadata": {}
    },
    {
     "output_type": "display_data",
     "data": {
      "text/plain": "'Language Data Analyst at TransPerfect was asked...'"
     },
     "metadata": {}
    },
    {
     "output_type": "display_data",
     "data": {
      "text/plain": "'Espectativas salariales, experiencias previas... Lo tipico.'"
     },
     "metadata": {}
    },
    {
     "output_type": "display_data",
     "data": {
      "text/plain": "'No answer'"
     },
     "metadata": {}
    },
    {
     "output_type": "display_data",
     "data": {
      "text/plain": "56"
     },
     "metadata": {}
    },
    {
     "output_type": "display_data",
     "data": {
      "text/plain": "'Internship As A Data Analyst at Amazon was asked...'"
     },
     "metadata": {}
    },
    {
     "output_type": "display_data",
     "data": {
      "text/plain": "'Tell me a time when you came up with a creative solution to a problem'"
     },
     "metadata": {}
    },
    {
     "output_type": "display_data",
     "data": {
      "text/plain": "'No answer'"
     },
     "metadata": {}
    },
    {
     "output_type": "display_data",
     "data": {
      "text/plain": "57"
     },
     "metadata": {}
    },
    {
     "output_type": "display_data",
     "data": {
      "text/plain": "'Data Scientist at BBVA was asked...'"
     },
     "metadata": {}
    },
    {
     "output_type": "display_data",
     "data": {
      "text/plain": "'Dónde te ves en 5 años?'"
     },
     "metadata": {}
    },
    {
     "output_type": "display_data",
     "data": {
      "text/plain": "'No answer'"
     },
     "metadata": {}
    },
    {
     "output_type": "display_data",
     "data": {
      "text/plain": "58"
     },
     "metadata": {}
    },
    {
     "output_type": "display_data",
     "data": {
      "text/plain": "'Data Analyst at Ecolab was asked...'"
     },
     "metadata": {}
    },
    {
     "output_type": "display_data",
     "data": {
      "text/plain": "\"How would you prefer your manager's personality to be?\""
     },
     "metadata": {}
    },
    {
     "output_type": "display_data",
     "data": {
      "text/plain": "'No answer'"
     },
     "metadata": {}
    },
    {
     "output_type": "display_data",
     "data": {
      "text/plain": "59"
     },
     "metadata": {}
    },
    {
     "output_type": "display_data",
     "data": {
      "text/plain": "'Data Analyst at Criteo was asked...'"
     },
     "metadata": {}
    },
    {
     "output_type": "display_data",
     "data": {
      "text/plain": "'I had to prepare an analytical case study'"
     },
     "metadata": {}
    },
    {
     "output_type": "display_data",
     "data": {
      "text/plain": "'No answer'"
     },
     "metadata": {}
    },
    {
     "output_type": "display_data",
     "data": {
      "text/plain": "60"
     },
     "metadata": {}
    },
    {
     "output_type": "display_data",
     "data": {
      "text/plain": "'Data Analyst at Criteo was asked...'"
     },
     "metadata": {}
    },
    {
     "output_type": "display_data",
     "data": {
      "text/plain": "\"- CV review & relevant experience - Industry questions - Criteo's business model - Brain teasers - Own motivation for the position and company\""
     },
     "metadata": {}
    },
    {
     "output_type": "display_data",
     "data": {
      "text/plain": "'No answer'"
     },
     "metadata": {}
    },
    {
     "output_type": "display_data",
     "data": {
      "text/plain": "61"
     },
     "metadata": {}
    },
    {
     "output_type": "display_data",
     "data": {
      "text/plain": "'Data Analyst at Criteo was asked...'"
     },
     "metadata": {}
    },
    {
     "output_type": "display_data",
     "data": {
      "text/plain": "'I had to prepare an analytical case study'"
     },
     "metadata": {}
    },
    {
     "output_type": "display_data",
     "data": {
      "text/plain": "'No answer'"
     },
     "metadata": {}
    },
    {
     "output_type": "display_data",
     "data": {
      "text/plain": "62"
     },
     "metadata": {}
    },
    {
     "output_type": "display_data",
     "data": {
      "text/plain": "'Data Analyst at Criteo was asked...'"
     },
     "metadata": {}
    },
    {
     "output_type": "display_data",
     "data": {
      "text/plain": "\"- CV review & relevant experience - Industry questions - Criteo's business model - Brain teasers - Own motivation for the position and company\""
     },
     "metadata": {}
    },
    {
     "output_type": "display_data",
     "data": {
      "text/plain": "'No answer'"
     },
     "metadata": {}
    },
    {
     "output_type": "display_data",
     "data": {
      "text/plain": "63"
     },
     "metadata": {}
    },
    {
     "output_type": "display_data",
     "data": {
      "text/plain": "'Data Scientist at Seedtag was asked...'"
     },
     "metadata": {}
    },
    {
     "output_type": "display_data",
     "data": {
      "text/plain": "'Lots of questions about data science (search top data science questions) and basic software engineering (HTTP, TCP, scraping, APIs)'"
     },
     "metadata": {}
    },
    {
     "output_type": "display_data",
     "data": {
      "text/plain": "'No answer'"
     },
     "metadata": {}
    },
    {
     "output_type": "display_data",
     "data": {
      "text/plain": "64"
     },
     "metadata": {}
    },
    {
     "output_type": "display_data",
     "data": {
      "text/plain": "'Data Analyst at Tinámica was asked...'"
     },
     "metadata": {}
    },
    {
     "output_type": "display_data",
     "data": {
      "text/plain": "'The resolution of some computer programming quiz'"
     },
     "metadata": {}
    },
    {
     "output_type": "display_data",
     "data": {
      "text/plain": "'No answer'"
     },
     "metadata": {}
    },
    {
     "output_type": "display_data",
     "data": {
      "text/plain": "65"
     },
     "metadata": {}
    },
    {
     "output_type": "display_data",
     "data": {
      "text/plain": "'analista de datos at everis was asked...'"
     },
     "metadata": {}
    },
    {
     "output_type": "display_data",
     "data": {
      "text/plain": "'¿Motivaciones? ¿Donde te ves en unos meses? ¿Me podrías describir el curso de tu formación y desarrollo profesional?'"
     },
     "metadata": {}
    },
    {
     "output_type": "display_data",
     "data": {
      "text/plain": "'No answer'"
     },
     "metadata": {}
    },
    {
     "output_type": "display_data",
     "data": {
      "text/plain": "66"
     },
     "metadata": {}
    },
    {
     "output_type": "display_data",
     "data": {
      "text/plain": "'Data Analyst at Basebone was asked...'"
     },
     "metadata": {}
    },
    {
     "output_type": "display_data",
     "data": {
      "text/plain": "'How do you face internal conflicts at work?'"
     },
     "metadata": {}
    },
    {
     "output_type": "display_data",
     "data": {
      "text/plain": "'No answer'"
     },
     "metadata": {}
    },
    {
     "output_type": "display_data",
     "data": {
      "text/plain": "67"
     },
     "metadata": {}
    },
    {
     "output_type": "display_data",
     "data": {
      "text/plain": "'Data Analyst at Basebone was asked...'"
     },
     "metadata": {}
    },
    {
     "output_type": "display_data",
     "data": {
      "text/plain": "\"In the case, let's say you had a kid or buy a new puppy, what do you think about asking for an unpaid leave to care bout it?\""
     },
     "metadata": {}
    },
    {
     "output_type": "display_data",
     "data": {
      "text/plain": "'No answer'"
     },
     "metadata": {}
    },
    {
     "output_type": "display_data",
     "data": {
      "text/plain": "68"
     },
     "metadata": {}
    },
    {
     "output_type": "display_data",
     "data": {
      "text/plain": "'Head of Data Science at Verse was asked...'"
     },
     "metadata": {}
    },
    {
     "output_type": "display_data",
     "data": {
      "text/plain": "'Typical: What do you master in terms of DS. What kind of projects have you worked on, communication skills based questions...'"
     },
     "metadata": {}
    },
    {
     "output_type": "display_data",
     "data": {
      "text/plain": "'No answer'"
     },
     "metadata": {}
    },
    {
     "output_type": "display_data",
     "data": {
      "text/plain": "69"
     },
     "metadata": {}
    },
    {
     "output_type": "display_data",
     "data": {
      "text/plain": "'Data Science at Typeform was asked...'"
     },
     "metadata": {}
    },
    {
     "output_type": "display_data",
     "data": {
      "text/plain": "'Some SQL, Python and logical questions, attitude screening'"
     },
     "metadata": {}
    },
    {
     "output_type": "display_data",
     "data": {
      "text/plain": "'No answer'"
     },
     "metadata": {}
    },
    {
     "output_type": "display_data",
     "data": {
      "text/plain": "70"
     },
     "metadata": {}
    },
    {
     "output_type": "display_data",
     "data": {
      "text/plain": "'Data Analyst at Atmira was asked...'"
     },
     "metadata": {}
    },
    {
     "output_type": "display_data",
     "data": {
      "text/plain": "'¿Hasta dónde dominas de R?'"
     },
     "metadata": {}
    },
    {
     "output_type": "display_data",
     "data": {
      "text/plain": "'No answer'"
     },
     "metadata": {}
    },
    {
     "output_type": "display_data",
     "data": {
      "text/plain": "71"
     },
     "metadata": {}
    },
    {
     "output_type": "display_data",
     "data": {
      "text/plain": "'Data Analyst at Returnly was asked...'"
     },
     "metadata": {}
    },
    {
     "output_type": "display_data",
     "data": {
      "text/plain": "'Bussines case relacionado con la empresa'"
     },
     "metadata": {}
    },
    {
     "output_type": "display_data",
     "data": {
      "text/plain": "'No answer'"
     },
     "metadata": {}
    },
    {
     "output_type": "display_data",
     "data": {
      "text/plain": "72"
     },
     "metadata": {}
    },
    {
     "output_type": "display_data",
     "data": {
      "text/plain": "'Data Analyst at King was asked...'"
     },
     "metadata": {}
    },
    {
     "output_type": "display_data",
     "data": {
      "text/plain": "'How would you test significance'"
     },
     "metadata": {}
    },
    {
     "output_type": "display_data",
     "data": {
      "text/plain": "'No answer'"
     },
     "metadata": {}
    },
    {
     "output_type": "display_data",
     "data": {
      "text/plain": "73"
     },
     "metadata": {}
    },
    {
     "output_type": "display_data",
     "data": {
      "text/plain": "'Data Analyst at Allianz was asked...'"
     },
     "metadata": {}
    },
    {
     "output_type": "display_data",
     "data": {
      "text/plain": "'Nivel de software (tanto desarrollo como visualización) remotamente relacionado con los que se usa en la compañía.'"
     },
     "metadata": {}
    },
    {
     "output_type": "display_data",
     "data": {
      "text/plain": "'No answer'"
     },
     "metadata": {}
    },
    {
     "output_type": "display_data",
     "data": {
      "text/plain": "74"
     },
     "metadata": {}
    },
    {
     "output_type": "display_data",
     "data": {
      "text/plain": "'Data Analyst at Glovo was asked...'"
     },
     "metadata": {}
    },
    {
     "output_type": "display_data",
     "data": {
      "text/plain": "'Preguntas técncicas concretas sobre SQL'"
     },
     "metadata": {}
    },
    {
     "output_type": "display_data",
     "data": {
      "text/plain": "'No answer'"
     },
     "metadata": {}
    },
    {
     "output_type": "display_data",
     "data": {
      "text/plain": "75"
     },
     "metadata": {}
    },
    {
     "output_type": "display_data",
     "data": {
      "text/plain": "'Data Analyst at Glovo was asked...'"
     },
     "metadata": {}
    },
    {
     "output_type": "display_data",
     "data": {
      "text/plain": "'Describe a clustering algorithm like Kmeans'"
     },
     "metadata": {}
    },
    {
     "output_type": "display_data",
     "data": {
      "text/plain": "'No answer'"
     },
     "metadata": {}
    },
    {
     "output_type": "display_data",
     "data": {
      "text/plain": "76"
     },
     "metadata": {}
    },
    {
     "output_type": "display_data",
     "data": {
      "text/plain": "'Data Analyst at Glovo was asked...'"
     },
     "metadata": {}
    },
    {
     "output_type": "display_data",
     "data": {
      "text/plain": "'Problema de SQL, problema de Data Analytics en Python, caso de negocio A/B testing'"
     },
     "metadata": {}
    },
    {
     "output_type": "display_data",
     "data": {
      "text/plain": "'No answer'"
     },
     "metadata": {}
    },
    {
     "output_type": "display_data",
     "data": {
      "text/plain": "77"
     },
     "metadata": {}
    },
    {
     "output_type": "display_data",
     "data": {
      "text/plain": "'Data Analyst at Glovo was asked...'"
     },
     "metadata": {}
    },
    {
     "output_type": "display_data",
     "data": {
      "text/plain": "'Preguntas RRHH: Motivaciones, desarrollo profesional, proyectos actuales. Preguntas técnicas: Resolver un problema con el entrevistador sobre un test A/B y responder a preguntas relacionadas con los datos y la forma de evaluar el test. Todas las preguntas orientadas a la estadísitca'"
     },
     "metadata": {}
    },
    {
     "output_type": "display_data",
     "data": {
      "text/plain": "'No answer'"
     },
     "metadata": {}
    },
    {
     "output_type": "display_data",
     "data": {
      "text/plain": "78"
     },
     "metadata": {}
    },
    {
     "output_type": "display_data",
     "data": {
      "text/plain": "'Internship As A Data Analyst at Amazon was asked...'"
     },
     "metadata": {}
    },
    {
     "output_type": "display_data",
     "data": {
      "text/plain": "'Tell me a time you challenged the status quo'"
     },
     "metadata": {}
    },
    {
     "output_type": "display_data",
     "data": {
      "text/plain": "'No answer'"
     },
     "metadata": {}
    },
    {
     "output_type": "display_data",
     "data": {
      "text/plain": "79"
     },
     "metadata": {}
    },
    {
     "output_type": "display_data",
     "data": {
      "text/plain": "'Data Scientist at Amadeus was asked...'"
     },
     "metadata": {}
    },
    {
     "output_type": "display_data",
     "data": {
      "text/plain": "'Figure out how many passengers MAD has each year without any further info.'"
     },
     "metadata": {}
    },
    {
     "output_type": "display_data",
     "data": {
      "text/plain": "'No answer'"
     },
     "metadata": {}
    },
    {
     "output_type": "display_data",
     "data": {
      "text/plain": "80"
     },
     "metadata": {}
    },
    {
     "output_type": "display_data",
     "data": {
      "text/plain": "'Data Analyst at Capgemini was asked...'"
     },
     "metadata": {}
    },
    {
     "output_type": "display_data",
     "data": {
      "text/plain": "'Previa experiencia, conocimientos del sector, típica pregunta de procesamiento cognitivo. Nada del otro mundo.'"
     },
     "metadata": {}
    },
    {
     "output_type": "display_data",
     "data": {
      "text/plain": "'No answer'"
     },
     "metadata": {}
    },
    {
     "output_type": "display_data",
     "data": {
      "text/plain": "81"
     },
     "metadata": {}
    },
    {
     "output_type": "display_data",
     "data": {
      "text/plain": "'Analyst, Data Science and Analytics at Criteo was asked...'"
     },
     "metadata": {}
    },
    {
     "output_type": "display_data",
     "data": {
      "text/plain": "'Explain what Criteo does to your Grandmother'"
     },
     "metadata": {}
    },
    {
     "output_type": "display_data",
     "data": {
      "text/plain": "'No answer'"
     },
     "metadata": {}
    },
    {
     "output_type": "display_data",
     "data": {
      "text/plain": "82"
     },
     "metadata": {}
    },
    {
     "output_type": "display_data",
     "data": {
      "text/plain": "'Data Analyst at Capgemini was asked...'"
     },
     "metadata": {}
    },
    {
     "output_type": "display_data",
     "data": {
      "text/plain": "'Previa experiencia, conocimientos del sector, típica pregunta de procesamiento cognitivo. Nada del otro mundo.'"
     },
     "metadata": {}
    },
    {
     "output_type": "display_data",
     "data": {
      "text/plain": "'No answer'"
     },
     "metadata": {}
    },
    {
     "output_type": "display_data",
     "data": {
      "text/plain": "83"
     },
     "metadata": {}
    },
    {
     "output_type": "display_data",
     "data": {
      "text/plain": "'Data Scientist at Seedtag was asked...'"
     },
     "metadata": {}
    },
    {
     "output_type": "display_data",
     "data": {
      "text/plain": "'Explain how you can build a web scraper'"
     },
     "metadata": {}
    },
    {
     "output_type": "display_data",
     "data": {
      "text/plain": "'No answer'"
     },
     "metadata": {}
    },
    {
     "output_type": "display_data",
     "data": {
      "text/plain": "84"
     },
     "metadata": {}
    },
    {
     "output_type": "display_data",
     "data": {
      "text/plain": "'Data Analyst at T-Systems was asked...'"
     },
     "metadata": {}
    },
    {
     "output_type": "display_data",
     "data": {
      "text/plain": "'Revisión curricular y caso de market sizing apenas explicado.'"
     },
     "metadata": {}
    },
    {
     "output_type": "display_data",
     "data": {
      "text/plain": "'No answer'"
     },
     "metadata": {}
    },
    {
     "output_type": "display_data",
     "data": {
      "text/plain": "85"
     },
     "metadata": {}
    },
    {
     "output_type": "display_data",
     "data": {
      "text/plain": "'Data Scientist at Proximity was asked...'"
     },
     "metadata": {}
    },
    {
     "output_type": "display_data",
     "data": {
      "text/plain": "'They asked me about what programming languages did I master'"
     },
     "metadata": {}
    },
    {
     "output_type": "display_data",
     "data": {
      "text/plain": "'No answer'"
     },
     "metadata": {}
    },
    {
     "output_type": "display_data",
     "data": {
      "text/plain": "86"
     },
     "metadata": {}
    },
    {
     "output_type": "display_data",
     "data": {
      "text/plain": "'Data Scientist at McKinsey & Company was asked...'"
     },
     "metadata": {}
    },
    {
     "output_type": "display_data",
     "data": {
      "text/plain": "'Tell me about a time when you were in a team, you found an big issue and you lead the team to solve it.'"
     },
     "metadata": {}
    },
    {
     "output_type": "display_data",
     "data": {
      "text/plain": "'No answer'"
     },
     "metadata": {}
    },
    {
     "output_type": "display_data",
     "data": {
      "text/plain": "87"
     },
     "metadata": {}
    },
    {
     "output_type": "display_data",
     "data": {
      "text/plain": "'Senior Data Scientist at Cabify was asked...'"
     },
     "metadata": {}
    },
    {
     "output_type": "display_data",
     "data": {
      "text/plain": "'Complete a data challenge. Two parts: (1) Airbnb testing one of their features, (2) a randomized experiment and causal modeling.'"
     },
     "metadata": {}
    },
    {
     "output_type": "display_data",
     "data": {
      "text/plain": "'No answer'"
     },
     "metadata": {}
    },
    {
     "output_type": "display_data",
     "data": {
      "text/plain": "88"
     },
     "metadata": {}
    },
    {
     "output_type": "display_data",
     "data": {
      "text/plain": "'Junior Data Analyst at MSD was asked...'"
     },
     "metadata": {}
    },
    {
     "output_type": "display_data",
     "data": {
      "text/plain": "'¿Problemas que has superado? ¿Cómo te defines?'"
     },
     "metadata": {}
    },
    {
     "output_type": "display_data",
     "data": {
      "text/plain": "'No answer'"
     },
     "metadata": {}
    },
    {
     "output_type": "display_data",
     "data": {
      "text/plain": "89"
     },
     "metadata": {}
    },
    {
     "output_type": "display_data",
     "data": {
      "text/plain": "'Data Analyst at LaLiga was asked...'"
     },
     "metadata": {}
    },
    {
     "output_type": "display_data",
     "data": {
      "text/plain": "'Experiencia previa y conocimientos técnicos'"
     },
     "metadata": {}
    },
    {
     "output_type": "display_data",
     "data": {
      "text/plain": "'No answer'"
     },
     "metadata": {}
    },
    {
     "output_type": "display_data",
     "data": {
      "text/plain": "90"
     },
     "metadata": {}
    },
    {
     "output_type": "display_data",
     "data": {
      "text/plain": "'Data Analyst at Atmira was asked...'"
     },
     "metadata": {}
    },
    {
     "output_type": "display_data",
     "data": {
      "text/plain": "'¿Cuál es mi disponibilidad?'"
     },
     "metadata": {}
    },
    {
     "output_type": "display_data",
     "data": {
      "text/plain": "'No answer'"
     },
     "metadata": {}
    },
    {
     "output_type": "display_data",
     "data": {
      "text/plain": "91"
     },
     "metadata": {}
    },
    {
     "output_type": "display_data",
     "data": {
      "text/plain": "'Junior Data Scientist at P3 Group was asked...'"
     },
     "metadata": {}
    },
    {
     "output_type": "display_data",
     "data": {
      "text/plain": "'Mainly questions about my previous education and projects I had been involved. I was asked to present a bit of the project I was working on.'"
     },
     "metadata": {}
    },
    {
     "output_type": "display_data",
     "data": {
      "text/plain": "'No answer'"
     },
     "metadata": {}
    },
    {
     "output_type": "display_data",
     "data": {
      "text/plain": "92"
     },
     "metadata": {}
    },
    {
     "output_type": "display_data",
     "data": {
      "text/plain": "'Junior Data Scientist at P3 Group was asked...'"
     },
     "metadata": {}
    },
    {
     "output_type": "display_data",
     "data": {
      "text/plain": "'Not too difficult questions, just my availability and my educational background'"
     },
     "metadata": {}
    },
    {
     "output_type": "display_data",
     "data": {
      "text/plain": "'No answer'"
     },
     "metadata": {}
    },
    {
     "output_type": "display_data",
     "data": {
      "text/plain": "93"
     },
     "metadata": {}
    },
    {
     "output_type": "display_data",
     "data": {
      "text/plain": "'Data Scientist Trainee at Urgo Medical was asked...'"
     },
     "metadata": {}
    },
    {
     "output_type": "display_data",
     "data": {
      "text/plain": "'Dónde me veía en un futuro'"
     },
     "metadata": {}
    },
    {
     "output_type": "display_data",
     "data": {
      "text/plain": "'No answer'"
     },
     "metadata": {}
    },
    {
     "output_type": "display_data",
     "data": {
      "text/plain": "94"
     },
     "metadata": {}
    },
    {
     "output_type": "display_data",
     "data": {
      "text/plain": "'Data Scientist at King was asked...'"
     },
     "metadata": {}
    },
    {
     "output_type": "display_data",
     "data": {
      "text/plain": "'Marketing experience'"
     },
     "metadata": {}
    },
    {
     "output_type": "display_data",
     "data": {
      "text/plain": "'No answer'"
     },
     "metadata": {}
    },
    {
     "output_type": "display_data",
     "data": {
      "text/plain": "95"
     },
     "metadata": {}
    },
    {
     "output_type": "display_data",
     "data": {
      "text/plain": "'Senior Data Scientist at King was asked...'"
     },
     "metadata": {}
    },
    {
     "output_type": "display_data",
     "data": {
      "text/plain": "'They asked how I would solve a user segmentation situation.'"
     },
     "metadata": {}
    },
    {
     "output_type": "display_data",
     "data": {
      "text/plain": "'No answer'"
     },
     "metadata": {}
    },
    {
     "output_type": "display_data",
     "data": {
      "text/plain": "96"
     },
     "metadata": {}
    },
    {
     "output_type": "display_data",
     "data": {
      "text/plain": "'Data Analyst at Returnly was asked...'"
     },
     "metadata": {}
    },
    {
     "output_type": "display_data",
     "data": {
      "text/plain": "'HackerRank sobre Python y SQL'"
     },
     "metadata": {}
    },
    {
     "output_type": "display_data",
     "data": {
      "text/plain": "'No answer'"
     },
     "metadata": {}
    },
    {
     "output_type": "display_data",
     "data": {
      "text/plain": "97"
     },
     "metadata": {}
    },
    {
     "output_type": "display_data",
     "data": {
      "text/plain": "'Científico De Datos at Equifax was asked...'"
     },
     "metadata": {}
    },
    {
     "output_type": "display_data",
     "data": {
      "text/plain": "'Qué crees que hace Equifax??'"
     },
     "metadata": {}
    },
    {
     "output_type": "display_data",
     "data": {
      "text/plain": "'No answer'"
     },
     "metadata": {}
    },
    {
     "output_type": "display_data",
     "data": {
      "text/plain": "98"
     },
     "metadata": {}
    },
    {
     "output_type": "display_data",
     "data": {
      "text/plain": "'Data Analyst at The Workshop was asked...'"
     },
     "metadata": {}
    },
    {
     "output_type": "display_data",
     "data": {
      "text/plain": "'Cómo te describirías; tus puntos débiles; tus puntos fuertes...'"
     },
     "metadata": {}
    },
    {
     "output_type": "display_data",
     "data": {
      "text/plain": "'No answer'"
     },
     "metadata": {}
    },
    {
     "output_type": "display_data",
     "data": {
      "text/plain": "99"
     },
     "metadata": {}
    },
    {
     "output_type": "display_data",
     "data": {
      "text/plain": "'Data Analyst at LIFULL Connect was asked...'"
     },
     "metadata": {}
    },
    {
     "output_type": "display_data",
     "data": {
      "text/plain": "'They asked me about my previous experience, knowledge about certain topics related to the position, examples of projects in which I participated'"
     },
     "metadata": {}
    },
    {
     "output_type": "display_data",
     "data": {
      "text/plain": "'No answer'"
     },
     "metadata": {}
    },
    {
     "output_type": "display_data",
     "data": {
      "text/plain": "100"
     },
     "metadata": {}
    },
    {
     "output_type": "display_data",
     "data": {
      "text/plain": "'Junior Data Analyst at HolaLuz was asked...'"
     },
     "metadata": {}
    },
    {
     "output_type": "display_data",
     "data": {
      "text/plain": "'Porquè Holaluz? Qué nos puedes explicar sobre ti?'"
     },
     "metadata": {}
    },
    {
     "output_type": "display_data",
     "data": {
      "text/plain": "'No answer'"
     },
     "metadata": {}
    },
    {
     "output_type": "display_data",
     "data": {
      "text/plain": "101"
     },
     "metadata": {}
    },
    {
     "output_type": "display_data",
     "data": {
      "text/plain": "'Junior Data Scientist at HP Inc. was asked...'"
     },
     "metadata": {}
    },
    {
     "output_type": "display_data",
     "data": {
      "text/plain": "'SQL quieries, data science related questions: data processing, wrangling, cleaning techniques and methods.'"
     },
     "metadata": {}
    },
    {
     "output_type": "display_data",
     "data": {
      "text/plain": "'No answer'"
     },
     "metadata": {}
    },
    {
     "output_type": "display_data",
     "data": {
      "text/plain": "102"
     },
     "metadata": {}
    },
    {
     "output_type": "display_data",
     "data": {
      "text/plain": "'Científico De Datos at BBVA was asked...'"
     },
     "metadata": {}
    },
    {
     "output_type": "display_data",
     "data": {
      "text/plain": "'Preguntas básicas de estadística frecuentista, comprension de queries en SQL y analisis de los resultados de una regresión lineal'"
     },
     "metadata": {}
    },
    {
     "output_type": "display_data",
     "data": {
      "text/plain": "'No answer'"
     },
     "metadata": {}
    },
    {
     "output_type": "display_data",
     "data": {
      "text/plain": "103"
     },
     "metadata": {}
    },
    {
     "output_type": "display_data",
     "data": {
      "text/plain": "'Data Scientist at Stuart was asked...'"
     },
     "metadata": {}
    },
    {
     "output_type": "display_data",
     "data": {
      "text/plain": "'Algorithmics, combinatorial optimization, Python coding'"
     },
     "metadata": {}
    },
    {
     "output_type": "display_data",
     "data": {
      "text/plain": "'No answer'"
     },
     "metadata": {}
    },
    {
     "output_type": "display_data",
     "data": {
      "text/plain": "104"
     },
     "metadata": {}
    },
    {
     "output_type": "display_data",
     "data": {
      "text/plain": "'Senior Data Analyst at Stuart was asked...'"
     },
     "metadata": {}
    },
    {
     "output_type": "display_data",
     "data": {
      "text/plain": "'Hiring manager: What do you expect from your manager?'"
     },
     "metadata": {}
    },
    {
     "output_type": "display_data",
     "data": {
      "text/plain": "'No answer'"
     },
     "metadata": {}
    },
    {
     "output_type": "display_data",
     "data": {
      "text/plain": "105"
     },
     "metadata": {}
    },
    {
     "output_type": "display_data",
     "data": {
      "text/plain": "'Operations Data Analyst at Stuart was asked...'"
     },
     "metadata": {}
    },
    {
     "output_type": "display_data",
     "data": {
      "text/plain": "'Why do you want to work at Stuart'"
     },
     "metadata": {}
    },
    {
     "output_type": "display_data",
     "data": {
      "text/plain": "'No answer'"
     },
     "metadata": {}
    },
    {
     "output_type": "display_data",
     "data": {
      "text/plain": "106"
     },
     "metadata": {}
    },
    {
     "output_type": "display_data",
     "data": {
      "text/plain": "'Data Analyst Intern at Stuart was asked...'"
     },
     "metadata": {}
    },
    {
     "output_type": "display_data",
     "data": {
      "text/plain": "'Unas pocas funciones a hacer en Python. Esperan soluciones eficientes y que aprovechen la potencia del lenguaje.'"
     },
     "metadata": {}
    },
    {
     "output_type": "display_data",
     "data": {
      "text/plain": "'No answer'"
     },
     "metadata": {}
    },
    {
     "output_type": "display_data",
     "data": {
      "text/plain": "107"
     },
     "metadata": {}
    },
    {
     "output_type": "display_data",
     "data": {
      "text/plain": "'Senior Data Analyst at Stuart was asked...'"
     },
     "metadata": {}
    },
    {
     "output_type": "display_data",
     "data": {
      "text/plain": "'- Tell us about an exciting project where your data analysis skills added great value. - Are you comfortable working with SQL + Python? - What are you looking for in this job? Exploring general interests, team fit, and reasons for applying.'"
     },
     "metadata": {}
    },
    {
     "output_type": "display_data",
     "data": {
      "text/plain": "'No answer'"
     },
     "metadata": {}
    },
    {
     "output_type": "display_data",
     "data": {
      "text/plain": "108"
     },
     "metadata": {}
    },
    {
     "output_type": "display_data",
     "data": {
      "text/plain": "'Data Scientist at Stuart was asked...'"
     },
     "metadata": {}
    },
    {
     "output_type": "display_data",
     "data": {
      "text/plain": "'A Data Science assignment.'"
     },
     "metadata": {}
    },
    {
     "output_type": "display_data",
     "data": {
      "text/plain": "'No answer'"
     },
     "metadata": {}
    },
    {
     "output_type": "display_data",
     "data": {
      "text/plain": "109"
     },
     "metadata": {}
    },
    {
     "output_type": "display_data",
     "data": {
      "text/plain": "'Data Analyst at Glovo was asked...'"
     },
     "metadata": {}
    },
    {
     "output_type": "display_data",
     "data": {
      "text/plain": "'Conoces el Teorema del Límite Central?'"
     },
     "metadata": {}
    },
    {
     "output_type": "display_data",
     "data": {
      "text/plain": "'No answer'"
     },
     "metadata": {}
    },
    {
     "output_type": "display_data",
     "data": {
      "text/plain": "110"
     },
     "metadata": {}
    },
    {
     "output_type": "display_data",
     "data": {
      "text/plain": "'Data Analyst at Glovo was asked...'"
     },
     "metadata": {}
    },
    {
     "output_type": "display_data",
     "data": {
      "text/plain": "'To which country would you expand the company?'"
     },
     "metadata": {}
    },
    {
     "output_type": "display_data",
     "data": {
      "text/plain": "'No answer'"
     },
     "metadata": {}
    },
    {
     "output_type": "display_data",
     "data": {
      "text/plain": "111"
     },
     "metadata": {}
    },
    {
     "output_type": "display_data",
     "data": {
      "text/plain": "'Data Scientist at Stuart was asked...'"
     },
     "metadata": {}
    },
    {
     "output_type": "display_data",
     "data": {
      "text/plain": "'A Data Science assignment.'"
     },
     "metadata": {}
    },
    {
     "output_type": "display_data",
     "data": {
      "text/plain": "'No answer'"
     },
     "metadata": {}
    },
    {
     "output_type": "display_data",
     "data": {
      "text/plain": "112"
     },
     "metadata": {}
    },
    {
     "output_type": "display_data",
     "data": {
      "text/plain": "'Senior Data Analyst at Stuart was asked...'"
     },
     "metadata": {}
    },
    {
     "output_type": "display_data",
     "data": {
      "text/plain": "'Hiring manager: What do you expect from your manager?'"
     },
     "metadata": {}
    },
    {
     "output_type": "display_data",
     "data": {
      "text/plain": "'No answer'"
     },
     "metadata": {}
    },
    {
     "output_type": "display_data",
     "data": {
      "text/plain": "113"
     },
     "metadata": {}
    },
    {
     "output_type": "display_data",
     "data": {
      "text/plain": "'Científico De Datos at BBVA was asked...'"
     },
     "metadata": {}
    },
    {
     "output_type": "display_data",
     "data": {
      "text/plain": "'Preguntas básicas de estadística frecuentista, comprension de queries en SQL y analisis de los resultados de una regresión lineal'"
     },
     "metadata": {}
    },
    {
     "output_type": "display_data",
     "data": {
      "text/plain": "'No answer'"
     },
     "metadata": {}
    },
    {
     "output_type": "display_data",
     "data": {
      "text/plain": "114"
     },
     "metadata": {}
    },
    {
     "output_type": "display_data",
     "data": {
      "text/plain": "'Data Analyst for Finance at Amazon was asked...'"
     },
     "metadata": {}
    },
    {
     "output_type": "display_data",
     "data": {
      "text/plain": "'talk about yourself'"
     },
     "metadata": {}
    },
    {
     "output_type": "display_data",
     "data": {
      "text/plain": "'No answer'"
     },
     "metadata": {}
    },
    {
     "output_type": "display_data",
     "data": {
      "text/plain": "115"
     },
     "metadata": {}
    },
    {
     "output_type": "display_data",
     "data": {
      "text/plain": "'Data Analyst at Ecolab was asked...'"
     },
     "metadata": {}
    },
    {
     "output_type": "display_data",
     "data": {
      "text/plain": "'What is your experience with Data Visualization?'"
     },
     "metadata": {}
    },
    {
     "output_type": "display_data",
     "data": {
      "text/plain": "'No answer'"
     },
     "metadata": {}
    },
    {
     "output_type": "display_data",
     "data": {
      "text/plain": "116"
     },
     "metadata": {}
    },
    {
     "output_type": "display_data",
     "data": {
      "text/plain": "'Data Analyst at Ecolab was asked...'"
     },
     "metadata": {}
    },
    {
     "output_type": "display_data",
     "data": {
      "text/plain": "'Tell me more about yourself.'"
     },
     "metadata": {}
    },
    {
     "output_type": "display_data",
     "data": {
      "text/plain": "'No answer'"
     },
     "metadata": {}
    },
    {
     "output_type": "display_data",
     "data": {
      "text/plain": "117"
     },
     "metadata": {}
    },
    {
     "output_type": "display_data",
     "data": {
      "text/plain": "'Data Scientist at Labelium was asked...'"
     },
     "metadata": {}
    },
    {
     "output_type": "display_data",
     "data": {
      "text/plain": "'- Do you mind working surrounded by dogs at the office? (for real) - How do you feel about working in an unusual field for you? - Are you used to talk in public? - How is your English? And French? - This job also involves not working in \"rocket science\" projects sometimes, how do you feel about that? - How good are your SQL and DBT skills?'"
     },
     "metadata": {}
    },
    {
     "output_type": "display_data",
     "data": {
      "text/plain": "'No answer'"
     },
     "metadata": {}
    },
    {
     "output_type": "display_data",
     "data": {
      "text/plain": "118"
     },
     "metadata": {}
    },
    {
     "output_type": "display_data",
     "data": {
      "text/plain": "'Data Scientist at Capgemini was asked...'"
     },
     "metadata": {}
    },
    {
     "output_type": "display_data",
     "data": {
      "text/plain": "'Intercambio de preguntas y respuestas (perfil RRHH)'"
     },
     "metadata": {}
    },
    {
     "output_type": "display_data",
     "data": {
      "text/plain": "'No answer'"
     },
     "metadata": {}
    },
    {
     "output_type": "display_data",
     "data": {
      "text/plain": "119"
     },
     "metadata": {}
    },
    {
     "output_type": "display_data",
     "data": {
      "text/plain": "'Data Scientist at Seedtag was asked...'"
     },
     "metadata": {}
    },
    {
     "output_type": "display_data",
     "data": {
      "text/plain": "'Build (design and implement) a machine learning model that classifies text into categories'"
     },
     "metadata": {}
    },
    {
     "output_type": "display_data",
     "data": {
      "text/plain": "'No answer'"
     },
     "metadata": {}
    },
    {
     "output_type": "display_data",
     "data": {
      "text/plain": "120"
     },
     "metadata": {}
    },
    {
     "output_type": "display_data",
     "data": {
      "text/plain": "'Data Scientist at The Keenfolks was asked...'"
     },
     "metadata": {}
    },
    {
     "output_type": "display_data",
     "data": {
      "text/plain": "'Preguntas generales sobre mi trayectoria profesional. Un assesment técnico.'"
     },
     "metadata": {}
    },
    {
     "output_type": "display_data",
     "data": {
      "text/plain": "'No answer'"
     },
     "metadata": {}
    },
    {
     "output_type": "display_data",
     "data": {
      "text/plain": "121"
     },
     "metadata": {}
    },
    {
     "output_type": "display_data",
     "data": {
      "text/plain": "'Junior Data Scientist at Viva Aqua Service Spain was asked...'"
     },
     "metadata": {}
    },
    {
     "output_type": "display_data",
     "data": {
      "text/plain": "'¿Que conocia de Aquaservice?'"
     },
     "metadata": {}
    },
    {
     "output_type": "display_data",
     "data": {
      "text/plain": "'No answer'"
     },
     "metadata": {}
    },
    {
     "output_type": "display_data",
     "data": {
      "text/plain": "122"
     },
     "metadata": {}
    },
    {
     "output_type": "display_data",
     "data": {
      "text/plain": "'Data Analyst at Basebone was asked...'"
     },
     "metadata": {}
    },
    {
     "output_type": "display_data",
     "data": {
      "text/plain": "'Do you know how to code in php?'"
     },
     "metadata": {}
    },
    {
     "output_type": "display_data",
     "data": {
      "text/plain": "'No answer'"
     },
     "metadata": {}
    },
    {
     "output_type": "display_data",
     "data": {
      "text/plain": "123"
     },
     "metadata": {}
    },
    {
     "output_type": "display_data",
     "data": {
      "text/plain": "'Data Scientist at Badi was asked...'"
     },
     "metadata": {}
    },
    {
     "output_type": "display_data",
     "data": {
      "text/plain": "'What are your career prospects in Badi?'"
     },
     "metadata": {}
    },
    {
     "output_type": "display_data",
     "data": {
      "text/plain": "'No answer'"
     },
     "metadata": {}
    },
    {
     "output_type": "display_data",
     "data": {
      "text/plain": "124"
     },
     "metadata": {}
    },
    {
     "output_type": "display_data",
     "data": {
      "text/plain": "'Data Scientist at Olympic Channel Services was asked...'"
     },
     "metadata": {}
    },
    {
     "output_type": "display_data",
     "data": {
      "text/plain": "'Relevant past experience.'"
     },
     "metadata": {}
    },
    {
     "output_type": "display_data",
     "data": {
      "text/plain": "'No answer'"
     },
     "metadata": {}
    },
    {
     "output_type": "display_data",
     "data": {
      "text/plain": "125"
     },
     "metadata": {}
    },
    {
     "output_type": "display_data",
     "data": {
      "text/plain": "'Data Scientist at Typeform was asked...'"
     },
     "metadata": {}
    },
    {
     "output_type": "display_data",
     "data": {
      "text/plain": "'Tell me about a project/experience you did not like'"
     },
     "metadata": {}
    },
    {
     "output_type": "display_data",
     "data": {
      "text/plain": "'No answer'"
     },
     "metadata": {}
    },
    {
     "output_type": "display_data",
     "data": {
      "text/plain": "126"
     },
     "metadata": {}
    },
    {
     "output_type": "display_data",
     "data": {
      "text/plain": "'Data Science Consultant at Management Solutions was asked...'"
     },
     "metadata": {}
    },
    {
     "output_type": "display_data",
     "data": {
      "text/plain": "'Find the solutions for the island in a trouble'"
     },
     "metadata": {}
    },
    {
     "output_type": "display_data",
     "data": {
      "text/plain": "'No answer'"
     },
     "metadata": {}
    },
    {
     "output_type": "display_data",
     "data": {
      "text/plain": "127"
     },
     "metadata": {}
    },
    {
     "output_type": "display_data",
     "data": {
      "text/plain": "'Junior Data Scientist at ETS Asset Management Factory was asked...'"
     },
     "metadata": {}
    },
    {
     "output_type": "display_data",
     "data": {
      "text/plain": "'Do you see yourself working in the company? Why?'"
     },
     "metadata": {}
    },
    {
     "output_type": "display_data",
     "data": {
      "text/plain": "'No answer'"
     },
     "metadata": {}
    },
    {
     "output_type": "display_data",
     "data": {
      "text/plain": "128"
     },
     "metadata": {}
    },
    {
     "output_type": "display_data",
     "data": {
      "text/plain": "'Entry Level Data Scientist at King was asked...'"
     },
     "metadata": {}
    },
    {
     "output_type": "display_data",
     "data": {
      "text/plain": "'What is an a/b test?'"
     },
     "metadata": {}
    },
    {
     "output_type": "display_data",
     "data": {
      "text/plain": "'No answer'"
     },
     "metadata": {}
    },
    {
     "output_type": "display_data",
     "data": {
      "text/plain": "129"
     },
     "metadata": {}
    },
    {
     "output_type": "display_data",
     "data": {
      "text/plain": "'Junior Data Scientist at King was asked...'"
     },
     "metadata": {}
    },
    {
     "output_type": "display_data",
     "data": {
      "text/plain": "'Walk me through your cv, tell me about a project you did, etc'"
     },
     "metadata": {}
    },
    {
     "output_type": "display_data",
     "data": {
      "text/plain": "'No answer'"
     },
     "metadata": {}
    },
    {
     "output_type": "display_data",
     "data": {
      "text/plain": "130"
     },
     "metadata": {}
    },
    {
     "output_type": "display_data",
     "data": {
      "text/plain": "'Data Scientist at King was asked...'"
     },
     "metadata": {}
    },
    {
     "output_type": "display_data",
     "data": {
      "text/plain": "'If a give you access to all our database, what is the first thing you would look at?'"
     },
     "metadata": {}
    },
    {
     "output_type": "display_data",
     "data": {
      "text/plain": "'No answer'"
     },
     "metadata": {}
    },
    {
     "output_type": "display_data",
     "data": {
      "text/plain": "131"
     },
     "metadata": {}
    },
    {
     "output_type": "display_data",
     "data": {
      "text/plain": "'Data Scientist at King was asked...'"
     },
     "metadata": {}
    },
    {
     "output_type": "display_data",
     "data": {
      "text/plain": "'If a give you access to all our database, what is the first thing you would look at?'"
     },
     "metadata": {}
    },
    {
     "output_type": "display_data",
     "data": {
      "text/plain": "'No answer'"
     },
     "metadata": {}
    },
    {
     "output_type": "display_data",
     "data": {
      "text/plain": "132"
     },
     "metadata": {}
    },
    {
     "output_type": "display_data",
     "data": {
      "text/plain": "'Data Scientist at King was asked...'"
     },
     "metadata": {}
    },
    {
     "output_type": "display_data",
     "data": {
      "text/plain": "'Do you know and have used AB testing?'"
     },
     "metadata": {}
    },
    {
     "output_type": "display_data",
     "data": {
      "text/plain": "'No answer'"
     },
     "metadata": {}
    },
    {
     "output_type": "display_data",
     "data": {
      "text/plain": "133"
     },
     "metadata": {}
    },
    {
     "output_type": "display_data",
     "data": {
      "text/plain": "'Entry Level Data Scientist at King was asked...'"
     },
     "metadata": {}
    },
    {
     "output_type": "display_data",
     "data": {
      "text/plain": "'What is an a/b test?'"
     },
     "metadata": {}
    },
    {
     "output_type": "display_data",
     "data": {
      "text/plain": "'No answer'"
     },
     "metadata": {}
    },
    {
     "output_type": "display_data",
     "data": {
      "text/plain": "134"
     },
     "metadata": {}
    },
    {
     "output_type": "display_data",
     "data": {
      "text/plain": "'Data Scientist at King was asked...'"
     },
     "metadata": {}
    },
    {
     "output_type": "display_data",
     "data": {
      "text/plain": "'Describe some statistical modeling techniques you have used.'"
     },
     "metadata": {}
    },
    {
     "output_type": "display_data",
     "data": {
      "text/plain": "'No answer'"
     },
     "metadata": {}
    },
    {
     "output_type": "display_data",
     "data": {
      "text/plain": "135"
     },
     "metadata": {}
    },
    {
     "output_type": "display_data",
     "data": {
      "text/plain": "'Data Analyst at Preply was asked...'"
     },
     "metadata": {}
    },
    {
     "output_type": "display_data",
     "data": {
      "text/plain": "'How can my back ground be an asset for this position?'"
     },
     "metadata": {}
    },
    {
     "output_type": "display_data",
     "data": {
      "text/plain": "'No answer'"
     },
     "metadata": {}
    },
    {
     "output_type": "display_data",
     "data": {
      "text/plain": "136"
     },
     "metadata": {}
    },
    {
     "output_type": "display_data",
     "data": {
      "text/plain": "'Data Analyst at The Workshop was asked...'"
     },
     "metadata": {}
    },
    {
     "output_type": "display_data",
     "data": {
      "text/plain": "'Disponibilidad para moverte a las oficinas'"
     },
     "metadata": {}
    },
    {
     "output_type": "display_data",
     "data": {
      "text/plain": "'No answer'"
     },
     "metadata": {}
    },
    {
     "output_type": "display_data",
     "data": {
      "text/plain": "137"
     },
     "metadata": {}
    },
    {
     "output_type": "display_data",
     "data": {
      "text/plain": "'Data Analyst at The Workshop was asked...'"
     },
     "metadata": {}
    },
    {
     "output_type": "display_data",
     "data": {
      "text/plain": "'Cómo aclararías distintos KPIs hablando con un hipotético cliente'"
     },
     "metadata": {}
    },
    {
     "output_type": "display_data",
     "data": {
      "text/plain": "'No answer'"
     },
     "metadata": {}
    },
    {
     "output_type": "display_data",
     "data": {
      "text/plain": "138"
     },
     "metadata": {}
    },
    {
     "output_type": "display_data",
     "data": {
      "text/plain": "'Data Analyst Intern at Stuart was asked...'"
     },
     "metadata": {}
    },
    {
     "output_type": "display_data",
     "data": {
      "text/plain": "'Un test bastante largo en el que había que analizar dos datasets.'"
     },
     "metadata": {}
    },
    {
     "output_type": "display_data",
     "data": {
      "text/plain": "'No answer'"
     },
     "metadata": {}
    },
    {
     "output_type": "display_data",
     "data": {
      "text/plain": "139"
     },
     "metadata": {}
    },
    {
     "output_type": "display_data",
     "data": {
      "text/plain": "'Data Scientist at Stuart was asked...'"
     },
     "metadata": {}
    },
    {
     "output_type": "display_data",
     "data": {
      "text/plain": "'A multiple-choice test covering Computer Science / Probability / Machine Learning / Math.'"
     },
     "metadata": {}
    },
    {
     "output_type": "display_data",
     "data": {
      "text/plain": "'No answer'"
     },
     "metadata": {}
    },
    {
     "output_type": "display_data",
     "data": {
      "text/plain": "140"
     },
     "metadata": {}
    },
    {
     "output_type": "display_data",
     "data": {
      "text/plain": "'Data Scientist at Stuart was asked...'"
     },
     "metadata": {}
    },
    {
     "output_type": "display_data",
     "data": {
      "text/plain": "'An online coding test.'"
     },
     "metadata": {}
    },
    {
     "output_type": "display_data",
     "data": {
      "text/plain": "'No answer'"
     },
     "metadata": {}
    },
    {
     "output_type": "display_data",
     "data": {
      "text/plain": "141"
     },
     "metadata": {}
    },
    {
     "output_type": "display_data",
     "data": {
      "text/plain": "'Data Analyst Intern at Glovo was asked...'"
     },
     "metadata": {}
    },
    {
     "output_type": "display_data",
     "data": {
      "text/plain": "'How would you explain the confidence level to someone who does not know statistics at all?'"
     },
     "metadata": {}
    },
    {
     "output_type": "display_data",
     "data": {
      "text/plain": "'No answer'"
     },
     "metadata": {}
    },
    {
     "output_type": "display_data",
     "data": {
      "text/plain": "142"
     },
     "metadata": {}
    },
    {
     "output_type": "display_data",
     "data": {
      "text/plain": "'Data Analyst at Glovo was asked...'"
     },
     "metadata": {}
    },
    {
     "output_type": "display_data",
     "data": {
      "text/plain": "'About Glovos business model and my background'"
     },
     "metadata": {}
    },
    {
     "output_type": "display_data",
     "data": {
      "text/plain": "'No answer'"
     },
     "metadata": {}
    },
    {
     "output_type": "display_data",
     "data": {
      "text/plain": "143"
     },
     "metadata": {}
    },
    {
     "output_type": "display_data",
     "data": {
      "text/plain": "'Data Scientist at Zurich Insurance was asked...'"
     },
     "metadata": {}
    },
    {
     "output_type": "display_data",
     "data": {
      "text/plain": "'Where I see my self in 5 years'"
     },
     "metadata": {}
    },
    {
     "output_type": "display_data",
     "data": {
      "text/plain": "'No answer'"
     },
     "metadata": {}
    },
    {
     "output_type": "display_data",
     "data": {
      "text/plain": "144"
     },
     "metadata": {}
    },
    {
     "output_type": "display_data",
     "data": {
      "text/plain": "'Data Scientist at Zurich Insurance was asked...'"
     },
     "metadata": {}
    },
    {
     "output_type": "display_data",
     "data": {
      "text/plain": "'1. Introduce yourself. 2. Experience dealing with clients? 3. Are you familiar with PoC? 4. Can you work in an autonomous way?'"
     },
     "metadata": {}
    },
    {
     "output_type": "display_data",
     "data": {
      "text/plain": "'No answer'"
     },
     "metadata": {}
    },
    {
     "output_type": "display_data",
     "data": {
      "text/plain": "145"
     },
     "metadata": {}
    },
    {
     "output_type": "display_data",
     "data": {
      "text/plain": "'Data Scientist at Amadeus was asked...'"
     },
     "metadata": {}
    },
    {
     "output_type": "display_data",
     "data": {
      "text/plain": "'Which airports correspond to these IATA codes: ...'"
     },
     "metadata": {}
    },
    {
     "output_type": "display_data",
     "data": {
      "text/plain": "'No answer'"
     },
     "metadata": {}
    },
    {
     "output_type": "display_data",
     "data": {
      "text/plain": "146"
     },
     "metadata": {}
    },
    {
     "output_type": "display_data",
     "data": {
      "text/plain": "'Data Science at Atos was asked...'"
     },
     "metadata": {}
    },
    {
     "output_type": "display_data",
     "data": {
      "text/plain": "'Are you familiar with X (some common technology)?'"
     },
     "metadata": {}
    },
    {
     "output_type": "display_data",
     "data": {
      "text/plain": "'No answer'"
     },
     "metadata": {}
    },
    {
     "output_type": "display_data",
     "data": {
      "text/plain": "147"
     },
     "metadata": {}
    },
    {
     "output_type": "display_data",
     "data": {
      "text/plain": "'Data Analyst Intern at Ecolab was asked...'"
     },
     "metadata": {}
    },
    {
     "output_type": "display_data",
     "data": {
      "text/plain": "'Que conoces de la empresa? Porque aplicaste? etc'"
     },
     "metadata": {}
    },
    {
     "output_type": "display_data",
     "data": {
      "text/plain": "'No answer'"
     },
     "metadata": {}
    },
    {
     "output_type": "display_data",
     "data": {
      "text/plain": "148"
     },
     "metadata": {}
    },
    {
     "output_type": "display_data",
     "data": {
      "text/plain": "'Data Analyst at Ecolab was asked...'"
     },
     "metadata": {}
    },
    {
     "output_type": "display_data",
     "data": {
      "text/plain": "'Why are you studing your degree?'"
     },
     "metadata": {}
    },
    {
     "output_type": "display_data",
     "data": {
      "text/plain": "'No answer'"
     },
     "metadata": {}
    },
    {
     "output_type": "display_data",
     "data": {
      "text/plain": "149"
     },
     "metadata": {}
    },
    {
     "output_type": "display_data",
     "data": {
      "text/plain": "'Data Analyst at Accenture was asked...'"
     },
     "metadata": {}
    },
    {
     "output_type": "display_data",
     "data": {
      "text/plain": "'General questions about my background, no real technical interview'"
     },
     "metadata": {}
    },
    {
     "output_type": "display_data",
     "data": {
      "text/plain": "'No answer'"
     },
     "metadata": {}
    },
    {
     "output_type": "display_data",
     "data": {
      "text/plain": "150"
     },
     "metadata": {}
    },
    {
     "output_type": "display_data",
     "data": {
      "text/plain": "'Data Science Analyst at Criteo was asked...'"
     },
     "metadata": {}
    },
    {
     "output_type": "display_data",
     "data": {
      "text/plain": "'Personal questions about my career. Situational questions about past working experiences (ex: tell me about a time you had to deal with a stressful situation). Small market sizing problem. Finally I was able to ask questions to the interviewer about the position and the company.'"
     },
     "metadata": {}
    },
    {
     "output_type": "display_data",
     "data": {
      "text/plain": "'No answer'"
     },
     "metadata": {}
    },
    {
     "output_type": "display_data",
     "data": {
      "text/plain": "151"
     },
     "metadata": {}
    },
    {
     "output_type": "display_data",
     "data": {
      "text/plain": "'Analyst Data Science at Criteo was asked...'"
     },
     "metadata": {}
    },
    {
     "output_type": "display_data",
     "data": {
      "text/plain": "'What are your career plans for the next 2-5 years?'"
     },
     "metadata": {}
    },
    {
     "output_type": "display_data",
     "data": {
      "text/plain": "'No answer'"
     },
     "metadata": {}
    },
    {
     "output_type": "display_data",
     "data": {
      "text/plain": "152"
     },
     "metadata": {}
    },
    {
     "output_type": "display_data",
     "data": {
      "text/plain": "'Data Science Analyst at Criteo was asked...'"
     },
     "metadata": {}
    },
    {
     "output_type": "display_data",
     "data": {
      "text/plain": "'Question about SQL queries, Python, Tableau experience and past data science projects.'"
     },
     "metadata": {}
    },
    {
     "output_type": "display_data",
     "data": {
      "text/plain": "'No answer'"
     },
     "metadata": {}
    },
    {
     "output_type": "display_data",
     "data": {
      "text/plain": "153"
     },
     "metadata": {}
    },
    {
     "output_type": "display_data",
     "data": {
      "text/plain": "'Data Scientist at Seedtag was asked...'"
     },
     "metadata": {}
    },
    {
     "output_type": "display_data",
     "data": {
      "text/plain": "'Whiteboard algorithm problem'"
     },
     "metadata": {}
    },
    {
     "output_type": "display_data",
     "data": {
      "text/plain": "'No answer'"
     },
     "metadata": {}
    },
    {
     "output_type": "display_data",
     "data": {
      "text/plain": "154"
     },
     "metadata": {}
    },
    {
     "output_type": "display_data",
     "data": {
      "text/plain": "'Data Scientist at Stratio was asked...'"
     },
     "metadata": {}
    },
    {
     "output_type": "display_data",
     "data": {
      "text/plain": "'Machine learning concepts, algorithms, metrics, cross-validation, recommender systems... sometimes a practical case similar to some project the company is doing.'"
     },
     "metadata": {}
    },
    {
     "output_type": "display_data",
     "data": {
      "text/plain": "'No answer'"
     },
     "metadata": {}
    },
    {
     "output_type": "display_data",
     "data": {
      "text/plain": "155"
     },
     "metadata": {}
    },
    {
     "output_type": "display_data",
     "data": {
      "text/plain": "'Data Scientist at Cien was asked...'"
     },
     "metadata": {}
    },
    {
     "output_type": "display_data",
     "data": {
      "text/plain": "'- Why this company? How do you feel about the start-up environment? - Number of years of experience in their tools and technologies.'"
     },
     "metadata": {}
    },
    {
     "output_type": "display_data",
     "data": {
      "text/plain": "'No answer'"
     },
     "metadata": {}
    },
    {
     "output_type": "display_data",
     "data": {
      "text/plain": "156"
     },
     "metadata": {}
    },
    {
     "output_type": "display_data",
     "data": {
      "text/plain": "'Data Scientist at AKKA Technologies was asked...'"
     },
     "metadata": {}
    },
    {
     "output_type": "display_data",
     "data": {
      "text/plain": "'Tecnologías con las que he trabajado, experiencia profesional y académica con ciertas tecnologías.'"
     },
     "metadata": {}
    },
    {
     "output_type": "display_data",
     "data": {
      "text/plain": "'No answer'"
     },
     "metadata": {}
    },
    {
     "output_type": "display_data",
     "data": {
      "text/plain": "157"
     },
     "metadata": {}
    },
    {
     "output_type": "display_data",
     "data": {
      "text/plain": "'Data Analyst at Management Solutions was asked...'"
     },
     "metadata": {}
    },
    {
     "output_type": "display_data",
     "data": {
      "text/plain": "'Salary expectations and my availability for work'"
     },
     "metadata": {}
    },
    {
     "output_type": "display_data",
     "data": {
      "text/plain": "'No answer'"
     },
     "metadata": {}
    },
    {
     "output_type": "display_data",
     "data": {
      "text/plain": "158"
     },
     "metadata": {}
    },
    {
     "output_type": "display_data",
     "data": {
      "text/plain": "'Junior Data Analyst at Vistaprint was asked...'"
     },
     "metadata": {}
    },
    {
     "output_type": "display_data",
     "data": {
      "text/plain": "'How do you imagine yourself in 5 years from now?'"
     },
     "metadata": {}
    },
    {
     "output_type": "display_data",
     "data": {
      "text/plain": "'No answer'"
     },
     "metadata": {}
    },
    {
     "output_type": "display_data",
     "data": {
      "text/plain": "159"
     },
     "metadata": {}
    },
    {
     "output_type": "display_data",
     "data": {
      "text/plain": "'Data Scientist at Geoblink was asked...'"
     },
     "metadata": {}
    },
    {
     "output_type": "display_data",
     "data": {
      "text/plain": "'Why did you use this algorithm? How did you select the most important features?'"
     },
     "metadata": {}
    },
    {
     "output_type": "display_data",
     "data": {
      "text/plain": "'No answer'"
     },
     "metadata": {}
    },
    {
     "output_type": "display_data",
     "data": {
      "text/plain": "160"
     },
     "metadata": {}
    },
    {
     "output_type": "display_data",
     "data": {
      "text/plain": "'Data Scientist at NatWest Group was asked...'"
     },
     "metadata": {}
    },
    {
     "output_type": "display_data",
     "data": {
      "text/plain": "'All kinds of personal questions'"
     },
     "metadata": {}
    },
    {
     "output_type": "display_data",
     "data": {
      "text/plain": "'No answer'"
     },
     "metadata": {}
    },
    {
     "output_type": "display_data",
     "data": {
      "text/plain": "161"
     },
     "metadata": {}
    },
    {
     "output_type": "display_data",
     "data": {
      "text/plain": "'Data Science at King was asked...'"
     },
     "metadata": {}
    },
    {
     "output_type": "display_data",
     "data": {
      "text/plain": "'Describe a difficult team problem and how you solved the problem.'"
     },
     "metadata": {}
    },
    {
     "output_type": "display_data",
     "data": {
      "text/plain": "'No answer'"
     },
     "metadata": {}
    },
    {
     "output_type": "display_data",
     "data": {
      "text/plain": "162"
     },
     "metadata": {}
    },
    {
     "output_type": "display_data",
     "data": {
      "text/plain": "'Data Science at King was asked...'"
     },
     "metadata": {}
    },
    {
     "output_type": "display_data",
     "data": {
      "text/plain": "'Why do you want to work at King?'"
     },
     "metadata": {}
    },
    {
     "output_type": "display_data",
     "data": {
      "text/plain": "'No answer'"
     },
     "metadata": {}
    },
    {
     "output_type": "display_data",
     "data": {
      "text/plain": "163"
     },
     "metadata": {}
    },
    {
     "output_type": "display_data",
     "data": {
      "text/plain": "'Data Analyst at King was asked...'"
     },
     "metadata": {}
    },
    {
     "output_type": "display_data",
     "data": {
      "text/plain": "'Tell me about a time you showed expertise to fix something'"
     },
     "metadata": {}
    },
    {
     "output_type": "display_data",
     "data": {
      "text/plain": "'No answer'"
     },
     "metadata": {}
    },
    {
     "output_type": "display_data",
     "data": {
      "text/plain": "164"
     },
     "metadata": {}
    },
    {
     "output_type": "display_data",
     "data": {
      "text/plain": "'Senior Data Analyst at LIFULL Connect was asked...'"
     },
     "metadata": {}
    },
    {
     "output_type": "display_data",
     "data": {
      "text/plain": "'Es importante que los candidatos muestren una personalidad afín con los valores de la empresa y por eso motivo, no sólo es importante la trayectoria profesional y la experiencia, sino también que la persona sea una buena incorporación dentro del equipo y la organización.'"
     },
     "metadata": {}
    },
    {
     "output_type": "display_data",
     "data": {
      "text/plain": "'No answer'"
     },
     "metadata": {}
    },
    {
     "output_type": "display_data",
     "data": {
      "text/plain": "165"
     },
     "metadata": {}
    },
    {
     "output_type": "display_data",
     "data": {
      "text/plain": "'Marketing Data Analyst at Socialpoint was asked...'"
     },
     "metadata": {}
    },
    {
     "output_type": "display_data",
     "data": {
      "text/plain": "'1. Do you like playing computer games? If yes, which are you favorite? 2. Do you know anything about SocialPoint?'"
     },
     "metadata": {}
    },
    {
     "output_type": "display_data",
     "data": {
      "text/plain": "'No answer'"
     },
     "metadata": {}
    },
    {
     "output_type": "display_data",
     "data": {
      "text/plain": "166"
     },
     "metadata": {}
    },
    {
     "output_type": "display_data",
     "data": {
      "text/plain": "'Data Analyst Intern at Glovo was asked...'"
     },
     "metadata": {}
    },
    {
     "output_type": "display_data",
     "data": {
      "text/plain": "'- Sobre experiencia previa y motivación por el puesto. - Sobre dominio de SQL y Python con ejercicios.'"
     },
     "metadata": {}
    },
    {
     "output_type": "display_data",
     "data": {
      "text/plain": "'No answer'"
     },
     "metadata": {}
    },
    {
     "output_type": "display_data",
     "data": {
      "text/plain": "167"
     },
     "metadata": {}
    },
    {
     "output_type": "display_data",
     "data": {
      "text/plain": "'Data Analyst at Glovo was asked...'"
     },
     "metadata": {}
    },
    {
     "output_type": "display_data",
     "data": {
      "text/plain": "'Diferencia entre WHERE y HAVING'"
     },
     "metadata": {}
    },
    {
     "output_type": "display_data",
     "data": {
      "text/plain": "'No answer'"
     },
     "metadata": {}
    },
    {
     "output_type": "display_data",
     "data": {
      "text/plain": "168"
     },
     "metadata": {}
    },
    {
     "output_type": "display_data",
     "data": {
      "text/plain": "'Senior Data Analyst at Glovo was asked...'"
     },
     "metadata": {}
    },
    {
     "output_type": "display_data",
     "data": {
      "text/plain": "'What is the difference between the mean, median and mode?'"
     },
     "metadata": {}
    },
    {
     "output_type": "display_data",
     "data": {
      "text/plain": "'No answer'"
     },
     "metadata": {}
    },
    {
     "output_type": "display_data",
     "data": {
      "text/plain": "169"
     },
     "metadata": {}
    },
    {
     "output_type": "display_data",
     "data": {
      "text/plain": "'Data Analyst at Glovo was asked...'"
     },
     "metadata": {}
    },
    {
     "output_type": "display_data",
     "data": {
      "text/plain": "'Por qué trabajar en Glovo?'"
     },
     "metadata": {}
    },
    {
     "output_type": "display_data",
     "data": {
      "text/plain": "'No answer'"
     },
     "metadata": {}
    },
    {
     "output_type": "display_data",
     "data": {
      "text/plain": "170"
     },
     "metadata": {}
    },
    {
     "output_type": "display_data",
     "data": {
      "text/plain": "'Data Analyst Intern at Stuart was asked...'"
     },
     "metadata": {}
    },
    {
     "output_type": "display_data",
     "data": {
      "text/plain": "'Realizar varias queries en SQL que involucraban diferentes tablas.'"
     },
     "metadata": {}
    },
    {
     "output_type": "display_data",
     "data": {
      "text/plain": "'No answer'"
     },
     "metadata": {}
    },
    {
     "output_type": "display_data",
     "data": {
      "text/plain": "171"
     },
     "metadata": {}
    },
    {
     "output_type": "display_data",
     "data": {
      "text/plain": "'Data Analyst at Allianz was asked...'"
     },
     "metadata": {}
    },
    {
     "output_type": "display_data",
     "data": {
      "text/plain": "'Cosas muy generales como: intereses profesionales, interés en proyección laboral, ganas de aprender, etc etc etc.'"
     },
     "metadata": {}
    },
    {
     "output_type": "display_data",
     "data": {
      "text/plain": "'No answer'"
     },
     "metadata": {}
    },
    {
     "output_type": "display_data",
     "data": {
      "text/plain": "172"
     },
     "metadata": {}
    },
    {
     "output_type": "display_data",
     "data": {
      "text/plain": "'Data Analyst at Tech Data was asked...'"
     },
     "metadata": {}
    },
    {
     "output_type": "display_data",
     "data": {
      "text/plain": "'Prefiero no contestar a esta pregunta'"
     },
     "metadata": {}
    },
    {
     "output_type": "display_data",
     "data": {
      "text/plain": "'No answer'"
     },
     "metadata": {}
    },
    {
     "output_type": "display_data",
     "data": {
      "text/plain": "173"
     },
     "metadata": {}
    },
    {
     "output_type": "display_data",
     "data": {
      "text/plain": "'Data Analyst at Gartner was asked...'"
     },
     "metadata": {}
    },
    {
     "output_type": "display_data",
     "data": {
      "text/plain": "'My technical assessment was to write code to answer questions both in R and SQL. There were also questions about concepts related to data distribution.'"
     },
     "metadata": {}
    },
    {
     "output_type": "display_data",
     "data": {
      "text/plain": "'No answer'"
     },
     "metadata": {}
    },
    {
     "output_type": "display_data",
     "data": {
      "text/plain": "174"
     },
     "metadata": {}
    },
    {
     "output_type": "display_data",
     "data": {
      "text/plain": "'Big Data Analyst at adidas was asked...'"
     },
     "metadata": {}
    },
    {
     "output_type": "display_data",
     "data": {
      "text/plain": "'If I was able to relocate to their headquarters'"
     },
     "metadata": {}
    },
    {
     "output_type": "display_data",
     "data": {
      "text/plain": "'No answer'"
     },
     "metadata": {}
    },
    {
     "output_type": "display_data",
     "data": {
      "text/plain": "175"
     },
     "metadata": {}
    },
    {
     "output_type": "display_data",
     "data": {
      "text/plain": "'Data Analyst at IQVIA was asked...'"
     },
     "metadata": {}
    },
    {
     "output_type": "display_data",
     "data": {
      "text/plain": "'The technical assessment involved SQL, SAS and Excel. Manager interview questions: How did you obtain insights out of data. Which algorithms you used to identify opportunities.'"
     },
     "metadata": {}
    },
    {
     "output_type": "display_data",
     "data": {
      "text/plain": "'No answer'"
     },
     "metadata": {}
    },
    {
     "output_type": "display_data",
     "data": {
      "text/plain": "176"
     },
     "metadata": {}
    },
    {
     "output_type": "display_data",
     "data": {
      "text/plain": "'Data Scientist at Telefónica was asked...'"
     },
     "metadata": {}
    },
    {
     "output_type": "display_data",
     "data": {
      "text/plain": "'How would you do a fraud detection system?'"
     },
     "metadata": {}
    },
    {
     "output_type": "display_data",
     "data": {
      "text/plain": "'No answer'"
     },
     "metadata": {}
    },
    {
     "output_type": "display_data",
     "data": {
      "text/plain": "177"
     },
     "metadata": {}
    },
    {
     "output_type": "display_data",
     "data": {
      "text/plain": "'Data Analyst at Morningstar was asked...'"
     },
     "metadata": {}
    },
    {
     "output_type": "display_data",
     "data": {
      "text/plain": "'Why do you think yourself best candidate for this position?'"
     },
     "metadata": {}
    },
    {
     "output_type": "display_data",
     "data": {
      "text/plain": "'No answer'"
     },
     "metadata": {}
    },
    {
     "output_type": "display_data",
     "data": {
      "text/plain": "178"
     },
     "metadata": {}
    },
    {
     "output_type": "display_data",
     "data": {
      "text/plain": "'Data Scientist at TeamCMP was asked...'"
     },
     "metadata": {}
    },
    {
     "output_type": "display_data",
     "data": {
      "text/plain": "'Describe como funciona un algoritmo supervisado de ML. Describe como funciona un no supervisado. Preguntas de experiencia y como lo resolviste.'"
     },
     "metadata": {}
    },
    {
     "output_type": "display_data",
     "data": {
      "text/plain": "'No answer'"
     },
     "metadata": {}
    },
    {
     "output_type": "display_data",
     "data": {
      "text/plain": "179"
     },
     "metadata": {}
    },
    {
     "output_type": "display_data",
     "data": {
      "text/plain": "'Data Scientist at Criteo was asked...'"
     },
     "metadata": {}
    },
    {
     "output_type": "display_data",
     "data": {
      "text/plain": "'Why Criteo? What makes Criteo different from the competitors? Why do you think this works well? If I was a child, how would you explain to me how our products work?'"
     },
     "metadata": {}
    },
    {
     "output_type": "display_data",
     "data": {
      "text/plain": "'No answer'"
     },
     "metadata": {}
    },
    {
     "output_type": "display_data",
     "data": {
      "text/plain": "180"
     },
     "metadata": {}
    },
    {
     "output_type": "display_data",
     "data": {
      "text/plain": "'Analyst Data Science at Criteo was asked...'"
     },
     "metadata": {}
    },
    {
     "output_type": "display_data",
     "data": {
      "text/plain": "\"How would you explain Criteo's business model to an expert in re-targeting?\""
     },
     "metadata": {}
    },
    {
     "output_type": "display_data",
     "data": {
      "text/plain": "'No answer'"
     },
     "metadata": {}
    },
    {
     "output_type": "display_data",
     "data": {
      "text/plain": "181"
     },
     "metadata": {}
    },
    {
     "output_type": "display_data",
     "data": {
      "text/plain": "'Data Scientist at TeamCMP was asked...'"
     },
     "metadata": {}
    },
    {
     "output_type": "display_data",
     "data": {
      "text/plain": "'Describe como funciona un algoritmo supervisado de ML. Describe como funciona un no supervisado. Preguntas de experiencia y como lo resolviste.'"
     },
     "metadata": {}
    },
    {
     "output_type": "display_data",
     "data": {
      "text/plain": "'No answer'"
     },
     "metadata": {}
    },
    {
     "output_type": "display_data",
     "data": {
      "text/plain": "                                           job_company  \\\n0         Data Analyst at Electronic Arts was asked...   \n1    Business Intelligence and Data Science Analyst...   \n2              Data Scientist at Typeform was asked...   \n3                  Data Scientist at King was asked...   \n4    Data Analyst/Data Scientist at Boston Consulti...   \n..                                                 ...   \n176           Data Analyst at Morningstar was asked...   \n177             Data Scientist at TeamCMP was asked...   \n178              Data Scientist at Criteo was asked...   \n179        Analyst Data Science at Criteo was asked...   \n180             Data Scientist at TeamCMP was asked...   \n\n                                             questions  \\\n0    What was one of the biggest challenge on your ...   \n1                     How many universes did I managed   \n2                    How experienced are you with SQL?   \n3    How would you implement a factorial function w...   \n4    Specific bussiness related questions to a case...   \n..                                                 ...   \n176  Why do you think yourself best candidate for t...   \n177  Describe como funciona un algoritmo supervisad...   \n178  Why Criteo? What makes Criteo different from t...   \n179  How would you explain Criteo's business model ...   \n180  Describe como funciona un algoritmo supervisad...   \n\n                                               answers country  \n0    I answered with a challenge I had when I had t...   Spain  \n1                    Really I have enough with mine ;)   Spain  \n2                 Sounds about right -- shady company.   Spain  \n3    Recursion function factorial(n) { if n = 0 ret...   Spain  \n4    Calculations. You only have 1:30 seconds per q...   Spain  \n..                                                 ...     ...  \n176                                          No answer   Spain  \n177                                          No answer   Spain  \n178                                          No answer   Spain  \n179                                          No answer   Spain  \n180                                          No answer   Spain  \n\n[181 rows x 4 columns]",
      "text/html": "<div>\n<style scoped>\n    .dataframe tbody tr th:only-of-type {\n        vertical-align: middle;\n    }\n\n    .dataframe tbody tr th {\n        vertical-align: top;\n    }\n\n    .dataframe thead th {\n        text-align: right;\n    }\n</style>\n<table border=\"1\" class=\"dataframe\">\n  <thead>\n    <tr style=\"text-align: right;\">\n      <th></th>\n      <th>job_company</th>\n      <th>questions</th>\n      <th>answers</th>\n      <th>country</th>\n    </tr>\n  </thead>\n  <tbody>\n    <tr>\n      <th>0</th>\n      <td>Data Analyst at Electronic Arts was asked...</td>\n      <td>What was one of the biggest challenge on your ...</td>\n      <td>I answered with a challenge I had when I had t...</td>\n      <td>Spain</td>\n    </tr>\n    <tr>\n      <th>1</th>\n      <td>Business Intelligence and Data Science Analyst...</td>\n      <td>How many universes did I managed</td>\n      <td>Really I have enough with mine ;)</td>\n      <td>Spain</td>\n    </tr>\n    <tr>\n      <th>2</th>\n      <td>Data Scientist at Typeform was asked...</td>\n      <td>How experienced are you with SQL?</td>\n      <td>Sounds about right -- shady company.</td>\n      <td>Spain</td>\n    </tr>\n    <tr>\n      <th>3</th>\n      <td>Data Scientist at King was asked...</td>\n      <td>How would you implement a factorial function w...</td>\n      <td>Recursion function factorial(n) { if n = 0 ret...</td>\n      <td>Spain</td>\n    </tr>\n    <tr>\n      <th>4</th>\n      <td>Data Analyst/Data Scientist at Boston Consulti...</td>\n      <td>Specific bussiness related questions to a case...</td>\n      <td>Calculations. You only have 1:30 seconds per q...</td>\n      <td>Spain</td>\n    </tr>\n    <tr>\n      <th>...</th>\n      <td>...</td>\n      <td>...</td>\n      <td>...</td>\n      <td>...</td>\n    </tr>\n    <tr>\n      <th>176</th>\n      <td>Data Analyst at Morningstar was asked...</td>\n      <td>Why do you think yourself best candidate for t...</td>\n      <td>No answer</td>\n      <td>Spain</td>\n    </tr>\n    <tr>\n      <th>177</th>\n      <td>Data Scientist at TeamCMP was asked...</td>\n      <td>Describe como funciona un algoritmo supervisad...</td>\n      <td>No answer</td>\n      <td>Spain</td>\n    </tr>\n    <tr>\n      <th>178</th>\n      <td>Data Scientist at Criteo was asked...</td>\n      <td>Why Criteo? What makes Criteo different from t...</td>\n      <td>No answer</td>\n      <td>Spain</td>\n    </tr>\n    <tr>\n      <th>179</th>\n      <td>Analyst Data Science at Criteo was asked...</td>\n      <td>How would you explain Criteo's business model ...</td>\n      <td>No answer</td>\n      <td>Spain</td>\n    </tr>\n    <tr>\n      <th>180</th>\n      <td>Data Scientist at TeamCMP was asked...</td>\n      <td>Describe como funciona un algoritmo supervisad...</td>\n      <td>No answer</td>\n      <td>Spain</td>\n    </tr>\n  </tbody>\n</table>\n<p>181 rows × 4 columns</p>\n</div>"
     },
     "metadata": {}
    }
   ],
   "source": [
    "job_title_da = 'Data Analyst' ## Lets search Data analytics\n",
    "location_pt = 'Spain' ## Lets search Data analytics\n",
    "\n",
    "data_to_csv(location_pt,interview_info(job_title_da,location_pt))"
   ]
  },
  {
   "cell_type": "code",
   "execution_count": 27,
   "metadata": {},
   "outputs": [
    {
     "output_type": "display_data",
     "data": {
      "text/plain": "1"
     },
     "metadata": {}
    },
    {
     "output_type": "display_data",
     "data": {
      "text/plain": "'Web Developer at Glovo was asked...'"
     },
     "metadata": {}
    },
    {
     "output_type": "display_data",
     "data": {
      "text/plain": "'\"Imagine its your first week in the company and I ask you to do a presentation of your choice in front of your colleagues, what would it be about?\"'"
     },
     "metadata": {}
    },
    {
     "output_type": "display_data",
     "data": {
      "text/plain": "'My Chioce will be service render'"
     },
     "metadata": {}
    },
    {
     "output_type": "display_data",
     "data": {
      "text/plain": "2"
     },
     "metadata": {}
    },
    {
     "output_type": "display_data",
     "data": {
      "text/plain": "'Web Developer at Glovo was asked...'"
     },
     "metadata": {}
    },
    {
     "output_type": "display_data",
     "data": {
      "text/plain": "'They asked me to explain how the Internet works'"
     },
     "metadata": {}
    },
    {
     "output_type": "display_data",
     "data": {
      "text/plain": "'First your network must be strong and fast you must have a long charging power bank in case your battery phone runs is about to rundawn glovo send order only when your battery percent is 10 anything lesser than ten percent you will not rescieve any order from glovo'"
     },
     "metadata": {}
    },
    {
     "output_type": "display_data",
     "data": {
      "text/plain": "3"
     },
     "metadata": {}
    },
    {
     "output_type": "display_data",
     "data": {
      "text/plain": "'Web Developer at Adaptive Financial Consulting was asked...'"
     },
     "metadata": {}
    },
    {
     "output_type": "display_data",
     "data": {
      "text/plain": "'Tell us about component lifecycle in React.'"
     },
     "metadata": {}
    },
    {
     "output_type": "display_data",
     "data": {
      "text/plain": "'Mentioned the most useful core methods, but they insisted on describing even deprecated ones.'"
     },
     "metadata": {}
    },
    {
     "output_type": "display_data",
     "data": {
      "text/plain": "4"
     },
     "metadata": {}
    },
    {
     "output_type": "display_data",
     "data": {
      "text/plain": "'Junior Web Developer at Marfeel was asked...'"
     },
     "metadata": {}
    },
    {
     "output_type": "display_data",
     "data": {
      "text/plain": "\"You don't have to say if you don't want to, but how much did you make at your last company?\""
     },
     "metadata": {}
    },
    {
     "output_type": "display_data",
     "data": {
      "text/plain": "'I told them the range of how much it was.'"
     },
     "metadata": {}
    },
    {
     "output_type": "display_data",
     "data": {
      "text/plain": "5"
     },
     "metadata": {}
    },
    {
     "output_type": "display_data",
     "data": {
      "text/plain": "'Web Developer at Avature was asked...'"
     },
     "metadata": {}
    },
    {
     "output_type": "display_data",
     "data": {
      "text/plain": "'Revisión de código + 2 ejercicios de programación.'"
     },
     "metadata": {}
    },
    {
     "output_type": "display_data",
     "data": {
      "text/plain": "'No answer'"
     },
     "metadata": {}
    },
    {
     "output_type": "display_data",
     "data": {
      "text/plain": "6"
     },
     "metadata": {}
    },
    {
     "output_type": "display_data",
     "data": {
      "text/plain": "'Desarrollador Web at Denodo was asked...'"
     },
     "metadata": {}
    },
    {
     "output_type": "display_data",
     "data": {
      "text/plain": "'Unas 30 preguntas técnicas tipo test que la mayoría nada tenían que ver con lo que solicitaban en la oferta de trabajo.'"
     },
     "metadata": {}
    },
    {
     "output_type": "display_data",
     "data": {
      "text/plain": "'No answer'"
     },
     "metadata": {}
    },
    {
     "output_type": "display_data",
     "data": {
      "text/plain": "7"
     },
     "metadata": {}
    },
    {
     "output_type": "display_data",
     "data": {
      "text/plain": "'Junior Web Developer at Netguru was asked...'"
     },
     "metadata": {}
    },
    {
     "output_type": "display_data",
     "data": {
      "text/plain": "'They gave me a practical task to complete.'"
     },
     "metadata": {}
    },
    {
     "output_type": "display_data",
     "data": {
      "text/plain": "'No answer'"
     },
     "metadata": {}
    },
    {
     "output_type": "display_data",
     "data": {
      "text/plain": "8"
     },
     "metadata": {}
    },
    {
     "output_type": "display_data",
     "data": {
      "text/plain": "'Desarrollador Web Junior at Sopra Steria was asked...'"
     },
     "metadata": {}
    },
    {
     "output_type": "display_data",
     "data": {
      "text/plain": "'Acerca de mis intereses e inquietudes'"
     },
     "metadata": {}
    },
    {
     "output_type": "display_data",
     "data": {
      "text/plain": "'No answer'"
     },
     "metadata": {}
    },
    {
     "output_type": "display_data",
     "data": {
      "text/plain": "9"
     },
     "metadata": {}
    },
    {
     "output_type": "display_data",
     "data": {
      "text/plain": "'Full Stack Web Developer at Gamesys was asked...'"
     },
     "metadata": {}
    },
    {
     "output_type": "display_data",
     "data": {
      "text/plain": "'Much more...'"
     },
     "metadata": {}
    },
    {
     "output_type": "display_data",
     "data": {
      "text/plain": "'No answer'"
     },
     "metadata": {}
    },
    {
     "output_type": "display_data",
     "data": {
      "text/plain": "10"
     },
     "metadata": {}
    },
    {
     "output_type": "display_data",
     "data": {
      "text/plain": "'Full Stack Web Developer at Gamesys was asked...'"
     },
     "metadata": {}
    },
    {
     "output_type": "display_data",
     "data": {
      "text/plain": "\"what's immutability? explain\""
     },
     "metadata": {}
    },
    {
     "output_type": "display_data",
     "data": {
      "text/plain": "'No answer'"
     },
     "metadata": {}
    },
    {
     "output_type": "display_data",
     "data": {
      "text/plain": "11"
     },
     "metadata": {}
    },
    {
     "output_type": "display_data",
     "data": {
      "text/plain": "'Desarrollador Web at Capgemini was asked...'"
     },
     "metadata": {}
    },
    {
     "output_type": "display_data",
     "data": {
      "text/plain": "'Experiencia, nivel en ciertas tecnologías, predisposición..'"
     },
     "metadata": {}
    },
    {
     "output_type": "display_data",
     "data": {
      "text/plain": "'No answer'"
     },
     "metadata": {}
    },
    {
     "output_type": "display_data",
     "data": {
      "text/plain": "12"
     },
     "metadata": {}
    },
    {
     "output_type": "display_data",
     "data": {
      "text/plain": "'Desarrollador Web at GRUPO OESÍA was asked...'"
     },
     "metadata": {}
    },
    {
     "output_type": "display_data",
     "data": {
      "text/plain": "'Se planteó un debate entre los asistentes a la entrevista con motivo de ponernos de acuerdo en una decisión'"
     },
     "metadata": {}
    },
    {
     "output_type": "display_data",
     "data": {
      "text/plain": "'No answer'"
     },
     "metadata": {}
    },
    {
     "output_type": "display_data",
     "data": {
      "text/plain": "13"
     },
     "metadata": {}
    },
    {
     "output_type": "display_data",
     "data": {
      "text/plain": "'Web Developer at Bay Media was asked...'"
     },
     "metadata": {}
    },
    {
     "output_type": "display_data",
     "data": {
      "text/plain": "'Tell me about yourself?'"
     },
     "metadata": {}
    },
    {
     "output_type": "display_data",
     "data": {
      "text/plain": "'No answer'"
     },
     "metadata": {}
    },
    {
     "output_type": "display_data",
     "data": {
      "text/plain": "14"
     },
     "metadata": {}
    },
    {
     "output_type": "display_data",
     "data": {
      "text/plain": "'Web Developer at Bay Media was asked...'"
     },
     "metadata": {}
    },
    {
     "output_type": "display_data",
     "data": {
      "text/plain": "'What is your weakness?'"
     },
     "metadata": {}
    },
    {
     "output_type": "display_data",
     "data": {
      "text/plain": "'No answer'"
     },
     "metadata": {}
    },
    {
     "output_type": "display_data",
     "data": {
      "text/plain": "15"
     },
     "metadata": {}
    },
    {
     "output_type": "display_data",
     "data": {
      "text/plain": "'Desarrollador Web at Denodo was asked...'"
     },
     "metadata": {}
    },
    {
     "output_type": "display_data",
     "data": {
      "text/plain": "'Preguntas abiertas sobre lo que esperaba de la empresa y si los conocía de antes.'"
     },
     "metadata": {}
    },
    {
     "output_type": "display_data",
     "data": {
      "text/plain": "'No answer'"
     },
     "metadata": {}
    },
    {
     "output_type": "display_data",
     "data": {
      "text/plain": "16"
     },
     "metadata": {}
    },
    {
     "output_type": "display_data",
     "data": {
      "text/plain": "'Desarrollador Web at Holded was asked...'"
     },
     "metadata": {}
    },
    {
     "output_type": "display_data",
     "data": {
      "text/plain": "'Años de experiencia, si trabajaba con las tecnologías que utilizan, tiempo de experiencia y por ultimo realice una prueba tecnica.'"
     },
     "metadata": {}
    },
    {
     "output_type": "display_data",
     "data": {
      "text/plain": "'No answer'"
     },
     "metadata": {}
    },
    {
     "output_type": "display_data",
     "data": {
      "text/plain": "17"
     },
     "metadata": {}
    },
    {
     "output_type": "display_data",
     "data": {
      "text/plain": "'.NET Web Developer at Electronic Arts was asked...'"
     },
     "metadata": {}
    },
    {
     "output_type": "display_data",
     "data": {
      "text/plain": "'Which programming language do you prefer?'"
     },
     "metadata": {}
    },
    {
     "output_type": "display_data",
     "data": {
      "text/plain": "'No answer'"
     },
     "metadata": {}
    },
    {
     "output_type": "display_data",
     "data": {
      "text/plain": "18"
     },
     "metadata": {}
    },
    {
     "output_type": "display_data",
     "data": {
      "text/plain": "'Full Stack Web Developer at Gamesys was asked...'"
     },
     "metadata": {}
    },
    {
     "output_type": "display_data",
     "data": {
      "text/plain": "'differences between list and hash (Java)'"
     },
     "metadata": {}
    },
    {
     "output_type": "display_data",
     "data": {
      "text/plain": "'No answer'"
     },
     "metadata": {}
    },
    {
     "output_type": "display_data",
     "data": {
      "text/plain": "19"
     },
     "metadata": {}
    },
    {
     "output_type": "display_data",
     "data": {
      "text/plain": "'Web Developer at Atrapalo was asked...'"
     },
     "metadata": {}
    },
    {
     "output_type": "display_data",
     "data": {
      "text/plain": "'Mi motivación para trabajar en Atrápalo, si conocía la empresa o tenía algún conocido trabajando dentro, mi formación técnica y mi experiencia laboral.'"
     },
     "metadata": {}
    },
    {
     "output_type": "display_data",
     "data": {
      "text/plain": "'No answer'"
     },
     "metadata": {}
    },
    {
     "output_type": "display_data",
     "data": {
      "text/plain": "20"
     },
     "metadata": {}
    },
    {
     "output_type": "display_data",
     "data": {
      "text/plain": "'Desarrollador Web at Seidor was asked...'"
     },
     "metadata": {}
    },
    {
     "output_type": "display_data",
     "data": {
      "text/plain": "'Cuantos años de experiencia tenia.'"
     },
     "metadata": {}
    },
    {
     "output_type": "display_data",
     "data": {
      "text/plain": "'No answer'"
     },
     "metadata": {}
    },
    {
     "output_type": "display_data",
     "data": {
      "text/plain": "21"
     },
     "metadata": {}
    },
    {
     "output_type": "display_data",
     "data": {
      "text/plain": "'Web Developer at Bay Media was asked...'"
     },
     "metadata": {}
    },
    {
     "output_type": "display_data",
     "data": {
      "text/plain": "'How would you improve our business?'"
     },
     "metadata": {}
    },
    {
     "output_type": "display_data",
     "data": {
      "text/plain": "'No answer'"
     },
     "metadata": {}
    },
    {
     "output_type": "display_data",
     "data": {
      "text/plain": "22"
     },
     "metadata": {}
    },
    {
     "output_type": "display_data",
     "data": {
      "text/plain": "'.NET Web Developer at Electronic Arts was asked...'"
     },
     "metadata": {}
    },
    {
     "output_type": "display_data",
     "data": {
      "text/plain": "'Familiar with Agile?'"
     },
     "metadata": {}
    },
    {
     "output_type": "display_data",
     "data": {
      "text/plain": "'No answer'"
     },
     "metadata": {}
    },
    {
     "output_type": "display_data",
     "data": {
      "text/plain": "                                          job_company  \\\n0                 Web Developer at Glovo was asked...   \n1                 Web Developer at Glovo was asked...   \n2   Web Developer at Adaptive Financial Consulting...   \n3        Junior Web Developer at Marfeel was asked...   \n4               Web Developer at Avature was asked...   \n5            Desarrollador Web at Denodo was asked...   \n6        Junior Web Developer at Netguru was asked...   \n7   Desarrollador Web Junior at Sopra Steria was a...   \n8    Full Stack Web Developer at Gamesys was asked...   \n9    Full Stack Web Developer at Gamesys was asked...   \n10        Desarrollador Web at Capgemini was asked...   \n11      Desarrollador Web at GRUPO OESÍA was asked...   \n12            Web Developer at Bay Media was asked...   \n13            Web Developer at Bay Media was asked...   \n14           Desarrollador Web at Denodo was asked...   \n15           Desarrollador Web at Holded was asked...   \n16  .NET Web Developer at Electronic Arts was aske...   \n17   Full Stack Web Developer at Gamesys was asked...   \n18             Web Developer at Atrapalo was asked...   \n19           Desarrollador Web at Seidor was asked...   \n20            Web Developer at Bay Media was asked...   \n21  .NET Web Developer at Electronic Arts was aske...   \n\n                                            questions  \\\n0   \"Imagine its your first week in the company an...   \n1     They asked me to explain how the Internet works   \n2         Tell us about component lifecycle in React.   \n3   You don't have to say if you don't want to, bu...   \n4   Revisión de código + 2 ejercicios de programac...   \n5   Unas 30 preguntas técnicas tipo test que la ma...   \n6          They gave me a practical task to complete.   \n7               Acerca de mis intereses e inquietudes   \n8                                        Much more...   \n9                        what's immutability? explain   \n10  Experiencia, nivel en ciertas tecnologías, pre...   \n11  Se planteó un debate entre los asistentes a la...   \n12                            Tell me about yourself?   \n13                             What is your weakness?   \n14  Preguntas abiertas sobre lo que esperaba de la...   \n15  Años de experiencia, si trabajaba con las tecn...   \n16          Which programming language do you prefer?   \n17           differences between list and hash (Java)   \n18  Mi motivación para trabajar en Atrápalo, si co...   \n19                 Cuantos años de experiencia tenia.   \n20                How would you improve our business?   \n21                               Familiar with Agile?   \n\n                                              answers country           area  \n0                    My Chioce will be service render   Spain  Web Developer  \n1   First your network must be strong and fast you...   Spain  Web Developer  \n2   Mentioned the most useful core methods, but th...   Spain  Web Developer  \n3           I told them the range of how much it was.   Spain  Web Developer  \n4                                           No answer   Spain  Web Developer  \n5                                           No answer   Spain  Web Developer  \n6                                           No answer   Spain  Web Developer  \n7                                           No answer   Spain  Web Developer  \n8                                           No answer   Spain  Web Developer  \n9                                           No answer   Spain  Web Developer  \n10                                          No answer   Spain  Web Developer  \n11                                          No answer   Spain  Web Developer  \n12                                          No answer   Spain  Web Developer  \n13                                          No answer   Spain  Web Developer  \n14                                          No answer   Spain  Web Developer  \n15                                          No answer   Spain  Web Developer  \n16                                          No answer   Spain  Web Developer  \n17                                          No answer   Spain  Web Developer  \n18                                          No answer   Spain  Web Developer  \n19                                          No answer   Spain  Web Developer  \n20                                          No answer   Spain  Web Developer  \n21                                          No answer   Spain  Web Developer  ",
      "text/html": "<div>\n<style scoped>\n    .dataframe tbody tr th:only-of-type {\n        vertical-align: middle;\n    }\n\n    .dataframe tbody tr th {\n        vertical-align: top;\n    }\n\n    .dataframe thead th {\n        text-align: right;\n    }\n</style>\n<table border=\"1\" class=\"dataframe\">\n  <thead>\n    <tr style=\"text-align: right;\">\n      <th></th>\n      <th>job_company</th>\n      <th>questions</th>\n      <th>answers</th>\n      <th>country</th>\n      <th>area</th>\n    </tr>\n  </thead>\n  <tbody>\n    <tr>\n      <th>0</th>\n      <td>Web Developer at Glovo was asked...</td>\n      <td>\"Imagine its your first week in the company an...</td>\n      <td>My Chioce will be service render</td>\n      <td>Spain</td>\n      <td>Web Developer</td>\n    </tr>\n    <tr>\n      <th>1</th>\n      <td>Web Developer at Glovo was asked...</td>\n      <td>They asked me to explain how the Internet works</td>\n      <td>First your network must be strong and fast you...</td>\n      <td>Spain</td>\n      <td>Web Developer</td>\n    </tr>\n    <tr>\n      <th>2</th>\n      <td>Web Developer at Adaptive Financial Consulting...</td>\n      <td>Tell us about component lifecycle in React.</td>\n      <td>Mentioned the most useful core methods, but th...</td>\n      <td>Spain</td>\n      <td>Web Developer</td>\n    </tr>\n    <tr>\n      <th>3</th>\n      <td>Junior Web Developer at Marfeel was asked...</td>\n      <td>You don't have to say if you don't want to, bu...</td>\n      <td>I told them the range of how much it was.</td>\n      <td>Spain</td>\n      <td>Web Developer</td>\n    </tr>\n    <tr>\n      <th>4</th>\n      <td>Web Developer at Avature was asked...</td>\n      <td>Revisión de código + 2 ejercicios de programac...</td>\n      <td>No answer</td>\n      <td>Spain</td>\n      <td>Web Developer</td>\n    </tr>\n    <tr>\n      <th>5</th>\n      <td>Desarrollador Web at Denodo was asked...</td>\n      <td>Unas 30 preguntas técnicas tipo test que la ma...</td>\n      <td>No answer</td>\n      <td>Spain</td>\n      <td>Web Developer</td>\n    </tr>\n    <tr>\n      <th>6</th>\n      <td>Junior Web Developer at Netguru was asked...</td>\n      <td>They gave me a practical task to complete.</td>\n      <td>No answer</td>\n      <td>Spain</td>\n      <td>Web Developer</td>\n    </tr>\n    <tr>\n      <th>7</th>\n      <td>Desarrollador Web Junior at Sopra Steria was a...</td>\n      <td>Acerca de mis intereses e inquietudes</td>\n      <td>No answer</td>\n      <td>Spain</td>\n      <td>Web Developer</td>\n    </tr>\n    <tr>\n      <th>8</th>\n      <td>Full Stack Web Developer at Gamesys was asked...</td>\n      <td>Much more...</td>\n      <td>No answer</td>\n      <td>Spain</td>\n      <td>Web Developer</td>\n    </tr>\n    <tr>\n      <th>9</th>\n      <td>Full Stack Web Developer at Gamesys was asked...</td>\n      <td>what's immutability? explain</td>\n      <td>No answer</td>\n      <td>Spain</td>\n      <td>Web Developer</td>\n    </tr>\n    <tr>\n      <th>10</th>\n      <td>Desarrollador Web at Capgemini was asked...</td>\n      <td>Experiencia, nivel en ciertas tecnologías, pre...</td>\n      <td>No answer</td>\n      <td>Spain</td>\n      <td>Web Developer</td>\n    </tr>\n    <tr>\n      <th>11</th>\n      <td>Desarrollador Web at GRUPO OESÍA was asked...</td>\n      <td>Se planteó un debate entre los asistentes a la...</td>\n      <td>No answer</td>\n      <td>Spain</td>\n      <td>Web Developer</td>\n    </tr>\n    <tr>\n      <th>12</th>\n      <td>Web Developer at Bay Media was asked...</td>\n      <td>Tell me about yourself?</td>\n      <td>No answer</td>\n      <td>Spain</td>\n      <td>Web Developer</td>\n    </tr>\n    <tr>\n      <th>13</th>\n      <td>Web Developer at Bay Media was asked...</td>\n      <td>What is your weakness?</td>\n      <td>No answer</td>\n      <td>Spain</td>\n      <td>Web Developer</td>\n    </tr>\n    <tr>\n      <th>14</th>\n      <td>Desarrollador Web at Denodo was asked...</td>\n      <td>Preguntas abiertas sobre lo que esperaba de la...</td>\n      <td>No answer</td>\n      <td>Spain</td>\n      <td>Web Developer</td>\n    </tr>\n    <tr>\n      <th>15</th>\n      <td>Desarrollador Web at Holded was asked...</td>\n      <td>Años de experiencia, si trabajaba con las tecn...</td>\n      <td>No answer</td>\n      <td>Spain</td>\n      <td>Web Developer</td>\n    </tr>\n    <tr>\n      <th>16</th>\n      <td>.NET Web Developer at Electronic Arts was aske...</td>\n      <td>Which programming language do you prefer?</td>\n      <td>No answer</td>\n      <td>Spain</td>\n      <td>Web Developer</td>\n    </tr>\n    <tr>\n      <th>17</th>\n      <td>Full Stack Web Developer at Gamesys was asked...</td>\n      <td>differences between list and hash (Java)</td>\n      <td>No answer</td>\n      <td>Spain</td>\n      <td>Web Developer</td>\n    </tr>\n    <tr>\n      <th>18</th>\n      <td>Web Developer at Atrapalo was asked...</td>\n      <td>Mi motivación para trabajar en Atrápalo, si co...</td>\n      <td>No answer</td>\n      <td>Spain</td>\n      <td>Web Developer</td>\n    </tr>\n    <tr>\n      <th>19</th>\n      <td>Desarrollador Web at Seidor was asked...</td>\n      <td>Cuantos años de experiencia tenia.</td>\n      <td>No answer</td>\n      <td>Spain</td>\n      <td>Web Developer</td>\n    </tr>\n    <tr>\n      <th>20</th>\n      <td>Web Developer at Bay Media was asked...</td>\n      <td>How would you improve our business?</td>\n      <td>No answer</td>\n      <td>Spain</td>\n      <td>Web Developer</td>\n    </tr>\n    <tr>\n      <th>21</th>\n      <td>.NET Web Developer at Electronic Arts was aske...</td>\n      <td>Familiar with Agile?</td>\n      <td>No answer</td>\n      <td>Spain</td>\n      <td>Web Developer</td>\n    </tr>\n  </tbody>\n</table>\n</div>"
     },
     "metadata": {}
    }
   ],
   "source": [
    "job_title_da = 'Web Developer' ## Lets search Data analytics\n",
    "location_pt = 'Spain' ## Lets search Data analytics\n",
    "\n",
    "data_to_csv(location_pt,interview_info(job_title_da,location_pt))"
   ]
  },
  {
   "cell_type": "code",
   "execution_count": 28,
   "metadata": {},
   "outputs": [
    {
     "output_type": "display_data",
     "data": {
      "text/plain": "1"
     },
     "metadata": {}
    },
    {
     "output_type": "display_data",
     "data": {
      "text/plain": "'UX Designer at Hostaway was asked...'"
     },
     "metadata": {}
    },
    {
     "output_type": "display_data",
     "data": {
      "text/plain": "'How will you find people for usability testing if you cannot find any existing clients locally?'"
     },
     "metadata": {}
    },
    {
     "output_type": "display_data",
     "data": {
      "text/plain": "'Usability testing is better to be done with people who have not interacted with product before. So, we are escaping the biased answers and personal likes/dislikes and evaluating the usability of a system from an independent point of view.'"
     },
     "metadata": {}
    },
    {
     "output_type": "display_data",
     "data": {
      "text/plain": "2"
     },
     "metadata": {}
    },
    {
     "output_type": "display_data",
     "data": {
      "text/plain": "'UI/UX Designer at Seocom was asked...'"
     },
     "metadata": {}
    },
    {
     "output_type": "display_data",
     "data": {
      "text/plain": "'Since I dont know spanish he asked how much i understand and speak and if i understand design words.'"
     },
     "metadata": {}
    },
    {
     "output_type": "display_data",
     "data": {
      "text/plain": "'I said no but that I am a fast learner and I understand basic conversation spanish'"
     },
     "metadata": {}
    },
    {
     "output_type": "display_data",
     "data": {
      "text/plain": "3"
     },
     "metadata": {}
    },
    {
     "output_type": "display_data",
     "data": {
      "text/plain": "'UX Designer at GFT Technologies was asked...'"
     },
     "metadata": {}
    },
    {
     "output_type": "display_data",
     "data": {
      "text/plain": "'They did asked difficult questions'"
     },
     "metadata": {}
    },
    {
     "output_type": "display_data",
     "data": {
      "text/plain": "'Nothing was unexpected'"
     },
     "metadata": {}
    },
    {
     "output_type": "display_data",
     "data": {
      "text/plain": "4"
     },
     "metadata": {}
    },
    {
     "output_type": "display_data",
     "data": {
      "text/plain": "'UI-UX Designer at Hewlett Packard Enterprise | HPE was asked...'"
     },
     "metadata": {}
    },
    {
     "output_type": "display_data",
     "data": {
      "text/plain": "'What were my current responsibilities'"
     },
     "metadata": {}
    },
    {
     "output_type": "display_data",
     "data": {
      "text/plain": "'Saying what I do actually execute in my current job'"
     },
     "metadata": {}
    },
    {
     "output_type": "display_data",
     "data": {
      "text/plain": "5"
     },
     "metadata": {}
    },
    {
     "output_type": "display_data",
     "data": {
      "text/plain": "'UX Designer at Wysiwyg was asked...'"
     },
     "metadata": {}
    },
    {
     "output_type": "display_data",
     "data": {
      "text/plain": "'How do you propose a user test?'"
     },
     "metadata": {}
    },
    {
     "output_type": "display_data",
     "data": {
      "text/plain": "'No answer'"
     },
     "metadata": {}
    },
    {
     "output_type": "display_data",
     "data": {
      "text/plain": "6"
     },
     "metadata": {}
    },
    {
     "output_type": "display_data",
     "data": {
      "text/plain": "'Diseñador Ux/Ui at KingEclient was asked...'"
     },
     "metadata": {}
    },
    {
     "output_type": "display_data",
     "data": {
      "text/plain": "'Parece que antes de se entrevistado como tal y conocer las condiciones; los candidatos tienen que hacerse valer entregando una prueba técnica de la que ni siquiera te dan feedback al ser descartado. Lamentable departamento de selección. Ninguna seriedad ni profesionalidad.'"
     },
     "metadata": {}
    },
    {
     "output_type": "display_data",
     "data": {
      "text/plain": "'Apenas hablé 3 minutos con la seleccionadora, antes de que me pidieran una prueba técnica una semana después, con un correo plantilla.'"
     },
     "metadata": {}
    },
    {
     "output_type": "display_data",
     "data": {
      "text/plain": "7"
     },
     "metadata": {}
    },
    {
     "output_type": "display_data",
     "data": {
      "text/plain": "'UX Designer at Domestika was asked...'"
     },
     "metadata": {}
    },
    {
     "output_type": "display_data",
     "data": {
      "text/plain": "'Experiencia pasada.'"
     },
     "metadata": {}
    },
    {
     "output_type": "display_data",
     "data": {
      "text/plain": "'No answer'"
     },
     "metadata": {}
    },
    {
     "output_type": "display_data",
     "data": {
      "text/plain": "8"
     },
     "metadata": {}
    },
    {
     "output_type": "display_data",
     "data": {
      "text/plain": "'UX Designer at New Work SE was asked...'"
     },
     "metadata": {}
    },
    {
     "output_type": "display_data",
     "data": {
      "text/plain": "'How is your current team set up?'"
     },
     "metadata": {}
    },
    {
     "output_type": "display_data",
     "data": {
      "text/plain": "'No answer'"
     },
     "metadata": {}
    },
    {
     "output_type": "display_data",
     "data": {
      "text/plain": "9"
     },
     "metadata": {}
    },
    {
     "output_type": "display_data",
     "data": {
      "text/plain": "'Senior UX Designer at King was asked...'"
     },
     "metadata": {}
    },
    {
     "output_type": "display_data",
     "data": {
      "text/plain": "'Most questions were related to personal work experience. The questions were relative standard questions for this area. But also some questions about how to manage a team, how to solve problems, what is not going well in the current team and project and how to tackle them etc.'"
     },
     "metadata": {}
    },
    {
     "output_type": "display_data",
     "data": {
      "text/plain": "'No answer'"
     },
     "metadata": {}
    },
    {
     "output_type": "display_data",
     "data": {
      "text/plain": "10"
     },
     "metadata": {}
    },
    {
     "output_type": "display_data",
     "data": {
      "text/plain": "'UI/UX Designer at TeamCMP was asked...'"
     },
     "metadata": {}
    },
    {
     "output_type": "display_data",
     "data": {
      "text/plain": "'What would be your ideal working environment?'"
     },
     "metadata": {}
    },
    {
     "output_type": "display_data",
     "data": {
      "text/plain": "'No answer'"
     },
     "metadata": {}
    },
    {
     "output_type": "display_data",
     "data": {
      "text/plain": "11"
     },
     "metadata": {}
    },
    {
     "output_type": "display_data",
     "data": {
      "text/plain": "'UX Designer at Polymatica was asked...'"
     },
     "metadata": {}
    },
    {
     "output_type": "display_data",
     "data": {
      "text/plain": "'Previous experience. Current expectations'"
     },
     "metadata": {}
    },
    {
     "output_type": "display_data",
     "data": {
      "text/plain": "'No answer'"
     },
     "metadata": {}
    },
    {
     "output_type": "display_data",
     "data": {
      "text/plain": "12"
     },
     "metadata": {}
    },
    {
     "output_type": "display_data",
     "data": {
      "text/plain": "'UX Designer at Holded was asked...'"
     },
     "metadata": {}
    },
    {
     "output_type": "display_data",
     "data": {
      "text/plain": "'What would you bring to the project?'"
     },
     "metadata": {}
    },
    {
     "output_type": "display_data",
     "data": {
      "text/plain": "'No answer'"
     },
     "metadata": {}
    },
    {
     "output_type": "display_data",
     "data": {
      "text/plain": "13"
     },
     "metadata": {}
    },
    {
     "output_type": "display_data",
     "data": {
      "text/plain": "'UI-UX Designer at Fever was asked...'"
     },
     "metadata": {}
    },
    {
     "output_type": "display_data",
     "data": {
      "text/plain": "'I was asked to develop some high-fidelity mockups in 48h for a given case study (food journal app). There was no feedback on the things I sent, only a phone call from the recruiter saying I didn\\'t \"pass\" the test, which I found ridiculous.'"
     },
     "metadata": {}
    },
    {
     "output_type": "display_data",
     "data": {
      "text/plain": "'No answer'"
     },
     "metadata": {}
    },
    {
     "output_type": "display_data",
     "data": {
      "text/plain": "14"
     },
     "metadata": {}
    },
    {
     "output_type": "display_data",
     "data": {
      "text/plain": "'UX Designer at Amaris Consulting was asked...'"
     },
     "metadata": {}
    },
    {
     "output_type": "display_data",
     "data": {
      "text/plain": "'Past working experience and design tools used'"
     },
     "metadata": {}
    },
    {
     "output_type": "display_data",
     "data": {
      "text/plain": "'No answer'"
     },
     "metadata": {}
    },
    {
     "output_type": "display_data",
     "data": {
      "text/plain": "15"
     },
     "metadata": {}
    },
    {
     "output_type": "display_data",
     "data": {
      "text/plain": "'UI/UX Designer at Glovo was asked...'"
     },
     "metadata": {}
    },
    {
     "output_type": "display_data",
     "data": {
      "text/plain": "'What trends did you see these last years, and which upcoming ones do you see in the foreseeable future?'"
     },
     "metadata": {}
    },
    {
     "output_type": "display_data",
     "data": {
      "text/plain": "'No answer'"
     },
     "metadata": {}
    },
    {
     "output_type": "display_data",
     "data": {
      "text/plain": "16"
     },
     "metadata": {}
    },
    {
     "output_type": "display_data",
     "data": {
      "text/plain": "'UI/UX Designer at Sopra Steria was asked...'"
     },
     "metadata": {}
    },
    {
     "output_type": "display_data",
     "data": {
      "text/plain": "'Cómo es tu proceso de trabajo?'"
     },
     "metadata": {}
    },
    {
     "output_type": "display_data",
     "data": {
      "text/plain": "'No answer'"
     },
     "metadata": {}
    },
    {
     "output_type": "display_data",
     "data": {
      "text/plain": "17"
     },
     "metadata": {}
    },
    {
     "output_type": "display_data",
     "data": {
      "text/plain": "'UI/UX Designer at Kantox was asked...'"
     },
     "metadata": {}
    },
    {
     "output_type": "display_data",
     "data": {
      "text/plain": "'Kantox asked me how I would explain the work they do to my friends or family in a simple and easy to understand way.'"
     },
     "metadata": {}
    },
    {
     "output_type": "display_data",
     "data": {
      "text/plain": "'No answer'"
     },
     "metadata": {}
    },
    {
     "output_type": "display_data",
     "data": {
      "text/plain": "18"
     },
     "metadata": {}
    },
    {
     "output_type": "display_data",
     "data": {
      "text/plain": "'UI/UX Designer at Digital Origin was asked...'"
     },
     "metadata": {}
    },
    {
     "output_type": "display_data",
     "data": {
      "text/plain": "'where do you see in a couple of years?'"
     },
     "metadata": {}
    },
    {
     "output_type": "display_data",
     "data": {
      "text/plain": "'No answer'"
     },
     "metadata": {}
    },
    {
     "output_type": "display_data",
     "data": {
      "text/plain": "19"
     },
     "metadata": {}
    },
    {
     "output_type": "display_data",
     "data": {
      "text/plain": "'UX Designer at Igeneris was asked...'"
     },
     "metadata": {}
    },
    {
     "output_type": "display_data",
     "data": {
      "text/plain": "'¿Por qué elegí hacer app en vez de web? ¿Cómo haría la investigación de usuario si tuviera presupuesto infinito?'"
     },
     "metadata": {}
    },
    {
     "output_type": "display_data",
     "data": {
      "text/plain": "'No answer'"
     },
     "metadata": {}
    },
    {
     "output_type": "display_data",
     "data": {
      "text/plain": "20"
     },
     "metadata": {}
    },
    {
     "output_type": "display_data",
     "data": {
      "text/plain": "'UX Designer at eDreams ODIGEO was asked...'"
     },
     "metadata": {}
    },
    {
     "output_type": "display_data",
     "data": {
      "text/plain": "'How do you balance business needs with design needs? How do you provide value?'"
     },
     "metadata": {}
    },
    {
     "output_type": "display_data",
     "data": {
      "text/plain": "'No answer'"
     },
     "metadata": {}
    },
    {
     "output_type": "display_data",
     "data": {
      "text/plain": "21"
     },
     "metadata": {}
    },
    {
     "output_type": "display_data",
     "data": {
      "text/plain": "'UI/UX Designer at Socialpoint was asked...'"
     },
     "metadata": {}
    },
    {
     "output_type": "display_data",
     "data": {
      "text/plain": "'Are you a mobile player? How much time of your day do you invest in playing videogames?'"
     },
     "metadata": {}
    },
    {
     "output_type": "display_data",
     "data": {
      "text/plain": "'No answer'"
     },
     "metadata": {}
    },
    {
     "output_type": "display_data",
     "data": {
      "text/plain": "22"
     },
     "metadata": {}
    },
    {
     "output_type": "display_data",
     "data": {
      "text/plain": "'UX Designer at ALUXION LABS was asked...'"
     },
     "metadata": {}
    },
    {
     "output_type": "display_data",
     "data": {
      "text/plain": "'Realizar una prueba sin ni siquiera presentarse.'"
     },
     "metadata": {}
    },
    {
     "output_type": "display_data",
     "data": {
      "text/plain": "'No answer'"
     },
     "metadata": {}
    },
    {
     "output_type": "display_data",
     "data": {
      "text/plain": "23"
     },
     "metadata": {}
    },
    {
     "output_type": "display_data",
     "data": {
      "text/plain": "'Ui\\\\Ux Designer at ALUXION LABS was asked...'"
     },
     "metadata": {}
    },
    {
     "output_type": "display_data",
     "data": {
      "text/plain": "'Entre otras muchas preguntas, si había cometido algún error en algún trabajo y cómo lo solucioné.'"
     },
     "metadata": {}
    },
    {
     "output_type": "display_data",
     "data": {
      "text/plain": "'No answer'"
     },
     "metadata": {}
    },
    {
     "output_type": "display_data",
     "data": {
      "text/plain": "24"
     },
     "metadata": {}
    },
    {
     "output_type": "display_data",
     "data": {
      "text/plain": "'UI/UX Designer at Glovo was asked...'"
     },
     "metadata": {}
    },
    {
     "output_type": "display_data",
     "data": {
      "text/plain": "'What are the differences between designing for different native systems?'"
     },
     "metadata": {}
    },
    {
     "output_type": "display_data",
     "data": {
      "text/plain": "'No answer'"
     },
     "metadata": {}
    },
    {
     "output_type": "display_data",
     "data": {
      "text/plain": "25"
     },
     "metadata": {}
    },
    {
     "output_type": "display_data",
     "data": {
      "text/plain": "'UI/UX Designer at Glovo was asked...'"
     },
     "metadata": {}
    },
    {
     "output_type": "display_data",
     "data": {
      "text/plain": "\"What's Material?\""
     },
     "metadata": {}
    },
    {
     "output_type": "display_data",
     "data": {
      "text/plain": "'No answer'"
     },
     "metadata": {}
    },
    {
     "output_type": "display_data",
     "data": {
      "text/plain": "26"
     },
     "metadata": {}
    },
    {
     "output_type": "display_data",
     "data": {
      "text/plain": "'UI/UX Designer at Glovo was asked...'"
     },
     "metadata": {}
    },
    {
     "output_type": "display_data",
     "data": {
      "text/plain": "'What do you think of our App?'"
     },
     "metadata": {}
    },
    {
     "output_type": "display_data",
     "data": {
      "text/plain": "'No answer'"
     },
     "metadata": {}
    },
    {
     "output_type": "display_data",
     "data": {
      "text/plain": "27"
     },
     "metadata": {}
    },
    {
     "output_type": "display_data",
     "data": {
      "text/plain": "'Ui\\\\Ux Designer at Printful was asked...'"
     },
     "metadata": {}
    },
    {
     "output_type": "display_data",
     "data": {
      "text/plain": "'Breves preguntas para acabar de aclarar puntos de tu CV.'"
     },
     "metadata": {}
    },
    {
     "output_type": "display_data",
     "data": {
      "text/plain": "'No answer'"
     },
     "metadata": {}
    },
    {
     "output_type": "display_data",
     "data": {
      "text/plain": "28"
     },
     "metadata": {}
    },
    {
     "output_type": "display_data",
     "data": {
      "text/plain": "'UI/UX Designer at Kantox was asked...'"
     },
     "metadata": {}
    },
    {
     "output_type": "display_data",
     "data": {
      "text/plain": "'Goals and expectations in my career.'"
     },
     "metadata": {}
    },
    {
     "output_type": "display_data",
     "data": {
      "text/plain": "'No answer'"
     },
     "metadata": {}
    },
    {
     "output_type": "display_data",
     "data": {
      "text/plain": "29"
     },
     "metadata": {}
    },
    {
     "output_type": "display_data",
     "data": {
      "text/plain": "'UI/UX Designer at Kantox was asked...'"
     },
     "metadata": {}
    },
    {
     "output_type": "display_data",
     "data": {
      "text/plain": "'What value will you bring to the company as a UX/UI designer?'"
     },
     "metadata": {}
    },
    {
     "output_type": "display_data",
     "data": {
      "text/plain": "'No answer'"
     },
     "metadata": {}
    },
    {
     "output_type": "display_data",
     "data": {
      "text/plain": "30"
     },
     "metadata": {}
    },
    {
     "output_type": "display_data",
     "data": {
      "text/plain": "'UX Designer at AKKA Technologies was asked...'"
     },
     "metadata": {}
    },
    {
     "output_type": "display_data",
     "data": {
      "text/plain": "'Technical questions about your workflow and also your background.'"
     },
     "metadata": {}
    },
    {
     "output_type": "display_data",
     "data": {
      "text/plain": "'No answer'"
     },
     "metadata": {}
    },
    {
     "output_type": "display_data",
     "data": {
      "text/plain": "31"
     },
     "metadata": {}
    },
    {
     "output_type": "display_data",
     "data": {
      "text/plain": "'Diseñador Ux/Ui at Grupo Planeta was asked...'"
     },
     "metadata": {}
    },
    {
     "output_type": "display_data",
     "data": {
      "text/plain": "'Formación, un pequeño test de aptitudes analizando una web, objetivos profesionales.'"
     },
     "metadata": {}
    },
    {
     "output_type": "display_data",
     "data": {
      "text/plain": "'No answer'"
     },
     "metadata": {}
    },
    {
     "output_type": "display_data",
     "data": {
      "text/plain": "32"
     },
     "metadata": {}
    },
    {
     "output_type": "display_data",
     "data": {
      "text/plain": "'UI/UX Designer at Glovo was asked...'"
     },
     "metadata": {}
    },
    {
     "output_type": "display_data",
     "data": {
      "text/plain": "'Name different user-testing methods.'"
     },
     "metadata": {}
    },
    {
     "output_type": "display_data",
     "data": {
      "text/plain": "'No answer'"
     },
     "metadata": {}
    },
    {
     "output_type": "display_data",
     "data": {
      "text/plain": "33"
     },
     "metadata": {}
    },
    {
     "output_type": "display_data",
     "data": {
      "text/plain": "'UX Designer at HP Inc. was asked...'"
     },
     "metadata": {}
    },
    {
     "output_type": "display_data",
     "data": {
      "text/plain": "'past experience in design'"
     },
     "metadata": {}
    },
    {
     "output_type": "display_data",
     "data": {
      "text/plain": "'No answer'"
     },
     "metadata": {}
    },
    {
     "output_type": "display_data",
     "data": {
      "text/plain": "34"
     },
     "metadata": {}
    },
    {
     "output_type": "display_data",
     "data": {
      "text/plain": "'UX Designer at Dynatrace was asked...'"
     },
     "metadata": {}
    },
    {
     "output_type": "display_data",
     "data": {
      "text/plain": "'What would you do if we need to add more categories for cars. How would you change the screen for 4k resolution.'"
     },
     "metadata": {}
    },
    {
     "output_type": "display_data",
     "data": {
      "text/plain": "'No answer'"
     },
     "metadata": {}
    },
    {
     "output_type": "display_data",
     "data": {
      "text/plain": "35"
     },
     "metadata": {}
    },
    {
     "output_type": "display_data",
     "data": {
      "text/plain": "'UI/UX Designer at Opinno was asked...'"
     },
     "metadata": {}
    },
    {
     "output_type": "display_data",
     "data": {
      "text/plain": "'What is your experience?'"
     },
     "metadata": {}
    },
    {
     "output_type": "display_data",
     "data": {
      "text/plain": "'No answer'"
     },
     "metadata": {}
    },
    {
     "output_type": "display_data",
     "data": {
      "text/plain": "36"
     },
     "metadata": {}
    },
    {
     "output_type": "display_data",
     "data": {
      "text/plain": "'UI & UX Designer at New Work SE was asked...'"
     },
     "metadata": {}
    },
    {
     "output_type": "display_data",
     "data": {
      "text/plain": "'Explain why you decided to design it this way? After the design task.'"
     },
     "metadata": {}
    },
    {
     "output_type": "display_data",
     "data": {
      "text/plain": "'No answer'"
     },
     "metadata": {}
    },
    {
     "output_type": "display_data",
     "data": {
      "text/plain": "37"
     },
     "metadata": {}
    },
    {
     "output_type": "display_data",
     "data": {
      "text/plain": "'Senior UX Designer at Holded was asked...'"
     },
     "metadata": {}
    },
    {
     "output_type": "display_data",
     "data": {
      "text/plain": "'All very normal questions and UX Test until the last interview when the lead interview asked really weird questions that, judging from the eyes of the other people in the room, not even them were understanding. One example, and I quote: \"So now I have this plastic bottle in my hand and it represent your project, I put it on the table and we leave the room. What happens to this plastic bottle after?\" Needless to say it gave me the impression to be kids with cool tools in their hands.'"
     },
     "metadata": {}
    },
    {
     "output_type": "display_data",
     "data": {
      "text/plain": "'No answer'"
     },
     "metadata": {}
    },
    {
     "output_type": "display_data",
     "data": {
      "text/plain": "38"
     },
     "metadata": {}
    },
    {
     "output_type": "display_data",
     "data": {
      "text/plain": "'UI/UX Designer at Kantox was asked...'"
     },
     "metadata": {}
    },
    {
     "output_type": "display_data",
     "data": {
      "text/plain": "'My design process and hand-off.'"
     },
     "metadata": {}
    },
    {
     "output_type": "display_data",
     "data": {
      "text/plain": "'No answer'"
     },
     "metadata": {}
    },
    {
     "output_type": "display_data",
     "data": {
      "text/plain": "39"
     },
     "metadata": {}
    },
    {
     "output_type": "display_data",
     "data": {
      "text/plain": "'UI/UX Designer at Kantox was asked...'"
     },
     "metadata": {}
    },
    {
     "output_type": "display_data",
     "data": {
      "text/plain": "'Experience with agile methodologies.'"
     },
     "metadata": {}
    },
    {
     "output_type": "display_data",
     "data": {
      "text/plain": "'No answer'"
     },
     "metadata": {}
    },
    {
     "output_type": "display_data",
     "data": {
      "text/plain": "40"
     },
     "metadata": {}
    },
    {
     "output_type": "display_data",
     "data": {
      "text/plain": "'UI/UX Designer at Kantox was asked...'"
     },
     "metadata": {}
    },
    {
     "output_type": "display_data",
     "data": {
      "text/plain": "'A superficial usability analysis of their existing product.'"
     },
     "metadata": {}
    },
    {
     "output_type": "display_data",
     "data": {
      "text/plain": "'No answer'"
     },
     "metadata": {}
    },
    {
     "output_type": "display_data",
     "data": {
      "text/plain": "                                          job_company  \\\n0                UX Designer at Hostaway was asked...   \n1               UI/UX Designer at Seocom was asked...   \n2        UX Designer at GFT Technologies was asked...   \n3   UI-UX Designer at Hewlett Packard Enterprise |...   \n4                 UX Designer at Wysiwyg was asked...   \n5         Diseñador Ux/Ui at KingEclient was asked...   \n6               UX Designer at Domestika was asked...   \n7             UX Designer at New Work SE was asked...   \n8             Senior UX Designer at King was asked...   \n9              UI/UX Designer at TeamCMP was asked...   \n10             UX Designer at Polymatica was asked...   \n11                 UX Designer at Holded was asked...   \n12               UI-UX Designer at Fever was asked...   \n13      UX Designer at Amaris Consulting was asked...   \n14               UI/UX Designer at Glovo was asked...   \n15        UI/UX Designer at Sopra Steria was asked...   \n16              UI/UX Designer at Kantox was asked...   \n17      UI/UX Designer at Digital Origin was asked...   \n18               UX Designer at Igeneris was asked...   \n19         UX Designer at eDreams ODIGEO was asked...   \n20         UI/UX Designer at Socialpoint was asked...   \n21           UX Designer at ALUXION LABS was asked...   \n22        Ui\\Ux Designer at ALUXION LABS was asked...   \n23               UI/UX Designer at Glovo was asked...   \n24               UI/UX Designer at Glovo was asked...   \n25               UI/UX Designer at Glovo was asked...   \n26            Ui\\Ux Designer at Printful was asked...   \n27              UI/UX Designer at Kantox was asked...   \n28              UI/UX Designer at Kantox was asked...   \n29      UX Designer at AKKA Technologies was asked...   \n30      Diseñador Ux/Ui at Grupo Planeta was asked...   \n31               UI/UX Designer at Glovo was asked...   \n32                UX Designer at HP Inc. was asked...   \n33              UX Designer at Dynatrace was asked...   \n34              UI/UX Designer at Opinno was asked...   \n35       UI & UX Designer at New Work SE was asked...   \n36          Senior UX Designer at Holded was asked...   \n37              UI/UX Designer at Kantox was asked...   \n38              UI/UX Designer at Kantox was asked...   \n39              UI/UX Designer at Kantox was asked...   \n\n                                            questions  \\\n0   How will you find people for usability testing...   \n1   Since I dont know spanish he asked how much i ...   \n2                  They did asked difficult questions   \n3               What were my current responsibilities   \n4                     How do you propose a user test?   \n5   Parece que antes de se entrevistado como tal y...   \n6                                 Experiencia pasada.   \n7                    How is your current team set up?   \n8   Most questions were related to personal work e...   \n9       What would be your ideal working environment?   \n10          Previous experience. Current expectations   \n11               What would you bring to the project?   \n12  I was asked to develop some high-fidelity mock...   \n13      Past working experience and design tools used   \n14  What trends did you see these last years, and ...   \n15                     Cómo es tu proceso de trabajo?   \n16  Kantox asked me how I would explain the work t...   \n17             where do you see in a couple of years?   \n18  ¿Por qué elegí hacer app en vez de web? ¿Cómo ...   \n19  How do you balance business needs with design ...   \n20  Are you a mobile player? How much time of your...   \n21   Realizar una prueba sin ni siquiera presentarse.   \n22  Entre otras muchas preguntas, si había cometid...   \n23  What are the differences between designing for...   \n24                                   What's Material?   \n25                      What do you think of our App?   \n26  Breves preguntas para acabar de aclarar puntos...   \n27               Goals and expectations in my career.   \n28  What value will you bring to the company as a ...   \n29  Technical questions about your workflow and al...   \n30  Formación, un pequeño test de aptitudes analiz...   \n31               Name different user-testing methods.   \n32                          past experience in design   \n33  What would you do if we need to add more categ...   \n34                           What is your experience?   \n35  Explain why you decided to design it this way?...   \n36  All very normal questions and UX Test until th...   \n37                    My design process and hand-off.   \n38               Experience with agile methodologies.   \n39  A superficial usability analysis of their exis...   \n\n                                              answers country         area  \n0   Usability testing is better to be done with pe...   Spain  UX Designer  \n1   I said no but that I am a fast learner and I u...   Spain  UX Designer  \n2                              Nothing was unexpected   Spain  UX Designer  \n3   Saying what I do actually execute in my curren...   Spain  UX Designer  \n4                                           No answer   Spain  UX Designer  \n5   Apenas hablé 3 minutos con la seleccionadora, ...   Spain  UX Designer  \n6                                           No answer   Spain  UX Designer  \n7                                           No answer   Spain  UX Designer  \n8                                           No answer   Spain  UX Designer  \n9                                           No answer   Spain  UX Designer  \n10                                          No answer   Spain  UX Designer  \n11                                          No answer   Spain  UX Designer  \n12                                          No answer   Spain  UX Designer  \n13                                          No answer   Spain  UX Designer  \n14                                          No answer   Spain  UX Designer  \n15                                          No answer   Spain  UX Designer  \n16                                          No answer   Spain  UX Designer  \n17                                          No answer   Spain  UX Designer  \n18                                          No answer   Spain  UX Designer  \n19                                          No answer   Spain  UX Designer  \n20                                          No answer   Spain  UX Designer  \n21                                          No answer   Spain  UX Designer  \n22                                          No answer   Spain  UX Designer  \n23                                          No answer   Spain  UX Designer  \n24                                          No answer   Spain  UX Designer  \n25                                          No answer   Spain  UX Designer  \n26                                          No answer   Spain  UX Designer  \n27                                          No answer   Spain  UX Designer  \n28                                          No answer   Spain  UX Designer  \n29                                          No answer   Spain  UX Designer  \n30                                          No answer   Spain  UX Designer  \n31                                          No answer   Spain  UX Designer  \n32                                          No answer   Spain  UX Designer  \n33                                          No answer   Spain  UX Designer  \n34                                          No answer   Spain  UX Designer  \n35                                          No answer   Spain  UX Designer  \n36                                          No answer   Spain  UX Designer  \n37                                          No answer   Spain  UX Designer  \n38                                          No answer   Spain  UX Designer  \n39                                          No answer   Spain  UX Designer  ",
      "text/html": "<div>\n<style scoped>\n    .dataframe tbody tr th:only-of-type {\n        vertical-align: middle;\n    }\n\n    .dataframe tbody tr th {\n        vertical-align: top;\n    }\n\n    .dataframe thead th {\n        text-align: right;\n    }\n</style>\n<table border=\"1\" class=\"dataframe\">\n  <thead>\n    <tr style=\"text-align: right;\">\n      <th></th>\n      <th>job_company</th>\n      <th>questions</th>\n      <th>answers</th>\n      <th>country</th>\n      <th>area</th>\n    </tr>\n  </thead>\n  <tbody>\n    <tr>\n      <th>0</th>\n      <td>UX Designer at Hostaway was asked...</td>\n      <td>How will you find people for usability testing...</td>\n      <td>Usability testing is better to be done with pe...</td>\n      <td>Spain</td>\n      <td>UX Designer</td>\n    </tr>\n    <tr>\n      <th>1</th>\n      <td>UI/UX Designer at Seocom was asked...</td>\n      <td>Since I dont know spanish he asked how much i ...</td>\n      <td>I said no but that I am a fast learner and I u...</td>\n      <td>Spain</td>\n      <td>UX Designer</td>\n    </tr>\n    <tr>\n      <th>2</th>\n      <td>UX Designer at GFT Technologies was asked...</td>\n      <td>They did asked difficult questions</td>\n      <td>Nothing was unexpected</td>\n      <td>Spain</td>\n      <td>UX Designer</td>\n    </tr>\n    <tr>\n      <th>3</th>\n      <td>UI-UX Designer at Hewlett Packard Enterprise |...</td>\n      <td>What were my current responsibilities</td>\n      <td>Saying what I do actually execute in my curren...</td>\n      <td>Spain</td>\n      <td>UX Designer</td>\n    </tr>\n    <tr>\n      <th>4</th>\n      <td>UX Designer at Wysiwyg was asked...</td>\n      <td>How do you propose a user test?</td>\n      <td>No answer</td>\n      <td>Spain</td>\n      <td>UX Designer</td>\n    </tr>\n    <tr>\n      <th>5</th>\n      <td>Diseñador Ux/Ui at KingEclient was asked...</td>\n      <td>Parece que antes de se entrevistado como tal y...</td>\n      <td>Apenas hablé 3 minutos con la seleccionadora, ...</td>\n      <td>Spain</td>\n      <td>UX Designer</td>\n    </tr>\n    <tr>\n      <th>6</th>\n      <td>UX Designer at Domestika was asked...</td>\n      <td>Experiencia pasada.</td>\n      <td>No answer</td>\n      <td>Spain</td>\n      <td>UX Designer</td>\n    </tr>\n    <tr>\n      <th>7</th>\n      <td>UX Designer at New Work SE was asked...</td>\n      <td>How is your current team set up?</td>\n      <td>No answer</td>\n      <td>Spain</td>\n      <td>UX Designer</td>\n    </tr>\n    <tr>\n      <th>8</th>\n      <td>Senior UX Designer at King was asked...</td>\n      <td>Most questions were related to personal work e...</td>\n      <td>No answer</td>\n      <td>Spain</td>\n      <td>UX Designer</td>\n    </tr>\n    <tr>\n      <th>9</th>\n      <td>UI/UX Designer at TeamCMP was asked...</td>\n      <td>What would be your ideal working environment?</td>\n      <td>No answer</td>\n      <td>Spain</td>\n      <td>UX Designer</td>\n    </tr>\n    <tr>\n      <th>10</th>\n      <td>UX Designer at Polymatica was asked...</td>\n      <td>Previous experience. Current expectations</td>\n      <td>No answer</td>\n      <td>Spain</td>\n      <td>UX Designer</td>\n    </tr>\n    <tr>\n      <th>11</th>\n      <td>UX Designer at Holded was asked...</td>\n      <td>What would you bring to the project?</td>\n      <td>No answer</td>\n      <td>Spain</td>\n      <td>UX Designer</td>\n    </tr>\n    <tr>\n      <th>12</th>\n      <td>UI-UX Designer at Fever was asked...</td>\n      <td>I was asked to develop some high-fidelity mock...</td>\n      <td>No answer</td>\n      <td>Spain</td>\n      <td>UX Designer</td>\n    </tr>\n    <tr>\n      <th>13</th>\n      <td>UX Designer at Amaris Consulting was asked...</td>\n      <td>Past working experience and design tools used</td>\n      <td>No answer</td>\n      <td>Spain</td>\n      <td>UX Designer</td>\n    </tr>\n    <tr>\n      <th>14</th>\n      <td>UI/UX Designer at Glovo was asked...</td>\n      <td>What trends did you see these last years, and ...</td>\n      <td>No answer</td>\n      <td>Spain</td>\n      <td>UX Designer</td>\n    </tr>\n    <tr>\n      <th>15</th>\n      <td>UI/UX Designer at Sopra Steria was asked...</td>\n      <td>Cómo es tu proceso de trabajo?</td>\n      <td>No answer</td>\n      <td>Spain</td>\n      <td>UX Designer</td>\n    </tr>\n    <tr>\n      <th>16</th>\n      <td>UI/UX Designer at Kantox was asked...</td>\n      <td>Kantox asked me how I would explain the work t...</td>\n      <td>No answer</td>\n      <td>Spain</td>\n      <td>UX Designer</td>\n    </tr>\n    <tr>\n      <th>17</th>\n      <td>UI/UX Designer at Digital Origin was asked...</td>\n      <td>where do you see in a couple of years?</td>\n      <td>No answer</td>\n      <td>Spain</td>\n      <td>UX Designer</td>\n    </tr>\n    <tr>\n      <th>18</th>\n      <td>UX Designer at Igeneris was asked...</td>\n      <td>¿Por qué elegí hacer app en vez de web? ¿Cómo ...</td>\n      <td>No answer</td>\n      <td>Spain</td>\n      <td>UX Designer</td>\n    </tr>\n    <tr>\n      <th>19</th>\n      <td>UX Designer at eDreams ODIGEO was asked...</td>\n      <td>How do you balance business needs with design ...</td>\n      <td>No answer</td>\n      <td>Spain</td>\n      <td>UX Designer</td>\n    </tr>\n    <tr>\n      <th>20</th>\n      <td>UI/UX Designer at Socialpoint was asked...</td>\n      <td>Are you a mobile player? How much time of your...</td>\n      <td>No answer</td>\n      <td>Spain</td>\n      <td>UX Designer</td>\n    </tr>\n    <tr>\n      <th>21</th>\n      <td>UX Designer at ALUXION LABS was asked...</td>\n      <td>Realizar una prueba sin ni siquiera presentarse.</td>\n      <td>No answer</td>\n      <td>Spain</td>\n      <td>UX Designer</td>\n    </tr>\n    <tr>\n      <th>22</th>\n      <td>Ui\\Ux Designer at ALUXION LABS was asked...</td>\n      <td>Entre otras muchas preguntas, si había cometid...</td>\n      <td>No answer</td>\n      <td>Spain</td>\n      <td>UX Designer</td>\n    </tr>\n    <tr>\n      <th>23</th>\n      <td>UI/UX Designer at Glovo was asked...</td>\n      <td>What are the differences between designing for...</td>\n      <td>No answer</td>\n      <td>Spain</td>\n      <td>UX Designer</td>\n    </tr>\n    <tr>\n      <th>24</th>\n      <td>UI/UX Designer at Glovo was asked...</td>\n      <td>What's Material?</td>\n      <td>No answer</td>\n      <td>Spain</td>\n      <td>UX Designer</td>\n    </tr>\n    <tr>\n      <th>25</th>\n      <td>UI/UX Designer at Glovo was asked...</td>\n      <td>What do you think of our App?</td>\n      <td>No answer</td>\n      <td>Spain</td>\n      <td>UX Designer</td>\n    </tr>\n    <tr>\n      <th>26</th>\n      <td>Ui\\Ux Designer at Printful was asked...</td>\n      <td>Breves preguntas para acabar de aclarar puntos...</td>\n      <td>No answer</td>\n      <td>Spain</td>\n      <td>UX Designer</td>\n    </tr>\n    <tr>\n      <th>27</th>\n      <td>UI/UX Designer at Kantox was asked...</td>\n      <td>Goals and expectations in my career.</td>\n      <td>No answer</td>\n      <td>Spain</td>\n      <td>UX Designer</td>\n    </tr>\n    <tr>\n      <th>28</th>\n      <td>UI/UX Designer at Kantox was asked...</td>\n      <td>What value will you bring to the company as a ...</td>\n      <td>No answer</td>\n      <td>Spain</td>\n      <td>UX Designer</td>\n    </tr>\n    <tr>\n      <th>29</th>\n      <td>UX Designer at AKKA Technologies was asked...</td>\n      <td>Technical questions about your workflow and al...</td>\n      <td>No answer</td>\n      <td>Spain</td>\n      <td>UX Designer</td>\n    </tr>\n    <tr>\n      <th>30</th>\n      <td>Diseñador Ux/Ui at Grupo Planeta was asked...</td>\n      <td>Formación, un pequeño test de aptitudes analiz...</td>\n      <td>No answer</td>\n      <td>Spain</td>\n      <td>UX Designer</td>\n    </tr>\n    <tr>\n      <th>31</th>\n      <td>UI/UX Designer at Glovo was asked...</td>\n      <td>Name different user-testing methods.</td>\n      <td>No answer</td>\n      <td>Spain</td>\n      <td>UX Designer</td>\n    </tr>\n    <tr>\n      <th>32</th>\n      <td>UX Designer at HP Inc. was asked...</td>\n      <td>past experience in design</td>\n      <td>No answer</td>\n      <td>Spain</td>\n      <td>UX Designer</td>\n    </tr>\n    <tr>\n      <th>33</th>\n      <td>UX Designer at Dynatrace was asked...</td>\n      <td>What would you do if we need to add more categ...</td>\n      <td>No answer</td>\n      <td>Spain</td>\n      <td>UX Designer</td>\n    </tr>\n    <tr>\n      <th>34</th>\n      <td>UI/UX Designer at Opinno was asked...</td>\n      <td>What is your experience?</td>\n      <td>No answer</td>\n      <td>Spain</td>\n      <td>UX Designer</td>\n    </tr>\n    <tr>\n      <th>35</th>\n      <td>UI &amp; UX Designer at New Work SE was asked...</td>\n      <td>Explain why you decided to design it this way?...</td>\n      <td>No answer</td>\n      <td>Spain</td>\n      <td>UX Designer</td>\n    </tr>\n    <tr>\n      <th>36</th>\n      <td>Senior UX Designer at Holded was asked...</td>\n      <td>All very normal questions and UX Test until th...</td>\n      <td>No answer</td>\n      <td>Spain</td>\n      <td>UX Designer</td>\n    </tr>\n    <tr>\n      <th>37</th>\n      <td>UI/UX Designer at Kantox was asked...</td>\n      <td>My design process and hand-off.</td>\n      <td>No answer</td>\n      <td>Spain</td>\n      <td>UX Designer</td>\n    </tr>\n    <tr>\n      <th>38</th>\n      <td>UI/UX Designer at Kantox was asked...</td>\n      <td>Experience with agile methodologies.</td>\n      <td>No answer</td>\n      <td>Spain</td>\n      <td>UX Designer</td>\n    </tr>\n    <tr>\n      <th>39</th>\n      <td>UI/UX Designer at Kantox was asked...</td>\n      <td>A superficial usability analysis of their exis...</td>\n      <td>No answer</td>\n      <td>Spain</td>\n      <td>UX Designer</td>\n    </tr>\n  </tbody>\n</table>\n</div>"
     },
     "metadata": {}
    }
   ],
   "source": [
    "job_title_da = 'UX Designer' ## Lets search Data analytics\n",
    "location_pt = 'Spain' ## Lets search Data analytics\n",
    "\n",
    "data_to_csv(location_pt,interview_info(job_title_da,location_pt))"
   ]
  },
  {
   "cell_type": "code",
   "execution_count": 29,
   "metadata": {},
   "outputs": [
    {
     "output_type": "display_data",
     "data": {
      "text/plain": "1"
     },
     "metadata": {}
    },
    {
     "output_type": "display_data",
     "data": {
      "text/plain": "'UX/UI Designer at Open Assessment Technologies was asked...'"
     },
     "metadata": {}
    },
    {
     "output_type": "display_data",
     "data": {
      "text/plain": "'Are you able to sign an agreement with a university or a business school or any other institution?'"
     },
     "metadata": {}
    },
    {
     "output_type": "display_data",
     "data": {
      "text/plain": "'No, I am not.'"
     },
     "metadata": {}
    },
    {
     "output_type": "display_data",
     "data": {
      "text/plain": "2"
     },
     "metadata": {}
    },
    {
     "output_type": "display_data",
     "data": {
      "text/plain": "'UI Designer at netzstrategen was asked...'"
     },
     "metadata": {}
    },
    {
     "output_type": "display_data",
     "data": {
      "text/plain": "'Why do you want to change your current job.'"
     },
     "metadata": {}
    },
    {
     "output_type": "display_data",
     "data": {
      "text/plain": "'Because I was looking for a different work culture (more flexible, dynamic, horizontal).'"
     },
     "metadata": {}
    },
    {
     "output_type": "display_data",
     "data": {
      "text/plain": "3"
     },
     "metadata": {}
    },
    {
     "output_type": "display_data",
     "data": {
      "text/plain": "'Graphic/UX-UI Designer at payever was asked...'"
     },
     "metadata": {}
    },
    {
     "output_type": "display_data",
     "data": {
      "text/plain": "'Are you okay with 10-20 usd/hour?'"
     },
     "metadata": {}
    },
    {
     "output_type": "display_data",
     "data": {
      "text/plain": "'Are you okay working weekends?'"
     },
     "metadata": {}
    },
    {
     "output_type": "display_data",
     "data": {
      "text/plain": "4"
     },
     "metadata": {}
    },
    {
     "output_type": "display_data",
     "data": {
      "text/plain": "'UI/UX Designer at Seocom was asked...'"
     },
     "metadata": {}
    },
    {
     "output_type": "display_data",
     "data": {
      "text/plain": "'Since I dont know spanish he asked how much i understand and speak and if i understand design words.'"
     },
     "metadata": {}
    },
    {
     "output_type": "display_data",
     "data": {
      "text/plain": "'I said no but that I am a fast learner and I understand basic conversation spanish'"
     },
     "metadata": {}
    },
    {
     "output_type": "display_data",
     "data": {
      "text/plain": "5"
     },
     "metadata": {}
    },
    {
     "output_type": "display_data",
     "data": {
      "text/plain": "'UI-UX Designer at Hewlett Packard Enterprise | HPE was asked...'"
     },
     "metadata": {}
    },
    {
     "output_type": "display_data",
     "data": {
      "text/plain": "'What were my current responsibilities'"
     },
     "metadata": {}
    },
    {
     "output_type": "display_data",
     "data": {
      "text/plain": "'Saying what I do actually execute in my current job'"
     },
     "metadata": {}
    },
    {
     "output_type": "display_data",
     "data": {
      "text/plain": "6"
     },
     "metadata": {}
    },
    {
     "output_type": "display_data",
     "data": {
      "text/plain": "'Junior User Experience UI Designer at KingEclient was asked...'"
     },
     "metadata": {}
    },
    {
     "output_type": "display_data",
     "data": {
      "text/plain": "'Personal questions, nothing unexpected.'"
     },
     "metadata": {}
    },
    {
     "output_type": "display_data",
     "data": {
      "text/plain": "'Just being myself.'"
     },
     "metadata": {}
    },
    {
     "output_type": "display_data",
     "data": {
      "text/plain": "7"
     },
     "metadata": {}
    },
    {
     "output_type": "display_data",
     "data": {
      "text/plain": "'Senior UX/UI Designer at Lookiero was asked...'"
     },
     "metadata": {}
    },
    {
     "output_type": "display_data",
     "data": {
      "text/plain": "'Cuál ha sido mi trayectoria profesional, estudios, metodología de trabajo, proceso de diseño...'"
     },
     "metadata": {}
    },
    {
     "output_type": "display_data",
     "data": {
      "text/plain": "'Con sinceridad, contando los hitos, problemas, errores cometidos, aprendizaje conseguido...'"
     },
     "metadata": {}
    },
    {
     "output_type": "display_data",
     "data": {
      "text/plain": "8"
     },
     "metadata": {}
    },
    {
     "output_type": "display_data",
     "data": {
      "text/plain": "'UI/User Experience Designer at Ubeeqo was asked...'"
     },
     "metadata": {}
    },
    {
     "output_type": "display_data",
     "data": {
      "text/plain": "'The questions were quite normal'"
     },
     "metadata": {}
    },
    {
     "output_type": "display_data",
     "data": {
      "text/plain": "'No answer'"
     },
     "metadata": {}
    },
    {
     "output_type": "display_data",
     "data": {
      "text/plain": "9"
     },
     "metadata": {}
    },
    {
     "output_type": "display_data",
     "data": {
      "text/plain": "'Diseñador Ux/Ui at KingEclient was asked...'"
     },
     "metadata": {}
    },
    {
     "output_type": "display_data",
     "data": {
      "text/plain": "'Parece que antes de se entrevistado como tal y conocer las condiciones; los candidatos tienen que hacerse valer entregando una prueba técnica de la que ni siquiera te dan feedback al ser descartado. Lamentable departamento de selección. Ninguna seriedad ni profesionalidad.'"
     },
     "metadata": {}
    },
    {
     "output_type": "display_data",
     "data": {
      "text/plain": "'Apenas hablé 3 minutos con la seleccionadora, antes de que me pidieran una prueba técnica una semana después, con un correo plantilla.'"
     },
     "metadata": {}
    },
    {
     "output_type": "display_data",
     "data": {
      "text/plain": "10"
     },
     "metadata": {}
    },
    {
     "output_type": "display_data",
     "data": {
      "text/plain": "'UX-UI Designer at ALUXION LABS was asked...'"
     },
     "metadata": {}
    },
    {
     "output_type": "display_data",
     "data": {
      "text/plain": "'Preguntas relacionadas al proceso de diseño + experiencia + Ejercicio técnico'"
     },
     "metadata": {}
    },
    {
     "output_type": "display_data",
     "data": {
      "text/plain": "'No answer'"
     },
     "metadata": {}
    },
    {
     "output_type": "display_data",
     "data": {
      "text/plain": "11"
     },
     "metadata": {}
    },
    {
     "output_type": "display_data",
     "data": {
      "text/plain": "'UI/UX Designer at TeamCMP was asked...'"
     },
     "metadata": {}
    },
    {
     "output_type": "display_data",
     "data": {
      "text/plain": "'What would be your ideal working environment?'"
     },
     "metadata": {}
    },
    {
     "output_type": "display_data",
     "data": {
      "text/plain": "'No answer'"
     },
     "metadata": {}
    },
    {
     "output_type": "display_data",
     "data": {
      "text/plain": "12"
     },
     "metadata": {}
    },
    {
     "output_type": "display_data",
     "data": {
      "text/plain": "'Junior UI Designer at Ubeeqo was asked...'"
     },
     "metadata": {}
    },
    {
     "output_type": "display_data",
     "data": {
      "text/plain": "\"What's your design process?\""
     },
     "metadata": {}
    },
    {
     "output_type": "display_data",
     "data": {
      "text/plain": "'No answer'"
     },
     "metadata": {}
    },
    {
     "output_type": "display_data",
     "data": {
      "text/plain": "13"
     },
     "metadata": {}
    },
    {
     "output_type": "display_data",
     "data": {
      "text/plain": "'UI-UX Designer at Fever was asked...'"
     },
     "metadata": {}
    },
    {
     "output_type": "display_data",
     "data": {
      "text/plain": "'I was asked to develop some high-fidelity mockups in 48h for a given case study (food journal app). There was no feedback on the things I sent, only a phone call from the recruiter saying I didn\\'t \"pass\" the test, which I found ridiculous.'"
     },
     "metadata": {}
    },
    {
     "output_type": "display_data",
     "data": {
      "text/plain": "'No answer'"
     },
     "metadata": {}
    },
    {
     "output_type": "display_data",
     "data": {
      "text/plain": "14"
     },
     "metadata": {}
    },
    {
     "output_type": "display_data",
     "data": {
      "text/plain": "'UI/UX Designer at Glovo was asked...'"
     },
     "metadata": {}
    },
    {
     "output_type": "display_data",
     "data": {
      "text/plain": "'What trends did you see these last years, and which upcoming ones do you see in the foreseeable future?'"
     },
     "metadata": {}
    },
    {
     "output_type": "display_data",
     "data": {
      "text/plain": "'No answer'"
     },
     "metadata": {}
    },
    {
     "output_type": "display_data",
     "data": {
      "text/plain": "15"
     },
     "metadata": {}
    },
    {
     "output_type": "display_data",
     "data": {
      "text/plain": "'UI/UX Designer at Sopra Steria was asked...'"
     },
     "metadata": {}
    },
    {
     "output_type": "display_data",
     "data": {
      "text/plain": "'Cómo es tu proceso de trabajo?'"
     },
     "metadata": {}
    },
    {
     "output_type": "display_data",
     "data": {
      "text/plain": "'No answer'"
     },
     "metadata": {}
    },
    {
     "output_type": "display_data",
     "data": {
      "text/plain": "16"
     },
     "metadata": {}
    },
    {
     "output_type": "display_data",
     "data": {
      "text/plain": "'UI/UX Designer at Kantox was asked...'"
     },
     "metadata": {}
    },
    {
     "output_type": "display_data",
     "data": {
      "text/plain": "'Kantox asked me how I would explain the work they do to my friends or family in a simple and easy to understand way.'"
     },
     "metadata": {}
    },
    {
     "output_type": "display_data",
     "data": {
      "text/plain": "'No answer'"
     },
     "metadata": {}
    },
    {
     "output_type": "display_data",
     "data": {
      "text/plain": "17"
     },
     "metadata": {}
    },
    {
     "output_type": "display_data",
     "data": {
      "text/plain": "'Junior UI Designer at Ubeeqo was asked...'"
     },
     "metadata": {}
    },
    {
     "output_type": "display_data",
     "data": {
      "text/plain": "'Are you familiar with Sketch?'"
     },
     "metadata": {}
    },
    {
     "output_type": "display_data",
     "data": {
      "text/plain": "'No answer'"
     },
     "metadata": {}
    },
    {
     "output_type": "display_data",
     "data": {
      "text/plain": "18"
     },
     "metadata": {}
    },
    {
     "output_type": "display_data",
     "data": {
      "text/plain": "'Junior UI Designer at Ubeeqo was asked...'"
     },
     "metadata": {}
    },
    {
     "output_type": "display_data",
     "data": {
      "text/plain": "'What are you doing currently?'"
     },
     "metadata": {}
    },
    {
     "output_type": "display_data",
     "data": {
      "text/plain": "'No answer'"
     },
     "metadata": {}
    },
    {
     "output_type": "display_data",
     "data": {
      "text/plain": "19"
     },
     "metadata": {}
    },
    {
     "output_type": "display_data",
     "data": {
      "text/plain": "'UI/UX Designer at Digital Origin was asked...'"
     },
     "metadata": {}
    },
    {
     "output_type": "display_data",
     "data": {
      "text/plain": "'where do you see in a couple of years?'"
     },
     "metadata": {}
    },
    {
     "output_type": "display_data",
     "data": {
      "text/plain": "'No answer'"
     },
     "metadata": {}
    },
    {
     "output_type": "display_data",
     "data": {
      "text/plain": "20"
     },
     "metadata": {}
    },
    {
     "output_type": "display_data",
     "data": {
      "text/plain": "'UX-UI Designer at Erudit was asked...'"
     },
     "metadata": {}
    },
    {
     "output_type": "display_data",
     "data": {
      "text/plain": "'¿Tienes pareja? ¿Cuanto lleváis?'"
     },
     "metadata": {}
    },
    {
     "output_type": "display_data",
     "data": {
      "text/plain": "'No answer'"
     },
     "metadata": {}
    },
    {
     "output_type": "display_data",
     "data": {
      "text/plain": "21"
     },
     "metadata": {}
    },
    {
     "output_type": "display_data",
     "data": {
      "text/plain": "'UI Designer at netzstrategen was asked...'"
     },
     "metadata": {}
    },
    {
     "output_type": "display_data",
     "data": {
      "text/plain": "'Me preguntaron sobre mi background como diseñadora, sobre mi día a día en mi anterior puesto de trabajo y sobre las herramientas que normalmente utilizo.'"
     },
     "metadata": {}
    },
    {
     "output_type": "display_data",
     "data": {
      "text/plain": "'No answer'"
     },
     "metadata": {}
    },
    {
     "output_type": "display_data",
     "data": {
      "text/plain": "22"
     },
     "metadata": {}
    },
    {
     "output_type": "display_data",
     "data": {
      "text/plain": "'UI/UX Designer at Socialpoint was asked...'"
     },
     "metadata": {}
    },
    {
     "output_type": "display_data",
     "data": {
      "text/plain": "'Are you a mobile player? How much time of your day do you invest in playing videogames?'"
     },
     "metadata": {}
    },
    {
     "output_type": "display_data",
     "data": {
      "text/plain": "'No answer'"
     },
     "metadata": {}
    },
    {
     "output_type": "display_data",
     "data": {
      "text/plain": "23"
     },
     "metadata": {}
    },
    {
     "output_type": "display_data",
     "data": {
      "text/plain": "'Ui\\\\Ux Designer at ALUXION LABS was asked...'"
     },
     "metadata": {}
    },
    {
     "output_type": "display_data",
     "data": {
      "text/plain": "'Entre otras muchas preguntas, si había cometido algún error en algún trabajo y cómo lo solucioné.'"
     },
     "metadata": {}
    },
    {
     "output_type": "display_data",
     "data": {
      "text/plain": "'No answer'"
     },
     "metadata": {}
    },
    {
     "output_type": "display_data",
     "data": {
      "text/plain": "24"
     },
     "metadata": {}
    },
    {
     "output_type": "display_data",
     "data": {
      "text/plain": "'UI/UX Designer at Glovo was asked...'"
     },
     "metadata": {}
    },
    {
     "output_type": "display_data",
     "data": {
      "text/plain": "'What are the differences between designing for different native systems?'"
     },
     "metadata": {}
    },
    {
     "output_type": "display_data",
     "data": {
      "text/plain": "'No answer'"
     },
     "metadata": {}
    },
    {
     "output_type": "display_data",
     "data": {
      "text/plain": "25"
     },
     "metadata": {}
    },
    {
     "output_type": "display_data",
     "data": {
      "text/plain": "'UI/UX Designer at Glovo was asked...'"
     },
     "metadata": {}
    },
    {
     "output_type": "display_data",
     "data": {
      "text/plain": "\"What's Material?\""
     },
     "metadata": {}
    },
    {
     "output_type": "display_data",
     "data": {
      "text/plain": "'No answer'"
     },
     "metadata": {}
    },
    {
     "output_type": "display_data",
     "data": {
      "text/plain": "26"
     },
     "metadata": {}
    },
    {
     "output_type": "display_data",
     "data": {
      "text/plain": "'UI/UX Designer at Glovo was asked...'"
     },
     "metadata": {}
    },
    {
     "output_type": "display_data",
     "data": {
      "text/plain": "'What do you think of our App?'"
     },
     "metadata": {}
    },
    {
     "output_type": "display_data",
     "data": {
      "text/plain": "'No answer'"
     },
     "metadata": {}
    },
    {
     "output_type": "display_data",
     "data": {
      "text/plain": "27"
     },
     "metadata": {}
    },
    {
     "output_type": "display_data",
     "data": {
      "text/plain": "'Product Designer (UI) - Web Presence at Eventbrite was asked...'"
     },
     "metadata": {}
    },
    {
     "output_type": "display_data",
     "data": {
      "text/plain": "'Experience working with remote teams'"
     },
     "metadata": {}
    },
    {
     "output_type": "display_data",
     "data": {
      "text/plain": "'No answer'"
     },
     "metadata": {}
    },
    {
     "output_type": "display_data",
     "data": {
      "text/plain": "28"
     },
     "metadata": {}
    },
    {
     "output_type": "display_data",
     "data": {
      "text/plain": "'Ui\\\\Ux Designer at Printful was asked...'"
     },
     "metadata": {}
    },
    {
     "output_type": "display_data",
     "data": {
      "text/plain": "'Breves preguntas para acabar de aclarar puntos de tu CV.'"
     },
     "metadata": {}
    },
    {
     "output_type": "display_data",
     "data": {
      "text/plain": "'No answer'"
     },
     "metadata": {}
    },
    {
     "output_type": "display_data",
     "data": {
      "text/plain": "29"
     },
     "metadata": {}
    },
    {
     "output_type": "display_data",
     "data": {
      "text/plain": "'UI/UX Designer at Kantox was asked...'"
     },
     "metadata": {}
    },
    {
     "output_type": "display_data",
     "data": {
      "text/plain": "'Goals and expectations in my career.'"
     },
     "metadata": {}
    },
    {
     "output_type": "display_data",
     "data": {
      "text/plain": "'No answer'"
     },
     "metadata": {}
    },
    {
     "output_type": "display_data",
     "data": {
      "text/plain": "30"
     },
     "metadata": {}
    },
    {
     "output_type": "display_data",
     "data": {
      "text/plain": "'UI/UX Designer at Kantox was asked...'"
     },
     "metadata": {}
    },
    {
     "output_type": "display_data",
     "data": {
      "text/plain": "'What value will you bring to the company as a UX/UI designer?'"
     },
     "metadata": {}
    },
    {
     "output_type": "display_data",
     "data": {
      "text/plain": "'No answer'"
     },
     "metadata": {}
    },
    {
     "output_type": "display_data",
     "data": {
      "text/plain": "31"
     },
     "metadata": {}
    },
    {
     "output_type": "display_data",
     "data": {
      "text/plain": "'Junior UI Designer at Ubeeqo was asked...'"
     },
     "metadata": {}
    },
    {
     "output_type": "display_data",
     "data": {
      "text/plain": "'Are you familiar with the design system and atomic design?'"
     },
     "metadata": {}
    },
    {
     "output_type": "display_data",
     "data": {
      "text/plain": "'No answer'"
     },
     "metadata": {}
    },
    {
     "output_type": "display_data",
     "data": {
      "text/plain": "32"
     },
     "metadata": {}
    },
    {
     "output_type": "display_data",
     "data": {
      "text/plain": "'Diseñador Ux/Ui at Grupo Planeta was asked...'"
     },
     "metadata": {}
    },
    {
     "output_type": "display_data",
     "data": {
      "text/plain": "'Formación, un pequeño test de aptitudes analizando una web, objetivos profesionales.'"
     },
     "metadata": {}
    },
    {
     "output_type": "display_data",
     "data": {
      "text/plain": "'No answer'"
     },
     "metadata": {}
    },
    {
     "output_type": "display_data",
     "data": {
      "text/plain": "33"
     },
     "metadata": {}
    },
    {
     "output_type": "display_data",
     "data": {
      "text/plain": "'UI/UX Designer at Glovo was asked...'"
     },
     "metadata": {}
    },
    {
     "output_type": "display_data",
     "data": {
      "text/plain": "'Name different user-testing methods.'"
     },
     "metadata": {}
    },
    {
     "output_type": "display_data",
     "data": {
      "text/plain": "'No answer'"
     },
     "metadata": {}
    },
    {
     "output_type": "display_data",
     "data": {
      "text/plain": "34"
     },
     "metadata": {}
    },
    {
     "output_type": "display_data",
     "data": {
      "text/plain": "'Junior UI Designer at Ubeeqo was asked...'"
     },
     "metadata": {}
    },
    {
     "output_type": "display_data",
     "data": {
      "text/plain": "'Show your work'"
     },
     "metadata": {}
    },
    {
     "output_type": "display_data",
     "data": {
      "text/plain": "'No answer'"
     },
     "metadata": {}
    },
    {
     "output_type": "display_data",
     "data": {
      "text/plain": "35"
     },
     "metadata": {}
    },
    {
     "output_type": "display_data",
     "data": {
      "text/plain": "'UI/User Experience Designer at eDreams ODIGEO was asked...'"
     },
     "metadata": {}
    },
    {
     "output_type": "display_data",
     "data": {
      "text/plain": "'To explain the exercises in detail'"
     },
     "metadata": {}
    },
    {
     "output_type": "display_data",
     "data": {
      "text/plain": "'No answer'"
     },
     "metadata": {}
    },
    {
     "output_type": "display_data",
     "data": {
      "text/plain": "36"
     },
     "metadata": {}
    },
    {
     "output_type": "display_data",
     "data": {
      "text/plain": "'Junior UI Designer at Ubeeqo was asked...'"
     },
     "metadata": {}
    },
    {
     "output_type": "display_data",
     "data": {
      "text/plain": "'Show your previous work'"
     },
     "metadata": {}
    },
    {
     "output_type": "display_data",
     "data": {
      "text/plain": "'No answer'"
     },
     "metadata": {}
    },
    {
     "output_type": "display_data",
     "data": {
      "text/plain": "37"
     },
     "metadata": {}
    },
    {
     "output_type": "display_data",
     "data": {
      "text/plain": "'UI/UX Designer at Opinno was asked...'"
     },
     "metadata": {}
    },
    {
     "output_type": "display_data",
     "data": {
      "text/plain": "'What is your experience?'"
     },
     "metadata": {}
    },
    {
     "output_type": "display_data",
     "data": {
      "text/plain": "'No answer'"
     },
     "metadata": {}
    },
    {
     "output_type": "display_data",
     "data": {
      "text/plain": "38"
     },
     "metadata": {}
    },
    {
     "output_type": "display_data",
     "data": {
      "text/plain": "'UI & UX Designer at New Work SE was asked...'"
     },
     "metadata": {}
    },
    {
     "output_type": "display_data",
     "data": {
      "text/plain": "'Explain why you decided to design it this way? After the design task.'"
     },
     "metadata": {}
    },
    {
     "output_type": "display_data",
     "data": {
      "text/plain": "'No answer'"
     },
     "metadata": {}
    },
    {
     "output_type": "display_data",
     "data": {
      "text/plain": "39"
     },
     "metadata": {}
    },
    {
     "output_type": "display_data",
     "data": {
      "text/plain": "'UI/UX Designer at Kantox was asked...'"
     },
     "metadata": {}
    },
    {
     "output_type": "display_data",
     "data": {
      "text/plain": "'My design process and hand-off.'"
     },
     "metadata": {}
    },
    {
     "output_type": "display_data",
     "data": {
      "text/plain": "'No answer'"
     },
     "metadata": {}
    },
    {
     "output_type": "display_data",
     "data": {
      "text/plain": "40"
     },
     "metadata": {}
    },
    {
     "output_type": "display_data",
     "data": {
      "text/plain": "'UI/UX Designer at Kantox was asked...'"
     },
     "metadata": {}
    },
    {
     "output_type": "display_data",
     "data": {
      "text/plain": "'Experience with agile methodologies.'"
     },
     "metadata": {}
    },
    {
     "output_type": "display_data",
     "data": {
      "text/plain": "'No answer'"
     },
     "metadata": {}
    },
    {
     "output_type": "display_data",
     "data": {
      "text/plain": "41"
     },
     "metadata": {}
    },
    {
     "output_type": "display_data",
     "data": {
      "text/plain": "'UI/UX Designer at Kantox was asked...'"
     },
     "metadata": {}
    },
    {
     "output_type": "display_data",
     "data": {
      "text/plain": "'A superficial usability analysis of their existing product.'"
     },
     "metadata": {}
    },
    {
     "output_type": "display_data",
     "data": {
      "text/plain": "'No answer'"
     },
     "metadata": {}
    },
    {
     "output_type": "display_data",
     "data": {
      "text/plain": "                                          job_company  \\\n0   UX/UI Designer at Open Assessment Technologies...   \n1           UI Designer at netzstrategen was asked...   \n2      Graphic/UX-UI Designer at payever was asked...   \n3               UI/UX Designer at Seocom was asked...   \n4   UI-UX Designer at Hewlett Packard Enterprise |...   \n5   Junior User Experience UI Designer at KingEcli...   \n6      Senior UX/UI Designer at Lookiero was asked...   \n7   UI/User Experience Designer at Ubeeqo was aske...   \n8         Diseñador Ux/Ui at KingEclient was asked...   \n9         UX-UI Designer at ALUXION LABS was asked...   \n10             UI/UX Designer at TeamCMP was asked...   \n11          Junior UI Designer at Ubeeqo was asked...   \n12               UI-UX Designer at Fever was asked...   \n13               UI/UX Designer at Glovo was asked...   \n14        UI/UX Designer at Sopra Steria was asked...   \n15              UI/UX Designer at Kantox was asked...   \n16          Junior UI Designer at Ubeeqo was asked...   \n17          Junior UI Designer at Ubeeqo was asked...   \n18      UI/UX Designer at Digital Origin was asked...   \n19              UX-UI Designer at Erudit was asked...   \n20          UI Designer at netzstrategen was asked...   \n21         UI/UX Designer at Socialpoint was asked...   \n22        Ui\\Ux Designer at ALUXION LABS was asked...   \n23               UI/UX Designer at Glovo was asked...   \n24               UI/UX Designer at Glovo was asked...   \n25               UI/UX Designer at Glovo was asked...   \n26  Product Designer (UI) - Web Presence at Eventb...   \n27            Ui\\Ux Designer at Printful was asked...   \n28              UI/UX Designer at Kantox was asked...   \n29              UI/UX Designer at Kantox was asked...   \n30          Junior UI Designer at Ubeeqo was asked...   \n31      Diseñador Ux/Ui at Grupo Planeta was asked...   \n32               UI/UX Designer at Glovo was asked...   \n33          Junior UI Designer at Ubeeqo was asked...   \n34  UI/User Experience Designer at eDreams ODIGEO ...   \n35          Junior UI Designer at Ubeeqo was asked...   \n36              UI/UX Designer at Opinno was asked...   \n37       UI & UX Designer at New Work SE was asked...   \n38              UI/UX Designer at Kantox was asked...   \n39              UI/UX Designer at Kantox was asked...   \n40              UI/UX Designer at Kantox was asked...   \n\n                                            questions  \\\n0   Are you able to sign an agreement with a unive...   \n1         Why do you want to change your current job.   \n2                   Are you okay with 10-20 usd/hour?   \n3   Since I dont know spanish he asked how much i ...   \n4               What were my current responsibilities   \n5             Personal questions, nothing unexpected.   \n6   Cuál ha sido mi trayectoria profesional, estud...   \n7                     The questions were quite normal   \n8   Parece que antes de se entrevistado como tal y...   \n9   Preguntas relacionadas al proceso de diseño + ...   \n10      What would be your ideal working environment?   \n11                        What's your design process?   \n12  I was asked to develop some high-fidelity mock...   \n13  What trends did you see these last years, and ...   \n14                     Cómo es tu proceso de trabajo?   \n15  Kantox asked me how I would explain the work t...   \n16                      Are you familiar with Sketch?   \n17                      What are you doing currently?   \n18             where do you see in a couple of years?   \n19                   ¿Tienes pareja? ¿Cuanto lleváis?   \n20  Me preguntaron sobre mi background como diseña...   \n21  Are you a mobile player? How much time of your...   \n22  Entre otras muchas preguntas, si había cometid...   \n23  What are the differences between designing for...   \n24                                   What's Material?   \n25                      What do you think of our App?   \n26               Experience working with remote teams   \n27  Breves preguntas para acabar de aclarar puntos...   \n28               Goals and expectations in my career.   \n29  What value will you bring to the company as a ...   \n30  Are you familiar with the design system and at...   \n31  Formación, un pequeño test de aptitudes analiz...   \n32               Name different user-testing methods.   \n33                                     Show your work   \n34                 To explain the exercises in detail   \n35                            Show your previous work   \n36                           What is your experience?   \n37  Explain why you decided to design it this way?...   \n38                    My design process and hand-off.   \n39               Experience with agile methodologies.   \n40  A superficial usability analysis of their exis...   \n\n                                              answers country         area  \n0                                       No, I am not.   Spain  UI Designer  \n1   Because I was looking for a different work cul...   Spain  UI Designer  \n2                      Are you okay working weekends?   Spain  UI Designer  \n3   I said no but that I am a fast learner and I u...   Spain  UI Designer  \n4   Saying what I do actually execute in my curren...   Spain  UI Designer  \n5                                  Just being myself.   Spain  UI Designer  \n6   Con sinceridad, contando los hitos, problemas,...   Spain  UI Designer  \n7                                           No answer   Spain  UI Designer  \n8   Apenas hablé 3 minutos con la seleccionadora, ...   Spain  UI Designer  \n9                                           No answer   Spain  UI Designer  \n10                                          No answer   Spain  UI Designer  \n11                                          No answer   Spain  UI Designer  \n12                                          No answer   Spain  UI Designer  \n13                                          No answer   Spain  UI Designer  \n14                                          No answer   Spain  UI Designer  \n15                                          No answer   Spain  UI Designer  \n16                                          No answer   Spain  UI Designer  \n17                                          No answer   Spain  UI Designer  \n18                                          No answer   Spain  UI Designer  \n19                                          No answer   Spain  UI Designer  \n20                                          No answer   Spain  UI Designer  \n21                                          No answer   Spain  UI Designer  \n22                                          No answer   Spain  UI Designer  \n23                                          No answer   Spain  UI Designer  \n24                                          No answer   Spain  UI Designer  \n25                                          No answer   Spain  UI Designer  \n26                                          No answer   Spain  UI Designer  \n27                                          No answer   Spain  UI Designer  \n28                                          No answer   Spain  UI Designer  \n29                                          No answer   Spain  UI Designer  \n30                                          No answer   Spain  UI Designer  \n31                                          No answer   Spain  UI Designer  \n32                                          No answer   Spain  UI Designer  \n33                                          No answer   Spain  UI Designer  \n34                                          No answer   Spain  UI Designer  \n35                                          No answer   Spain  UI Designer  \n36                                          No answer   Spain  UI Designer  \n37                                          No answer   Spain  UI Designer  \n38                                          No answer   Spain  UI Designer  \n39                                          No answer   Spain  UI Designer  \n40                                          No answer   Spain  UI Designer  ",
      "text/html": "<div>\n<style scoped>\n    .dataframe tbody tr th:only-of-type {\n        vertical-align: middle;\n    }\n\n    .dataframe tbody tr th {\n        vertical-align: top;\n    }\n\n    .dataframe thead th {\n        text-align: right;\n    }\n</style>\n<table border=\"1\" class=\"dataframe\">\n  <thead>\n    <tr style=\"text-align: right;\">\n      <th></th>\n      <th>job_company</th>\n      <th>questions</th>\n      <th>answers</th>\n      <th>country</th>\n      <th>area</th>\n    </tr>\n  </thead>\n  <tbody>\n    <tr>\n      <th>0</th>\n      <td>UX/UI Designer at Open Assessment Technologies...</td>\n      <td>Are you able to sign an agreement with a unive...</td>\n      <td>No, I am not.</td>\n      <td>Spain</td>\n      <td>UI Designer</td>\n    </tr>\n    <tr>\n      <th>1</th>\n      <td>UI Designer at netzstrategen was asked...</td>\n      <td>Why do you want to change your current job.</td>\n      <td>Because I was looking for a different work cul...</td>\n      <td>Spain</td>\n      <td>UI Designer</td>\n    </tr>\n    <tr>\n      <th>2</th>\n      <td>Graphic/UX-UI Designer at payever was asked...</td>\n      <td>Are you okay with 10-20 usd/hour?</td>\n      <td>Are you okay working weekends?</td>\n      <td>Spain</td>\n      <td>UI Designer</td>\n    </tr>\n    <tr>\n      <th>3</th>\n      <td>UI/UX Designer at Seocom was asked...</td>\n      <td>Since I dont know spanish he asked how much i ...</td>\n      <td>I said no but that I am a fast learner and I u...</td>\n      <td>Spain</td>\n      <td>UI Designer</td>\n    </tr>\n    <tr>\n      <th>4</th>\n      <td>UI-UX Designer at Hewlett Packard Enterprise |...</td>\n      <td>What were my current responsibilities</td>\n      <td>Saying what I do actually execute in my curren...</td>\n      <td>Spain</td>\n      <td>UI Designer</td>\n    </tr>\n    <tr>\n      <th>5</th>\n      <td>Junior User Experience UI Designer at KingEcli...</td>\n      <td>Personal questions, nothing unexpected.</td>\n      <td>Just being myself.</td>\n      <td>Spain</td>\n      <td>UI Designer</td>\n    </tr>\n    <tr>\n      <th>6</th>\n      <td>Senior UX/UI Designer at Lookiero was asked...</td>\n      <td>Cuál ha sido mi trayectoria profesional, estud...</td>\n      <td>Con sinceridad, contando los hitos, problemas,...</td>\n      <td>Spain</td>\n      <td>UI Designer</td>\n    </tr>\n    <tr>\n      <th>7</th>\n      <td>UI/User Experience Designer at Ubeeqo was aske...</td>\n      <td>The questions were quite normal</td>\n      <td>No answer</td>\n      <td>Spain</td>\n      <td>UI Designer</td>\n    </tr>\n    <tr>\n      <th>8</th>\n      <td>Diseñador Ux/Ui at KingEclient was asked...</td>\n      <td>Parece que antes de se entrevistado como tal y...</td>\n      <td>Apenas hablé 3 minutos con la seleccionadora, ...</td>\n      <td>Spain</td>\n      <td>UI Designer</td>\n    </tr>\n    <tr>\n      <th>9</th>\n      <td>UX-UI Designer at ALUXION LABS was asked...</td>\n      <td>Preguntas relacionadas al proceso de diseño + ...</td>\n      <td>No answer</td>\n      <td>Spain</td>\n      <td>UI Designer</td>\n    </tr>\n    <tr>\n      <th>10</th>\n      <td>UI/UX Designer at TeamCMP was asked...</td>\n      <td>What would be your ideal working environment?</td>\n      <td>No answer</td>\n      <td>Spain</td>\n      <td>UI Designer</td>\n    </tr>\n    <tr>\n      <th>11</th>\n      <td>Junior UI Designer at Ubeeqo was asked...</td>\n      <td>What's your design process?</td>\n      <td>No answer</td>\n      <td>Spain</td>\n      <td>UI Designer</td>\n    </tr>\n    <tr>\n      <th>12</th>\n      <td>UI-UX Designer at Fever was asked...</td>\n      <td>I was asked to develop some high-fidelity mock...</td>\n      <td>No answer</td>\n      <td>Spain</td>\n      <td>UI Designer</td>\n    </tr>\n    <tr>\n      <th>13</th>\n      <td>UI/UX Designer at Glovo was asked...</td>\n      <td>What trends did you see these last years, and ...</td>\n      <td>No answer</td>\n      <td>Spain</td>\n      <td>UI Designer</td>\n    </tr>\n    <tr>\n      <th>14</th>\n      <td>UI/UX Designer at Sopra Steria was asked...</td>\n      <td>Cómo es tu proceso de trabajo?</td>\n      <td>No answer</td>\n      <td>Spain</td>\n      <td>UI Designer</td>\n    </tr>\n    <tr>\n      <th>15</th>\n      <td>UI/UX Designer at Kantox was asked...</td>\n      <td>Kantox asked me how I would explain the work t...</td>\n      <td>No answer</td>\n      <td>Spain</td>\n      <td>UI Designer</td>\n    </tr>\n    <tr>\n      <th>16</th>\n      <td>Junior UI Designer at Ubeeqo was asked...</td>\n      <td>Are you familiar with Sketch?</td>\n      <td>No answer</td>\n      <td>Spain</td>\n      <td>UI Designer</td>\n    </tr>\n    <tr>\n      <th>17</th>\n      <td>Junior UI Designer at Ubeeqo was asked...</td>\n      <td>What are you doing currently?</td>\n      <td>No answer</td>\n      <td>Spain</td>\n      <td>UI Designer</td>\n    </tr>\n    <tr>\n      <th>18</th>\n      <td>UI/UX Designer at Digital Origin was asked...</td>\n      <td>where do you see in a couple of years?</td>\n      <td>No answer</td>\n      <td>Spain</td>\n      <td>UI Designer</td>\n    </tr>\n    <tr>\n      <th>19</th>\n      <td>UX-UI Designer at Erudit was asked...</td>\n      <td>¿Tienes pareja? ¿Cuanto lleváis?</td>\n      <td>No answer</td>\n      <td>Spain</td>\n      <td>UI Designer</td>\n    </tr>\n    <tr>\n      <th>20</th>\n      <td>UI Designer at netzstrategen was asked...</td>\n      <td>Me preguntaron sobre mi background como diseña...</td>\n      <td>No answer</td>\n      <td>Spain</td>\n      <td>UI Designer</td>\n    </tr>\n    <tr>\n      <th>21</th>\n      <td>UI/UX Designer at Socialpoint was asked...</td>\n      <td>Are you a mobile player? How much time of your...</td>\n      <td>No answer</td>\n      <td>Spain</td>\n      <td>UI Designer</td>\n    </tr>\n    <tr>\n      <th>22</th>\n      <td>Ui\\Ux Designer at ALUXION LABS was asked...</td>\n      <td>Entre otras muchas preguntas, si había cometid...</td>\n      <td>No answer</td>\n      <td>Spain</td>\n      <td>UI Designer</td>\n    </tr>\n    <tr>\n      <th>23</th>\n      <td>UI/UX Designer at Glovo was asked...</td>\n      <td>What are the differences between designing for...</td>\n      <td>No answer</td>\n      <td>Spain</td>\n      <td>UI Designer</td>\n    </tr>\n    <tr>\n      <th>24</th>\n      <td>UI/UX Designer at Glovo was asked...</td>\n      <td>What's Material?</td>\n      <td>No answer</td>\n      <td>Spain</td>\n      <td>UI Designer</td>\n    </tr>\n    <tr>\n      <th>25</th>\n      <td>UI/UX Designer at Glovo was asked...</td>\n      <td>What do you think of our App?</td>\n      <td>No answer</td>\n      <td>Spain</td>\n      <td>UI Designer</td>\n    </tr>\n    <tr>\n      <th>26</th>\n      <td>Product Designer (UI) - Web Presence at Eventb...</td>\n      <td>Experience working with remote teams</td>\n      <td>No answer</td>\n      <td>Spain</td>\n      <td>UI Designer</td>\n    </tr>\n    <tr>\n      <th>27</th>\n      <td>Ui\\Ux Designer at Printful was asked...</td>\n      <td>Breves preguntas para acabar de aclarar puntos...</td>\n      <td>No answer</td>\n      <td>Spain</td>\n      <td>UI Designer</td>\n    </tr>\n    <tr>\n      <th>28</th>\n      <td>UI/UX Designer at Kantox was asked...</td>\n      <td>Goals and expectations in my career.</td>\n      <td>No answer</td>\n      <td>Spain</td>\n      <td>UI Designer</td>\n    </tr>\n    <tr>\n      <th>29</th>\n      <td>UI/UX Designer at Kantox was asked...</td>\n      <td>What value will you bring to the company as a ...</td>\n      <td>No answer</td>\n      <td>Spain</td>\n      <td>UI Designer</td>\n    </tr>\n    <tr>\n      <th>30</th>\n      <td>Junior UI Designer at Ubeeqo was asked...</td>\n      <td>Are you familiar with the design system and at...</td>\n      <td>No answer</td>\n      <td>Spain</td>\n      <td>UI Designer</td>\n    </tr>\n    <tr>\n      <th>31</th>\n      <td>Diseñador Ux/Ui at Grupo Planeta was asked...</td>\n      <td>Formación, un pequeño test de aptitudes analiz...</td>\n      <td>No answer</td>\n      <td>Spain</td>\n      <td>UI Designer</td>\n    </tr>\n    <tr>\n      <th>32</th>\n      <td>UI/UX Designer at Glovo was asked...</td>\n      <td>Name different user-testing methods.</td>\n      <td>No answer</td>\n      <td>Spain</td>\n      <td>UI Designer</td>\n    </tr>\n    <tr>\n      <th>33</th>\n      <td>Junior UI Designer at Ubeeqo was asked...</td>\n      <td>Show your work</td>\n      <td>No answer</td>\n      <td>Spain</td>\n      <td>UI Designer</td>\n    </tr>\n    <tr>\n      <th>34</th>\n      <td>UI/User Experience Designer at eDreams ODIGEO ...</td>\n      <td>To explain the exercises in detail</td>\n      <td>No answer</td>\n      <td>Spain</td>\n      <td>UI Designer</td>\n    </tr>\n    <tr>\n      <th>35</th>\n      <td>Junior UI Designer at Ubeeqo was asked...</td>\n      <td>Show your previous work</td>\n      <td>No answer</td>\n      <td>Spain</td>\n      <td>UI Designer</td>\n    </tr>\n    <tr>\n      <th>36</th>\n      <td>UI/UX Designer at Opinno was asked...</td>\n      <td>What is your experience?</td>\n      <td>No answer</td>\n      <td>Spain</td>\n      <td>UI Designer</td>\n    </tr>\n    <tr>\n      <th>37</th>\n      <td>UI &amp; UX Designer at New Work SE was asked...</td>\n      <td>Explain why you decided to design it this way?...</td>\n      <td>No answer</td>\n      <td>Spain</td>\n      <td>UI Designer</td>\n    </tr>\n    <tr>\n      <th>38</th>\n      <td>UI/UX Designer at Kantox was asked...</td>\n      <td>My design process and hand-off.</td>\n      <td>No answer</td>\n      <td>Spain</td>\n      <td>UI Designer</td>\n    </tr>\n    <tr>\n      <th>39</th>\n      <td>UI/UX Designer at Kantox was asked...</td>\n      <td>Experience with agile methodologies.</td>\n      <td>No answer</td>\n      <td>Spain</td>\n      <td>UI Designer</td>\n    </tr>\n    <tr>\n      <th>40</th>\n      <td>UI/UX Designer at Kantox was asked...</td>\n      <td>A superficial usability analysis of their exis...</td>\n      <td>No answer</td>\n      <td>Spain</td>\n      <td>UI Designer</td>\n    </tr>\n  </tbody>\n</table>\n</div>"
     },
     "metadata": {}
    }
   ],
   "source": [
    "job_title_da = 'UI Designer' ## Lets search Data analytics\n",
    "location_pt = 'Spain' ## Lets search Data analytics\n",
    "\n",
    "data_to_csv(location_pt,interview_info(job_title_da,location_pt))"
   ]
  },
  {
   "cell_type": "code",
   "execution_count": 30,
   "metadata": {},
   "outputs": [
    {
     "output_type": "display_data",
     "data": {
      "text/plain": "1"
     },
     "metadata": {}
    },
    {
     "output_type": "display_data",
     "data": {
      "text/plain": "'Data Scientist at Kreditech Holding was asked...'"
     },
     "metadata": {}
    },
    {
     "output_type": "display_data",
     "data": {
      "text/plain": "'Present a previous project and they will ask a lot of technical questions regarding the topic.'"
     },
     "metadata": {}
    },
    {
     "output_type": "display_data",
     "data": {
      "text/plain": "'Hello, can you give the details of the task that was given in the test.'"
     },
     "metadata": {}
    },
    {
     "output_type": "display_data",
     "data": {
      "text/plain": "2"
     },
     "metadata": {}
    },
    {
     "output_type": "display_data",
     "data": {
      "text/plain": "'Data Analyst at Zalando was asked...'"
     },
     "metadata": {}
    },
    {
     "output_type": "display_data",
     "data": {
      "text/plain": "'- SQL: they use PostgreSQL, asked something related to join, rank, group by, index - Logistic related domain knowledge which is not my strength - Behavioral questions'"
     },
     "metadata": {}
    },
    {
     "output_type": "display_data",
     "data": {
      "text/plain": "'be nice and have a nice conversation with them is important'"
     },
     "metadata": {}
    },
    {
     "output_type": "display_data",
     "data": {
      "text/plain": "3"
     },
     "metadata": {}
    },
    {
     "output_type": "display_data",
     "data": {
      "text/plain": "'Data Analyst at Zalando was asked...'"
     },
     "metadata": {}
    },
    {
     "output_type": "display_data",
     "data": {
      "text/plain": "'Why do you want to join zalando?'"
     },
     "metadata": {}
    },
    {
     "output_type": "display_data",
     "data": {
      "text/plain": "'I did not'"
     },
     "metadata": {}
    },
    {
     "output_type": "display_data",
     "data": {
      "text/plain": "4"
     },
     "metadata": {}
    },
    {
     "output_type": "display_data",
     "data": {
      "text/plain": "'Research Engineer/Data Science at Zalando was asked...'"
     },
     "metadata": {}
    },
    {
     "output_type": "display_data",
     "data": {
      "text/plain": "'Mostly technical / coding questions with limited time to answer, talk about past projects (with techncial depth), almost no questions with respect to data science (statistics, ml, math, modeling ...)'"
     },
     "metadata": {}
    },
    {
     "output_type": "display_data",
     "data": {
      "text/plain": "'Could you provide some examples of the coding tests?'"
     },
     "metadata": {}
    },
    {
     "output_type": "display_data",
     "data": {
      "text/plain": "5"
     },
     "metadata": {}
    },
    {
     "output_type": "display_data",
     "data": {
      "text/plain": "'Senior Data Analyst at Chrono24 was asked...'"
     },
     "metadata": {}
    },
    {
     "output_type": "display_data",
     "data": {
      "text/plain": "'Warum will ich meinen derzeitigen Arbeitgeber verlassen.'"
     },
     "metadata": {}
    },
    {
     "output_type": "display_data",
     "data": {
      "text/plain": "'Meine Situation geschildert'"
     },
     "metadata": {}
    },
    {
     "output_type": "display_data",
     "data": {
      "text/plain": "6"
     },
     "metadata": {}
    },
    {
     "output_type": "display_data",
     "data": {
      "text/plain": "'Data Scientist at Lufthansa Industry Solutions was asked...'"
     },
     "metadata": {}
    },
    {
     "output_type": "display_data",
     "data": {
      "text/plain": "'Q1) Are you ready to travel? Q2) Projects are 6-9 months, are you interested in this? Q3) Do you know Java? Q4) We offer initially 2 year contracts?'"
     },
     "metadata": {}
    },
    {
     "output_type": "display_data",
     "data": {
      "text/plain": "\"A1) yes. A2) yes. What kind of project or any examples? She was void or said this is too technical for her. A3) yes but also there are more modern A-Z. The position I applied also doesn't mention Java? How is that? She was void and said this is to technical for her. A4) why not permanent contracts? She said this is Lufthansa methodology applied to all at the beginning.\""
     },
     "metadata": {}
    },
    {
     "output_type": "display_data",
     "data": {
      "text/plain": "7"
     },
     "metadata": {}
    },
    {
     "output_type": "display_data",
     "data": {
      "text/plain": "'Junior Data Scientist at Actori was asked...'"
     },
     "metadata": {}
    },
    {
     "output_type": "display_data",
     "data": {
      "text/plain": "'Introductory questions. Describing yourself. Your skills. Your past experiences. Presentation of a Case Study that was provided a few days before the interview.'"
     },
     "metadata": {}
    },
    {
     "output_type": "display_data",
     "data": {
      "text/plain": "'I answered honestly. I sounded genuine and friendly. Smiling all the time. Presented the Case Study and answered the questions that followed.'"
     },
     "metadata": {}
    },
    {
     "output_type": "display_data",
     "data": {
      "text/plain": "8"
     },
     "metadata": {}
    },
    {
     "output_type": "display_data",
     "data": {
      "text/plain": "'Data Scientist at vertical cloud solution was asked...'"
     },
     "metadata": {}
    },
    {
     "output_type": "display_data",
     "data": {
      "text/plain": "'HR Interview: Talk about the role, Do I have knowledge of algos like- LR, DT, RF etc.'"
     },
     "metadata": {}
    },
    {
     "output_type": "display_data",
     "data": {
      "text/plain": "'Talked about my key responsibilities and my professional experiences'"
     },
     "metadata": {}
    },
    {
     "output_type": "display_data",
     "data": {
      "text/plain": "9"
     },
     "metadata": {}
    },
    {
     "output_type": "display_data",
     "data": {
      "text/plain": "'Data Analyst at Monoqi was asked...'"
     },
     "metadata": {}
    },
    {
     "output_type": "display_data",
     "data": {
      "text/plain": "'What is the standard deviation?'"
     },
     "metadata": {}
    },
    {
     "output_type": "display_data",
     "data": {
      "text/plain": "\"I started giving them an explanation of what the standard deviation is, but I was cut off and told that they wanted the formula. I told them I don't know the formula off the top off my head to which they replied it is 1 over the sample size minus 1. That, to my knowledge, is not the standard formula for the standard deviation...\""
     },
     "metadata": {}
    },
    {
     "output_type": "display_data",
     "data": {
      "text/plain": "10"
     },
     "metadata": {}
    },
    {
     "output_type": "display_data",
     "data": {
      "text/plain": "'Data Scientist at Teraki was asked...'"
     },
     "metadata": {}
    },
    {
     "output_type": "display_data",
     "data": {
      "text/plain": "'print numbers which contain digit \"5\" in them, in an specific range.'"
     },
     "metadata": {}
    },
    {
     "output_type": "display_data",
     "data": {
      "text/plain": "'in Python, if you convert an int to an string, you can simply search a character \"5\" in it.'"
     },
     "metadata": {}
    },
    {
     "output_type": "display_data",
     "data": {
      "text/plain": "11"
     },
     "metadata": {}
    },
    {
     "output_type": "display_data",
     "data": {
      "text/plain": "'Data Analyst at About You was asked...'"
     },
     "metadata": {}
    },
    {
     "output_type": "display_data",
     "data": {
      "text/plain": "\"How do you do funnels in BigQuery? What's the workflow to automate dashboards? How do you save money on queries of BigQuery?\""
     },
     "metadata": {}
    },
    {
     "output_type": "display_data",
     "data": {
      "text/plain": "''"
     },
     "metadata": {}
    },
    {
     "output_type": "display_data",
     "data": {
      "text/plain": "12"
     },
     "metadata": {}
    },
    {
     "output_type": "display_data",
     "data": {
      "text/plain": "'BI Data Analyst at Ecosia was asked...'"
     },
     "metadata": {}
    },
    {
     "output_type": "display_data",
     "data": {
      "text/plain": "\"Explain ideal KPI's for different different scenarios they will put up.\""
     },
     "metadata": {}
    },
    {
     "output_type": "display_data",
     "data": {
      "text/plain": "'you must have experience or knowledge with all sort of Analysis.'"
     },
     "metadata": {}
    },
    {
     "output_type": "display_data",
     "data": {
      "text/plain": "13"
     },
     "metadata": {}
    },
    {
     "output_type": "display_data",
     "data": {
      "text/plain": "'Data Analyst at Zalando was asked...'"
     },
     "metadata": {}
    },
    {
     "output_type": "display_data",
     "data": {
      "text/plain": "'1. first call with HR (30 mins) : questions about my background, experience and motivation 2. coding test (2 hours): SQL, python and statistical analysis 3. video call with the hiring manager (45 mins): the goal was to describe the role and see whether it would fit the expectations of the two parts. Also questions about how I approach a project in the past and different steps I decided to take and their related timing. 4. onsite interview (3 hours): the first hour was about soft-skills questions. The other 2 hours, the interview covered statistics, sql, python exercises and at the end also a case study.'"
     },
     "metadata": {}
    },
    {
     "output_type": "display_data",
     "data": {
      "text/plain": "'What were the questions on SQL, Statistics and Python?'"
     },
     "metadata": {}
    },
    {
     "output_type": "display_data",
     "data": {
      "text/plain": "14"
     },
     "metadata": {}
    },
    {
     "output_type": "display_data",
     "data": {
      "text/plain": "'Senior Data Analyst at Zalando was asked...'"
     },
     "metadata": {}
    },
    {
     "output_type": "display_data",
     "data": {
      "text/plain": "'Erfahrung mit Personalverantwortung und Teamleitung?'"
     },
     "metadata": {}
    },
    {
     "output_type": "display_data",
     "data": {
      "text/plain": "\"Hi, I'm going to have my final round interview in Zalando office where they will have some hard skills test, some mini cases. Could you please be so kind to give me some insight on what type of cases/ hard skill would be included?\""
     },
     "metadata": {}
    },
    {
     "output_type": "display_data",
     "data": {
      "text/plain": "15"
     },
     "metadata": {}
    },
    {
     "output_type": "display_data",
     "data": {
      "text/plain": "'Product Data Analyst at N26 was asked...'"
     },
     "metadata": {}
    },
    {
     "output_type": "display_data",
     "data": {
      "text/plain": "'Why have you applied to N26?'"
     },
     "metadata": {}
    },
    {
     "output_type": "display_data",
     "data": {
      "text/plain": "'Through questions like this, interviewers are mostly trying to test your skillset (and its relevance to the role) as robustly as possible, so be prepared for multiple offshoots and followups. It could be a useful exercise to do mocks with friends or colleagues in N26 to get a real sense of what the interview is actually like. Alternatively Prepfully has a ton of N26 Product Data Analyst experts who provide mock interviews for a pretty reasonable amount. prepfully.com/practice-interviews'"
     },
     "metadata": {}
    },
    {
     "output_type": "display_data",
     "data": {
      "text/plain": "16"
     },
     "metadata": {}
    },
    {
     "output_type": "display_data",
     "data": {
      "text/plain": "'Data Analyst at trivago was asked...'"
     },
     "metadata": {}
    },
    {
     "output_type": "display_data",
     "data": {
      "text/plain": "'Based on this data, can you guess which country this come from?'"
     },
     "metadata": {}
    },
    {
     "output_type": "display_data",
     "data": {
      "text/plain": "'Look for patterns in the seasonal data of bookings, look for peaks during summer vacations, narrow the country to a northern hemisphere or southern hemisphere, etc.'"
     },
     "metadata": {}
    },
    {
     "output_type": "display_data",
     "data": {
      "text/plain": "17"
     },
     "metadata": {}
    },
    {
     "output_type": "display_data",
     "data": {
      "text/plain": "'Data Scientist at Delivery Hero was asked...'"
     },
     "metadata": {}
    },
    {
     "output_type": "display_data",
     "data": {
      "text/plain": "'All thing was about the my CV and Also, some Q about machine learning'"
     },
     "metadata": {}
    },
    {
     "output_type": "display_data",
     "data": {
      "text/plain": "\"It's essential to demonstrate that you can really go deep... there are plenty of followup questions and (sometimes tangential) angles to explore. There's a lot of Data Scientist experts who've worked at DeliveryHero, who provide this sort of practice through mock interviews. There's a whole list of them curated on Prepfully. prepfully.com/practice-interviews\""
     },
     "metadata": {}
    },
    {
     "output_type": "display_data",
     "data": {
      "text/plain": "18"
     },
     "metadata": {}
    },
    {
     "output_type": "display_data",
     "data": {
      "text/plain": "'Senior Data Scientist at Delivery Hero was asked...'"
     },
     "metadata": {}
    },
    {
     "output_type": "display_data",
     "data": {
      "text/plain": "'Some questions about my background and specialty'"
     },
     "metadata": {}
    },
    {
     "output_type": "display_data",
     "data": {
      "text/plain": "\"It's essential to demonstrate that you can really go deep... there are plenty of followup questions and (sometimes tangential) angles to explore. There's a lot of Senior Data Scientist experts who've worked at DeliveryHero, who provide this sort of practice through mock interviews. There's a whole list of them curated on Prepfully. prepfully.com/practice-interviews\""
     },
     "metadata": {}
    },
    {
     "output_type": "display_data",
     "data": {
      "text/plain": "19"
     },
     "metadata": {}
    },
    {
     "output_type": "display_data",
     "data": {
      "text/plain": "'Senior Data Scientist/Senior Data Engineer at FlixBus was asked...'"
     },
     "metadata": {}
    },
    {
     "output_type": "display_data",
     "data": {
      "text/plain": "'The main portion of the interview is their HackerRank assignment. I was told I received the assignment for Data Engineers.'"
     },
     "metadata": {}
    },
    {
     "output_type": "display_data",
     "data": {
      "text/plain": "'I cannot reveal many details about this assignment. I recommend brushing up on some basic algorithms. Also, be familiar with developing code using Test Driven Development.'"
     },
     "metadata": {}
    },
    {
     "output_type": "display_data",
     "data": {
      "text/plain": "20"
     },
     "metadata": {}
    },
    {
     "output_type": "display_data",
     "data": {
      "text/plain": "'Senior Data Scientist at FlixBus was asked...'"
     },
     "metadata": {}
    },
    {
     "output_type": "display_data",
     "data": {
      "text/plain": "'Can the Scrum agile system be used for data science tasks?'"
     },
     "metadata": {}
    },
    {
     "output_type": "display_data",
     "data": {
      "text/plain": "'Yes, if the more researchy tasks can be split into achievable goals. Also, spikes can be used to time box tasks.'"
     },
     "metadata": {}
    },
    {
     "output_type": "display_data",
     "data": {
      "text/plain": "21"
     },
     "metadata": {}
    },
    {
     "output_type": "display_data",
     "data": {
      "text/plain": "'Data Scientist at FlixBus was asked...'"
     },
     "metadata": {}
    },
    {
     "output_type": "display_data",
     "data": {
      "text/plain": "'Coding question Hackerrank'"
     },
     "metadata": {}
    },
    {
     "output_type": "display_data",
     "data": {
      "text/plain": "''"
     },
     "metadata": {}
    },
    {
     "output_type": "display_data",
     "data": {
      "text/plain": "22"
     },
     "metadata": {}
    },
    {
     "output_type": "display_data",
     "data": {
      "text/plain": "'Data Scientist at LeanIX was asked...'"
     },
     "metadata": {}
    },
    {
     "output_type": "display_data",
     "data": {
      "text/plain": "'Wenn ich eine Menge vorgersagen wollte (bspw. die Anzahl verkaufter Äpfel), welchen Algorithmus könnte ich bspw. verwenden und welche Verteilung sollte ich zugrunde legen.'"
     },
     "metadata": {}
    },
    {
     "output_type": "display_data",
     "data": {
      "text/plain": "'Gesucht war ein Generalized Linear Model mit einer Poisson Verteilung'"
     },
     "metadata": {}
    },
    {
     "output_type": "display_data",
     "data": {
      "text/plain": "23"
     },
     "metadata": {}
    },
    {
     "output_type": "display_data",
     "data": {
      "text/plain": "'Senior Data Scientist at Outfittery was asked...'"
     },
     "metadata": {}
    },
    {
     "output_type": "display_data",
     "data": {
      "text/plain": "'Given the set of integers, find all the pairs that yields the specific sum.'"
     },
     "metadata": {}
    },
    {
     "output_type": "display_data",
     "data": {
      "text/plain": "'Mostly with the movement of the fingers that depicted the propagation of indices in the array.'"
     },
     "metadata": {}
    },
    {
     "output_type": "display_data",
     "data": {
      "text/plain": "24"
     },
     "metadata": {}
    },
    {
     "output_type": "display_data",
     "data": {
      "text/plain": "'Data Scientist at Clark (Germany) was asked...'"
     },
     "metadata": {}
    },
    {
     "output_type": "display_data",
     "data": {
      "text/plain": "'Depending on the stages, technical and non-technical aspects related to the role. The focus during the technical round was to ascertain how I solve. Knowing both merits and demerits of the approach would help.'"
     },
     "metadata": {}
    },
    {
     "output_type": "display_data",
     "data": {
      "text/plain": "'No specific answer, its very subjective.'"
     },
     "metadata": {}
    },
    {
     "output_type": "display_data",
     "data": {
      "text/plain": "25"
     },
     "metadata": {}
    },
    {
     "output_type": "display_data",
     "data": {
      "text/plain": "'Data Scientist at Airbus was asked...'"
     },
     "metadata": {}
    },
    {
     "output_type": "display_data",
     "data": {
      "text/plain": "'Sie lösen Sie ein Problem, wenn Sie das Problem nicht lösen können?'"
     },
     "metadata": {}
    },
    {
     "output_type": "display_data",
     "data": {
      "text/plain": "'Ich hole mir Expertenhilfe vom Gebiet.'"
     },
     "metadata": {}
    },
    {
     "output_type": "display_data",
     "data": {
      "text/plain": "26"
     },
     "metadata": {}
    },
    {
     "output_type": "display_data",
     "data": {
      "text/plain": "'Senior Data Analyst at MediaMarktSaturn was asked...'"
     },
     "metadata": {}
    },
    {
     "output_type": "display_data",
     "data": {
      "text/plain": "'Present a dataset solution using Pandas Library (Python)'"
     },
     "metadata": {}
    },
    {
     "output_type": "display_data",
     "data": {
      "text/plain": "'Developing an API Architecture'"
     },
     "metadata": {}
    },
    {
     "output_type": "display_data",
     "data": {
      "text/plain": "27"
     },
     "metadata": {}
    },
    {
     "output_type": "display_data",
     "data": {
      "text/plain": "'Data Analyst at GetYourGuide was asked...'"
     },
     "metadata": {}
    },
    {
     "output_type": "display_data",
     "data": {
      "text/plain": "'Give me an example of great feedback you received.'"
     },
     "metadata": {}
    },
    {
     "output_type": "display_data",
     "data": {
      "text/plain": "'Tell me about something you introduced to your current team.'"
     },
     "metadata": {}
    },
    {
     "output_type": "display_data",
     "data": {
      "text/plain": "28"
     },
     "metadata": {}
    },
    {
     "output_type": "display_data",
     "data": {
      "text/plain": "'Data Analyst at N26 was asked...'"
     },
     "metadata": {}
    },
    {
     "output_type": "display_data",
     "data": {
      "text/plain": "'About my CV, interests. Why N26?'"
     },
     "metadata": {}
    },
    {
     "output_type": "display_data",
     "data": {
      "text/plain": "'In these sorts of interviews you really need to drill down and understand what the interviewer is looking for. A good way to simulate a real interview experience is to do a mock with one of the N26 Data Analyst experts on Prepfully, rated super strongly on TrustPilot... prepfully.com/practice-interviews'"
     },
     "metadata": {}
    },
    {
     "output_type": "display_data",
     "data": {
      "text/plain": "29"
     },
     "metadata": {}
    },
    {
     "output_type": "display_data",
     "data": {
      "text/plain": "'Data Analyst at trivago was asked...'"
     },
     "metadata": {}
    },
    {
     "output_type": "display_data",
     "data": {
      "text/plain": "'How does trivago make money?'"
     },
     "metadata": {}
    },
    {
     "output_type": "display_data",
     "data": {
      "text/plain": "'You will start from a formula then will get a lot of questions around the business model of trivago. Usually you discuss on the case study that you prepared.'"
     },
     "metadata": {}
    },
    {
     "output_type": "display_data",
     "data": {
      "text/plain": "30"
     },
     "metadata": {}
    },
    {
     "output_type": "display_data",
     "data": {
      "text/plain": "'Data Analyst/Fraud Analyst at Grover was asked...'"
     },
     "metadata": {}
    },
    {
     "output_type": "display_data",
     "data": {
      "text/plain": "'Calculate and visualize asset lifetime value given straight line depreciation method for latest Macbook. Assume cost of 1499 euro and 3 years asset lifetime. Describe other depreciation methods and their advantages/disadvantages for this specific asset type.'"
     },
     "metadata": {}
    },
    {
     "output_type": "display_data",
     "data": {
      "text/plain": "\"It's essential to demonstrate that you can really go deep... there are plenty of followup questions and (sometimes tangential) angles to explore. There's a lot of Data Analyst/Fraud Analyst experts who've worked at Grover, who provide this sort of practice through mock interviews. There's a whole list of them curated on Prepfully. prepfully.com/practice-interviews\""
     },
     "metadata": {}
    },
    {
     "output_type": "display_data",
     "data": {
      "text/plain": "31"
     },
     "metadata": {}
    },
    {
     "output_type": "display_data",
     "data": {
      "text/plain": "'Data Analyst at MyHammer was asked...'"
     },
     "metadata": {}
    },
    {
     "output_type": "display_data",
     "data": {
      "text/plain": "'All about the recommendation system?'"
     },
     "metadata": {}
    },
    {
     "output_type": "display_data",
     "data": {
      "text/plain": "''"
     },
     "metadata": {}
    },
    {
     "output_type": "display_data",
     "data": {
      "text/plain": "32"
     },
     "metadata": {}
    },
    {
     "output_type": "display_data",
     "data": {
      "text/plain": "'Data Scientist at Neoglia was asked...'"
     },
     "metadata": {}
    },
    {
     "output_type": "display_data",
     "data": {
      "text/plain": "'How the current position is relevant to me?'"
     },
     "metadata": {}
    },
    {
     "output_type": "display_data",
     "data": {
      "text/plain": "'The current position was related to recommender systems which is my research domain of my doctorate'"
     },
     "metadata": {}
    },
    {
     "output_type": "display_data",
     "data": {
      "text/plain": "33"
     },
     "metadata": {}
    },
    {
     "output_type": "display_data",
     "data": {
      "text/plain": "'Data Scientist at Neoglia was asked...'"
     },
     "metadata": {}
    },
    {
     "output_type": "display_data",
     "data": {
      "text/plain": "'What is your expected salary?'"
     },
     "metadata": {}
    },
    {
     "output_type": "display_data",
     "data": {
      "text/plain": "'I am flexible to discuss the salary'"
     },
     "metadata": {}
    },
    {
     "output_type": "display_data",
     "data": {
      "text/plain": "34"
     },
     "metadata": {}
    },
    {
     "output_type": "display_data",
     "data": {
      "text/plain": "'Data Analyst at Monoqi was asked...'"
     },
     "metadata": {}
    },
    {
     "output_type": "display_data",
     "data": {
      "text/plain": "'Two emails are sent out to our clients. The results come back with 5% and 6%. Is there a difference?'"
     },
     "metadata": {}
    },
    {
     "output_type": "display_data",
     "data": {
      "text/plain": "'I answered that it depends on the sample size and are the 5% and 6% referring to click-through rates, and could they tell me the sample size. Response was, \"No no no no no. I mean we sent out two emails to one client and the results showed that there was clicks of 5% and 6%. SO is there a difference?\" I asked if they could give me more information about that one client. Then the two interviewers had a heated discussion among themselves about the question. Then they moved onto another question.'"
     },
     "metadata": {}
    },
    {
     "output_type": "display_data",
     "data": {
      "text/plain": "35"
     },
     "metadata": {}
    },
    {
     "output_type": "display_data",
     "data": {
      "text/plain": "'Data Science at AGT International was asked...'"
     },
     "metadata": {}
    },
    {
     "output_type": "display_data",
     "data": {
      "text/plain": "\"I was asked everything about my resume, about programming languages, difference between python and c++. Statistics basics. It wasn't difficult , to be honest, but I would have liked to be prepared a bit. Also, I was asked about algorithms of which I don't have a strong background as it's not my field. So I didn't perform well there. I thought they will not focus on machine learning in the first interview as it's not as a skill in my CV, though I did mention that I am interested in it.\""
     },
     "metadata": {}
    },
    {
     "output_type": "display_data",
     "data": {
      "text/plain": "'Could answer 1-2 points for 5 diffference between python and c++. Gaussian distribution. One of my favorite algorithm but they needed more extensive details.'"
     },
     "metadata": {}
    },
    {
     "output_type": "display_data",
     "data": {
      "text/plain": "36"
     },
     "metadata": {}
    },
    {
     "output_type": "display_data",
     "data": {
      "text/plain": "'Data Scientist at GfK was asked...'"
     },
     "metadata": {}
    },
    {
     "output_type": "display_data",
     "data": {
      "text/plain": "'Standard fragen wie berufliche Laufbahn etc. Keine tiefgreifenden Fragen zu Konzepten hinter ML/ Data Science oder Mathematik.'"
     },
     "metadata": {}
    },
    {
     "output_type": "display_data",
     "data": {
      "text/plain": "'Dear Candidate, Thanks for sharing the honest Feedback. Usually we are not missing to share the Feedback to the candidates who have worked hard and taken out time to work on assignment. There were a bit slow weeks after November , as some of us were on vaccation. Apologies if we might have missed reaching out to you. However we would like to Keep in touch for future positions . please feel free to write us. with Kind regards, Recruitment Team GFK'"
     },
     "metadata": {}
    },
    {
     "output_type": "display_data",
     "data": {
      "text/plain": "37"
     },
     "metadata": {}
    },
    {
     "output_type": "display_data",
     "data": {
      "text/plain": "'Data Analyst at Avira was asked...'"
     },
     "metadata": {}
    },
    {
     "output_type": "display_data",
     "data": {
      "text/plain": "'Exploratory Analysis Feature correlations Feature importances Churn Analysis'"
     },
     "metadata": {}
    },
    {
     "output_type": "display_data",
     "data": {
      "text/plain": "'Categorical variables- chi square test Feature importance- use Random Forest/Logistic regression using Sk-learn, plot a bar graph'"
     },
     "metadata": {}
    },
    {
     "output_type": "display_data",
     "data": {
      "text/plain": "38"
     },
     "metadata": {}
    },
    {
     "output_type": "display_data",
     "data": {
      "text/plain": "'Data Scientist at ZeroG was asked...'"
     },
     "metadata": {}
    },
    {
     "output_type": "display_data",
     "data": {
      "text/plain": "'The interviewer framed the questions in a way to test the following four qualities: 1) Our learning techniques and adaptability 2) Problem solving skills 3) Self-organisation skills 4) How well we can handle clients'"
     },
     "metadata": {}
    },
    {
     "output_type": "display_data",
     "data": {
      "text/plain": "'I believe to have failed with questions relating to 3rd and 4th point. I was asked to describe a situation where I hadled project under some presurre and unrealistic deadline. I gave a dumbe reply of not having encountered such a situation. The question was reframed and a hypothetical situation was given where I had to overtake project partly done by someone else. How i would handle such a situation? I messed it up again.'"
     },
     "metadata": {}
    },
    {
     "output_type": "display_data",
     "data": {
      "text/plain": "39"
     },
     "metadata": {}
    },
    {
     "output_type": "display_data",
     "data": {
      "text/plain": "'Data Analyst at GetYourGuide was asked...'"
     },
     "metadata": {}
    },
    {
     "output_type": "display_data",
     "data": {
      "text/plain": "'Culture fit is obviously very important for the company and most questions were around it. Technical interview was focused on chart interpretation and SQL'"
     },
     "metadata": {}
    },
    {
     "output_type": "display_data",
     "data": {
      "text/plain": "'What did the presentation entail?'"
     },
     "metadata": {}
    },
    {
     "output_type": "display_data",
     "data": {
      "text/plain": "40"
     },
     "metadata": {}
    },
    {
     "output_type": "display_data",
     "data": {
      "text/plain": "'Data Scientist at N26 was asked...'"
     },
     "metadata": {}
    },
    {
     "output_type": "display_data",
     "data": {
      "text/plain": "'How would you identify an outlier in a data set?'"
     },
     "metadata": {}
    },
    {
     "output_type": "display_data",
     "data": {
      "text/plain": "\"It's essential to demonstrate that you can really go deep... there are plenty of followup questions and (sometimes tangential) angles to explore. There's a lot of Data Scientist experts who've worked at N26, who provide this sort of practice through mock interviews. There's a whole list of them curated on Prepfully. prepfully.com/practice-interviews\""
     },
     "metadata": {}
    },
    {
     "output_type": "display_data",
     "data": {
      "text/plain": "41"
     },
     "metadata": {}
    },
    {
     "output_type": "display_data",
     "data": {
      "text/plain": "'Data Analyst at GetYourGuide was asked...'"
     },
     "metadata": {}
    },
    {
     "output_type": "display_data",
     "data": {
      "text/plain": "'Culture fit is obviously very important for the company and most questions were around it. Technical interview was focused on chart interpretation and SQL'"
     },
     "metadata": {}
    },
    {
     "output_type": "display_data",
     "data": {
      "text/plain": "''"
     },
     "metadata": {}
    },
    {
     "output_type": "display_data",
     "data": {
      "text/plain": "42"
     },
     "metadata": {}
    },
    {
     "output_type": "display_data",
     "data": {
      "text/plain": "'Data Scientist at IBM was asked...'"
     },
     "metadata": {}
    },
    {
     "output_type": "display_data",
     "data": {
      "text/plain": "'Wie viel Patente hat IBM im Jahr 2014 eingereicht?'"
     },
     "metadata": {}
    },
    {
     "output_type": "display_data",
     "data": {
      "text/plain": "'ca 7000.'"
     },
     "metadata": {}
    },
    {
     "output_type": "display_data",
     "data": {
      "text/plain": "43"
     },
     "metadata": {}
    },
    {
     "output_type": "display_data",
     "data": {
      "text/plain": "'Data Analyst at trivago was asked...'"
     },
     "metadata": {}
    },
    {
     "output_type": "display_data",
     "data": {
      "text/plain": "'In which country do people drink more beer, USA or China?'"
     },
     "metadata": {}
    },
    {
     "output_type": "display_data",
     "data": {
      "text/plain": "'China'"
     },
     "metadata": {}
    },
    {
     "output_type": "display_data",
     "data": {
      "text/plain": "44"
     },
     "metadata": {}
    },
    {
     "output_type": "display_data",
     "data": {
      "text/plain": "'Data Scientist at Marley Spoon was asked...'"
     },
     "metadata": {}
    },
    {
     "output_type": "display_data",
     "data": {
      "text/plain": "\"Explain a project you've worked on\""
     },
     "metadata": {}
    },
    {
     "output_type": "display_data",
     "data": {
      "text/plain": "'How can you measure accuracy'"
     },
     "metadata": {}
    },
    {
     "output_type": "display_data",
     "data": {
      "text/plain": "45"
     },
     "metadata": {}
    },
    {
     "output_type": "display_data",
     "data": {
      "text/plain": "'Data Analyst at Honeypot was asked...'"
     },
     "metadata": {}
    },
    {
     "output_type": "display_data",
     "data": {
      "text/plain": "'What kind of culture are you looking for?'"
     },
     "metadata": {}
    },
    {
     "output_type": "display_data",
     "data": {
      "text/plain": "'If given a large project, what would be the first things you did?'"
     },
     "metadata": {}
    },
    {
     "output_type": "display_data",
     "data": {
      "text/plain": "46"
     },
     "metadata": {}
    },
    {
     "output_type": "display_data",
     "data": {
      "text/plain": "'(Senior) Data Scientist at Zalando was asked...'"
     },
     "metadata": {}
    },
    {
     "output_type": "display_data",
     "data": {
      "text/plain": "'I was given a task of finding if, giving a list containg integers (representing length of videos) , and another list containing time-slots, there was a combination of two videos that could fit ain a time-slot.'"
     },
     "metadata": {}
    },
    {
     "output_type": "display_data",
     "data": {
      "text/plain": "'Was this to be done in python?'"
     },
     "metadata": {}
    },
    {
     "output_type": "display_data",
     "data": {
      "text/plain": "47"
     },
     "metadata": {}
    },
    {
     "output_type": "display_data",
     "data": {
      "text/plain": "'Data Scientist at adviqo was asked...'"
     },
     "metadata": {}
    },
    {
     "output_type": "display_data",
     "data": {
      "text/plain": "'Background, data analytics related questions, Salary expectations'"
     },
     "metadata": {}
    },
    {
     "output_type": "display_data",
     "data": {
      "text/plain": "'I believe, I have answered the questions fairly well.'"
     },
     "metadata": {}
    },
    {
     "output_type": "display_data",
     "data": {
      "text/plain": "48"
     },
     "metadata": {}
    },
    {
     "output_type": "display_data",
     "data": {
      "text/plain": "'Data Scientist at Amazon was asked...'"
     },
     "metadata": {}
    },
    {
     "output_type": "display_data",
     "data": {
      "text/plain": "'A lot of behavioural questions based on the Amazon Principles as well as general questions about algorithms, machine learning and A/B testing. Signed an NDA, cannot reveal much more'"
     },
     "metadata": {}
    },
    {
     "output_type": "display_data",
     "data": {
      "text/plain": "'Got online/phone interviews. 1h duration each. Mostly technical, questions about machine learning, and how i would approach a few problems. Also coding challenge in sql and in python. SQL the main challenge was to select the top 1 of a certain item after a group operation. Solution is to use rowindex in sub queries. Python challenge was the coin/change challenge. The real solution requires recursion. Later I was asked a few situation questions. Interviewers were very friendly and helpful. If you know your thing, it’s very likely you might pass to later stages of interviews. There were no tricky question. Totally fair and reasonable interviews.'"
     },
     "metadata": {}
    },
    {
     "output_type": "display_data",
     "data": {
      "text/plain": "49"
     },
     "metadata": {}
    },
    {
     "output_type": "display_data",
     "data": {
      "text/plain": "'Junior Data Scientist at adidas was asked...'"
     },
     "metadata": {}
    },
    {
     "output_type": "display_data",
     "data": {
      "text/plain": "'Favourite machine learning algorithm?'"
     },
     "metadata": {}
    },
    {
     "output_type": "display_data",
     "data": {
      "text/plain": "'RandomforestClassifier'"
     },
     "metadata": {}
    },
    {
     "output_type": "display_data",
     "data": {
      "text/plain": "50"
     },
     "metadata": {}
    },
    {
     "output_type": "display_data",
     "data": {
      "text/plain": "'Data Scientist at DPDgroup was asked...'"
     },
     "metadata": {}
    },
    {
     "output_type": "display_data",
     "data": {
      "text/plain": "'What is xxx project about'"
     },
     "metadata": {}
    },
    {
     "output_type": "display_data",
     "data": {
      "text/plain": "'It is about xxxxxx'"
     },
     "metadata": {}
    },
    {
     "output_type": "display_data",
     "data": {
      "text/plain": "51"
     },
     "metadata": {}
    },
    {
     "output_type": "display_data",
     "data": {
      "text/plain": "'Data Scientist at DPDgroup was asked...'"
     },
     "metadata": {}
    },
    {
     "output_type": "display_data",
     "data": {
      "text/plain": "'What is xxx project about'"
     },
     "metadata": {}
    },
    {
     "output_type": "display_data",
     "data": {
      "text/plain": "''"
     },
     "metadata": {}
    },
    {
     "output_type": "display_data",
     "data": {
      "text/plain": "52"
     },
     "metadata": {}
    },
    {
     "output_type": "display_data",
     "data": {
      "text/plain": "'Data Analyst at Henkel was asked...'"
     },
     "metadata": {}
    },
    {
     "output_type": "display_data",
     "data": {
      "text/plain": "'Fragen zum Lebenslauf'"
     },
     "metadata": {}
    },
    {
     "output_type": "display_data",
     "data": {
      "text/plain": "'Fragen zu Erfahrungen'"
     },
     "metadata": {}
    },
    {
     "output_type": "display_data",
     "data": {
      "text/plain": "53"
     },
     "metadata": {}
    },
    {
     "output_type": "display_data",
     "data": {
      "text/plain": "'Data Scientist at fromAtoB was asked...'"
     },
     "metadata": {}
    },
    {
     "output_type": "display_data",
     "data": {
      "text/plain": "'Technical challenge was the most difficult part.'"
     },
     "metadata": {}
    },
    {
     "output_type": "display_data",
     "data": {
      "text/plain": "'It is totally worth doing it.'"
     },
     "metadata": {}
    },
    {
     "output_type": "display_data",
     "data": {
      "text/plain": "54"
     },
     "metadata": {}
    },
    {
     "output_type": "display_data",
     "data": {
      "text/plain": "'Senior Data Analyst at Chrono24 was asked...'"
     },
     "metadata": {}
    },
    {
     "output_type": "display_data",
     "data": {
      "text/plain": "'Was stelle ich mir unter dieser Stelle vor?'"
     },
     "metadata": {}
    },
    {
     "output_type": "display_data",
     "data": {
      "text/plain": "'Meine Vorstellungen erläutert.'"
     },
     "metadata": {}
    },
    {
     "output_type": "display_data",
     "data": {
      "text/plain": "55"
     },
     "metadata": {}
    },
    {
     "output_type": "display_data",
     "data": {
      "text/plain": "'Data Scientist at Körber Digital was asked...'"
     },
     "metadata": {}
    },
    {
     "output_type": "display_data",
     "data": {
      "text/plain": "'print the mean of column A in the datafram'"
     },
     "metadata": {}
    },
    {
     "output_type": "display_data",
     "data": {
      "text/plain": "'import pandas as pd print(df.describe())'"
     },
     "metadata": {}
    },
    {
     "output_type": "display_data",
     "data": {
      "text/plain": "56"
     },
     "metadata": {}
    },
    {
     "output_type": "display_data",
     "data": {
      "text/plain": "'Data Science Consultant at STATWORX was asked...'"
     },
     "metadata": {}
    },
    {
     "output_type": "display_data",
     "data": {
      "text/plain": "'- Beschreiben Sie den Lebenslauf, Fragen zu einzelnen Stationen - Bearbeitung und Diskussion eines Case'"
     },
     "metadata": {}
    },
    {
     "output_type": "display_data",
     "data": {
      "text/plain": "'Case bearbeitet'"
     },
     "metadata": {}
    },
    {
     "output_type": "display_data",
     "data": {
      "text/plain": "57"
     },
     "metadata": {}
    },
    {
     "output_type": "display_data",
     "data": {
      "text/plain": "'Data Scientist at Neoglia was asked...'"
     },
     "metadata": {}
    },
    {
     "output_type": "display_data",
     "data": {
      "text/plain": "'When can you join the company?'"
     },
     "metadata": {}
    },
    {
     "output_type": "display_data",
     "data": {
      "text/plain": "'I can join in the start of next month'"
     },
     "metadata": {}
    },
    {
     "output_type": "display_data",
     "data": {
      "text/plain": "58"
     },
     "metadata": {}
    },
    {
     "output_type": "display_data",
     "data": {
      "text/plain": "'Data Scientist at Neoglia was asked...'"
     },
     "metadata": {}
    },
    {
     "output_type": "display_data",
     "data": {
      "text/plain": "'How will our company benefit from you?'"
     },
     "metadata": {}
    },
    {
     "output_type": "display_data",
     "data": {
      "text/plain": "'Based on my research experience I can help to improve your recommender system by bringing more insights to it'"
     },
     "metadata": {}
    },
    {
     "output_type": "display_data",
     "data": {
      "text/plain": "59"
     },
     "metadata": {}
    },
    {
     "output_type": "display_data",
     "data": {
      "text/plain": "'Data Analyst Online Marketing at advalyze was asked...'"
     },
     "metadata": {}
    },
    {
     "output_type": "display_data",
     "data": {
      "text/plain": "'Describe a project you worked to completion'"
     },
     "metadata": {}
    },
    {
     "output_type": "display_data",
     "data": {
      "text/plain": "'I talked about one of the projects in my github portfolio'"
     },
     "metadata": {}
    },
    {
     "output_type": "display_data",
     "data": {
      "text/plain": "60"
     },
     "metadata": {}
    },
    {
     "output_type": "display_data",
     "data": {
      "text/plain": "'Senior Data Scientist at Outfittery was asked...'"
     },
     "metadata": {}
    },
    {
     "output_type": "display_data",
     "data": {
      "text/plain": "'What is the most important thing for the successful data project?'"
     },
     "metadata": {}
    },
    {
     "output_type": "display_data",
     "data": {
      "text/plain": "'From the most to the least important: metrics, data, integration, algorithm.'"
     },
     "metadata": {}
    },
    {
     "output_type": "display_data",
     "data": {
      "text/plain": "61"
     },
     "metadata": {}
    },
    {
     "output_type": "display_data",
     "data": {
      "text/plain": "'Data Scientist at Elliott Browne was asked...'"
     },
     "metadata": {}
    },
    {
     "output_type": "display_data",
     "data": {
      "text/plain": "'They contacted me two months later asking me whether I am still interested in a new job position and whether I still have the same desired salary for the future.'"
     },
     "metadata": {}
    },
    {
     "output_type": "display_data",
     "data": {
      "text/plain": "''"
     },
     "metadata": {}
    },
    {
     "output_type": "display_data",
     "data": {
      "text/plain": "62"
     },
     "metadata": {}
    },
    {
     "output_type": "display_data",
     "data": {
      "text/plain": "'Data Scientist at Avira was asked...'"
     },
     "metadata": {}
    },
    {
     "output_type": "display_data",
     "data": {
      "text/plain": "'Create a ten minutes presentation for the data (The data is out there:) within 5 workdays.'"
     },
     "metadata": {}
    },
    {
     "output_type": "display_data",
     "data": {
      "text/plain": "'The assessment includes web crawling and exploratory data analysis.'"
     },
     "metadata": {}
    },
    {
     "output_type": "display_data",
     "data": {
      "text/plain": "63"
     },
     "metadata": {}
    },
    {
     "output_type": "display_data",
     "data": {
      "text/plain": "'Data Analyst at Raisin was asked...'"
     },
     "metadata": {}
    },
    {
     "output_type": "display_data",
     "data": {
      "text/plain": "\"what's the project you did in your previous role?\""
     },
     "metadata": {}
    },
    {
     "output_type": "display_data",
     "data": {
      "text/plain": "\"It's essential to demonstrate that you can really go deep... there are plenty of followup questions and (sometimes tangential) angles to explore. There's a lot of Data Analyst experts who've worked at Raisin, who provide this sort of practice through mock interviews. There's a whole list of them curated on Prepfully. prepfully.com/practice-interviews\""
     },
     "metadata": {}
    },
    {
     "output_type": "display_data",
     "data": {
      "text/plain": "64"
     },
     "metadata": {}
    },
    {
     "output_type": "display_data",
     "data": {
      "text/plain": "'Junior Data Scientist at AMBOSS was asked...'"
     },
     "metadata": {}
    },
    {
     "output_type": "display_data",
     "data": {
      "text/plain": "'Mostly question on how did I do the task, what are my insights, why did I use this model and not others, what are the strategies to be confident with the results etc'"
     },
     "metadata": {}
    },
    {
     "output_type": "display_data",
     "data": {
      "text/plain": "'Marketing recommendations, explained why this model is better in this case'"
     },
     "metadata": {}
    },
    {
     "output_type": "display_data",
     "data": {
      "text/plain": "65"
     },
     "metadata": {}
    },
    {
     "output_type": "display_data",
     "data": {
      "text/plain": "'Data Analyst at Quick Release was asked...'"
     },
     "metadata": {}
    },
    {
     "output_type": "display_data",
     "data": {
      "text/plain": "'Examples of Leadership during the sabbatical'"
     },
     "metadata": {}
    },
    {
     "output_type": "display_data",
     "data": {
      "text/plain": "'Leading group of Social Workers and training the village locals with vocational skills'"
     },
     "metadata": {}
    },
    {
     "output_type": "display_data",
     "data": {
      "text/plain": "66"
     },
     "metadata": {}
    },
    {
     "output_type": "display_data",
     "data": {
      "text/plain": "'Data Science Manager at Zalando was asked...'"
     },
     "metadata": {}
    },
    {
     "output_type": "display_data",
     "data": {
      "text/plain": "'Classical questions'"
     },
     "metadata": {}
    },
    {
     "output_type": "display_data",
     "data": {
      "text/plain": "'Stick to the questions. Stay formal, do not be over-friendly.'"
     },
     "metadata": {}
    },
    {
     "output_type": "display_data",
     "data": {
      "text/plain": "67"
     },
     "metadata": {}
    },
    {
     "output_type": "display_data",
     "data": {
      "text/plain": "'Data Analyst at Zalando was asked...'"
     },
     "metadata": {}
    },
    {
     "output_type": "display_data",
     "data": {
      "text/plain": "'Tell us of a time when you had to balance between speed and efficiency'"
     },
     "metadata": {}
    },
    {
     "output_type": "display_data",
     "data": {
      "text/plain": "\"There's quite an extended back and forth in actual interviews for questions like this, so nothing quite like real practice. The Prepfully Zalando Data Analyst experts have actually worked in this role, so they're able to do an honest-to-God accurate mock, which really puts you through the paces. prepfully.com/practice-interviews\""
     },
     "metadata": {}
    },
    {
     "output_type": "display_data",
     "data": {
      "text/plain": "68"
     },
     "metadata": {}
    },
    {
     "output_type": "display_data",
     "data": {
      "text/plain": "'Data Analyst at Honeypot was asked...'"
     },
     "metadata": {}
    },
    {
     "output_type": "display_data",
     "data": {
      "text/plain": "'What makes you excited about data?'"
     },
     "metadata": {}
    },
    {
     "output_type": "display_data",
     "data": {
      "text/plain": "'What is important to you in your work environment?'"
     },
     "metadata": {}
    },
    {
     "output_type": "display_data",
     "data": {
      "text/plain": "69"
     },
     "metadata": {}
    },
    {
     "output_type": "display_data",
     "data": {
      "text/plain": "'Data Analyst/Business Intelligence at trivago was asked...'"
     },
     "metadata": {}
    },
    {
     "output_type": "display_data",
     "data": {
      "text/plain": "'Why trivago?'"
     },
     "metadata": {}
    },
    {
     "output_type": "display_data",
     "data": {
      "text/plain": "\"Position, Company's profile, need for personal growth.\""
     },
     "metadata": {}
    },
    {
     "output_type": "display_data",
     "data": {
      "text/plain": "70"
     },
     "metadata": {}
    },
    {
     "output_type": "display_data",
     "data": {
      "text/plain": "'Data Analyst at Siemens Healthineers was asked...'"
     },
     "metadata": {}
    },
    {
     "output_type": "display_data",
     "data": {
      "text/plain": "'Wer sind genau sind sie jetzt eigentlich?'"
     },
     "metadata": {}
    },
    {
     "output_type": "display_data",
     "data": {
      "text/plain": "'🤣 eigentlich nicht lustig...'"
     },
     "metadata": {}
    },
    {
     "output_type": "display_data",
     "data": {
      "text/plain": "71"
     },
     "metadata": {}
    },
    {
     "output_type": "display_data",
     "data": {
      "text/plain": "'Data Scientist at Daimler was asked...'"
     },
     "metadata": {}
    },
    {
     "output_type": "display_data",
     "data": {
      "text/plain": "'how do you handle unbalanced data'"
     },
     "metadata": {}
    },
    {
     "output_type": "display_data",
     "data": {
      "text/plain": "'by sampling strategies or by weighting the cost function'"
     },
     "metadata": {}
    },
    {
     "output_type": "display_data",
     "data": {
      "text/plain": "72"
     },
     "metadata": {}
    },
    {
     "output_type": "display_data",
     "data": {
      "text/plain": "'Data Scientist at Deutsche Post & DHL was asked...'"
     },
     "metadata": {}
    },
    {
     "output_type": "display_data",
     "data": {
      "text/plain": "\"1st interview : - describe your projects and direct tasks - how to do you handle missing values ? - what type of data you work with ? 2nd interview : 1st part : - describe more in detail your projects (be concise and don't let them spend a lot of time and focus on this) - your skills (keras, linear models ..) 2nd part : - business case : let's say we have a volume of parcel that should be delivered on daily basis (they might show a graph of parcel volume over one year). How can I decide the right amount of employees who will deliver the parcel ? it shouldn't be more nor less, just the amount needed. How much data would I need to do the model ?\""
     },
     "metadata": {}
    },
    {
     "output_type": "display_data",
     "data": {
      "text/plain": "'Analysis : the graph representation contains upward and downward shifts which are sign of high and low demand, which coincides with normal week days (low demand) and weekends (high demands). At the end of the year the tendancy goes higher because of the high purchases amount (holidays). We can apply for this the linear model, but keep in mind the error metrics and try to suggest corrective measures. The data should be min. of two years to prevent outliers (like 2020 where the demand went high due to corona).'"
     },
     "metadata": {}
    },
    {
     "output_type": "display_data",
     "data": {
      "text/plain": "73"
     },
     "metadata": {}
    },
    {
     "output_type": "display_data",
     "data": {
      "text/plain": "'Data Scientist at Kreditech Holding was asked...'"
     },
     "metadata": {}
    },
    {
     "output_type": "display_data",
     "data": {
      "text/plain": "'Data set contained a variable that was a perfect predictor on the training set but with no predictive power in the validation set.'"
     },
     "metadata": {}
    },
    {
     "output_type": "display_data",
     "data": {
      "text/plain": "'Not sure whether I was supposed to peek at the validation set or not.'"
     },
     "metadata": {}
    },
    {
     "output_type": "display_data",
     "data": {
      "text/plain": "74"
     },
     "metadata": {}
    },
    {
     "output_type": "display_data",
     "data": {
      "text/plain": "'Master Data Analyst at Tonies was asked...'"
     },
     "metadata": {}
    },
    {
     "output_type": "display_data",
     "data": {
      "text/plain": "'Fragen um mein Arbeitserfahrung Was ist mir wichtig an einem Arbeitgeber? Warum passe ich zu der Firma? usw. usw.'"
     },
     "metadata": {}
    },
    {
     "output_type": "display_data",
     "data": {
      "text/plain": "'Ich finde nur Schade, dass ich mich Zeit für die Firma genommen habe, sie haben mir aber keine Absage geschickt. Es war vergleichbar wie im Ghosting. Erst nachdem ich bei der Firma angerufen habe, habe ich eine Absage bekommen.'"
     },
     "metadata": {}
    },
    {
     "output_type": "display_data",
     "data": {
      "text/plain": "75"
     },
     "metadata": {}
    },
    {
     "output_type": "display_data",
     "data": {
      "text/plain": "'Junior Data Analyst at Plan.Net was asked...'"
     },
     "metadata": {}
    },
    {
     "output_type": "display_data",
     "data": {
      "text/plain": "'Stellen Sie sich nochmal vor. Bearbeiten Sie diesen Datensatz um Frage XY zu lösen.'"
     },
     "metadata": {}
    },
    {
     "output_type": "display_data",
     "data": {
      "text/plain": "'CV durchgegangen und auf frühere Jobs die für diese Stelle passten. Datensatz in R bearbeitet. Zeit hat nicht gereicht, aber ihnen war eher der Weg wichtig, nicht ein fertiges Ergebnis'"
     },
     "metadata": {}
    },
    {
     "output_type": "display_data",
     "data": {
      "text/plain": "76"
     },
     "metadata": {}
    },
    {
     "output_type": "display_data",
     "data": {
      "text/plain": "'Data Scientist at FlixBus was asked...'"
     },
     "metadata": {}
    },
    {
     "output_type": "display_data",
     "data": {
      "text/plain": "'The 3 hour timed test was about data cleaning/exploring on their datafile, not building predictive models but proposing some approaches and letting them know of potential solutions.'"
     },
     "metadata": {}
    },
    {
     "output_type": "display_data",
     "data": {
      "text/plain": "'While I provided detailed script and much more, and I could easily sit anytime with anyone and showcase expertise in machine learning and data exploration, I was expecting more transparent process than simple sentence they will not pursue with the application. I would discouradge anyone from doing such online interview or timed data tests without clear metrics - not that I claim here, companies might missuse such hiring principles as free data science done by their potential future employees.'"
     },
     "metadata": {}
    },
    {
     "output_type": "display_data",
     "data": {
      "text/plain": "77"
     },
     "metadata": {}
    },
    {
     "output_type": "display_data",
     "data": {
      "text/plain": "'Senior Data Scientist at Outfittery was asked...'"
     },
     "metadata": {}
    },
    {
     "output_type": "display_data",
     "data": {
      "text/plain": "'How would you test a models performance in production?'"
     },
     "metadata": {}
    },
    {
     "output_type": "display_data",
     "data": {
      "text/plain": "'A/B test'"
     },
     "metadata": {}
    },
    {
     "output_type": "display_data",
     "data": {
      "text/plain": "78"
     },
     "metadata": {}
    },
    {
     "output_type": "display_data",
     "data": {
      "text/plain": "'Data Scientist at NTT DATA was asked...'"
     },
     "metadata": {}
    },
    {
     "output_type": "display_data",
     "data": {
      "text/plain": "'Haben Sie erfahrung mit Algorithmen und Numerik? Haben Sie Erfahrung mit Datenbanken?'"
     },
     "metadata": {}
    },
    {
     "output_type": "display_data",
     "data": {
      "text/plain": "'ja nein'"
     },
     "metadata": {}
    },
    {
     "output_type": "display_data",
     "data": {
      "text/plain": "79"
     },
     "metadata": {}
    },
    {
     "output_type": "display_data",
     "data": {
      "text/plain": "'Data Analyst at Rosen was asked...'"
     },
     "metadata": {}
    },
    {
     "output_type": "display_data",
     "data": {
      "text/plain": "'Why do you want to moved to Lingen? How have you dealt with problems before? What will be the more difficult thing for you at the beggining of this position?'"
     },
     "metadata": {}
    },
    {
     "output_type": "display_data",
     "data": {
      "text/plain": "'Always liked small chill towns.'"
     },
     "metadata": {}
    },
    {
     "output_type": "display_data",
     "data": {
      "text/plain": "80"
     },
     "metadata": {}
    },
    {
     "output_type": "display_data",
     "data": {
      "text/plain": "'Data Scientist at Rosen was asked...'"
     },
     "metadata": {}
    },
    {
     "output_type": "display_data",
     "data": {
      "text/plain": "'Why you want to move to a small town like Lingen?'"
     },
     "metadata": {}
    },
    {
     "output_type": "display_data",
     "data": {
      "text/plain": "'If you are given a deadline of 1 month would you need more time to perfect the task or would you prefer to submit it on time irrespective of quality?'"
     },
     "metadata": {}
    },
    {
     "output_type": "display_data",
     "data": {
      "text/plain": "81"
     },
     "metadata": {}
    },
    {
     "output_type": "display_data",
     "data": {
      "text/plain": "'Senior Data Scientist at Careem was asked...'"
     },
     "metadata": {}
    },
    {
     "output_type": "display_data",
     "data": {
      "text/plain": "\"Just know your machine learning theory and statistics and coding. Revise notes, try some problems online etc. Make sure you get a good night's sleep before the interview and prepare!\""
     },
     "metadata": {}
    },
    {
     "output_type": "display_data",
     "data": {
      "text/plain": "''"
     },
     "metadata": {}
    },
    {
     "output_type": "display_data",
     "data": {
      "text/plain": "82"
     },
     "metadata": {}
    },
    {
     "output_type": "display_data",
     "data": {
      "text/plain": "'Data Scientist at Zalando was asked...'"
     },
     "metadata": {}
    },
    {
     "output_type": "display_data",
     "data": {
      "text/plain": "'How can you get unique elements from a list?'"
     },
     "metadata": {}
    },
    {
     "output_type": "display_data",
     "data": {
      "text/plain": "'Just convert the list to set.'"
     },
     "metadata": {}
    },
    {
     "output_type": "display_data",
     "data": {
      "text/plain": "83"
     },
     "metadata": {}
    },
    {
     "output_type": "display_data",
     "data": {
      "text/plain": "'Data Science Consultant at Ingram Micro was asked...'"
     },
     "metadata": {}
    },
    {
     "output_type": "display_data",
     "data": {
      "text/plain": "'Können Sie bitte über sich selbst etwas erzählen?'"
     },
     "metadata": {}
    },
    {
     "output_type": "display_data",
     "data": {
      "text/plain": "'Typische Vorstellungsrunde. Werdegang, relevante Kompetenzen und Erfahrungen usw.'"
     },
     "metadata": {}
    },
    {
     "output_type": "display_data",
     "data": {
      "text/plain": "84"
     },
     "metadata": {}
    },
    {
     "output_type": "display_data",
     "data": {
      "text/plain": "'Data Scientist at SAP was asked...'"
     },
     "metadata": {}
    },
    {
     "output_type": "display_data",
     "data": {
      "text/plain": "'Introduce yourself'"
     },
     "metadata": {}
    },
    {
     "output_type": "display_data",
     "data": {
      "text/plain": "'give an introduction'"
     },
     "metadata": {}
    },
    {
     "output_type": "display_data",
     "data": {
      "text/plain": "85"
     },
     "metadata": {}
    },
    {
     "output_type": "display_data",
     "data": {
      "text/plain": "'Data Analyst at trivago was asked...'"
     },
     "metadata": {}
    },
    {
     "output_type": "display_data",
     "data": {
      "text/plain": "'How many shampoo bootles(that you find usually in your Hotel room) are consumed in a year in all over the world? (This was the last question)'"
     },
     "metadata": {}
    },
    {
     "output_type": "display_data",
     "data": {
      "text/plain": "'The final number is not important. You have to show how your brain works.'"
     },
     "metadata": {}
    },
    {
     "output_type": "display_data",
     "data": {
      "text/plain": "86"
     },
     "metadata": {}
    },
    {
     "output_type": "display_data",
     "data": {
      "text/plain": "'Data Scientist at Delivery Hero was asked...'"
     },
     "metadata": {}
    },
    {
     "output_type": "display_data",
     "data": {
      "text/plain": "'What is kurtosis? How does it relate to skewness?'"
     },
     "metadata": {}
    },
    {
     "output_type": "display_data",
     "data": {
      "text/plain": "'kurtosis is the measure of whether the data is heavy tailed or light tailed. High kurtosis results in heavy tails and outliers while low kurtosis results in light tails and lacks outliers. Skewness is the measure of lack of symmetry. There is no relationship between skewness and kurtosis. They are measuring different properties of distribution.'"
     },
     "metadata": {}
    },
    {
     "output_type": "display_data",
     "data": {
      "text/plain": "87"
     },
     "metadata": {}
    },
    {
     "output_type": "display_data",
     "data": {
      "text/plain": "'Data Scientist at Delivery Hero was asked...'"
     },
     "metadata": {}
    },
    {
     "output_type": "display_data",
     "data": {
      "text/plain": "'What is heteroscedasticity?'"
     },
     "metadata": {}
    },
    {
     "output_type": "display_data",
     "data": {
      "text/plain": "\"There's quite an extended back and forth in actual interviews for questions like this, so nothing quite like real practice. The Prepfully DeliveryHero Data Scientist experts have actually worked in this role, so they're able to do an honest-to-God accurate mock, which really puts you through the paces. prepfully.com/practice-interviews\""
     },
     "metadata": {}
    },
    {
     "output_type": "display_data",
     "data": {
      "text/plain": "88"
     },
     "metadata": {}
    },
    {
     "output_type": "display_data",
     "data": {
      "text/plain": "'Junior Data Scientist at Deloitte was asked...'"
     },
     "metadata": {}
    },
    {
     "output_type": "display_data",
     "data": {
      "text/plain": "'Fragen zum Unterschied zwischen Over und Under Fitting beim Machinellen Lernen.'"
     },
     "metadata": {}
    },
    {
     "output_type": "display_data",
     "data": {
      "text/plain": "''"
     },
     "metadata": {}
    },
    {
     "output_type": "display_data",
     "data": {
      "text/plain": "89"
     },
     "metadata": {}
    },
    {
     "output_type": "display_data",
     "data": {
      "text/plain": "'Head of Data Science at fromAtoB was asked...'"
     },
     "metadata": {}
    },
    {
     "output_type": "display_data",
     "data": {
      "text/plain": "'Case study zur Zeitreihenanalyse.'"
     },
     "metadata": {}
    },
    {
     "output_type": "display_data",
     "data": {
      "text/plain": "'No answer'"
     },
     "metadata": {}
    },
    {
     "output_type": "display_data",
     "data": {
      "text/plain": "90"
     },
     "metadata": {}
    },
    {
     "output_type": "display_data",
     "data": {
      "text/plain": "'Data Analyst at Zeppelin Lab was asked...'"
     },
     "metadata": {}
    },
    {
     "output_type": "display_data",
     "data": {
      "text/plain": "'I wish I had gotten to this point by better explanation of the deadlines'"
     },
     "metadata": {}
    },
    {
     "output_type": "display_data",
     "data": {
      "text/plain": "'No answer'"
     },
     "metadata": {}
    },
    {
     "output_type": "display_data",
     "data": {
      "text/plain": "91"
     },
     "metadata": {}
    },
    {
     "output_type": "display_data",
     "data": {
      "text/plain": "'Business Data Analyst at International Copyright Enterprise was asked...'"
     },
     "metadata": {}
    },
    {
     "output_type": "display_data",
     "data": {
      "text/plain": "'The questions were typical interview questions more or less like what can you contribute in this position, difficulties you have encountered in the past and how you dealt with them, what motivates you etc. They also asked for salary expectations and availability in the end.'"
     },
     "metadata": {}
    },
    {
     "output_type": "display_data",
     "data": {
      "text/plain": "'No answer'"
     },
     "metadata": {}
    },
    {
     "output_type": "display_data",
     "data": {
      "text/plain": "92"
     },
     "metadata": {}
    },
    {
     "output_type": "display_data",
     "data": {
      "text/plain": "'Medical Data Analyst Intern at Medigo was asked...'"
     },
     "metadata": {}
    },
    {
     "output_type": "display_data",
     "data": {
      "text/plain": "'Can you tell me a little about yourself? What do you know about the company? Why do you want this job? What are your greatest professional strengths? What do you consider to be your weaknesses? Where do you see yourself in five years? Can you explain why you changed career paths? What are you looking for in a new position? What do you like to do outside of work? Do you have any questions for us?'"
     },
     "metadata": {}
    },
    {
     "output_type": "display_data",
     "data": {
      "text/plain": "'No answer'"
     },
     "metadata": {}
    },
    {
     "output_type": "display_data",
     "data": {
      "text/plain": "93"
     },
     "metadata": {}
    },
    {
     "output_type": "display_data",
     "data": {
      "text/plain": "'Data Analyst at Flaregames was asked...'"
     },
     "metadata": {}
    },
    {
     "output_type": "display_data",
     "data": {
      "text/plain": "'Question about my competencies.'"
     },
     "metadata": {}
    },
    {
     "output_type": "display_data",
     "data": {
      "text/plain": "'No answer'"
     },
     "metadata": {}
    },
    {
     "output_type": "display_data",
     "data": {
      "text/plain": "94"
     },
     "metadata": {}
    },
    {
     "output_type": "display_data",
     "data": {
      "text/plain": "'Data Analyst at Flaregames was asked...'"
     },
     "metadata": {}
    },
    {
     "output_type": "display_data",
     "data": {
      "text/plain": "'Question about my competencies.'"
     },
     "metadata": {}
    },
    {
     "output_type": "display_data",
     "data": {
      "text/plain": "'No answer'"
     },
     "metadata": {}
    },
    {
     "output_type": "display_data",
     "data": {
      "text/plain": "95"
     },
     "metadata": {}
    },
    {
     "output_type": "display_data",
     "data": {
      "text/plain": "'Data Scientist at Kreditech Holding was asked...'"
     },
     "metadata": {}
    },
    {
     "output_type": "display_data",
     "data": {
      "text/plain": "'binary classification problem in R'"
     },
     "metadata": {}
    },
    {
     "output_type": "display_data",
     "data": {
      "text/plain": "'No answer'"
     },
     "metadata": {}
    },
    {
     "output_type": "display_data",
     "data": {
      "text/plain": "96"
     },
     "metadata": {}
    },
    {
     "output_type": "display_data",
     "data": {
      "text/plain": "'Data Scientist at METRO Cash & Carry was asked...'"
     },
     "metadata": {}
    },
    {
     "output_type": "display_data",
     "data": {
      "text/plain": "'Warum Metro? Konkurrenz von Metro.welche Programmierkenntnisse haben Sie.'"
     },
     "metadata": {}
    },
    {
     "output_type": "display_data",
     "data": {
      "text/plain": "'No answer'"
     },
     "metadata": {}
    },
    {
     "output_type": "display_data",
     "data": {
      "text/plain": "97"
     },
     "metadata": {}
    },
    {
     "output_type": "display_data",
     "data": {
      "text/plain": "'Data Scientist Intern at Audi was asked...'"
     },
     "metadata": {}
    },
    {
     "output_type": "display_data",
     "data": {
      "text/plain": "'Wie waren deine letzte Projekte? Was waren die Herausforderungen?'"
     },
     "metadata": {}
    },
    {
     "output_type": "display_data",
     "data": {
      "text/plain": "'No answer'"
     },
     "metadata": {}
    },
    {
     "output_type": "display_data",
     "data": {
      "text/plain": "98"
     },
     "metadata": {}
    },
    {
     "output_type": "display_data",
     "data": {
      "text/plain": "'Data Scientist at PrestaCap was asked...'"
     },
     "metadata": {}
    },
    {
     "output_type": "display_data",
     "data": {
      "text/plain": "'Regular RH'"
     },
     "metadata": {}
    },
    {
     "output_type": "display_data",
     "data": {
      "text/plain": "'No answer'"
     },
     "metadata": {}
    },
    {
     "output_type": "display_data",
     "data": {
      "text/plain": "99"
     },
     "metadata": {}
    },
    {
     "output_type": "display_data",
     "data": {
      "text/plain": "'Data Scientist at fromAtoB was asked...'"
     },
     "metadata": {}
    },
    {
     "output_type": "display_data",
     "data": {
      "text/plain": "'The selection process included 4 steps and for me it took relatively short time (around 10 days) : - HR interview (30 mins): my background and experience in the role, motivation for applying for the offered role - Interview with the Head of Data Science (1 hour): description of the role, projects on which the successful candidate will work, company culture and description of working week. - Data Science task (1 day): they sent me a task for which I had a day to prepare the analysis and send it back to them the days after - Onsite interview (1 hour or maybe a bit more) : the data science team and I went through the task and they had some questions and brainstorming about other possible analyses or insights in the results. After that we had the possibility to get to know each other and see whether we were a good fit.'"
     },
     "metadata": {}
    },
    {
     "output_type": "display_data",
     "data": {
      "text/plain": "'No answer'"
     },
     "metadata": {}
    },
    {
     "output_type": "display_data",
     "data": {
      "text/plain": "100"
     },
     "metadata": {}
    },
    {
     "output_type": "display_data",
     "data": {
      "text/plain": "'Senior Data Scientist at MyHammer was asked...'"
     },
     "metadata": {}
    },
    {
     "output_type": "display_data",
     "data": {
      "text/plain": "\"why are you looking for a change at this point? What's your career goal in next 5 years?\""
     },
     "metadata": {}
    },
    {
     "output_type": "display_data",
     "data": {
      "text/plain": "'No answer'"
     },
     "metadata": {}
    },
    {
     "output_type": "display_data",
     "data": {
      "text/plain": "101"
     },
     "metadata": {}
    },
    {
     "output_type": "display_data",
     "data": {
      "text/plain": "'Data Scientist at Audatic was asked...'"
     },
     "metadata": {}
    },
    {
     "output_type": "display_data",
     "data": {
      "text/plain": "'1. Finding permutation of the matrix with 3 levels of difficulty. 2. Finding the average of the nested list.'"
     },
     "metadata": {}
    },
    {
     "output_type": "display_data",
     "data": {
      "text/plain": "'No answer'"
     },
     "metadata": {}
    },
    {
     "output_type": "display_data",
     "data": {
      "text/plain": "102"
     },
     "metadata": {}
    },
    {
     "output_type": "display_data",
     "data": {
      "text/plain": "'Data Analyst at Lufthansa Group was asked...'"
     },
     "metadata": {}
    },
    {
     "output_type": "display_data",
     "data": {
      "text/plain": "'Why you choose Germany? Why you choose this job? Are you familiar with R/Python?'"
     },
     "metadata": {}
    },
    {
     "output_type": "display_data",
     "data": {
      "text/plain": "'No answer'"
     },
     "metadata": {}
    },
    {
     "output_type": "display_data",
     "data": {
      "text/plain": "103"
     },
     "metadata": {}
    },
    {
     "output_type": "display_data",
     "data": {
      "text/plain": "'Data Analyst at Stocard was asked...'"
     },
     "metadata": {}
    },
    {
     "output_type": "display_data",
     "data": {
      "text/plain": "'Tell me about your team working experience'"
     },
     "metadata": {}
    },
    {
     "output_type": "display_data",
     "data": {
      "text/plain": "'No answer'"
     },
     "metadata": {}
    },
    {
     "output_type": "display_data",
     "data": {
      "text/plain": "104"
     },
     "metadata": {}
    },
    {
     "output_type": "display_data",
     "data": {
      "text/plain": "'Senior Data Scientist at FlixBus was asked...'"
     },
     "metadata": {}
    },
    {
     "output_type": "display_data",
     "data": {
      "text/plain": "'Most of the technical interview was about the test assignment, there were also some general machine learning questions and a couple of things about testing your models and code'"
     },
     "metadata": {}
    },
    {
     "output_type": "display_data",
     "data": {
      "text/plain": "'No answer'"
     },
     "metadata": {}
    },
    {
     "output_type": "display_data",
     "data": {
      "text/plain": "105"
     },
     "metadata": {}
    },
    {
     "output_type": "display_data",
     "data": {
      "text/plain": "'Data Scientist at FlixBus was asked...'"
     },
     "metadata": {}
    },
    {
     "output_type": "display_data",
     "data": {
      "text/plain": "'ML questions about random forests, cross-validation, precision/recall.'"
     },
     "metadata": {}
    },
    {
     "output_type": "display_data",
     "data": {
      "text/plain": "'No answer'"
     },
     "metadata": {}
    },
    {
     "output_type": "display_data",
     "data": {
      "text/plain": "106"
     },
     "metadata": {}
    },
    {
     "output_type": "display_data",
     "data": {
      "text/plain": "'Sales Data Analyst at ResearchGate was asked...'"
     },
     "metadata": {}
    },
    {
     "output_type": "display_data",
     "data": {
      "text/plain": "'Why did you leave your previous position?'"
     },
     "metadata": {}
    },
    {
     "output_type": "display_data",
     "data": {
      "text/plain": "'No answer'"
     },
     "metadata": {}
    },
    {
     "output_type": "display_data",
     "data": {
      "text/plain": "107"
     },
     "metadata": {}
    },
    {
     "output_type": "display_data",
     "data": {
      "text/plain": "'Data Scientist at ResearchGate was asked...'"
     },
     "metadata": {}
    },
    {
     "output_type": "display_data",
     "data": {
      "text/plain": "'Coding exercises, thinking how to support their platform with innovative ideas'"
     },
     "metadata": {}
    },
    {
     "output_type": "display_data",
     "data": {
      "text/plain": "'No answer'"
     },
     "metadata": {}
    },
    {
     "output_type": "display_data",
     "data": {
      "text/plain": "108"
     },
     "metadata": {}
    },
    {
     "output_type": "display_data",
     "data": {
      "text/plain": "'Data Scientist Manager at QIAGEN was asked...'"
     },
     "metadata": {}
    },
    {
     "output_type": "display_data",
     "data": {
      "text/plain": "'What kind of projects did you work at your previous positions?'"
     },
     "metadata": {}
    },
    {
     "output_type": "display_data",
     "data": {
      "text/plain": "'No answer'"
     },
     "metadata": {}
    },
    {
     "output_type": "display_data",
     "data": {
      "text/plain": "109"
     },
     "metadata": {}
    },
    {
     "output_type": "display_data",
     "data": {
      "text/plain": "'Data Scientist at Architrave was asked...'"
     },
     "metadata": {}
    },
    {
     "output_type": "display_data",
     "data": {
      "text/plain": "'I was asked how do I structure my projects and how do I decide when a project should be continued or set aside.'"
     },
     "metadata": {}
    },
    {
     "output_type": "display_data",
     "data": {
      "text/plain": "'No answer'"
     },
     "metadata": {}
    },
    {
     "output_type": "display_data",
     "data": {
      "text/plain": "110"
     },
     "metadata": {}
    },
    {
     "output_type": "display_data",
     "data": {
      "text/plain": "'Junior Data Scientist at KPMG was asked...'"
     },
     "metadata": {}
    },
    {
     "output_type": "display_data",
     "data": {
      "text/plain": "'Erzählen Sie uns über Ihre Masterarbeit.'"
     },
     "metadata": {}
    },
    {
     "output_type": "display_data",
     "data": {
      "text/plain": "'No answer'"
     },
     "metadata": {}
    },
    {
     "output_type": "display_data",
     "data": {
      "text/plain": "111"
     },
     "metadata": {}
    },
    {
     "output_type": "display_data",
     "data": {
      "text/plain": "'Data Analyst at Siemens was asked...'"
     },
     "metadata": {}
    },
    {
     "output_type": "display_data",
     "data": {
      "text/plain": "'Case study on manufacturing and calculations'"
     },
     "metadata": {}
    },
    {
     "output_type": "display_data",
     "data": {
      "text/plain": "'No answer'"
     },
     "metadata": {}
    },
    {
     "output_type": "display_data",
     "data": {
      "text/plain": "112"
     },
     "metadata": {}
    },
    {
     "output_type": "display_data",
     "data": {
      "text/plain": "'Data Analyst at Publicis Groupe was asked...'"
     },
     "metadata": {}
    },
    {
     "output_type": "display_data",
     "data": {
      "text/plain": "'Sell me with a Data something'"
     },
     "metadata": {}
    },
    {
     "output_type": "display_data",
     "data": {
      "text/plain": "'No answer'"
     },
     "metadata": {}
    },
    {
     "output_type": "display_data",
     "data": {
      "text/plain": "113"
     },
     "metadata": {}
    },
    {
     "output_type": "display_data",
     "data": {
      "text/plain": "'Data Scientist at EY was asked...'"
     },
     "metadata": {}
    },
    {
     "output_type": "display_data",
     "data": {
      "text/plain": "'Why should we hire you?'"
     },
     "metadata": {}
    },
    {
     "output_type": "display_data",
     "data": {
      "text/plain": "'No answer'"
     },
     "metadata": {}
    },
    {
     "output_type": "display_data",
     "data": {
      "text/plain": "114"
     },
     "metadata": {}
    },
    {
     "output_type": "display_data",
     "data": {
      "text/plain": "'Junior Data Analyst at Phiture was asked...'"
     },
     "metadata": {}
    },
    {
     "output_type": "display_data",
     "data": {
      "text/plain": "'What are your strengths/weakness? Previous experience ? Your impact at your current organization?'"
     },
     "metadata": {}
    },
    {
     "output_type": "display_data",
     "data": {
      "text/plain": "'No answer'"
     },
     "metadata": {}
    },
    {
     "output_type": "display_data",
     "data": {
      "text/plain": "115"
     },
     "metadata": {}
    },
    {
     "output_type": "display_data",
     "data": {
      "text/plain": "'Junior Data Analyst at Phiture was asked...'"
     },
     "metadata": {}
    },
    {
     "output_type": "display_data",
     "data": {
      "text/plain": "'- Why are you suitable for this role? - Why would you like to work at Phiture?'"
     },
     "metadata": {}
    },
    {
     "output_type": "display_data",
     "data": {
      "text/plain": "'No answer'"
     },
     "metadata": {}
    },
    {
     "output_type": "display_data",
     "data": {
      "text/plain": "116"
     },
     "metadata": {}
    },
    {
     "output_type": "display_data",
     "data": {
      "text/plain": "'Senior Data Scientist at Boehringer Ingelheim was asked...'"
     },
     "metadata": {}
    },
    {
     "output_type": "display_data",
     "data": {
      "text/plain": "'Some R syntax questions.'"
     },
     "metadata": {}
    },
    {
     "output_type": "display_data",
     "data": {
      "text/plain": "'No answer'"
     },
     "metadata": {}
    },
    {
     "output_type": "display_data",
     "data": {
      "text/plain": "117"
     },
     "metadata": {}
    },
    {
     "output_type": "display_data",
     "data": {
      "text/plain": "'Data Scientist at King was asked...'"
     },
     "metadata": {}
    },
    {
     "output_type": "display_data",
     "data": {
      "text/plain": "'Question 1. (5-20 minutes) A cube is painted Green on all six sides. It is divided into 125 (=5 x 5 x 5) equal smaller cubes. Find: 1.1 The number of smaller cubes having a) 3 faces coloured? b) Exactly 2 faces coloured? c) Exactly 1 face coloured? d) 0 faces coloured? 1.2 All 125 cubes are put into a bag. If a single cube is selected at random from the bag, find probability of picking a cube having 1 or more Green faces 1.3 What is the average number of Green faces on a cube? In the above situation N=5, (with N^3 =125). 1.4 For general N, give a formula for the number of smaller cubes with exactly 2 faces coloured 1.5 For what values of N is this formula correct?'"
     },
     "metadata": {}
    },
    {
     "output_type": "display_data",
     "data": {
      "text/plain": "'No answer'"
     },
     "metadata": {}
    },
    {
     "output_type": "display_data",
     "data": {
      "text/plain": "118"
     },
     "metadata": {}
    },
    {
     "output_type": "display_data",
     "data": {
      "text/plain": "'Senior Data Analyst at GetYourGuide was asked...'"
     },
     "metadata": {}
    },
    {
     "output_type": "display_data",
     "data": {
      "text/plain": "'Explain graph, regressions, noise, SQL and data warehouse questions.'"
     },
     "metadata": {}
    },
    {
     "output_type": "display_data",
     "data": {
      "text/plain": "'No answer'"
     },
     "metadata": {}
    },
    {
     "output_type": "display_data",
     "data": {
      "text/plain": "119"
     },
     "metadata": {}
    },
    {
     "output_type": "display_data",
     "data": {
      "text/plain": "'Data Scientist at GetYourGuide was asked...'"
     },
     "metadata": {}
    },
    {
     "output_type": "display_data",
     "data": {
      "text/plain": "'Tell me about a project you owned.'"
     },
     "metadata": {}
    },
    {
     "output_type": "display_data",
     "data": {
      "text/plain": "'No answer'"
     },
     "metadata": {}
    },
    {
     "output_type": "display_data",
     "data": {
      "text/plain": "120"
     },
     "metadata": {}
    },
    {
     "output_type": "display_data",
     "data": {
      "text/plain": "'Data Scientist at Wooga was asked...'"
     },
     "metadata": {}
    },
    {
     "output_type": "display_data",
     "data": {
      "text/plain": "'A/B Tests Maths / stats Machine learning experience Analytics experience'"
     },
     "metadata": {}
    },
    {
     "output_type": "display_data",
     "data": {
      "text/plain": "'No answer'"
     },
     "metadata": {}
    },
    {
     "output_type": "display_data",
     "data": {
      "text/plain": "121"
     },
     "metadata": {}
    },
    {
     "output_type": "display_data",
     "data": {
      "text/plain": "'Big Data Analyst at OLX Group was asked...'"
     },
     "metadata": {}
    },
    {
     "output_type": "display_data",
     "data": {
      "text/plain": "'Given an OLX dataset, answer questions and perform an analysis using Python or R.'"
     },
     "metadata": {}
    },
    {
     "output_type": "display_data",
     "data": {
      "text/plain": "'No answer'"
     },
     "metadata": {}
    },
    {
     "output_type": "display_data",
     "data": {
      "text/plain": "122"
     },
     "metadata": {}
    },
    {
     "output_type": "display_data",
     "data": {
      "text/plain": "'Data Scientist at FREE NOW was asked...'"
     },
     "metadata": {}
    },
    {
     "output_type": "display_data",
     "data": {
      "text/plain": "'Typical questions: why changing a job, why applying there, etc.'"
     },
     "metadata": {}
    },
    {
     "output_type": "display_data",
     "data": {
      "text/plain": "'No answer'"
     },
     "metadata": {}
    },
    {
     "output_type": "display_data",
     "data": {
      "text/plain": "123"
     },
     "metadata": {}
    },
    {
     "output_type": "display_data",
     "data": {
      "text/plain": "'Data Scientist/Data Engineer at Emma was asked...'"
     },
     "metadata": {}
    },
    {
     "output_type": "display_data",
     "data": {
      "text/plain": "'Imagine you have 50% probability to drink alcohol today, and 80% to watch a football game. the two events are independent. What is the probability that at least one of them occurs?'"
     },
     "metadata": {}
    },
    {
     "output_type": "display_data",
     "data": {
      "text/plain": "'No answer'"
     },
     "metadata": {}
    },
    {
     "output_type": "display_data",
     "data": {
      "text/plain": "124"
     },
     "metadata": {}
    },
    {
     "output_type": "display_data",
     "data": {
      "text/plain": "'Data Scientist at Emma was asked...'"
     },
     "metadata": {}
    },
    {
     "output_type": "display_data",
     "data": {
      "text/plain": "'Tell us a project that you are proud of.'"
     },
     "metadata": {}
    },
    {
     "output_type": "display_data",
     "data": {
      "text/plain": "'No answer'"
     },
     "metadata": {}
    },
    {
     "output_type": "display_data",
     "data": {
      "text/plain": "125"
     },
     "metadata": {}
    },
    {
     "output_type": "display_data",
     "data": {
      "text/plain": "'Senior Data Scientist at N26 was asked...'"
     },
     "metadata": {}
    },
    {
     "output_type": "display_data",
     "data": {
      "text/plain": "'questions about the past projects I delivered, libraries I employ in those projects etc.'"
     },
     "metadata": {}
    },
    {
     "output_type": "display_data",
     "data": {
      "text/plain": "'No answer'"
     },
     "metadata": {}
    },
    {
     "output_type": "display_data",
     "data": {
      "text/plain": "126"
     },
     "metadata": {}
    },
    {
     "output_type": "display_data",
     "data": {
      "text/plain": "'Senior Data Scientist at N26 was asked...'"
     },
     "metadata": {}
    },
    {
     "output_type": "display_data",
     "data": {
      "text/plain": "'DS & ML fundamentals'"
     },
     "metadata": {}
    },
    {
     "output_type": "display_data",
     "data": {
      "text/plain": "'No answer'"
     },
     "metadata": {}
    },
    {
     "output_type": "display_data",
     "data": {
      "text/plain": "127"
     },
     "metadata": {}
    },
    {
     "output_type": "display_data",
     "data": {
      "text/plain": "'(Senior) Data Scientist at Zalando was asked...'"
     },
     "metadata": {}
    },
    {
     "output_type": "display_data",
     "data": {
      "text/plain": "'Explain Bayes Formula'"
     },
     "metadata": {}
    },
    {
     "output_type": "display_data",
     "data": {
      "text/plain": "'No answer'"
     },
     "metadata": {}
    },
    {
     "output_type": "display_data",
     "data": {
      "text/plain": "128"
     },
     "metadata": {}
    },
    {
     "output_type": "display_data",
     "data": {
      "text/plain": "'Senior Data Analyst at Zalando was asked...'"
     },
     "metadata": {}
    },
    {
     "output_type": "display_data",
     "data": {
      "text/plain": "'Various relevant questions and many more cringe-worthy questions.'"
     },
     "metadata": {}
    },
    {
     "output_type": "display_data",
     "data": {
      "text/plain": "'No answer'"
     },
     "metadata": {}
    },
    {
     "output_type": "display_data",
     "data": {
      "text/plain": "129"
     },
     "metadata": {}
    },
    {
     "output_type": "display_data",
     "data": {
      "text/plain": "'Data Science at Zalando was asked...'"
     },
     "metadata": {}
    },
    {
     "output_type": "display_data",
     "data": {
      "text/plain": "'What kind of data analysis experience you have? Elaborate.'"
     },
     "metadata": {}
    },
    {
     "output_type": "display_data",
     "data": {
      "text/plain": "'No answer'"
     },
     "metadata": {}
    },
    {
     "output_type": "display_data",
     "data": {
      "text/plain": "130"
     },
     "metadata": {}
    },
    {
     "output_type": "display_data",
     "data": {
      "text/plain": "'Consultant (Data Science) At BCG Gamma at Boston Consulting Group was asked...'"
     },
     "metadata": {}
    },
    {
     "output_type": "display_data",
     "data": {
      "text/plain": "'How would you describe yourself'"
     },
     "metadata": {}
    },
    {
     "output_type": "display_data",
     "data": {
      "text/plain": "'No answer'"
     },
     "metadata": {}
    },
    {
     "output_type": "display_data",
     "data": {
      "text/plain": "131"
     },
     "metadata": {}
    },
    {
     "output_type": "display_data",
     "data": {
      "text/plain": "'Consultant (Data Science) At BCG Gamma at Boston Consulting Group was asked...'"
     },
     "metadata": {}
    },
    {
     "output_type": "display_data",
     "data": {
      "text/plain": "'How would you describe yourself'"
     },
     "metadata": {}
    },
    {
     "output_type": "display_data",
     "data": {
      "text/plain": "'No answer'"
     },
     "metadata": {}
    },
    {
     "output_type": "display_data",
     "data": {
      "text/plain": "132"
     },
     "metadata": {}
    },
    {
     "output_type": "display_data",
     "data": {
      "text/plain": "'(Senior) Data Scientist at Zalando was asked...'"
     },
     "metadata": {}
    },
    {
     "output_type": "display_data",
     "data": {
      "text/plain": "'Explain Bayes Formula'"
     },
     "metadata": {}
    },
    {
     "output_type": "display_data",
     "data": {
      "text/plain": "'No answer'"
     },
     "metadata": {}
    },
    {
     "output_type": "display_data",
     "data": {
      "text/plain": "133"
     },
     "metadata": {}
    },
    {
     "output_type": "display_data",
     "data": {
      "text/plain": "'Senior Data Analyst at Zalando was asked...'"
     },
     "metadata": {}
    },
    {
     "output_type": "display_data",
     "data": {
      "text/plain": "'Various relevant questions and many more cringe-worthy questions.'"
     },
     "metadata": {}
    },
    {
     "output_type": "display_data",
     "data": {
      "text/plain": "'No answer'"
     },
     "metadata": {}
    },
    {
     "output_type": "display_data",
     "data": {
      "text/plain": "134"
     },
     "metadata": {}
    },
    {
     "output_type": "display_data",
     "data": {
      "text/plain": "'Datenanalyst at Zalando was asked...'"
     },
     "metadata": {}
    },
    {
     "output_type": "display_data",
     "data": {
      "text/plain": "'Das Interview lief wirklich fair ab. Keine Denksportaufgaben oder Überraschungsfragen.'"
     },
     "metadata": {}
    },
    {
     "output_type": "display_data",
     "data": {
      "text/plain": "'No answer'"
     },
     "metadata": {}
    },
    {
     "output_type": "display_data",
     "data": {
      "text/plain": "135"
     },
     "metadata": {}
    },
    {
     "output_type": "display_data",
     "data": {
      "text/plain": "'Data Scientist at OBI was asked...'"
     },
     "metadata": {}
    },
    {
     "output_type": "display_data",
     "data": {
      "text/plain": "'Online Assessment Center.'"
     },
     "metadata": {}
    },
    {
     "output_type": "display_data",
     "data": {
      "text/plain": "'No answer'"
     },
     "metadata": {}
    },
    {
     "output_type": "display_data",
     "data": {
      "text/plain": "136"
     },
     "metadata": {}
    },
    {
     "output_type": "display_data",
     "data": {
      "text/plain": "'Data Scientist at Wooga was asked...'"
     },
     "metadata": {}
    },
    {
     "output_type": "display_data",
     "data": {
      "text/plain": "'A/B Tests Maths / stats Machine learning experience Analytics experience'"
     },
     "metadata": {}
    },
    {
     "output_type": "display_data",
     "data": {
      "text/plain": "'No answer'"
     },
     "metadata": {}
    },
    {
     "output_type": "display_data",
     "data": {
      "text/plain": "137"
     },
     "metadata": {}
    },
    {
     "output_type": "display_data",
     "data": {
      "text/plain": "'Data Scientist at Marley Spoon was asked...'"
     },
     "metadata": {}
    },
    {
     "output_type": "display_data",
     "data": {
      "text/plain": "'- Explain a machine learning project that you worked on'"
     },
     "metadata": {}
    },
    {
     "output_type": "display_data",
     "data": {
      "text/plain": "'No answer'"
     },
     "metadata": {}
    },
    {
     "output_type": "display_data",
     "data": {
      "text/plain": "138"
     },
     "metadata": {}
    },
    {
     "output_type": "display_data",
     "data": {
      "text/plain": "'Data Scientist at HelloFresh was asked...'"
     },
     "metadata": {}
    },
    {
     "output_type": "display_data",
     "data": {
      "text/plain": "'I was asked many fairly standard questions about my experience and data science.'"
     },
     "metadata": {}
    },
    {
     "output_type": "display_data",
     "data": {
      "text/plain": "'No answer'"
     },
     "metadata": {}
    },
    {
     "output_type": "display_data",
     "data": {
      "text/plain": "139"
     },
     "metadata": {}
    },
    {
     "output_type": "display_data",
     "data": {
      "text/plain": "'Data Scientist at SAP was asked...'"
     },
     "metadata": {}
    },
    {
     "output_type": "display_data",
     "data": {
      "text/plain": "'1. what is your experience in data mining and analysis? 2. do you know VBA and how to use it for controlling and forecasting?'"
     },
     "metadata": {}
    },
    {
     "output_type": "display_data",
     "data": {
      "text/plain": "'No answer'"
     },
     "metadata": {}
    },
    {
     "output_type": "display_data",
     "data": {
      "text/plain": "140"
     },
     "metadata": {}
    },
    {
     "output_type": "display_data",
     "data": {
      "text/plain": "'Data Scientist at Allianz was asked...'"
     },
     "metadata": {}
    },
    {
     "output_type": "display_data",
     "data": {
      "text/plain": "'What data science frameworks you worked with before'"
     },
     "metadata": {}
    },
    {
     "output_type": "display_data",
     "data": {
      "text/plain": "'No answer'"
     },
     "metadata": {}
    },
    {
     "output_type": "display_data",
     "data": {
      "text/plain": "141"
     },
     "metadata": {}
    },
    {
     "output_type": "display_data",
     "data": {
      "text/plain": "'Junior Data Scientist at Amazon was asked...'"
     },
     "metadata": {}
    },
    {
     "output_type": "display_data",
     "data": {
      "text/plain": "'Stärken und Schwächen'"
     },
     "metadata": {}
    },
    {
     "output_type": "display_data",
     "data": {
      "text/plain": "'No answer'"
     },
     "metadata": {}
    },
    {
     "output_type": "display_data",
     "data": {
      "text/plain": "142"
     },
     "metadata": {}
    },
    {
     "output_type": "display_data",
     "data": {
      "text/plain": "'Lead Data Scientist at Siemens Healthineers was asked...'"
     },
     "metadata": {}
    },
    {
     "output_type": "display_data",
     "data": {
      "text/plain": "'what is for me leadership'"
     },
     "metadata": {}
    },
    {
     "output_type": "display_data",
     "data": {
      "text/plain": "'No answer'"
     },
     "metadata": {}
    },
    {
     "output_type": "display_data",
     "data": {
      "text/plain": "143"
     },
     "metadata": {}
    },
    {
     "output_type": "display_data",
     "data": {
      "text/plain": "'Clinical Data Analyst at Parexel was asked...'"
     },
     "metadata": {}
    },
    {
     "output_type": "display_data",
     "data": {
      "text/plain": "'Questions were gear around assessing your level of experience/competency for the role. Standard question i.e. Tell me about yourself,,,,What database have you used..Weakness/Strength. Compare to other interview this was not stressful.'"
     },
     "metadata": {}
    },
    {
     "output_type": "display_data",
     "data": {
      "text/plain": "'No answer'"
     },
     "metadata": {}
    },
    {
     "output_type": "display_data",
     "data": {
      "text/plain": "144"
     },
     "metadata": {}
    },
    {
     "output_type": "display_data",
     "data": {
      "text/plain": "'Data Scientist at Home24 was asked...'"
     },
     "metadata": {}
    },
    {
     "output_type": "display_data",
     "data": {
      "text/plain": "'Part 1: Usual Qs about my resume, interest, why Home24 etc., and the HR explained the team and recruiting process. Part2: Some general conceptual machine learning e.g. about boosting trees and statistics about distributions and outliers etc. Part3: Was given a small dataset of home24 items and prices, and had the flexibility to engineer features, build models and prepare a Jupyter report to present the findings. Part4: Went through the case study and my solutions and technical Qs around my chosen algorithms. I was asked about hypothesis testing as well as open discussion about basic business concepts and I think we can change things using data.'"
     },
     "metadata": {}
    },
    {
     "output_type": "display_data",
     "data": {
      "text/plain": "'No answer'"
     },
     "metadata": {}
    },
    {
     "output_type": "display_data",
     "data": {
      "text/plain": "145"
     },
     "metadata": {}
    },
    {
     "output_type": "display_data",
     "data": {
      "text/plain": "'Data Scientist at Blue Yonder was asked...'"
     },
     "metadata": {}
    },
    {
     "output_type": "display_data",
     "data": {
      "text/plain": "'F: Lebenslauf, belegte Studiengänge und Arbeitsgänge.'"
     },
     "metadata": {}
    },
    {
     "output_type": "display_data",
     "data": {
      "text/plain": "'No answer'"
     },
     "metadata": {}
    },
    {
     "output_type": "display_data",
     "data": {
      "text/plain": "146"
     },
     "metadata": {}
    },
    {
     "output_type": "display_data",
     "data": {
      "text/plain": "'Data Scientist at Blue Yonder was asked...'"
     },
     "metadata": {}
    },
    {
     "output_type": "display_data",
     "data": {
      "text/plain": "'F: Entscheidender Faktor für die Jobentscheidung in der Arbeitsumgebung'"
     },
     "metadata": {}
    },
    {
     "output_type": "display_data",
     "data": {
      "text/plain": "'No answer'"
     },
     "metadata": {}
    },
    {
     "output_type": "display_data",
     "data": {
      "text/plain": "147"
     },
     "metadata": {}
    },
    {
     "output_type": "display_data",
     "data": {
      "text/plain": "'Data Scientist at Blue Yonder was asked...'"
     },
     "metadata": {}
    },
    {
     "output_type": "display_data",
     "data": {
      "text/plain": "'F: Wie reagieren Sie auf die schwere Aufgaben?'"
     },
     "metadata": {}
    },
    {
     "output_type": "display_data",
     "data": {
      "text/plain": "'No answer'"
     },
     "metadata": {}
    },
    {
     "output_type": "display_data",
     "data": {
      "text/plain": "148"
     },
     "metadata": {}
    },
    {
     "output_type": "display_data",
     "data": {
      "text/plain": "'Data Scientist at Blue Yonder was asked...'"
     },
     "metadata": {}
    },
    {
     "output_type": "display_data",
     "data": {
      "text/plain": "'F: Wie gehen Sie mit Konflikten um?'"
     },
     "metadata": {}
    },
    {
     "output_type": "display_data",
     "data": {
      "text/plain": "'No answer'"
     },
     "metadata": {}
    },
    {
     "output_type": "display_data",
     "data": {
      "text/plain": "149"
     },
     "metadata": {}
    },
    {
     "output_type": "display_data",
     "data": {
      "text/plain": "'Data Scientist at Blue Yonder was asked...'"
     },
     "metadata": {}
    },
    {
     "output_type": "display_data",
     "data": {
      "text/plain": "'Was bedeutet one-hot-encoding?'"
     },
     "metadata": {}
    },
    {
     "output_type": "display_data",
     "data": {
      "text/plain": "'No answer'"
     },
     "metadata": {}
    },
    {
     "output_type": "display_data",
     "data": {
      "text/plain": "150"
     },
     "metadata": {}
    },
    {
     "output_type": "display_data",
     "data": {
      "text/plain": "'Data Scientist at Delivery Hero was asked...'"
     },
     "metadata": {}
    },
    {
     "output_type": "display_data",
     "data": {
      "text/plain": "'After performing a linear regression, what should you look at to determine if the regression is any good?'"
     },
     "metadata": {}
    },
    {
     "output_type": "display_data",
     "data": {
      "text/plain": "'No answer'"
     },
     "metadata": {}
    },
    {
     "output_type": "error",
     "ename": "ElementClickInterceptedException",
     "evalue": "Message: element click intercepted: Element <li class=\"next\">...</li> is not clickable at point (534, 769). Other element would receive the click: <div id=\"onetrust-group-container\" class=\"ot-sdk-eight ot-sdk-columns\">...</div>\n  (Session info: chrome=91.0.4472.77)\n",
     "traceback": [
      "\u001b[1;31m---------------------------------------------------------------------------\u001b[0m",
      "\u001b[1;31mElementClickInterceptedException\u001b[0m          Traceback (most recent call last)",
      "\u001b[1;32m<ipython-input-30-7894eedc8ad4>\u001b[0m in \u001b[0;36m<module>\u001b[1;34m\u001b[0m\n\u001b[0;32m      2\u001b[0m \u001b[0mlocation_pt\u001b[0m \u001b[1;33m=\u001b[0m \u001b[1;34m'Germany'\u001b[0m \u001b[1;31m## Lets search Data analytics\u001b[0m\u001b[1;33m\u001b[0m\u001b[1;33m\u001b[0m\u001b[0m\n\u001b[0;32m      3\u001b[0m \u001b[1;33m\u001b[0m\u001b[0m\n\u001b[1;32m----> 4\u001b[1;33m \u001b[0mdata_to_csv\u001b[0m\u001b[1;33m(\u001b[0m\u001b[0mlocation_pt\u001b[0m\u001b[1;33m,\u001b[0m\u001b[0minterview_info\u001b[0m\u001b[1;33m(\u001b[0m\u001b[0mjob_title_da\u001b[0m\u001b[1;33m,\u001b[0m\u001b[0mlocation_pt\u001b[0m\u001b[1;33m)\u001b[0m\u001b[1;33m)\u001b[0m\u001b[1;33m\u001b[0m\u001b[1;33m\u001b[0m\u001b[0m\n\u001b[0m",
      "\u001b[1;32m<ipython-input-19-de617ef4adfd>\u001b[0m in \u001b[0;36minterview_info\u001b[1;34m(job_title, location)\u001b[0m\n\u001b[0;32m     89\u001b[0m             \u001b[0mxpath_page\u001b[0m \u001b[1;33m=\u001b[0m \u001b[1;34m\"//div[@class='pagingControls cell middle']//li[@class ='next']\"\u001b[0m\u001b[1;33m\u001b[0m\u001b[1;33m\u001b[0m\u001b[0m\n\u001b[0;32m     90\u001b[0m             \u001b[0mpage_change\u001b[0m \u001b[1;33m=\u001b[0m \u001b[0mdriver\u001b[0m\u001b[1;33m.\u001b[0m\u001b[0mfind_element_by_xpath\u001b[0m\u001b[1;33m(\u001b[0m\u001b[0mxpath_page\u001b[0m\u001b[1;33m)\u001b[0m\u001b[1;33m\u001b[0m\u001b[1;33m\u001b[0m\u001b[0m\n\u001b[1;32m---> 91\u001b[1;33m             \u001b[0mpage_change_button\u001b[0m \u001b[1;33m=\u001b[0m \u001b[0mpage_change\u001b[0m\u001b[1;33m.\u001b[0m\u001b[0mclick\u001b[0m\u001b[1;33m(\u001b[0m\u001b[1;33m)\u001b[0m\u001b[1;33m\u001b[0m\u001b[1;33m\u001b[0m\u001b[0m\n\u001b[0m\u001b[0;32m     92\u001b[0m             \u001b[0mtime\u001b[0m\u001b[1;33m.\u001b[0m\u001b[0msleep\u001b[0m\u001b[1;33m(\u001b[0m\u001b[0mrandom\u001b[0m\u001b[1;33m.\u001b[0m\u001b[0muniform\u001b[0m\u001b[1;33m(\u001b[0m\u001b[1;36m35\u001b[0m\u001b[1;33m,\u001b[0m\u001b[1;36m40\u001b[0m\u001b[1;33m)\u001b[0m\u001b[1;33m)\u001b[0m\u001b[1;33m\u001b[0m\u001b[1;33m\u001b[0m\u001b[0m\n\u001b[0;32m     93\u001b[0m \u001b[1;33m\u001b[0m\u001b[0m\n",
      "\u001b[1;32m~\\anaconda3\\envs\\Ironhack\\lib\\site-packages\\selenium\\webdriver\\remote\\webelement.py\u001b[0m in \u001b[0;36mclick\u001b[1;34m(self)\u001b[0m\n\u001b[0;32m     78\u001b[0m     \u001b[1;32mdef\u001b[0m \u001b[0mclick\u001b[0m\u001b[1;33m(\u001b[0m\u001b[0mself\u001b[0m\u001b[1;33m)\u001b[0m\u001b[1;33m:\u001b[0m\u001b[1;33m\u001b[0m\u001b[1;33m\u001b[0m\u001b[0m\n\u001b[0;32m     79\u001b[0m         \u001b[1;34m\"\"\"Clicks the element.\"\"\"\u001b[0m\u001b[1;33m\u001b[0m\u001b[1;33m\u001b[0m\u001b[0m\n\u001b[1;32m---> 80\u001b[1;33m         \u001b[0mself\u001b[0m\u001b[1;33m.\u001b[0m\u001b[0m_execute\u001b[0m\u001b[1;33m(\u001b[0m\u001b[0mCommand\u001b[0m\u001b[1;33m.\u001b[0m\u001b[0mCLICK_ELEMENT\u001b[0m\u001b[1;33m)\u001b[0m\u001b[1;33m\u001b[0m\u001b[1;33m\u001b[0m\u001b[0m\n\u001b[0m\u001b[0;32m     81\u001b[0m \u001b[1;33m\u001b[0m\u001b[0m\n\u001b[0;32m     82\u001b[0m     \u001b[1;32mdef\u001b[0m \u001b[0msubmit\u001b[0m\u001b[1;33m(\u001b[0m\u001b[0mself\u001b[0m\u001b[1;33m)\u001b[0m\u001b[1;33m:\u001b[0m\u001b[1;33m\u001b[0m\u001b[1;33m\u001b[0m\u001b[0m\n",
      "\u001b[1;32m~\\anaconda3\\envs\\Ironhack\\lib\\site-packages\\selenium\\webdriver\\remote\\webelement.py\u001b[0m in \u001b[0;36m_execute\u001b[1;34m(self, command, params)\u001b[0m\n\u001b[0;32m    631\u001b[0m             \u001b[0mparams\u001b[0m \u001b[1;33m=\u001b[0m \u001b[1;33m{\u001b[0m\u001b[1;33m}\u001b[0m\u001b[1;33m\u001b[0m\u001b[1;33m\u001b[0m\u001b[0m\n\u001b[0;32m    632\u001b[0m         \u001b[0mparams\u001b[0m\u001b[1;33m[\u001b[0m\u001b[1;34m'id'\u001b[0m\u001b[1;33m]\u001b[0m \u001b[1;33m=\u001b[0m \u001b[0mself\u001b[0m\u001b[1;33m.\u001b[0m\u001b[0m_id\u001b[0m\u001b[1;33m\u001b[0m\u001b[1;33m\u001b[0m\u001b[0m\n\u001b[1;32m--> 633\u001b[1;33m         \u001b[1;32mreturn\u001b[0m \u001b[0mself\u001b[0m\u001b[1;33m.\u001b[0m\u001b[0m_parent\u001b[0m\u001b[1;33m.\u001b[0m\u001b[0mexecute\u001b[0m\u001b[1;33m(\u001b[0m\u001b[0mcommand\u001b[0m\u001b[1;33m,\u001b[0m \u001b[0mparams\u001b[0m\u001b[1;33m)\u001b[0m\u001b[1;33m\u001b[0m\u001b[1;33m\u001b[0m\u001b[0m\n\u001b[0m\u001b[0;32m    634\u001b[0m \u001b[1;33m\u001b[0m\u001b[0m\n\u001b[0;32m    635\u001b[0m     \u001b[1;32mdef\u001b[0m \u001b[0mfind_element\u001b[0m\u001b[1;33m(\u001b[0m\u001b[0mself\u001b[0m\u001b[1;33m,\u001b[0m \u001b[0mby\u001b[0m\u001b[1;33m=\u001b[0m\u001b[0mBy\u001b[0m\u001b[1;33m.\u001b[0m\u001b[0mID\u001b[0m\u001b[1;33m,\u001b[0m \u001b[0mvalue\u001b[0m\u001b[1;33m=\u001b[0m\u001b[1;32mNone\u001b[0m\u001b[1;33m)\u001b[0m\u001b[1;33m:\u001b[0m\u001b[1;33m\u001b[0m\u001b[1;33m\u001b[0m\u001b[0m\n",
      "\u001b[1;32m~\\anaconda3\\envs\\Ironhack\\lib\\site-packages\\selenium\\webdriver\\remote\\webdriver.py\u001b[0m in \u001b[0;36mexecute\u001b[1;34m(self, driver_command, params)\u001b[0m\n\u001b[0;32m    319\u001b[0m         \u001b[0mresponse\u001b[0m \u001b[1;33m=\u001b[0m \u001b[0mself\u001b[0m\u001b[1;33m.\u001b[0m\u001b[0mcommand_executor\u001b[0m\u001b[1;33m.\u001b[0m\u001b[0mexecute\u001b[0m\u001b[1;33m(\u001b[0m\u001b[0mdriver_command\u001b[0m\u001b[1;33m,\u001b[0m \u001b[0mparams\u001b[0m\u001b[1;33m)\u001b[0m\u001b[1;33m\u001b[0m\u001b[1;33m\u001b[0m\u001b[0m\n\u001b[0;32m    320\u001b[0m         \u001b[1;32mif\u001b[0m \u001b[0mresponse\u001b[0m\u001b[1;33m:\u001b[0m\u001b[1;33m\u001b[0m\u001b[1;33m\u001b[0m\u001b[0m\n\u001b[1;32m--> 321\u001b[1;33m             \u001b[0mself\u001b[0m\u001b[1;33m.\u001b[0m\u001b[0merror_handler\u001b[0m\u001b[1;33m.\u001b[0m\u001b[0mcheck_response\u001b[0m\u001b[1;33m(\u001b[0m\u001b[0mresponse\u001b[0m\u001b[1;33m)\u001b[0m\u001b[1;33m\u001b[0m\u001b[1;33m\u001b[0m\u001b[0m\n\u001b[0m\u001b[0;32m    322\u001b[0m             response['value'] = self._unwrap_value(\n\u001b[0;32m    323\u001b[0m                 response.get('value', None))\n",
      "\u001b[1;32m~\\anaconda3\\envs\\Ironhack\\lib\\site-packages\\selenium\\webdriver\\remote\\errorhandler.py\u001b[0m in \u001b[0;36mcheck_response\u001b[1;34m(self, response)\u001b[0m\n\u001b[0;32m    240\u001b[0m                 \u001b[0malert_text\u001b[0m \u001b[1;33m=\u001b[0m \u001b[0mvalue\u001b[0m\u001b[1;33m[\u001b[0m\u001b[1;34m'alert'\u001b[0m\u001b[1;33m]\u001b[0m\u001b[1;33m.\u001b[0m\u001b[0mget\u001b[0m\u001b[1;33m(\u001b[0m\u001b[1;34m'text'\u001b[0m\u001b[1;33m)\u001b[0m\u001b[1;33m\u001b[0m\u001b[1;33m\u001b[0m\u001b[0m\n\u001b[0;32m    241\u001b[0m             \u001b[1;32mraise\u001b[0m \u001b[0mexception_class\u001b[0m\u001b[1;33m(\u001b[0m\u001b[0mmessage\u001b[0m\u001b[1;33m,\u001b[0m \u001b[0mscreen\u001b[0m\u001b[1;33m,\u001b[0m \u001b[0mstacktrace\u001b[0m\u001b[1;33m,\u001b[0m \u001b[0malert_text\u001b[0m\u001b[1;33m)\u001b[0m\u001b[1;33m\u001b[0m\u001b[1;33m\u001b[0m\u001b[0m\n\u001b[1;32m--> 242\u001b[1;33m         \u001b[1;32mraise\u001b[0m \u001b[0mexception_class\u001b[0m\u001b[1;33m(\u001b[0m\u001b[0mmessage\u001b[0m\u001b[1;33m,\u001b[0m \u001b[0mscreen\u001b[0m\u001b[1;33m,\u001b[0m \u001b[0mstacktrace\u001b[0m\u001b[1;33m)\u001b[0m\u001b[1;33m\u001b[0m\u001b[1;33m\u001b[0m\u001b[0m\n\u001b[0m\u001b[0;32m    243\u001b[0m \u001b[1;33m\u001b[0m\u001b[0m\n\u001b[0;32m    244\u001b[0m     \u001b[1;32mdef\u001b[0m \u001b[0m_value_or_default\u001b[0m\u001b[1;33m(\u001b[0m\u001b[0mself\u001b[0m\u001b[1;33m,\u001b[0m \u001b[0mobj\u001b[0m\u001b[1;33m,\u001b[0m \u001b[0mkey\u001b[0m\u001b[1;33m,\u001b[0m \u001b[0mdefault\u001b[0m\u001b[1;33m)\u001b[0m\u001b[1;33m:\u001b[0m\u001b[1;33m\u001b[0m\u001b[1;33m\u001b[0m\u001b[0m\n",
      "\u001b[1;31mElementClickInterceptedException\u001b[0m: Message: element click intercepted: Element <li class=\"next\">...</li> is not clickable at point (534, 769). Other element would receive the click: <div id=\"onetrust-group-container\" class=\"ot-sdk-eight ot-sdk-columns\">...</div>\n  (Session info: chrome=91.0.4472.77)\n"
     ]
    }
   ],
   "source": [
    "job_title_da = 'Data Analyst' ## Lets search Data analytics\n",
    "location_pt = 'Germany' ## Lets search Data analytics\n",
    "\n",
    "data_to_csv(location_pt,interview_info(job_title_da,location_pt))"
   ]
  },
  {
   "cell_type": "code",
   "execution_count": 32,
   "metadata": {},
   "outputs": [
    {
     "output_type": "display_data",
     "data": {
      "text/plain": "1"
     },
     "metadata": {}
    },
    {
     "output_type": "display_data",
     "data": {
      "text/plain": "'Web Developer at NavVis was asked...'"
     },
     "metadata": {}
    },
    {
     "output_type": "display_data",
     "data": {
      "text/plain": "'This greatly depends on which role you are interviewing for'"
     },
     "metadata": {}
    },
    {
     "output_type": "display_data",
     "data": {
      "text/plain": "'Mechanical engineering'"
     },
     "metadata": {}
    },
    {
     "output_type": "display_data",
     "data": {
      "text/plain": "2"
     },
     "metadata": {}
    },
    {
     "output_type": "display_data",
     "data": {
      "text/plain": "'Front End Web Developer at Eurowings Digital was asked...'"
     },
     "metadata": {}
    },
    {
     "output_type": "display_data",
     "data": {
      "text/plain": "'Coding challenge was to integrate the Imgur API and create a view of all the images in a thumbnail displaying few metadata fields of each image/video. Another view was to display the original image/video with all the metadata relevant to it.'"
     },
     "metadata": {}
    },
    {
     "output_type": "display_data",
     "data": {
      "text/plain": "'I created the application in Angular 8, along with RxJS, HTML5, CSS and BEM pattern. Implemented few other concepts like Angular Routing and Proxying API calls. Also, i published the application on GitHub pages'"
     },
     "metadata": {}
    },
    {
     "output_type": "display_data",
     "data": {
      "text/plain": "3"
     },
     "metadata": {}
    },
    {
     "output_type": "display_data",
     "data": {
      "text/plain": "'Web Developer at payever was asked...'"
     },
     "metadata": {}
    },
    {
     "output_type": "display_data",
     "data": {
      "text/plain": "'They will provide you a task and then judge you on basis of that'"
     },
     "metadata": {}
    },
    {
     "output_type": "display_data",
     "data": {
      "text/plain": "'Their task setup was incomplete, very poorly configured. their demo project functionality was broken'"
     },
     "metadata": {}
    },
    {
     "output_type": "display_data",
     "data": {
      "text/plain": "4"
     },
     "metadata": {}
    },
    {
     "output_type": "display_data",
     "data": {
      "text/plain": "'Web Developer at smava was asked...'"
     },
     "metadata": {}
    },
    {
     "output_type": "display_data",
     "data": {
      "text/plain": "'Q: Experience with React? Q: Experience with scss/less/css? Q: Expereinece with javaScript?'"
     },
     "metadata": {}
    },
    {
     "output_type": "display_data",
     "data": {
      "text/plain": "'A: List of previous jobs with related tech.'"
     },
     "metadata": {}
    },
    {
     "output_type": "display_data",
     "data": {
      "text/plain": "5"
     },
     "metadata": {}
    },
    {
     "output_type": "display_data",
     "data": {
      "text/plain": "'Frontend Web Developer at Delivery Hero was asked...'"
     },
     "metadata": {}
    },
    {
     "output_type": "display_data",
     "data": {
      "text/plain": "'Js tasks'"
     },
     "metadata": {}
    },
    {
     "output_type": "display_data",
     "data": {
      "text/plain": "'4/5, make some errors'"
     },
     "metadata": {}
    },
    {
     "output_type": "display_data",
     "data": {
      "text/plain": "6"
     },
     "metadata": {}
    },
    {
     "output_type": "display_data",
     "data": {
      "text/plain": "'Senior Java Web Developer at Enmacc was asked...'"
     },
     "metadata": {}
    },
    {
     "output_type": "display_data",
     "data": {
      "text/plain": "'What quality makes you unique in your current job?'"
     },
     "metadata": {}
    },
    {
     "output_type": "display_data",
     "data": {
      "text/plain": "'being perfect at troubleshooting'"
     },
     "metadata": {}
    },
    {
     "output_type": "display_data",
     "data": {
      "text/plain": "7"
     },
     "metadata": {}
    },
    {
     "output_type": "display_data",
     "data": {
      "text/plain": "'Web Developer at Les Lunes was asked...'"
     },
     "metadata": {}
    },
    {
     "output_type": "display_data",
     "data": {
      "text/plain": "'Introductory questions and behavioural questions'"
     },
     "metadata": {}
    },
    {
     "output_type": "display_data",
     "data": {
      "text/plain": "'What they wanted to hear:)'"
     },
     "metadata": {}
    },
    {
     "output_type": "display_data",
     "data": {
      "text/plain": "8"
     },
     "metadata": {}
    },
    {
     "output_type": "display_data",
     "data": {
      "text/plain": "'Part-Time Web Developer at Kolibri Games was asked...'"
     },
     "metadata": {}
    },
    {
     "output_type": "display_data",
     "data": {
      "text/plain": "'Why did you leave your previous job?'"
     },
     "metadata": {}
    },
    {
     "output_type": "display_data",
     "data": {
      "text/plain": "'I explained why I quit and what had bothered me.'"
     },
     "metadata": {}
    },
    {
     "output_type": "display_data",
     "data": {
      "text/plain": "9"
     },
     "metadata": {}
    },
    {
     "output_type": "display_data",
     "data": {
      "text/plain": "'Web Developer at HolidayPirates was asked...'"
     },
     "metadata": {}
    },
    {
     "output_type": "display_data",
     "data": {
      "text/plain": "'Send me code samples.'"
     },
     "metadata": {}
    },
    {
     "output_type": "display_data",
     "data": {
      "text/plain": "'gitHub profile'"
     },
     "metadata": {}
    },
    {
     "output_type": "display_data",
     "data": {
      "text/plain": "10"
     },
     "metadata": {}
    },
    {
     "output_type": "display_data",
     "data": {
      "text/plain": "'Web Developer at Commerz Systems was asked...'"
     },
     "metadata": {}
    },
    {
     "output_type": "display_data",
     "data": {
      "text/plain": "'knowledge about HTML5'"
     },
     "metadata": {}
    },
    {
     "output_type": "display_data",
     "data": {
      "text/plain": "'Answer each questions.'"
     },
     "metadata": {}
    },
    {
     "output_type": "display_data",
     "data": {
      "text/plain": "11"
     },
     "metadata": {}
    },
    {
     "output_type": "display_data",
     "data": {
      "text/plain": "'Junior Web Developer at Mediaman was asked...'"
     },
     "metadata": {}
    },
    {
     "output_type": "display_data",
     "data": {
      "text/plain": "'Wie sind Sie auf uns gekommen?'"
     },
     "metadata": {}
    },
    {
     "output_type": "display_data",
     "data": {
      "text/plain": "''"
     },
     "metadata": {}
    },
    {
     "output_type": "display_data",
     "data": {
      "text/plain": "12"
     },
     "metadata": {}
    },
    {
     "output_type": "display_data",
     "data": {
      "text/plain": "'Senior Java Web Developer at Enmacc was asked...'"
     },
     "metadata": {}
    },
    {
     "output_type": "display_data",
     "data": {
      "text/plain": "'What is three most important thing in a team?'"
     },
     "metadata": {}
    },
    {
     "output_type": "display_data",
     "data": {
      "text/plain": "'Friendliness, collaboration, mutual respect'"
     },
     "metadata": {}
    },
    {
     "output_type": "display_data",
     "data": {
      "text/plain": "13"
     },
     "metadata": {}
    },
    {
     "output_type": "display_data",
     "data": {
      "text/plain": "'Web Developer at CHECK24 was asked...'"
     },
     "metadata": {}
    },
    {
     "output_type": "display_data",
     "data": {
      "text/plain": "'What are my skills'"
     },
     "metadata": {}
    },
    {
     "output_type": "display_data",
     "data": {
      "text/plain": "'Told all my skills'"
     },
     "metadata": {}
    },
    {
     "output_type": "display_data",
     "data": {
      "text/plain": "14"
     },
     "metadata": {}
    },
    {
     "output_type": "display_data",
     "data": {
      "text/plain": "'Part-Time Web Developer at Kolibri Games was asked...'"
     },
     "metadata": {}
    },
    {
     "output_type": "display_data",
     "data": {
      "text/plain": "'Why did you apply to Kolibri Games? How did you hear of the company?'"
     },
     "metadata": {}
    },
    {
     "output_type": "display_data",
     "data": {
      "text/plain": "'For me, it was purely accidental, so I explained that.'"
     },
     "metadata": {}
    },
    {
     "output_type": "display_data",
     "data": {
      "text/plain": "15"
     },
     "metadata": {}
    },
    {
     "output_type": "display_data",
     "data": {
      "text/plain": "'Web Developer at HolidayPirates was asked...'"
     },
     "metadata": {}
    },
    {
     "output_type": "display_data",
     "data": {
      "text/plain": "'Giant coding task!!'"
     },
     "metadata": {}
    },
    {
     "output_type": "display_data",
     "data": {
      "text/plain": "'source code for the solution'"
     },
     "metadata": {}
    },
    {
     "output_type": "display_data",
     "data": {
      "text/plain": "16"
     },
     "metadata": {}
    },
    {
     "output_type": "display_data",
     "data": {
      "text/plain": "'Front End Web Developer at IBM was asked...'"
     },
     "metadata": {}
    },
    {
     "output_type": "display_data",
     "data": {
      "text/plain": "'What was the most surprising thing you got to know about JavaScript?'"
     },
     "metadata": {}
    },
    {
     "output_type": "display_data",
     "data": {
      "text/plain": "'What did the 4 hours coding challenge include??'"
     },
     "metadata": {}
    },
    {
     "output_type": "display_data",
     "data": {
      "text/plain": "17"
     },
     "metadata": {}
    },
    {
     "output_type": "display_data",
     "data": {
      "text/plain": "'Web Developer at Acrontum was asked...'"
     },
     "metadata": {}
    },
    {
     "output_type": "display_data",
     "data": {
      "text/plain": "'Ranged on all sorts of tech to personality questions'"
     },
     "metadata": {}
    },
    {
     "output_type": "display_data",
     "data": {
      "text/plain": "'Depended on the question but overall did quite well, they were looking for more fundamentals on coding than putting me under the spot light with trick questions.'"
     },
     "metadata": {}
    },
    {
     "output_type": "display_data",
     "data": {
      "text/plain": "18"
     },
     "metadata": {}
    },
    {
     "output_type": "display_data",
     "data": {
      "text/plain": "'Full Stack Web Developer at FlixBus was asked...'"
     },
     "metadata": {}
    },
    {
     "output_type": "display_data",
     "data": {
      "text/plain": "'Why do you apply to this position?'"
     },
     "metadata": {}
    },
    {
     "output_type": "display_data",
     "data": {
      "text/plain": "'Industry interest'"
     },
     "metadata": {}
    },
    {
     "output_type": "display_data",
     "data": {
      "text/plain": "19"
     },
     "metadata": {}
    },
    {
     "output_type": "display_data",
     "data": {
      "text/plain": "'Full Stack Web Developer at FlixBus was asked...'"
     },
     "metadata": {}
    },
    {
     "output_type": "display_data",
     "data": {
      "text/plain": "'Salary expectations'"
     },
     "metadata": {}
    },
    {
     "output_type": "display_data",
     "data": {
      "text/plain": "'50-55k'"
     },
     "metadata": {}
    },
    {
     "output_type": "display_data",
     "data": {
      "text/plain": "20"
     },
     "metadata": {}
    },
    {
     "output_type": "display_data",
     "data": {
      "text/plain": "'Frontend Web Developer at interactive tools was asked...'"
     },
     "metadata": {}
    },
    {
     "output_type": "display_data",
     "data": {
      "text/plain": "'Typische Fragen nach bekannten Frameworks, ein paar Quizz- und Testfragen, keine Fangfragen.'"
     },
     "metadata": {}
    },
    {
     "output_type": "display_data",
     "data": {
      "text/plain": "'entsprechend meiner Erfahrung im Beruf'"
     },
     "metadata": {}
    },
    {
     "output_type": "display_data",
     "data": {
      "text/plain": "21"
     },
     "metadata": {}
    },
    {
     "output_type": "display_data",
     "data": {
      "text/plain": "'Web Developer at Travian Games was asked...'"
     },
     "metadata": {}
    },
    {
     "output_type": "display_data",
     "data": {
      "text/plain": "'Tell us about your prior experience.'"
     },
     "metadata": {}
    },
    {
     "output_type": "display_data",
     "data": {
      "text/plain": "\"I explained what I've been working on.\""
     },
     "metadata": {}
    },
    {
     "output_type": "display_data",
     "data": {
      "text/plain": "22"
     },
     "metadata": {}
    },
    {
     "output_type": "display_data",
     "data": {
      "text/plain": "'Web Developer at X-Team was asked...'"
     },
     "metadata": {}
    },
    {
     "output_type": "display_data",
     "data": {
      "text/plain": "'This is a LITERAL cute and paste from their email, Generic basic stuff: === 1. How many years of experience do you have as a developer and with which languages/frameworks/etc.? 2. Do you have any links to a portfolio, Github or LinkedIn I can check out? 3. What\\'s your availability like right now? If you\\'re employed and would need to give a notice, how long would that take? What timezone are you in and what time of day do you work? And now for the more in-depth questions. Ready? Let\\'s do this... Debugging How do you approach a tricky bug? Have any favorite tools or techniques for figuring things out when they go wrong? (max 300 words. Where helpful, include a few screenshots or a short video). Testing Can you tell us about a project where you have written tests and whether they were successful or not in increasing the quality of the code? If possible, show an example (pseudocode is fine) of how you rewrote some code to make it more testable. (max 300 words) Best Practices Describe something that is considered a \"best practice\" for a technology you\\'re familiar with, and what factors go into your decision of whether to follow it or not.'"
     },
     "metadata": {}
    },
    {
     "output_type": "display_data",
     "data": {
      "text/plain": "'Generic stuff,..., anyone who has coded for any significant amount of time knows how to debug, or clean up code or whatever'"
     },
     "metadata": {}
    },
    {
     "output_type": "display_data",
     "data": {
      "text/plain": "23"
     },
     "metadata": {}
    },
    {
     "output_type": "display_data",
     "data": {
      "text/plain": "'Web Developer at One Week Experience was asked...'"
     },
     "metadata": {}
    },
    {
     "output_type": "display_data",
     "data": {
      "text/plain": "'Interview related cv, previous experience'"
     },
     "metadata": {}
    },
    {
     "output_type": "display_data",
     "data": {
      "text/plain": "'No answer'"
     },
     "metadata": {}
    },
    {
     "output_type": "display_data",
     "data": {
      "text/plain": "24"
     },
     "metadata": {}
    },
    {
     "output_type": "display_data",
     "data": {
      "text/plain": "'Web Developer at Gingco.net was asked...'"
     },
     "metadata": {}
    },
    {
     "output_type": "display_data",
     "data": {
      "text/plain": "'Können Sie die FE Aufgaben so gut wie die BE Aufgaben übernehmen?'"
     },
     "metadata": {}
    },
    {
     "output_type": "display_data",
     "data": {
      "text/plain": "'No answer'"
     },
     "metadata": {}
    },
    {
     "output_type": "display_data",
     "data": {
      "text/plain": "25"
     },
     "metadata": {}
    },
    {
     "output_type": "display_data",
     "data": {
      "text/plain": "'Senior Web Developer at Pepper was asked...'"
     },
     "metadata": {}
    },
    {
     "output_type": "display_data",
     "data": {
      "text/plain": "'What are the key features of PHP7 and why are they useful / important?'"
     },
     "metadata": {}
    },
    {
     "output_type": "display_data",
     "data": {
      "text/plain": "'No answer'"
     },
     "metadata": {}
    },
    {
     "output_type": "display_data",
     "data": {
      "text/plain": "26"
     },
     "metadata": {}
    },
    {
     "output_type": "display_data",
     "data": {
      "text/plain": "'Senior Web Developer at Pepper was asked...'"
     },
     "metadata": {}
    },
    {
     "output_type": "display_data",
     "data": {
      "text/plain": "'How do indices work, how to correcly create an index for several fields?'"
     },
     "metadata": {}
    },
    {
     "output_type": "display_data",
     "data": {
      "text/plain": "'No answer'"
     },
     "metadata": {}
    },
    {
     "output_type": "display_data",
     "data": {
      "text/plain": "27"
     },
     "metadata": {}
    },
    {
     "output_type": "display_data",
     "data": {
      "text/plain": "'Web Developer at EMBL was asked...'"
     },
     "metadata": {}
    },
    {
     "output_type": "display_data",
     "data": {
      "text/plain": "'Simple questions about Linux, Ajax, PHP, etc.'"
     },
     "metadata": {}
    },
    {
     "output_type": "display_data",
     "data": {
      "text/plain": "'No answer'"
     },
     "metadata": {}
    },
    {
     "output_type": "display_data",
     "data": {
      "text/plain": "28"
     },
     "metadata": {}
    },
    {
     "output_type": "display_data",
     "data": {
      "text/plain": "'FullStack Web Applications Developer at inovex was asked...'"
     },
     "metadata": {}
    },
    {
     "output_type": "display_data",
     "data": {
      "text/plain": "'Warum möchten Sie als Fullstack Entwickler Arbeiten? (Im Gegensatz zu Frontend oder Backend)'"
     },
     "metadata": {}
    },
    {
     "output_type": "display_data",
     "data": {
      "text/plain": "'No answer'"
     },
     "metadata": {}
    },
    {
     "output_type": "display_data",
     "data": {
      "text/plain": "29"
     },
     "metadata": {}
    },
    {
     "output_type": "display_data",
     "data": {
      "text/plain": "'UI Web Developer at KAYAK was asked...'"
     },
     "metadata": {}
    },
    {
     "output_type": "display_data",
     "data": {
      "text/plain": "'White board questions and coding exercises on a shared screen.'"
     },
     "metadata": {}
    },
    {
     "output_type": "display_data",
     "data": {
      "text/plain": "'No answer'"
     },
     "metadata": {}
    },
    {
     "output_type": "display_data",
     "data": {
      "text/plain": "30"
     },
     "metadata": {}
    },
    {
     "output_type": "display_data",
     "data": {
      "text/plain": "'Web Developer at LIGADIGITAL was asked...'"
     },
     "metadata": {}
    },
    {
     "output_type": "display_data",
     "data": {
      "text/plain": "'Wie sind Sie auf uns aufmerksam geworden?'"
     },
     "metadata": {}
    },
    {
     "output_type": "display_data",
     "data": {
      "text/plain": "'No answer'"
     },
     "metadata": {}
    },
    {
     "output_type": "display_data",
     "data": {
      "text/plain": "31"
     },
     "metadata": {}
    },
    {
     "output_type": "display_data",
     "data": {
      "text/plain": "'Web Developer at navabi was asked...'"
     },
     "metadata": {}
    },
    {
     "output_type": "display_data",
     "data": {
      "text/plain": "'Übliche Fragen: Warum genau dieser Arbeitgeber, warum Aachen, etc'"
     },
     "metadata": {}
    },
    {
     "output_type": "display_data",
     "data": {
      "text/plain": "'No answer'"
     },
     "metadata": {}
    },
    {
     "output_type": "display_data",
     "data": {
      "text/plain": "32"
     },
     "metadata": {}
    },
    {
     "output_type": "display_data",
     "data": {
      "text/plain": "'PHP Web Developer at Sociomantic Labs was asked...'"
     },
     "metadata": {}
    },
    {
     "output_type": "display_data",
     "data": {
      "text/plain": "'Which kind of company are you looking for?'"
     },
     "metadata": {}
    },
    {
     "output_type": "display_data",
     "data": {
      "text/plain": "'No answer'"
     },
     "metadata": {}
    },
    {
     "output_type": "display_data",
     "data": {
      "text/plain": "33"
     },
     "metadata": {}
    },
    {
     "output_type": "display_data",
     "data": {
      "text/plain": "'Web Developer at store2be was asked...'"
     },
     "metadata": {}
    },
    {
     "output_type": "display_data",
     "data": {
      "text/plain": "'Implementiere eine Basisversion von einem angegebenen Stück Funktionalität der aktuellen Webseite in einer Programmiersprache deiner Wahl.'"
     },
     "metadata": {}
    },
    {
     "output_type": "display_data",
     "data": {
      "text/plain": "'No answer'"
     },
     "metadata": {}
    },
    {
     "output_type": "display_data",
     "data": {
      "text/plain": "34"
     },
     "metadata": {}
    },
    {
     "output_type": "display_data",
     "data": {
      "text/plain": "'Full Stack Web Developer at Wirecard was asked...'"
     },
     "metadata": {}
    },
    {
     "output_type": "display_data",
     "data": {
      "text/plain": "'Basic core Java questions'"
     },
     "metadata": {}
    },
    {
     "output_type": "display_data",
     "data": {
      "text/plain": "'No answer'"
     },
     "metadata": {}
    },
    {
     "output_type": "display_data",
     "data": {
      "text/plain": "35"
     },
     "metadata": {}
    },
    {
     "output_type": "display_data",
     "data": {
      "text/plain": "'Master - GUI/Web-design for User Software at Blickfeld was asked...'"
     },
     "metadata": {}
    },
    {
     "output_type": "display_data",
     "data": {
      "text/plain": "'the recruiter asked me to work for free Hello Kesab, Thank you very much for your application and the interest in our company. Since you have applied for a Thesis, IDP or Student Project position, I wanted to ask what you are specifically looking for. We would like to inform you that it is not possible to work remotely, since you will be working closely together with your team. Furthermore we would like to let you know that unfortunately, as a start-up company, we are not able to offer paid theses. Students will receive internal benefits like a daily lunch allowance, free beverages, company events and more. We are looking forward to your application. Best regards, Ms. Felizitas Mayer Dual Student HR +49 89 230693500 ⟋ career@blickfeld.com Blickfeld GmbH /  www.blickfeld.com Barthstr. 12 / 80339 München Geschäftsführer: Dr. Mathias Müller, Terje Növig / Sitz der Gesellschaft: München HRB-Nr. 231953 / USt-IdNr. DE311443043'"
     },
     "metadata": {}
    },
    {
     "output_type": "display_data",
     "data": {
      "text/plain": "'No answer'"
     },
     "metadata": {}
    },
    {
     "output_type": "display_data",
     "data": {
      "text/plain": "36"
     },
     "metadata": {}
    },
    {
     "output_type": "display_data",
     "data": {
      "text/plain": "'Web Developer at Arabesque was asked...'"
     },
     "metadata": {}
    },
    {
     "output_type": "display_data",
     "data": {
      "text/plain": "'Questions regarding different Angular concepts, as well as questions regarding testing, security, optimization and best coding practices in Angular.'"
     },
     "metadata": {}
    },
    {
     "output_type": "display_data",
     "data": {
      "text/plain": "'No answer'"
     },
     "metadata": {}
    },
    {
     "output_type": "display_data",
     "data": {
      "text/plain": "37"
     },
     "metadata": {}
    },
    {
     "output_type": "display_data",
     "data": {
      "text/plain": "'Java Web Developer at camLine was asked...'"
     },
     "metadata": {}
    },
    {
     "output_type": "display_data",
     "data": {
      "text/plain": "'Can you Introduce yourself ?'"
     },
     "metadata": {}
    },
    {
     "output_type": "display_data",
     "data": {
      "text/plain": "'No answer'"
     },
     "metadata": {}
    },
    {
     "output_type": "display_data",
     "data": {
      "text/plain": "38"
     },
     "metadata": {}
    },
    {
     "output_type": "display_data",
     "data": {
      "text/plain": "'Senior Web Developer at AMBOSS was asked...'"
     },
     "metadata": {}
    },
    {
     "output_type": "display_data",
     "data": {
      "text/plain": "'Project review: reasons for choosing X technology, questions regarding approach to project, etc'"
     },
     "metadata": {}
    },
    {
     "output_type": "display_data",
     "data": {
      "text/plain": "'No answer'"
     },
     "metadata": {}
    },
    {
     "output_type": "display_data",
     "data": {
      "text/plain": "39"
     },
     "metadata": {}
    },
    {
     "output_type": "display_data",
     "data": {
      "text/plain": "'Senior Web Developer at AMBOSS was asked...'"
     },
     "metadata": {}
    },
    {
     "output_type": "display_data",
     "data": {
      "text/plain": "'HR call: CV review, salary expectations, reason to move, general HR questions..'"
     },
     "metadata": {}
    },
    {
     "output_type": "display_data",
     "data": {
      "text/plain": "'No answer'"
     },
     "metadata": {}
    },
    {
     "output_type": "display_data",
     "data": {
      "text/plain": "40"
     },
     "metadata": {}
    },
    {
     "output_type": "display_data",
     "data": {
      "text/plain": "'Front End Web Developer at InFarm was asked...'"
     },
     "metadata": {}
    },
    {
     "output_type": "display_data",
     "data": {
      "text/plain": "'I was asked how the program which was programmed during the interview could be scaled to handle potentially thousands of requests'"
     },
     "metadata": {}
    },
    {
     "output_type": "display_data",
     "data": {
      "text/plain": "'No answer'"
     },
     "metadata": {}
    },
    {
     "output_type": "display_data",
     "data": {
      "text/plain": "41"
     },
     "metadata": {}
    },
    {
     "output_type": "display_data",
     "data": {
      "text/plain": "'Senior Full-Stack Web Developer at Ubisoft was asked...'"
     },
     "metadata": {}
    },
    {
     "output_type": "display_data",
     "data": {
      "text/plain": "'The regular interview questions about C# and JS, ranging from junior to expert levels.'"
     },
     "metadata": {}
    },
    {
     "output_type": "display_data",
     "data": {
      "text/plain": "'No answer'"
     },
     "metadata": {}
    },
    {
     "output_type": "display_data",
     "data": {
      "text/plain": "42"
     },
     "metadata": {}
    },
    {
     "output_type": "display_data",
     "data": {
      "text/plain": "'Web Developer at Akelius was asked...'"
     },
     "metadata": {}
    },
    {
     "output_type": "display_data",
     "data": {
      "text/plain": "'What is RestfulAPI? How do you update a table? How do you get every other number in a string in JavaScript'"
     },
     "metadata": {}
    },
    {
     "output_type": "display_data",
     "data": {
      "text/plain": "'No answer'"
     },
     "metadata": {}
    },
    {
     "output_type": "display_data",
     "data": {
      "text/plain": "43"
     },
     "metadata": {}
    },
    {
     "output_type": "display_data",
     "data": {
      "text/plain": "'Web Developer at Digital Master was asked...'"
     },
     "metadata": {}
    },
    {
     "output_type": "display_data",
     "data": {
      "text/plain": "'Mit welchen Betriebssystemen habe Sie gearbeitet?'"
     },
     "metadata": {}
    },
    {
     "output_type": "display_data",
     "data": {
      "text/plain": "'No answer'"
     },
     "metadata": {}
    },
    {
     "output_type": "display_data",
     "data": {
      "text/plain": "44"
     },
     "metadata": {}
    },
    {
     "output_type": "display_data",
     "data": {
      "text/plain": "'Web Developer at IT2Media was asked...'"
     },
     "metadata": {}
    },
    {
     "output_type": "display_data",
     "data": {
      "text/plain": "'Erste Frage war über Gehalt.'"
     },
     "metadata": {}
    },
    {
     "output_type": "display_data",
     "data": {
      "text/plain": "'No answer'"
     },
     "metadata": {}
    },
    {
     "output_type": "display_data",
     "data": {
      "text/plain": "45"
     },
     "metadata": {}
    },
    {
     "output_type": "display_data",
     "data": {
      "text/plain": "'Senior Web Developer at AMBOSS was asked...'"
     },
     "metadata": {}
    },
    {
     "output_type": "display_data",
     "data": {
      "text/plain": "'CTO call: CV review, tech stack, interest in company'"
     },
     "metadata": {}
    },
    {
     "output_type": "display_data",
     "data": {
      "text/plain": "'No answer'"
     },
     "metadata": {}
    },
    {
     "output_type": "display_data",
     "data": {
      "text/plain": "46"
     },
     "metadata": {}
    },
    {
     "output_type": "display_data",
     "data": {
      "text/plain": "'Web Developer at CHECK24 was asked...'"
     },
     "metadata": {}
    },
    {
     "output_type": "display_data",
     "data": {
      "text/plain": "'- programming principles - programming patterns - mysql knowledge (explain, joins, unions) - salary expectation'"
     },
     "metadata": {}
    },
    {
     "output_type": "display_data",
     "data": {
      "text/plain": "'No answer'"
     },
     "metadata": {}
    },
    {
     "output_type": "display_data",
     "data": {
      "text/plain": "47"
     },
     "metadata": {}
    },
    {
     "output_type": "display_data",
     "data": {
      "text/plain": "'Web Developer at Contentful was asked...'"
     },
     "metadata": {}
    },
    {
     "output_type": "display_data",
     "data": {
      "text/plain": "'Most of the questions were focused on the company fit. The technical part was nice and relaxed'"
     },
     "metadata": {}
    },
    {
     "output_type": "display_data",
     "data": {
      "text/plain": "'No answer'"
     },
     "metadata": {}
    },
    {
     "output_type": "display_data",
     "data": {
      "text/plain": "48"
     },
     "metadata": {}
    },
    {
     "output_type": "display_data",
     "data": {
      "text/plain": "'Senior Web Developer at Blinkist was asked...'"
     },
     "metadata": {}
    },
    {
     "output_type": "display_data",
     "data": {
      "text/plain": "'How to center an element with CSS?'"
     },
     "metadata": {}
    },
    {
     "output_type": "display_data",
     "data": {
      "text/plain": "'No answer'"
     },
     "metadata": {}
    },
    {
     "output_type": "display_data",
     "data": {
      "text/plain": "49"
     },
     "metadata": {}
    },
    {
     "output_type": "display_data",
     "data": {
      "text/plain": "'Full Stack Web Developer at Wirecard was asked...'"
     },
     "metadata": {}
    },
    {
     "output_type": "display_data",
     "data": {
      "text/plain": "'Some programming puzzles'"
     },
     "metadata": {}
    },
    {
     "output_type": "display_data",
     "data": {
      "text/plain": "'No answer'"
     },
     "metadata": {}
    },
    {
     "output_type": "display_data",
     "data": {
      "text/plain": "50"
     },
     "metadata": {}
    },
    {
     "output_type": "display_data",
     "data": {
      "text/plain": "'Web Developer at EXXETA was asked...'"
     },
     "metadata": {}
    },
    {
     "output_type": "display_data",
     "data": {
      "text/plain": "'Thema der Bachelorarbeit, Technische Fragen, Hobbies'"
     },
     "metadata": {}
    },
    {
     "output_type": "display_data",
     "data": {
      "text/plain": "'No answer'"
     },
     "metadata": {}
    },
    {
     "output_type": "display_data",
     "data": {
      "text/plain": "51"
     },
     "metadata": {}
    },
    {
     "output_type": "display_data",
     "data": {
      "text/plain": "'Senior Web Developer at Pepper was asked...'"
     },
     "metadata": {}
    },
    {
     "output_type": "display_data",
     "data": {
      "text/plain": "\"What's your favorite (and less favorite) design pattern? Give a real example of using it.\""
     },
     "metadata": {}
    },
    {
     "output_type": "display_data",
     "data": {
      "text/plain": "'No answer'"
     },
     "metadata": {}
    },
    {
     "output_type": "display_data",
     "data": {
      "text/plain": "52"
     },
     "metadata": {}
    },
    {
     "output_type": "display_data",
     "data": {
      "text/plain": "'Senior Web Developer at Pepper was asked...'"
     },
     "metadata": {}
    },
    {
     "output_type": "display_data",
     "data": {
      "text/plain": "'What are the possible problems with pagination using limit/offset in MySQL?'"
     },
     "metadata": {}
    },
    {
     "output_type": "display_data",
     "data": {
      "text/plain": "'No answer'"
     },
     "metadata": {}
    },
    {
     "output_type": "display_data",
     "data": {
      "text/plain": "53"
     },
     "metadata": {}
    },
    {
     "output_type": "display_data",
     "data": {
      "text/plain": "'Web Developer at EQS Group was asked...'"
     },
     "metadata": {}
    },
    {
     "output_type": "display_data",
     "data": {
      "text/plain": "'JS error types, differences between Observable and Promises'"
     },
     "metadata": {}
    },
    {
     "output_type": "display_data",
     "data": {
      "text/plain": "'No answer'"
     },
     "metadata": {}
    },
    {
     "output_type": "display_data",
     "data": {
      "text/plain": "54"
     },
     "metadata": {}
    },
    {
     "output_type": "display_data",
     "data": {
      "text/plain": "'Senior Web Developer at AMBOSS was asked...'"
     },
     "metadata": {}
    },
    {
     "output_type": "display_data",
     "data": {
      "text/plain": "'PM call: CV review, general working questions, team-work questions'"
     },
     "metadata": {}
    },
    {
     "output_type": "display_data",
     "data": {
      "text/plain": "'No answer'"
     },
     "metadata": {}
    },
    {
     "output_type": "display_data",
     "data": {
      "text/plain": "55"
     },
     "metadata": {}
    },
    {
     "output_type": "display_data",
     "data": {
      "text/plain": "'Frontend Web Developer at CHECK24 was asked...'"
     },
     "metadata": {}
    },
    {
     "output_type": "display_data",
     "data": {
      "text/plain": "'Weird css questions that no one really cares about.'"
     },
     "metadata": {}
    },
    {
     "output_type": "display_data",
     "data": {
      "text/plain": "'No answer'"
     },
     "metadata": {}
    },
    {
     "output_type": "display_data",
     "data": {
      "text/plain": "56"
     },
     "metadata": {}
    },
    {
     "output_type": "display_data",
     "data": {
      "text/plain": "'Senior Web Developer at Blinkist was asked...'"
     },
     "metadata": {}
    },
    {
     "output_type": "display_data",
     "data": {
      "text/plain": "'What happens when you put a URL in the address bar of a browser and hit enter?'"
     },
     "metadata": {}
    },
    {
     "output_type": "display_data",
     "data": {
      "text/plain": "'No answer'"
     },
     "metadata": {}
    },
    {
     "output_type": "display_data",
     "data": {
      "text/plain": "57"
     },
     "metadata": {}
    },
    {
     "output_type": "display_data",
     "data": {
      "text/plain": "'Junior Web Developer at TREMCO ILLBRUCK was asked...'"
     },
     "metadata": {}
    },
    {
     "output_type": "display_data",
     "data": {
      "text/plain": "'Welche aufgaben habe ich im letzte Firma gemacht? Meine Stärke und Schwäche und ein paar Szenario-Fragen und technische Fragen.'"
     },
     "metadata": {}
    },
    {
     "output_type": "display_data",
     "data": {
      "text/plain": "'No answer'"
     },
     "metadata": {}
    },
    {
     "output_type": "display_data",
     "data": {
      "text/plain": "58"
     },
     "metadata": {}
    },
    {
     "output_type": "display_data",
     "data": {
      "text/plain": "'Web Developer at GLOSSYBOX was asked...'"
     },
     "metadata": {}
    },
    {
     "output_type": "display_data",
     "data": {
      "text/plain": "\"I thankfully didn't encounter any artificial interview questions.\""
     },
     "metadata": {}
    },
    {
     "output_type": "display_data",
     "data": {
      "text/plain": "'No answer'"
     },
     "metadata": {}
    },
    {
     "output_type": "display_data",
     "data": {
      "text/plain": "59"
     },
     "metadata": {}
    },
    {
     "output_type": "display_data",
     "data": {
      "text/plain": "'Web Developer at Nemetschek was asked...'"
     },
     "metadata": {}
    },
    {
     "output_type": "display_data",
     "data": {
      "text/plain": "'Wie viele bilder kann gleichzeitig runter geladen?'"
     },
     "metadata": {}
    },
    {
     "output_type": "display_data",
     "data": {
      "text/plain": "'No answer'"
     },
     "metadata": {}
    },
    {
     "output_type": "display_data",
     "data": {
      "text/plain": "60"
     },
     "metadata": {}
    },
    {
     "output_type": "display_data",
     "data": {
      "text/plain": "'Web Developer at TenMedia was asked...'"
     },
     "metadata": {}
    },
    {
     "output_type": "display_data",
     "data": {
      "text/plain": "'Mainly presentation of old projects'"
     },
     "metadata": {}
    },
    {
     "output_type": "display_data",
     "data": {
      "text/plain": "'No answer'"
     },
     "metadata": {}
    },
    {
     "output_type": "display_data",
     "data": {
      "text/plain": "61"
     },
     "metadata": {}
    },
    {
     "output_type": "display_data",
     "data": {
      "text/plain": "'Web Developer at Onefootball was asked...'"
     },
     "metadata": {}
    },
    {
     "output_type": "display_data",
     "data": {
      "text/plain": "'My skills towards technology, my past experience, application related few questions'"
     },
     "metadata": {}
    },
    {
     "output_type": "display_data",
     "data": {
      "text/plain": "'I answered properly and I am confident those were correct.'"
     },
     "metadata": {}
    },
    {
     "output_type": "display_data",
     "data": {
      "text/plain": "62"
     },
     "metadata": {}
    },
    {
     "output_type": "display_data",
     "data": {
      "text/plain": "'Senior Web Developer at Pepper was asked...'"
     },
     "metadata": {}
    },
    {
     "output_type": "display_data",
     "data": {
      "text/plain": "'What SOLID stands for, how would you describe it in your own words?'"
     },
     "metadata": {}
    },
    {
     "output_type": "display_data",
     "data": {
      "text/plain": "'No answer'"
     },
     "metadata": {}
    },
    {
     "output_type": "display_data",
     "data": {
      "text/plain": "63"
     },
     "metadata": {}
    },
    {
     "output_type": "display_data",
     "data": {
      "text/plain": "'Full Stack Web Developer at innoscripta was asked...'"
     },
     "metadata": {}
    },
    {
     "output_type": "display_data",
     "data": {
      "text/plain": "'one of the algorithmic problems was related to queuing theory.'"
     },
     "metadata": {}
    },
    {
     "output_type": "display_data",
     "data": {
      "text/plain": "'No answer'"
     },
     "metadata": {}
    },
    {
     "output_type": "display_data",
     "data": {
      "text/plain": "64"
     },
     "metadata": {}
    },
    {
     "output_type": "display_data",
     "data": {
      "text/plain": "'Senior Web Developer at Zalando was asked...'"
     },
     "metadata": {}
    },
    {
     "output_type": "display_data",
     "data": {
      "text/plain": "'Why do I want to work for them?'"
     },
     "metadata": {}
    },
    {
     "output_type": "display_data",
     "data": {
      "text/plain": "'No answer'"
     },
     "metadata": {}
    },
    {
     "output_type": "display_data",
     "data": {
      "text/plain": "65"
     },
     "metadata": {}
    },
    {
     "output_type": "display_data",
     "data": {
      "text/plain": "'Web Developer at Westwing Home and Living was asked...'"
     },
     "metadata": {}
    },
    {
     "output_type": "display_data",
     "data": {
      "text/plain": "'How many squares on a chess board?'"
     },
     "metadata": {}
    },
    {
     "output_type": "display_data",
     "data": {
      "text/plain": "'No answer'"
     },
     "metadata": {}
    },
    {
     "output_type": "display_data",
     "data": {
      "text/plain": "66"
     },
     "metadata": {}
    },
    {
     "output_type": "display_data",
     "data": {
      "text/plain": "'Part-Time Web Developer at Kolibri Games was asked...'"
     },
     "metadata": {}
    },
    {
     "output_type": "display_data",
     "data": {
      "text/plain": "'What makes a good team / a good working experience?'"
     },
     "metadata": {}
    },
    {
     "output_type": "display_data",
     "data": {
      "text/plain": "'No answer'"
     },
     "metadata": {}
    },
    {
     "output_type": "display_data",
     "data": {
      "text/plain": "                                          job_company  \\\n0                Web Developer at NavVis was asked...   \n1   Front End Web Developer at Eurowings Digital w...   \n2               Web Developer at payever was asked...   \n3                 Web Developer at smava was asked...   \n4   Frontend Web Developer at Delivery Hero was as...   \n..                                                ...   \n61        Senior Web Developer at Pepper was asked...   \n62  Full Stack Web Developer at innoscripta was as...   \n63       Senior Web Developer at Zalando was asked...   \n64  Web Developer at Westwing Home and Living was ...   \n65  Part-Time Web Developer at Kolibri Games was a...   \n\n                                            questions  \\\n0   This greatly depends on which role you are int...   \n1   Coding challenge was to integrate the Imgur AP...   \n2   They will provide you a task and then judge yo...   \n3   Q: Experience with React? Q: Experience with s...   \n4                                            Js tasks   \n..                                                ...   \n61  What SOLID stands for, how would you describe ...   \n62  one of the algorithmic problems was related to...   \n63                    Why do I want to work for them?   \n64                 How many squares on a chess board?   \n65  What makes a good team / a good working experi...   \n\n                                              answers  country           area  \n0                              Mechanical engineering  Germany  Web Developer  \n1   I created the application in Angular 8, along ...  Germany  Web Developer  \n2   Their task setup was incomplete, very poorly c...  Germany  Web Developer  \n3         A: List of previous jobs with related tech.  Germany  Web Developer  \n4                               4/5, make some errors  Germany  Web Developer  \n..                                                ...      ...            ...  \n61                                          No answer  Germany  Web Developer  \n62                                          No answer  Germany  Web Developer  \n63                                          No answer  Germany  Web Developer  \n64                                          No answer  Germany  Web Developer  \n65                                          No answer  Germany  Web Developer  \n\n[66 rows x 5 columns]",
      "text/html": "<div>\n<style scoped>\n    .dataframe tbody tr th:only-of-type {\n        vertical-align: middle;\n    }\n\n    .dataframe tbody tr th {\n        vertical-align: top;\n    }\n\n    .dataframe thead th {\n        text-align: right;\n    }\n</style>\n<table border=\"1\" class=\"dataframe\">\n  <thead>\n    <tr style=\"text-align: right;\">\n      <th></th>\n      <th>job_company</th>\n      <th>questions</th>\n      <th>answers</th>\n      <th>country</th>\n      <th>area</th>\n    </tr>\n  </thead>\n  <tbody>\n    <tr>\n      <th>0</th>\n      <td>Web Developer at NavVis was asked...</td>\n      <td>This greatly depends on which role you are int...</td>\n      <td>Mechanical engineering</td>\n      <td>Germany</td>\n      <td>Web Developer</td>\n    </tr>\n    <tr>\n      <th>1</th>\n      <td>Front End Web Developer at Eurowings Digital w...</td>\n      <td>Coding challenge was to integrate the Imgur AP...</td>\n      <td>I created the application in Angular 8, along ...</td>\n      <td>Germany</td>\n      <td>Web Developer</td>\n    </tr>\n    <tr>\n      <th>2</th>\n      <td>Web Developer at payever was asked...</td>\n      <td>They will provide you a task and then judge yo...</td>\n      <td>Their task setup was incomplete, very poorly c...</td>\n      <td>Germany</td>\n      <td>Web Developer</td>\n    </tr>\n    <tr>\n      <th>3</th>\n      <td>Web Developer at smava was asked...</td>\n      <td>Q: Experience with React? Q: Experience with s...</td>\n      <td>A: List of previous jobs with related tech.</td>\n      <td>Germany</td>\n      <td>Web Developer</td>\n    </tr>\n    <tr>\n      <th>4</th>\n      <td>Frontend Web Developer at Delivery Hero was as...</td>\n      <td>Js tasks</td>\n      <td>4/5, make some errors</td>\n      <td>Germany</td>\n      <td>Web Developer</td>\n    </tr>\n    <tr>\n      <th>...</th>\n      <td>...</td>\n      <td>...</td>\n      <td>...</td>\n      <td>...</td>\n      <td>...</td>\n    </tr>\n    <tr>\n      <th>61</th>\n      <td>Senior Web Developer at Pepper was asked...</td>\n      <td>What SOLID stands for, how would you describe ...</td>\n      <td>No answer</td>\n      <td>Germany</td>\n      <td>Web Developer</td>\n    </tr>\n    <tr>\n      <th>62</th>\n      <td>Full Stack Web Developer at innoscripta was as...</td>\n      <td>one of the algorithmic problems was related to...</td>\n      <td>No answer</td>\n      <td>Germany</td>\n      <td>Web Developer</td>\n    </tr>\n    <tr>\n      <th>63</th>\n      <td>Senior Web Developer at Zalando was asked...</td>\n      <td>Why do I want to work for them?</td>\n      <td>No answer</td>\n      <td>Germany</td>\n      <td>Web Developer</td>\n    </tr>\n    <tr>\n      <th>64</th>\n      <td>Web Developer at Westwing Home and Living was ...</td>\n      <td>How many squares on a chess board?</td>\n      <td>No answer</td>\n      <td>Germany</td>\n      <td>Web Developer</td>\n    </tr>\n    <tr>\n      <th>65</th>\n      <td>Part-Time Web Developer at Kolibri Games was a...</td>\n      <td>What makes a good team / a good working experi...</td>\n      <td>No answer</td>\n      <td>Germany</td>\n      <td>Web Developer</td>\n    </tr>\n  </tbody>\n</table>\n<p>66 rows × 5 columns</p>\n</div>"
     },
     "metadata": {}
    }
   ],
   "source": [
    "job_title_da = 'Web Developer' ## Lets search Data analytics\n",
    "location_pt = 'Germany' ## Lets search Data analytics\n",
    "\n",
    "data_to_csv(location_pt,interview_info(job_title_da,location_pt))"
   ]
  },
  {
   "cell_type": "code",
   "execution_count": 33,
   "metadata": {},
   "outputs": [
    {
     "output_type": "display_data",
     "data": {
      "text/plain": "1"
     },
     "metadata": {}
    },
    {
     "output_type": "display_data",
     "data": {
      "text/plain": "'UX Designer at USEEDS° was asked...'"
     },
     "metadata": {}
    },
    {
     "output_type": "display_data",
     "data": {
      "text/plain": "'warum useeds'"
     },
     "metadata": {}
    },
    {
     "output_type": "display_data",
     "data": {
      "text/plain": "'bisheriges lieblingsprojekt'"
     },
     "metadata": {}
    },
    {
     "output_type": "display_data",
     "data": {
      "text/plain": "2"
     },
     "metadata": {}
    },
    {
     "output_type": "display_data",
     "data": {
      "text/plain": "'UX Designer at Cornelsen Schulverlage was asked...'"
     },
     "metadata": {}
    },
    {
     "output_type": "display_data",
     "data": {
      "text/plain": "'What does a typically UX proces look like for you?'"
     },
     "metadata": {}
    },
    {
     "output_type": "display_data",
     "data": {
      "text/plain": "'I normally start out setting visions and goals with the client. Then going into the design proces where I collaborate closely and designers and front-end developers on creating a prototype. Also I am highly involved in the specification phase where I write specifications and do quality assurance'"
     },
     "metadata": {}
    },
    {
     "output_type": "display_data",
     "data": {
      "text/plain": "3"
     },
     "metadata": {}
    },
    {
     "output_type": "display_data",
     "data": {
      "text/plain": "'UX Designer at Homebell was asked...'"
     },
     "metadata": {}
    },
    {
     "output_type": "display_data",
     "data": {
      "text/plain": "'How would you change this specific design of the page?'"
     },
     "metadata": {}
    },
    {
     "output_type": "display_data",
     "data": {
      "text/plain": "'I showed a wireframe but they didnt like it too much'"
     },
     "metadata": {}
    },
    {
     "output_type": "display_data",
     "data": {
      "text/plain": "4"
     },
     "metadata": {}
    },
    {
     "output_type": "display_data",
     "data": {
      "text/plain": "'UX Designer at Zoi was asked...'"
     },
     "metadata": {}
    },
    {
     "output_type": "display_data",
     "data": {
      "text/plain": "'Endlose Ausführungen über die Firmengeschichte, gleich am Anfang, mit der Frage was ich darüber denke.'"
     },
     "metadata": {}
    },
    {
     "output_type": "display_data",
     "data": {
      "text/plain": "'Wenn ich die Website nicht selbst lesen könnte, hätte ich mich auch nicht beworben und ein Gloria auf sich selbst zu halten, schien mir sehr geschmacklos. Daher hab ich auch etwas lapidares in Sinne von \"Oh, sehr interessant!\" geantwortet.'"
     },
     "metadata": {}
    },
    {
     "output_type": "display_data",
     "data": {
      "text/plain": "5"
     },
     "metadata": {}
    },
    {
     "output_type": "display_data",
     "data": {
      "text/plain": "'UI-UX Designer at REBELLE - StyleRemains was asked...'"
     },
     "metadata": {}
    },
    {
     "output_type": "display_data",
     "data": {
      "text/plain": "'What were your UI-UX responsibilities in your last job?'"
     },
     "metadata": {}
    },
    {
     "output_type": "display_data",
     "data": {
      "text/plain": "'Design and usability of the Website......'"
     },
     "metadata": {}
    },
    {
     "output_type": "display_data",
     "data": {
      "text/plain": "6"
     },
     "metadata": {}
    },
    {
     "output_type": "display_data",
     "data": {
      "text/plain": "'Senior UX Designer at Mobimeo was asked...'"
     },
     "metadata": {}
    },
    {
     "output_type": "display_data",
     "data": {
      "text/plain": "'What can you bring to the team?'"
     },
     "metadata": {}
    },
    {
     "output_type": "display_data",
     "data": {
      "text/plain": "'What are your strengths and what do you want to develop yourself in?'"
     },
     "metadata": {}
    },
    {
     "output_type": "display_data",
     "data": {
      "text/plain": "7"
     },
     "metadata": {}
    },
    {
     "output_type": "display_data",
     "data": {
      "text/plain": "'Senior UX Designer at GetYourGuide was asked...'"
     },
     "metadata": {}
    },
    {
     "output_type": "display_data",
     "data": {
      "text/plain": "'What would you change on the decisions you have made in your professional life?'"
     },
     "metadata": {}
    },
    {
     "output_type": "display_data",
     "data": {
      "text/plain": "'Nothing, because I’m happy with who I am and this is because of my past decisions, I just would learn from the mistakes for the next decisions that I’ll have to take.'"
     },
     "metadata": {}
    },
    {
     "output_type": "display_data",
     "data": {
      "text/plain": "8"
     },
     "metadata": {}
    },
    {
     "output_type": "display_data",
     "data": {
      "text/plain": "'Senior UX Designer at Amazon was asked...'"
     },
     "metadata": {}
    },
    {
     "output_type": "display_data",
     "data": {
      "text/plain": "'Describe to us one time that you failed and what was your reaction to this.'"
     },
     "metadata": {}
    },
    {
     "output_type": "display_data",
     "data": {
      "text/plain": "\"Hi! As an Amazon employee who interviewed and hired a lot of people here, I've created a guide that has all the questions and winning answers from an Amazonian recruiter perspective. Please check it out at interviewjoy.com/services/interview-process-details/amazon-senior-manager-interview-questions/ . Pls also check the positive feedback at the bottom of that page! Thanks.\""
     },
     "metadata": {}
    },
    {
     "output_type": "display_data",
     "data": {
      "text/plain": "9"
     },
     "metadata": {}
    },
    {
     "output_type": "display_data",
     "data": {
      "text/plain": "'UI-UX Designer at Native Instruments was asked...'"
     },
     "metadata": {}
    },
    {
     "output_type": "display_data",
     "data": {
      "text/plain": "'What do you expect from this job?'"
     },
     "metadata": {}
    },
    {
     "output_type": "display_data",
     "data": {
      "text/plain": "'Designing interfaces and workflows.'"
     },
     "metadata": {}
    },
    {
     "output_type": "display_data",
     "data": {
      "text/plain": "10"
     },
     "metadata": {}
    },
    {
     "output_type": "display_data",
     "data": {
      "text/plain": "'UX Designer at Zoi was asked...'"
     },
     "metadata": {}
    },
    {
     "output_type": "display_data",
     "data": {
      "text/plain": "'Es wurde nach meinem Portfolio gefragt.'"
     },
     "metadata": {}
    },
    {
     "output_type": "display_data",
     "data": {
      "text/plain": "'Ich habe es kurz angerissen, da es Case Studies waren, hatte aber das Gefühl Sie suchen keinen UX Designer sondern jemand der alles einfach Umsetzt und Glitter hinzufügt. Also im Grunde habe ich mich auf eine Stelle beworben die diese Firma falsch ausgeschrieben hat.'"
     },
     "metadata": {}
    },
    {
     "output_type": "display_data",
     "data": {
      "text/plain": "11"
     },
     "metadata": {}
    },
    {
     "output_type": "display_data",
     "data": {
      "text/plain": "'UI-UX Designer at Solvemate was asked...'"
     },
     "metadata": {}
    },
    {
     "output_type": "display_data",
     "data": {
      "text/plain": "'Working for free on unpaid offsite tasks'"
     },
     "metadata": {}
    },
    {
     "output_type": "display_data",
     "data": {
      "text/plain": "'No'"
     },
     "metadata": {}
    },
    {
     "output_type": "display_data",
     "data": {
      "text/plain": "12"
     },
     "metadata": {}
    },
    {
     "output_type": "display_data",
     "data": {
      "text/plain": "'UX Designer at IXDS was asked...'"
     },
     "metadata": {}
    },
    {
     "output_type": "display_data",
     "data": {
      "text/plain": "'Explain a design project that had actually gone to market.'"
     },
     "metadata": {}
    },
    {
     "output_type": "display_data",
     "data": {
      "text/plain": "'Had to explain that the project was about a 5 year project and that I was only part of the first year of ideation, conceptualization, and kick off.'"
     },
     "metadata": {}
    },
    {
     "output_type": "display_data",
     "data": {
      "text/plain": "13"
     },
     "metadata": {}
    },
    {
     "output_type": "display_data",
     "data": {
      "text/plain": "'UX Designer at articy Software was asked...'"
     },
     "metadata": {}
    },
    {
     "output_type": "display_data",
     "data": {
      "text/plain": "'How is your design process?'"
     },
     "metadata": {}
    },
    {
     "output_type": "display_data",
     "data": {
      "text/plain": "'Hi there, I recently interviewed the same position, they let me do a design challenge and then turned me down with no explanation. I guess they just need some fresh ideas about their new engine, not intent to hire anyone new.'"
     },
     "metadata": {}
    },
    {
     "output_type": "display_data",
     "data": {
      "text/plain": "14"
     },
     "metadata": {}
    },
    {
     "output_type": "display_data",
     "data": {
      "text/plain": "'UI-UX Designer at cioplenu was asked...'"
     },
     "metadata": {}
    },
    {
     "output_type": "display_data",
     "data": {
      "text/plain": "'Wie sind sie auf uns aufmerksam geworden?'"
     },
     "metadata": {}
    },
    {
     "output_type": "display_data",
     "data": {
      "text/plain": "'Ich habe die Stellenanzeige auf Indeed gesehen und habe mich direkt mit dieser identifiziert. Die junge und dynamische Unternehmensstruktur passt sehr zu meiner Person. Auch die Lokalität in Augsburg ist sehr günstig und erspart mir das Suchen neuer Wohnungen.'"
     },
     "metadata": {}
    },
    {
     "output_type": "display_data",
     "data": {
      "text/plain": "15"
     },
     "metadata": {}
    },
    {
     "output_type": "display_data",
     "data": {
      "text/plain": "'UX Designer at UXLA was asked...'"
     },
     "metadata": {}
    },
    {
     "output_type": "display_data",
     "data": {
      "text/plain": "'UXLA war natürlich besonders an meinen Erfahrungen im Bereich UX/UI Design interessiert, die ich in meinen bisherigen Jobs/Projekten sammeln konnte. Vom Anforderungsmanagement mit Hilfe von Interviews und Workshops, über die Konzeption mit Wireframes und Prototypen bis hin zum finalen UI Design inklusive der Erstellung von Style Guides. Vor allem waren sie daran interessiert, woran ich besonders viel Freude hatte. Ihnen war es anscheinend wichtig, dass dem Kandidaten alle oben genannten Bereiche Spaß bereiten und er die Abwechslung mag (nur ein Gefühl von mir).'"
     },
     "metadata": {}
    },
    {
     "output_type": "display_data",
     "data": {
      "text/plain": "'Die Antworten auf die Fragen habe ich anhand meines Lieblingsprojekts skizziert - nach dem ich im übrigen auch gefragt wurde :) Insgesamt war man vor allem auch an meiner Person interessiert, also welche Interessen ich außerhalb des Berufs habe. Anscheinend möchte man ein homogenes Team aufbauen (was deren Interessengebiete angeht), damit man sich auch privat gut versteht.'"
     },
     "metadata": {}
    },
    {
     "output_type": "display_data",
     "data": {
      "text/plain": "16"
     },
     "metadata": {}
    },
    {
     "output_type": "display_data",
     "data": {
      "text/plain": "'UX Designer at Klarna was asked...'"
     },
     "metadata": {}
    },
    {
     "output_type": "display_data",
     "data": {
      "text/plain": "'Are you intelligent enough to work at Klarna?'"
     },
     "metadata": {}
    },
    {
     "output_type": "display_data",
     "data": {
      "text/plain": "\"I didn't, I don't want to work for them.\""
     },
     "metadata": {}
    },
    {
     "output_type": "display_data",
     "data": {
      "text/plain": "17"
     },
     "metadata": {}
    },
    {
     "output_type": "display_data",
     "data": {
      "text/plain": "'UX Designer at Luxoft was asked...'"
     },
     "metadata": {}
    },
    {
     "output_type": "display_data",
     "data": {
      "text/plain": "'Hintergrund, motivation, Kompetenzen, Automotive erfahrung, Leidenschaft'"
     },
     "metadata": {}
    },
    {
     "output_type": "display_data",
     "data": {
      "text/plain": "'Lebenslauf durchgang'"
     },
     "metadata": {}
    },
    {
     "output_type": "display_data",
     "data": {
      "text/plain": "18"
     },
     "metadata": {}
    },
    {
     "output_type": "display_data",
     "data": {
      "text/plain": "'UX Designer at Zoi was asked...'"
     },
     "metadata": {}
    },
    {
     "output_type": "display_data",
     "data": {
      "text/plain": "'Werdegang, Persönlichkeit....alles nach Schema F.'"
     },
     "metadata": {}
    },
    {
     "output_type": "display_data",
     "data": {
      "text/plain": "'Habe mich an den Gesprächsteilnehmer orientiert uns nach Schema F geantwortet. Hat mir einen uninteressierten Eindruck vermittelt und demnach war ich auch nicht mehr interessiert.'"
     },
     "metadata": {}
    },
    {
     "output_type": "display_data",
     "data": {
      "text/plain": "19"
     },
     "metadata": {}
    },
    {
     "output_type": "display_data",
     "data": {
      "text/plain": "'UX Designer at Celonis was asked...'"
     },
     "metadata": {}
    },
    {
     "output_type": "display_data",
     "data": {
      "text/plain": "'How and will you do if you under a lot of stress?'"
     },
     "metadata": {}
    },
    {
     "output_type": "display_data",
     "data": {
      "text/plain": "'Why you want to work at Celonis?'"
     },
     "metadata": {}
    },
    {
     "output_type": "display_data",
     "data": {
      "text/plain": "20"
     },
     "metadata": {}
    },
    {
     "output_type": "display_data",
     "data": {
      "text/plain": "'Junior UI/UX Designer at Enersis was asked...'"
     },
     "metadata": {}
    },
    {
     "output_type": "display_data",
     "data": {
      "text/plain": "'Wieso sollten wir dich nicht einstellen?'"
     },
     "metadata": {}
    },
    {
     "output_type": "display_data",
     "data": {
      "text/plain": "'No answer'"
     },
     "metadata": {}
    },
    {
     "output_type": "display_data",
     "data": {
      "text/plain": "21"
     },
     "metadata": {}
    },
    {
     "output_type": "display_data",
     "data": {
      "text/plain": "'UI-UX Designer at BCG Digital Ventures was asked...'"
     },
     "metadata": {}
    },
    {
     "output_type": "display_data",
     "data": {
      "text/plain": "'salary expectation'"
     },
     "metadata": {}
    },
    {
     "output_type": "display_data",
     "data": {
      "text/plain": "'No answer'"
     },
     "metadata": {}
    },
    {
     "output_type": "display_data",
     "data": {
      "text/plain": "22"
     },
     "metadata": {}
    },
    {
     "output_type": "display_data",
     "data": {
      "text/plain": "'UI-UX Designer at zenloop was asked...'"
     },
     "metadata": {}
    },
    {
     "output_type": "display_data",
     "data": {
      "text/plain": "'about your experiences and how we can work together. what are your motivations? how can you contribute with the company what are your goals in the next years'"
     },
     "metadata": {}
    },
    {
     "output_type": "display_data",
     "data": {
      "text/plain": "'No answer'"
     },
     "metadata": {}
    },
    {
     "output_type": "display_data",
     "data": {
      "text/plain": "23"
     },
     "metadata": {}
    },
    {
     "output_type": "display_data",
     "data": {
      "text/plain": "'UI-UX Designer at Blinkist was asked...'"
     },
     "metadata": {}
    },
    {
     "output_type": "display_data",
     "data": {
      "text/plain": "'From what you understand from the job missions why would you be ready to tackle them.'"
     },
     "metadata": {}
    },
    {
     "output_type": "display_data",
     "data": {
      "text/plain": "'No answer'"
     },
     "metadata": {}
    },
    {
     "output_type": "display_data",
     "data": {
      "text/plain": "24"
     },
     "metadata": {}
    },
    {
     "output_type": "display_data",
     "data": {
      "text/plain": "'Senior UX Designer at Native Instruments was asked...'"
     },
     "metadata": {}
    },
    {
     "output_type": "display_data",
     "data": {
      "text/plain": "'NATIVE INSTRUMENTS - WEB UI DESIGN TASK Introduction The task should not take more than 4 hours of your time. Please make sure that everything is documented in english. Background Native Instruments is a leading manufacturer of software and hardware for computer-based audio production and DJing. The company‘s mission is to empower and inspire all music lovers to express themselves and share their creativity with the world. Topic Buying process on the native-instruments.com website. User Music enthusiasts, producers and performers. Goal Promote following design values: inviting, clear, entertaining, responsive, trustworthy. NATIVE INSTRUMENTS - WEB UI DESIGN TASK Warm Up - „Moodboard“ • Create a UI moodboard that resembles and promotes the desired values. Exercise 1 - „Defining the Problem“ Please have a look at our website and imagine you want to buy a MASCHINE JAM. Examine the process that leads you from the product page to your shopping cart and: • write down the top 3 UI Design flaws which motivate you the most to work on. • explain what you would like to achieve by changing them and why you think this is benefitial. • suggest three methods to make sure your ideas are heading in the right direction. • define tasks that can be derived out of your ideas. Exercise 2 - „Generating Alternatives“ • Sketch out several different approaches to visually solve the existing issues. • Write down questions your design might raise. Exercise 3 - „About You“ Please tell us how your peers would describe you as a designer by using at least 5-7 adjectives.'"
     },
     "metadata": {}
    },
    {
     "output_type": "display_data",
     "data": {
      "text/plain": "'No answer'"
     },
     "metadata": {}
    },
    {
     "output_type": "display_data",
     "data": {
      "text/plain": "25"
     },
     "metadata": {}
    },
    {
     "output_type": "display_data",
     "data": {
      "text/plain": "'UX Designer at Capgemini was asked...'"
     },
     "metadata": {}
    },
    {
     "output_type": "display_data",
     "data": {
      "text/plain": "'Why Capgemini?'"
     },
     "metadata": {}
    },
    {
     "output_type": "display_data",
     "data": {
      "text/plain": "'No answer'"
     },
     "metadata": {}
    },
    {
     "output_type": "display_data",
     "data": {
      "text/plain": "26"
     },
     "metadata": {}
    },
    {
     "output_type": "display_data",
     "data": {
      "text/plain": "'UI/UX Designer at fromAtoB was asked...'"
     },
     "metadata": {}
    },
    {
     "output_type": "display_data",
     "data": {
      "text/plain": "'What gets you going in the morning?'"
     },
     "metadata": {}
    },
    {
     "output_type": "display_data",
     "data": {
      "text/plain": "'No answer'"
     },
     "metadata": {}
    },
    {
     "output_type": "display_data",
     "data": {
      "text/plain": "27"
     },
     "metadata": {}
    },
    {
     "output_type": "display_data",
     "data": {
      "text/plain": "'UI-UX Designer at Cornelsen Schulverlage was asked...'"
     },
     "metadata": {}
    },
    {
     "output_type": "display_data",
     "data": {
      "text/plain": "'Explain your portfolio and many activities'"
     },
     "metadata": {}
    },
    {
     "output_type": "display_data",
     "data": {
      "text/plain": "'No answer'"
     },
     "metadata": {}
    },
    {
     "output_type": "display_data",
     "data": {
      "text/plain": "28"
     },
     "metadata": {}
    },
    {
     "output_type": "display_data",
     "data": {
      "text/plain": "'Junior UI/UX Designer at Enersis was asked...'"
     },
     "metadata": {}
    },
    {
     "output_type": "display_data",
     "data": {
      "text/plain": "'Wie viel Kontrolle hast du über dein Leben, in Prozent?'"
     },
     "metadata": {}
    },
    {
     "output_type": "display_data",
     "data": {
      "text/plain": "'No answer'"
     },
     "metadata": {}
    },
    {
     "output_type": "display_data",
     "data": {
      "text/plain": "29"
     },
     "metadata": {}
    },
    {
     "output_type": "display_data",
     "data": {
      "text/plain": "'UI-UX Designer at Tracks (Germany) was asked...'"
     },
     "metadata": {}
    },
    {
     "output_type": "display_data",
     "data": {
      "text/plain": "'Each rounds had different sets of interview questions.'"
     },
     "metadata": {}
    },
    {
     "output_type": "display_data",
     "data": {
      "text/plain": "'No answer'"
     },
     "metadata": {}
    },
    {
     "output_type": "display_data",
     "data": {
      "text/plain": "30"
     },
     "metadata": {}
    },
    {
     "output_type": "display_data",
     "data": {
      "text/plain": "'UX Designer at Adesso AG was asked...'"
     },
     "metadata": {}
    },
    {
     "output_type": "display_data",
     "data": {
      "text/plain": "'Das weiß ich nicht mehr'"
     },
     "metadata": {}
    },
    {
     "output_type": "display_data",
     "data": {
      "text/plain": "'No answer'"
     },
     "metadata": {}
    },
    {
     "output_type": "display_data",
     "data": {
      "text/plain": "31"
     },
     "metadata": {}
    },
    {
     "output_type": "display_data",
     "data": {
      "text/plain": "'UI/UX Designer at KKLD* was asked...'"
     },
     "metadata": {}
    },
    {
     "output_type": "display_data",
     "data": {
      "text/plain": "'They reviews my portfolio and kindly requested for more relevant materials to be sent over email without cutting the interview off'"
     },
     "metadata": {}
    },
    {
     "output_type": "display_data",
     "data": {
      "text/plain": "'No answer'"
     },
     "metadata": {}
    },
    {
     "output_type": "display_data",
     "data": {
      "text/plain": "32"
     },
     "metadata": {}
    },
    {
     "output_type": "display_data",
     "data": {
      "text/plain": "'UI-UX Designer at homify was asked...'"
     },
     "metadata": {}
    },
    {
     "output_type": "display_data",
     "data": {
      "text/plain": "'How do you get updated in ux/ui? Your process'"
     },
     "metadata": {}
    },
    {
     "output_type": "display_data",
     "data": {
      "text/plain": "'No answer'"
     },
     "metadata": {}
    },
    {
     "output_type": "display_data",
     "data": {
      "text/plain": "33"
     },
     "metadata": {}
    },
    {
     "output_type": "display_data",
     "data": {
      "text/plain": "'UI-UX Designer at HelloFresh was asked...'"
     },
     "metadata": {}
    },
    {
     "output_type": "display_data",
     "data": {
      "text/plain": "'Please tell me more about one of the past projects.'"
     },
     "metadata": {}
    },
    {
     "output_type": "display_data",
     "data": {
      "text/plain": "'No answer'"
     },
     "metadata": {}
    },
    {
     "output_type": "display_data",
     "data": {
      "text/plain": "34"
     },
     "metadata": {}
    },
    {
     "output_type": "display_data",
     "data": {
      "text/plain": "'Senior UX Designer at SAP was asked...'"
     },
     "metadata": {}
    },
    {
     "output_type": "display_data",
     "data": {
      "text/plain": "'z.B. Fragen zu Portfolio, persönlicher Werdegang, …'"
     },
     "metadata": {}
    },
    {
     "output_type": "display_data",
     "data": {
      "text/plain": "'No answer'"
     },
     "metadata": {}
    },
    {
     "output_type": "display_data",
     "data": {
      "text/plain": "35"
     },
     "metadata": {}
    },
    {
     "output_type": "display_data",
     "data": {
      "text/plain": "'UX Designer at HubSpot was asked...'"
     },
     "metadata": {}
    },
    {
     "output_type": "display_data",
     "data": {
      "text/plain": "'Specific questions about past work.'"
     },
     "metadata": {}
    },
    {
     "output_type": "display_data",
     "data": {
      "text/plain": "'No answer'"
     },
     "metadata": {}
    },
    {
     "output_type": "display_data",
     "data": {
      "text/plain": "36"
     },
     "metadata": {}
    },
    {
     "output_type": "display_data",
     "data": {
      "text/plain": "'UI-UX Designer at idealo internet was asked...'"
     },
     "metadata": {}
    },
    {
     "output_type": "display_data",
     "data": {
      "text/plain": "'Hinterfragung der eigenen Motivation und bisheriger Werdegang. Fragen zur Aufgabenstellung sowie typische HR als auch ausgefallene Superhelden Fragen.'"
     },
     "metadata": {}
    },
    {
     "output_type": "display_data",
     "data": {
      "text/plain": "'No answer'"
     },
     "metadata": {}
    },
    {
     "output_type": "display_data",
     "data": {
      "text/plain": "37"
     },
     "metadata": {}
    },
    {
     "output_type": "display_data",
     "data": {
      "text/plain": "'UI/UX Designer at 1aim was asked...'"
     },
     "metadata": {}
    },
    {
     "output_type": "display_data",
     "data": {
      "text/plain": "'UX methodologies, design thinking, ideas about 1aim product & ecosystem'"
     },
     "metadata": {}
    },
    {
     "output_type": "display_data",
     "data": {
      "text/plain": "'No answer'"
     },
     "metadata": {}
    },
    {
     "output_type": "display_data",
     "data": {
      "text/plain": "38"
     },
     "metadata": {}
    },
    {
     "output_type": "display_data",
     "data": {
      "text/plain": "'UI/UX Designer at Me & Company was asked...'"
     },
     "metadata": {}
    },
    {
     "output_type": "display_data",
     "data": {
      "text/plain": "'Was erwarten Sie von uns?'"
     },
     "metadata": {}
    },
    {
     "output_type": "display_data",
     "data": {
      "text/plain": "'No answer'"
     },
     "metadata": {}
    },
    {
     "output_type": "display_data",
     "data": {
      "text/plain": "39"
     },
     "metadata": {}
    },
    {
     "output_type": "display_data",
     "data": {
      "text/plain": "'UI/UX Designer at Me & Company was asked...'"
     },
     "metadata": {}
    },
    {
     "output_type": "display_data",
     "data": {
      "text/plain": "'Was stellen Sie sich für ein Gehalt vor?'"
     },
     "metadata": {}
    },
    {
     "output_type": "display_data",
     "data": {
      "text/plain": "'No answer'"
     },
     "metadata": {}
    },
    {
     "output_type": "display_data",
     "data": {
      "text/plain": "40"
     },
     "metadata": {}
    },
    {
     "output_type": "display_data",
     "data": {
      "text/plain": "'UX Designer at VEACT was asked...'"
     },
     "metadata": {}
    },
    {
     "output_type": "display_data",
     "data": {
      "text/plain": "'most questions were ux oriented and about soft skills. 1. Questions about working experience. 2. Did your project ever fail? 3. How do you deal with the problems/conflicts 4. Are you a team player or prefer working alone 5. Questions about motivation 6. What is the most important part in UX?'"
     },
     "metadata": {}
    },
    {
     "output_type": "display_data",
     "data": {
      "text/plain": "'No answer'"
     },
     "metadata": {}
    },
    {
     "output_type": "display_data",
     "data": {
      "text/plain": "41"
     },
     "metadata": {}
    },
    {
     "output_type": "display_data",
     "data": {
      "text/plain": "'UX Designer at Talon.One was asked...'"
     },
     "metadata": {}
    },
    {
     "output_type": "display_data",
     "data": {
      "text/plain": "'Could you please talk me though your typical design process?'"
     },
     "metadata": {}
    },
    {
     "output_type": "display_data",
     "data": {
      "text/plain": "'No answer'"
     },
     "metadata": {}
    },
    {
     "output_type": "display_data",
     "data": {
      "text/plain": "42"
     },
     "metadata": {}
    },
    {
     "output_type": "display_data",
     "data": {
      "text/plain": "'UX Designer at Ableton was asked...'"
     },
     "metadata": {}
    },
    {
     "output_type": "display_data",
     "data": {
      "text/plain": "'Q: What is your design process?'"
     },
     "metadata": {}
    },
    {
     "output_type": "display_data",
     "data": {
      "text/plain": "'No answer'"
     },
     "metadata": {}
    },
    {
     "output_type": "display_data",
     "data": {
      "text/plain": "43"
     },
     "metadata": {}
    },
    {
     "output_type": "display_data",
     "data": {
      "text/plain": "'UI-UX Designer at Mobimeo was asked...'"
     },
     "metadata": {}
    },
    {
     "output_type": "display_data",
     "data": {
      "text/plain": "\"I got asked lots of relevant questions while I was presenting the portfolio. Another thing they ask was how do I work with POs and developers. I didn't get ask unexpected or difficult questions\""
     },
     "metadata": {}
    },
    {
     "output_type": "display_data",
     "data": {
      "text/plain": "'No answer'"
     },
     "metadata": {}
    },
    {
     "output_type": "display_data",
     "data": {
      "text/plain": "44"
     },
     "metadata": {}
    },
    {
     "output_type": "display_data",
     "data": {
      "text/plain": "'Ui\\\\Ux Designer at Blacklane was asked...'"
     },
     "metadata": {}
    },
    {
     "output_type": "display_data",
     "data": {
      "text/plain": "'The questions ranged from general organizational questions to more technical questions about the design process.'"
     },
     "metadata": {}
    },
    {
     "output_type": "display_data",
     "data": {
      "text/plain": "'No answer'"
     },
     "metadata": {}
    },
    {
     "output_type": "display_data",
     "data": {
      "text/plain": "45"
     },
     "metadata": {}
    },
    {
     "output_type": "display_data",
     "data": {
      "text/plain": "'UI-UX Designer at Future Voice was asked...'"
     },
     "metadata": {}
    },
    {
     "output_type": "display_data",
     "data": {
      "text/plain": "'Was war dein Beweggrund für deinen Karrierewechsel.'"
     },
     "metadata": {}
    },
    {
     "output_type": "display_data",
     "data": {
      "text/plain": "'No answer'"
     },
     "metadata": {}
    },
    {
     "output_type": "display_data",
     "data": {
      "text/plain": "46"
     },
     "metadata": {}
    },
    {
     "output_type": "display_data",
     "data": {
      "text/plain": "'UX Designer at Crytek was asked...'"
     },
     "metadata": {}
    },
    {
     "output_type": "display_data",
     "data": {
      "text/plain": "'Basic interview question like in any other UX job.'"
     },
     "metadata": {}
    },
    {
     "output_type": "display_data",
     "data": {
      "text/plain": "'No answer'"
     },
     "metadata": {}
    },
    {
     "output_type": "display_data",
     "data": {
      "text/plain": "47"
     },
     "metadata": {}
    },
    {
     "output_type": "display_data",
     "data": {
      "text/plain": "'UX Designer at SinnerSchrader was asked...'"
     },
     "metadata": {}
    },
    {
     "output_type": "display_data",
     "data": {
      "text/plain": "'I was asked to present one of the projects I am most proud of.'"
     },
     "metadata": {}
    },
    {
     "output_type": "display_data",
     "data": {
      "text/plain": "'No answer'"
     },
     "metadata": {}
    },
    {
     "output_type": "display_data",
     "data": {
      "text/plain": "48"
     },
     "metadata": {}
    },
    {
     "output_type": "display_data",
     "data": {
      "text/plain": "'Senior UX Designer at apaleo was asked...'"
     },
     "metadata": {}
    },
    {
     "output_type": "display_data",
     "data": {
      "text/plain": "\"I don't recall the questions.\""
     },
     "metadata": {}
    },
    {
     "output_type": "display_data",
     "data": {
      "text/plain": "'No answer'"
     },
     "metadata": {}
    },
    {
     "output_type": "display_data",
     "data": {
      "text/plain": "49"
     },
     "metadata": {}
    },
    {
     "output_type": "display_data",
     "data": {
      "text/plain": "'UX Designer at M-Way Solutions was asked...'"
     },
     "metadata": {}
    },
    {
     "output_type": "display_data",
     "data": {
      "text/plain": "'What is your favourite app and why?'"
     },
     "metadata": {}
    },
    {
     "output_type": "display_data",
     "data": {
      "text/plain": "'No answer'"
     },
     "metadata": {}
    },
    {
     "output_type": "display_data",
     "data": {
      "text/plain": "50"
     },
     "metadata": {}
    },
    {
     "output_type": "display_data",
     "data": {
      "text/plain": "'UI/UX Designer at Me & Company was asked...'"
     },
     "metadata": {}
    },
    {
     "output_type": "display_data",
     "data": {
      "text/plain": "'Was macht Sie beruflich aus?'"
     },
     "metadata": {}
    },
    {
     "output_type": "display_data",
     "data": {
      "text/plain": "'No answer'"
     },
     "metadata": {}
    },
    {
     "output_type": "display_data",
     "data": {
      "text/plain": "51"
     },
     "metadata": {}
    },
    {
     "output_type": "display_data",
     "data": {
      "text/plain": "'Ui\\\\Ux Designer at HQ Revenue was asked...'"
     },
     "metadata": {}
    },
    {
     "output_type": "display_data",
     "data": {
      "text/plain": "'The questions asked were about my working process and relating to my assignment and previous experience working as a UX / UI Designer.'"
     },
     "metadata": {}
    },
    {
     "output_type": "display_data",
     "data": {
      "text/plain": "'No answer'"
     },
     "metadata": {}
    },
    {
     "output_type": "display_data",
     "data": {
      "text/plain": "52"
     },
     "metadata": {}
    },
    {
     "output_type": "display_data",
     "data": {
      "text/plain": "'Senior UX Designer at Justix was asked...'"
     },
     "metadata": {}
    },
    {
     "output_type": "display_data",
     "data": {
      "text/plain": "'Can you describe your design process, how you work with your team and how you work with stakeholders?'"
     },
     "metadata": {}
    },
    {
     "output_type": "display_data",
     "data": {
      "text/plain": "'No answer'"
     },
     "metadata": {}
    },
    {
     "output_type": "display_data",
     "data": {
      "text/plain": "53"
     },
     "metadata": {}
    },
    {
     "output_type": "display_data",
     "data": {
      "text/plain": "'Senior UX Designer at Stepstone was asked...'"
     },
     "metadata": {}
    },
    {
     "output_type": "display_data",
     "data": {
      "text/plain": "'Wie unterscheiden sich UX Design und Product Design und gibt es Vorzüge von einem gegenüber dem anderen?'"
     },
     "metadata": {}
    },
    {
     "output_type": "display_data",
     "data": {
      "text/plain": "'No answer'"
     },
     "metadata": {}
    },
    {
     "output_type": "display_data",
     "data": {
      "text/plain": "54"
     },
     "metadata": {}
    },
    {
     "output_type": "display_data",
     "data": {
      "text/plain": "'UX Designer at Talon.One was asked...'"
     },
     "metadata": {}
    },
    {
     "output_type": "display_data",
     "data": {
      "text/plain": "'Could you please walk me through your typical design process?'"
     },
     "metadata": {}
    },
    {
     "output_type": "display_data",
     "data": {
      "text/plain": "'No answer'"
     },
     "metadata": {}
    },
    {
     "output_type": "display_data",
     "data": {
      "text/plain": "55"
     },
     "metadata": {}
    },
    {
     "output_type": "display_data",
     "data": {
      "text/plain": "'UX Designer at Ableton was asked...'"
     },
     "metadata": {}
    },
    {
     "output_type": "display_data",
     "data": {
      "text/plain": "'Q: What inspires you as a designer?'"
     },
     "metadata": {}
    },
    {
     "output_type": "display_data",
     "data": {
      "text/plain": "'No answer'"
     },
     "metadata": {}
    },
    {
     "output_type": "display_data",
     "data": {
      "text/plain": "56"
     },
     "metadata": {}
    },
    {
     "output_type": "display_data",
     "data": {
      "text/plain": "'UI-UX Designer at TDSoftware was asked...'"
     },
     "metadata": {}
    },
    {
     "output_type": "display_data",
     "data": {
      "text/plain": "'Warum hast du dich für diese Stelle beworben?'"
     },
     "metadata": {}
    },
    {
     "output_type": "display_data",
     "data": {
      "text/plain": "'No answer'"
     },
     "metadata": {}
    },
    {
     "output_type": "display_data",
     "data": {
      "text/plain": "57"
     },
     "metadata": {}
    },
    {
     "output_type": "display_data",
     "data": {
      "text/plain": "'UI/UX Designer at 99chairs was asked...'"
     },
     "metadata": {}
    },
    {
     "output_type": "display_data",
     "data": {
      "text/plain": "'What is my process during UX part?'"
     },
     "metadata": {}
    },
    {
     "output_type": "display_data",
     "data": {
      "text/plain": "'No answer'"
     },
     "metadata": {}
    },
    {
     "output_type": "display_data",
     "data": {
      "text/plain": "58"
     },
     "metadata": {}
    },
    {
     "output_type": "display_data",
     "data": {
      "text/plain": "'UI-UX Designer at HelloFresh was asked...'"
     },
     "metadata": {}
    },
    {
     "output_type": "display_data",
     "data": {
      "text/plain": "'Why do you want to work for Hello Fresh?'"
     },
     "metadata": {}
    },
    {
     "output_type": "display_data",
     "data": {
      "text/plain": "'No answer'"
     },
     "metadata": {}
    },
    {
     "output_type": "display_data",
     "data": {
      "text/plain": "59"
     },
     "metadata": {}
    },
    {
     "output_type": "display_data",
     "data": {
      "text/plain": "'UI/UX Designer at Global Savings Group was asked...'"
     },
     "metadata": {}
    },
    {
     "output_type": "display_data",
     "data": {
      "text/plain": "'What was the most interesting project in your work experience?'"
     },
     "metadata": {}
    },
    {
     "output_type": "display_data",
     "data": {
      "text/plain": "'No answer'"
     },
     "metadata": {}
    },
    {
     "output_type": "display_data",
     "data": {
      "text/plain": "60"
     },
     "metadata": {}
    },
    {
     "output_type": "display_data",
     "data": {
      "text/plain": "'Senior UX Designer at Delivery Hero was asked...'"
     },
     "metadata": {}
    },
    {
     "output_type": "display_data",
     "data": {
      "text/plain": "'Most questions were experiential, focusing on my prior work, how I dealt with different work situations, how I approach my work (particularly by design process), and so on.'"
     },
     "metadata": {}
    },
    {
     "output_type": "display_data",
     "data": {
      "text/plain": "'No answer'"
     },
     "metadata": {}
    },
    {
     "output_type": "display_data",
     "data": {
      "text/plain": "61"
     },
     "metadata": {}
    },
    {
     "output_type": "display_data",
     "data": {
      "text/plain": "'UI/UX Designer at Robert Bosch was asked...'"
     },
     "metadata": {}
    },
    {
     "output_type": "display_data",
     "data": {
      "text/plain": "'Atomic Design? Aktuelle und vergangene Projekte? Tools?'"
     },
     "metadata": {}
    },
    {
     "output_type": "display_data",
     "data": {
      "text/plain": "'No answer'"
     },
     "metadata": {}
    },
    {
     "output_type": "display_data",
     "data": {
      "text/plain": "62"
     },
     "metadata": {}
    },
    {
     "output_type": "display_data",
     "data": {
      "text/plain": "'Senior UX Designer at Bunch was asked...'"
     },
     "metadata": {}
    },
    {
     "output_type": "display_data",
     "data": {
      "text/plain": "\"Generic questions about your approach to design, previous projects you've worked on, general conversation about Bunch and the value proposition.\""
     },
     "metadata": {}
    },
    {
     "output_type": "display_data",
     "data": {
      "text/plain": "'No answer'"
     },
     "metadata": {}
    },
    {
     "output_type": "display_data",
     "data": {
      "text/plain": "63"
     },
     "metadata": {}
    },
    {
     "output_type": "display_data",
     "data": {
      "text/plain": "'UI-UX Designer at DB Schenker was asked...'"
     },
     "metadata": {}
    },
    {
     "output_type": "display_data",
     "data": {
      "text/plain": "'- Can you introduce yourself? - How would you design this website? - What kind of residence do you have?'"
     },
     "metadata": {}
    },
    {
     "output_type": "display_data",
     "data": {
      "text/plain": "'No answer'"
     },
     "metadata": {}
    },
    {
     "output_type": "display_data",
     "data": {
      "text/plain": "64"
     },
     "metadata": {}
    },
    {
     "output_type": "display_data",
     "data": {
      "text/plain": "'UX Designer at Zeppelin Lab was asked...'"
     },
     "metadata": {}
    },
    {
     "output_type": "display_data",
     "data": {
      "text/plain": "'Bei welchem Visual-Design kommst du ins schwärmen?'"
     },
     "metadata": {}
    },
    {
     "output_type": "display_data",
     "data": {
      "text/plain": "'No answer'"
     },
     "metadata": {}
    },
    {
     "output_type": "display_data",
     "data": {
      "text/plain": "65"
     },
     "metadata": {}
    },
    {
     "output_type": "display_data",
     "data": {
      "text/plain": "'UI-UX Designer at ShareTheMeal was asked...'"
     },
     "metadata": {}
    },
    {
     "output_type": "display_data",
     "data": {
      "text/plain": "'Questions were more related to my design desitions and workflow (methodologies, interface with developers, etc)'"
     },
     "metadata": {}
    },
    {
     "output_type": "display_data",
     "data": {
      "text/plain": "'No answer'"
     },
     "metadata": {}
    },
    {
     "output_type": "display_data",
     "data": {
      "text/plain": "66"
     },
     "metadata": {}
    },
    {
     "output_type": "display_data",
     "data": {
      "text/plain": "'UX Designer at METRO was asked...'"
     },
     "metadata": {}
    },
    {
     "output_type": "display_data",
     "data": {
      "text/plain": "'What would you do if a PM has selected a feature you do not agree with?'"
     },
     "metadata": {}
    },
    {
     "output_type": "display_data",
     "data": {
      "text/plain": "'No answer'"
     },
     "metadata": {}
    },
    {
     "output_type": "display_data",
     "data": {
      "text/plain": "67"
     },
     "metadata": {}
    },
    {
     "output_type": "display_data",
     "data": {
      "text/plain": "'Senior UX Designer at Klarna was asked...'"
     },
     "metadata": {}
    },
    {
     "output_type": "display_data",
     "data": {
      "text/plain": "'Logical test - many puzzles to play in 10 min'"
     },
     "metadata": {}
    },
    {
     "output_type": "display_data",
     "data": {
      "text/plain": "'No answer'"
     },
     "metadata": {}
    },
    {
     "output_type": "display_data",
     "data": {
      "text/plain": "68"
     },
     "metadata": {}
    },
    {
     "output_type": "display_data",
     "data": {
      "text/plain": "'Senior UX Designer at trivago was asked...'"
     },
     "metadata": {}
    },
    {
     "output_type": "display_data",
     "data": {
      "text/plain": "'They aked about my case study. Why I made the decisions I created. Personal questions what drives you the most and who you are.'"
     },
     "metadata": {}
    },
    {
     "output_type": "display_data",
     "data": {
      "text/plain": "'No answer'"
     },
     "metadata": {}
    },
    {
     "output_type": "display_data",
     "data": {
      "text/plain": "69"
     },
     "metadata": {}
    },
    {
     "output_type": "display_data",
     "data": {
      "text/plain": "'UI/UX Designer at Global Savings Group was asked...'"
     },
     "metadata": {}
    },
    {
     "output_type": "display_data",
     "data": {
      "text/plain": "'Why did you apply for this position?'"
     },
     "metadata": {}
    },
    {
     "output_type": "display_data",
     "data": {
      "text/plain": "'No answer'"
     },
     "metadata": {}
    },
    {
     "output_type": "display_data",
     "data": {
      "text/plain": "70"
     },
     "metadata": {}
    },
    {
     "output_type": "display_data",
     "data": {
      "text/plain": "'UI-UX Designer at Gymondo was asked...'"
     },
     "metadata": {}
    },
    {
     "output_type": "display_data",
     "data": {
      "text/plain": "\"What's your role in your current team?\""
     },
     "metadata": {}
    },
    {
     "output_type": "display_data",
     "data": {
      "text/plain": "'No answer'"
     },
     "metadata": {}
    },
    {
     "output_type": "display_data",
     "data": {
      "text/plain": "71"
     },
     "metadata": {}
    },
    {
     "output_type": "display_data",
     "data": {
      "text/plain": "'Senior UX Designer at Quandoo was asked...'"
     },
     "metadata": {}
    },
    {
     "output_type": "display_data",
     "data": {
      "text/plain": "'Generally, the questions were fairly straight-forward for a design interview. We dove into several of my portfolio examples, experiences in various roles, and why I was interested in Berlin.'"
     },
     "metadata": {}
    },
    {
     "output_type": "display_data",
     "data": {
      "text/plain": "'No answer'"
     },
     "metadata": {}
    },
    {
     "output_type": "display_data",
     "data": {
      "text/plain": "72"
     },
     "metadata": {}
    },
    {
     "output_type": "display_data",
     "data": {
      "text/plain": "'UI-UX Designer at Wunderflats was asked...'"
     },
     "metadata": {}
    },
    {
     "output_type": "display_data",
     "data": {
      "text/plain": "'What is your design process and how do you solve design problems?'"
     },
     "metadata": {}
    },
    {
     "output_type": "display_data",
     "data": {
      "text/plain": "'No answer'"
     },
     "metadata": {}
    },
    {
     "output_type": "display_data",
     "data": {
      "text/plain": "                                          job_company  \\\n0                 UX Designer at USEEDS° was asked...   \n1   UX Designer at Cornelsen Schulverlage was aske...   \n2                UX Designer at Homebell was asked...   \n3                     UX Designer at Zoi was asked...   \n4   UI-UX Designer at REBELLE - StyleRemains was a...   \n..                                                ...   \n67         Senior UX Designer at trivago was asked...   \n68  UI/UX Designer at Global Savings Group was ask...   \n69             UI-UX Designer at Gymondo was asked...   \n70         Senior UX Designer at Quandoo was asked...   \n71         UI-UX Designer at Wunderflats was asked...   \n\n                                            questions  \\\n0                                        warum useeds   \n1   What does a typically UX proces look like for ...   \n2   How would you change this specific design of t...   \n3   Endlose Ausführungen über die Firmengeschichte...   \n4   What were your UI-UX responsibilities in your ...   \n..                                                ...   \n67  They aked about my case study. Why I made the ...   \n68               Why did you apply for this position?   \n69             What's your role in your current team?   \n70  Generally, the questions were fairly straight-...   \n71  What is your design process and how do you sol...   \n\n                                              answers  country         area  \n0                         bisheriges lieblingsprojekt  Germany  UX Designer  \n1   I normally start out setting visions and goals...  Germany  UX Designer  \n2   I showed a wireframe but they didnt like it to...  Germany  UX Designer  \n3   Wenn ich die Website nicht selbst lesen könnte...  Germany  UX Designer  \n4           Design and usability of the Website......  Germany  UX Designer  \n..                                                ...      ...          ...  \n67                                          No answer  Germany  UX Designer  \n68                                          No answer  Germany  UX Designer  \n69                                          No answer  Germany  UX Designer  \n70                                          No answer  Germany  UX Designer  \n71                                          No answer  Germany  UX Designer  \n\n[72 rows x 5 columns]",
      "text/html": "<div>\n<style scoped>\n    .dataframe tbody tr th:only-of-type {\n        vertical-align: middle;\n    }\n\n    .dataframe tbody tr th {\n        vertical-align: top;\n    }\n\n    .dataframe thead th {\n        text-align: right;\n    }\n</style>\n<table border=\"1\" class=\"dataframe\">\n  <thead>\n    <tr style=\"text-align: right;\">\n      <th></th>\n      <th>job_company</th>\n      <th>questions</th>\n      <th>answers</th>\n      <th>country</th>\n      <th>area</th>\n    </tr>\n  </thead>\n  <tbody>\n    <tr>\n      <th>0</th>\n      <td>UX Designer at USEEDS° was asked...</td>\n      <td>warum useeds</td>\n      <td>bisheriges lieblingsprojekt</td>\n      <td>Germany</td>\n      <td>UX Designer</td>\n    </tr>\n    <tr>\n      <th>1</th>\n      <td>UX Designer at Cornelsen Schulverlage was aske...</td>\n      <td>What does a typically UX proces look like for ...</td>\n      <td>I normally start out setting visions and goals...</td>\n      <td>Germany</td>\n      <td>UX Designer</td>\n    </tr>\n    <tr>\n      <th>2</th>\n      <td>UX Designer at Homebell was asked...</td>\n      <td>How would you change this specific design of t...</td>\n      <td>I showed a wireframe but they didnt like it to...</td>\n      <td>Germany</td>\n      <td>UX Designer</td>\n    </tr>\n    <tr>\n      <th>3</th>\n      <td>UX Designer at Zoi was asked...</td>\n      <td>Endlose Ausführungen über die Firmengeschichte...</td>\n      <td>Wenn ich die Website nicht selbst lesen könnte...</td>\n      <td>Germany</td>\n      <td>UX Designer</td>\n    </tr>\n    <tr>\n      <th>4</th>\n      <td>UI-UX Designer at REBELLE - StyleRemains was a...</td>\n      <td>What were your UI-UX responsibilities in your ...</td>\n      <td>Design and usability of the Website......</td>\n      <td>Germany</td>\n      <td>UX Designer</td>\n    </tr>\n    <tr>\n      <th>...</th>\n      <td>...</td>\n      <td>...</td>\n      <td>...</td>\n      <td>...</td>\n      <td>...</td>\n    </tr>\n    <tr>\n      <th>67</th>\n      <td>Senior UX Designer at trivago was asked...</td>\n      <td>They aked about my case study. Why I made the ...</td>\n      <td>No answer</td>\n      <td>Germany</td>\n      <td>UX Designer</td>\n    </tr>\n    <tr>\n      <th>68</th>\n      <td>UI/UX Designer at Global Savings Group was ask...</td>\n      <td>Why did you apply for this position?</td>\n      <td>No answer</td>\n      <td>Germany</td>\n      <td>UX Designer</td>\n    </tr>\n    <tr>\n      <th>69</th>\n      <td>UI-UX Designer at Gymondo was asked...</td>\n      <td>What's your role in your current team?</td>\n      <td>No answer</td>\n      <td>Germany</td>\n      <td>UX Designer</td>\n    </tr>\n    <tr>\n      <th>70</th>\n      <td>Senior UX Designer at Quandoo was asked...</td>\n      <td>Generally, the questions were fairly straight-...</td>\n      <td>No answer</td>\n      <td>Germany</td>\n      <td>UX Designer</td>\n    </tr>\n    <tr>\n      <th>71</th>\n      <td>UI-UX Designer at Wunderflats was asked...</td>\n      <td>What is your design process and how do you sol...</td>\n      <td>No answer</td>\n      <td>Germany</td>\n      <td>UX Designer</td>\n    </tr>\n  </tbody>\n</table>\n<p>72 rows × 5 columns</p>\n</div>"
     },
     "metadata": {}
    }
   ],
   "source": [
    "job_title_da = 'UX Designer' ## Lets search Data analytics\n",
    "location_pt = 'Germany' ## Lets search Data analytics\n",
    "\n",
    "data_to_csv(location_pt,interview_info(job_title_da,location_pt))"
   ]
  },
  {
   "cell_type": "code",
   "execution_count": 34,
   "metadata": {},
   "outputs": [
    {
     "output_type": "display_data",
     "data": {
      "text/plain": "1"
     },
     "metadata": {}
    },
    {
     "output_type": "display_data",
     "data": {
      "text/plain": "'UI Designer at scoutbee was asked...'"
     },
     "metadata": {}
    },
    {
     "output_type": "display_data",
     "data": {
      "text/plain": "'Could you describe your typical design process?'"
     },
     "metadata": {}
    },
    {
     "output_type": "display_data",
     "data": {
      "text/plain": "'I gave an in-depth walk-through of my typical process, and gave examples from my specific experiences, highlighting what I can carry over to benefit the company'"
     },
     "metadata": {}
    },
    {
     "output_type": "display_data",
     "data": {
      "text/plain": "2"
     },
     "metadata": {}
    },
    {
     "output_type": "display_data",
     "data": {
      "text/plain": "'UI-UX Designer at REBELLE - StyleRemains was asked...'"
     },
     "metadata": {}
    },
    {
     "output_type": "display_data",
     "data": {
      "text/plain": "'What were your UI-UX responsibilities in your last job?'"
     },
     "metadata": {}
    },
    {
     "output_type": "display_data",
     "data": {
      "text/plain": "'Design and usability of the Website......'"
     },
     "metadata": {}
    },
    {
     "output_type": "display_data",
     "data": {
      "text/plain": "3"
     },
     "metadata": {}
    },
    {
     "output_type": "display_data",
     "data": {
      "text/plain": "'UI-UX Designer at Native Instruments was asked...'"
     },
     "metadata": {}
    },
    {
     "output_type": "display_data",
     "data": {
      "text/plain": "'What do you expect from this job?'"
     },
     "metadata": {}
    },
    {
     "output_type": "display_data",
     "data": {
      "text/plain": "'Designing interfaces and workflows.'"
     },
     "metadata": {}
    },
    {
     "output_type": "display_data",
     "data": {
      "text/plain": "4"
     },
     "metadata": {}
    },
    {
     "output_type": "display_data",
     "data": {
      "text/plain": "'Senior UI/User Experience Designer at Native Instruments was asked...'"
     },
     "metadata": {}
    },
    {
     "output_type": "display_data",
     "data": {
      "text/plain": "\"I've applied to a Senior UX/UI Designer position and they asked me what I would do if my position would become only UX.\""
     },
     "metadata": {}
    },
    {
     "output_type": "display_data",
     "data": {
      "text/plain": "\"I've answered that, since I had applied to a UX/UI position, it's because I would like to do both things.\""
     },
     "metadata": {}
    },
    {
     "output_type": "display_data",
     "data": {
      "text/plain": "5"
     },
     "metadata": {}
    },
    {
     "output_type": "display_data",
     "data": {
      "text/plain": "'UI-UX Designer at Solvemate was asked...'"
     },
     "metadata": {}
    },
    {
     "output_type": "display_data",
     "data": {
      "text/plain": "'Working for free on unpaid offsite tasks'"
     },
     "metadata": {}
    },
    {
     "output_type": "display_data",
     "data": {
      "text/plain": "'No'"
     },
     "metadata": {}
    },
    {
     "output_type": "display_data",
     "data": {
      "text/plain": "6"
     },
     "metadata": {}
    },
    {
     "output_type": "display_data",
     "data": {
      "text/plain": "'UI-UX Designer at cioplenu was asked...'"
     },
     "metadata": {}
    },
    {
     "output_type": "display_data",
     "data": {
      "text/plain": "'Wie sind sie auf uns aufmerksam geworden?'"
     },
     "metadata": {}
    },
    {
     "output_type": "display_data",
     "data": {
      "text/plain": "'Ich habe die Stellenanzeige auf Indeed gesehen und habe mich direkt mit dieser identifiziert. Die junge und dynamische Unternehmensstruktur passt sehr zu meiner Person. Auch die Lokalität in Augsburg ist sehr günstig und erspart mir das Suchen neuer Wohnungen.'"
     },
     "metadata": {}
    },
    {
     "output_type": "display_data",
     "data": {
      "text/plain": "7"
     },
     "metadata": {}
    },
    {
     "output_type": "display_data",
     "data": {
      "text/plain": "'UI Designer at Freshcells was asked...'"
     },
     "metadata": {}
    },
    {
     "output_type": "display_data",
     "data": {
      "text/plain": "'general discussion about UI/UX topic, describe your process & why you want to join the company.'"
     },
     "metadata": {}
    },
    {
     "output_type": "display_data",
     "data": {
      "text/plain": "'the default answers will do.'"
     },
     "metadata": {}
    },
    {
     "output_type": "display_data",
     "data": {
      "text/plain": "8"
     },
     "metadata": {}
    },
    {
     "output_type": "display_data",
     "data": {
      "text/plain": "'UI Designer at smava was asked...'"
     },
     "metadata": {}
    },
    {
     "output_type": "display_data",
     "data": {
      "text/plain": "'No questions at all in the process. They just sent me task to do.'"
     },
     "metadata": {}
    },
    {
     "output_type": "display_data",
     "data": {
      "text/plain": "'was it a difficult test? how was the test going'"
     },
     "metadata": {}
    },
    {
     "output_type": "display_data",
     "data": {
      "text/plain": "9"
     },
     "metadata": {}
    },
    {
     "output_type": "display_data",
     "data": {
      "text/plain": "'Senior UX/UI Designer at Circ was asked...'"
     },
     "metadata": {}
    },
    {
     "output_type": "display_data",
     "data": {
      "text/plain": "'Why I want to work at Circ?'"
     },
     "metadata": {}
    },
    {
     "output_type": "display_data",
     "data": {
      "text/plain": "'My Background and Experience'"
     },
     "metadata": {}
    },
    {
     "output_type": "display_data",
     "data": {
      "text/plain": "10"
     },
     "metadata": {}
    },
    {
     "output_type": "display_data",
     "data": {
      "text/plain": "'UI/User Experience Designer at N26 was asked...'"
     },
     "metadata": {}
    },
    {
     "output_type": "display_data",
     "data": {
      "text/plain": "'The case project'"
     },
     "metadata": {}
    },
    {
     "output_type": "display_data",
     "data": {
      "text/plain": "'I refused.'"
     },
     "metadata": {}
    },
    {
     "output_type": "display_data",
     "data": {
      "text/plain": "11"
     },
     "metadata": {}
    },
    {
     "output_type": "display_data",
     "data": {
      "text/plain": "'Junior UI/UX Designer at Enersis was asked...'"
     },
     "metadata": {}
    },
    {
     "output_type": "display_data",
     "data": {
      "text/plain": "'Wieso sollten wir dich nicht einstellen?'"
     },
     "metadata": {}
    },
    {
     "output_type": "display_data",
     "data": {
      "text/plain": "'No answer'"
     },
     "metadata": {}
    },
    {
     "output_type": "display_data",
     "data": {
      "text/plain": "12"
     },
     "metadata": {}
    },
    {
     "output_type": "display_data",
     "data": {
      "text/plain": "'Product Designer UI/User Experience at viasto was asked...'"
     },
     "metadata": {}
    },
    {
     "output_type": "display_data",
     "data": {
      "text/plain": "\"Why do you want to move to berlin? Don't you think this design is repetitive? How do you keep yourself updated with the design trends?\""
     },
     "metadata": {}
    },
    {
     "output_type": "display_data",
     "data": {
      "text/plain": "'No answer'"
     },
     "metadata": {}
    },
    {
     "output_type": "display_data",
     "data": {
      "text/plain": "13"
     },
     "metadata": {}
    },
    {
     "output_type": "display_data",
     "data": {
      "text/plain": "'UI Designer at Zizoo was asked...'"
     },
     "metadata": {}
    },
    {
     "output_type": "display_data",
     "data": {
      "text/plain": "'Why should we hire you? What is your salary expectation? The notice period'"
     },
     "metadata": {}
    },
    {
     "output_type": "display_data",
     "data": {
      "text/plain": "'No answer'"
     },
     "metadata": {}
    },
    {
     "output_type": "display_data",
     "data": {
      "text/plain": "14"
     },
     "metadata": {}
    },
    {
     "output_type": "display_data",
     "data": {
      "text/plain": "'User Experience/UI Designer at payever was asked...'"
     },
     "metadata": {}
    },
    {
     "output_type": "display_data",
     "data": {
      "text/plain": "'Are you clued up on inclusive UX? Do you know how to design for ALL users? Tell us about your UX workflow and the success rate so far'"
     },
     "metadata": {}
    },
    {
     "output_type": "display_data",
     "data": {
      "text/plain": "'No answer'"
     },
     "metadata": {}
    },
    {
     "output_type": "display_data",
     "data": {
      "text/plain": "15"
     },
     "metadata": {}
    },
    {
     "output_type": "display_data",
     "data": {
      "text/plain": "'Sen UI Designer at ePages was asked...'"
     },
     "metadata": {}
    },
    {
     "output_type": "display_data",
     "data": {
      "text/plain": "'About your background, technical knowledge and talking to position details.'"
     },
     "metadata": {}
    },
    {
     "output_type": "display_data",
     "data": {
      "text/plain": "'No answer'"
     },
     "metadata": {}
    },
    {
     "output_type": "display_data",
     "data": {
      "text/plain": "16"
     },
     "metadata": {}
    },
    {
     "output_type": "display_data",
     "data": {
      "text/plain": "'UI-UX Designer at BCG Digital Ventures was asked...'"
     },
     "metadata": {}
    },
    {
     "output_type": "display_data",
     "data": {
      "text/plain": "'salary expectation'"
     },
     "metadata": {}
    },
    {
     "output_type": "display_data",
     "data": {
      "text/plain": "'No answer'"
     },
     "metadata": {}
    },
    {
     "output_type": "display_data",
     "data": {
      "text/plain": "17"
     },
     "metadata": {}
    },
    {
     "output_type": "display_data",
     "data": {
      "text/plain": "'Senior UI/User Experience Product Designer at Avira was asked...'"
     },
     "metadata": {}
    },
    {
     "output_type": "display_data",
     "data": {
      "text/plain": "'Mostly on UX processes from previous experiences.'"
     },
     "metadata": {}
    },
    {
     "output_type": "display_data",
     "data": {
      "text/plain": "'No answer'"
     },
     "metadata": {}
    },
    {
     "output_type": "display_data",
     "data": {
      "text/plain": "18"
     },
     "metadata": {}
    },
    {
     "output_type": "display_data",
     "data": {
      "text/plain": "'UI/User Experience Designer at McMakler was asked...'"
     },
     "metadata": {}
    },
    {
     "output_type": "display_data",
     "data": {
      "text/plain": "'Standard questions'"
     },
     "metadata": {}
    },
    {
     "output_type": "display_data",
     "data": {
      "text/plain": "'No answer'"
     },
     "metadata": {}
    },
    {
     "output_type": "display_data",
     "data": {
      "text/plain": "19"
     },
     "metadata": {}
    },
    {
     "output_type": "display_data",
     "data": {
      "text/plain": "'UI-UX Designer at zenloop was asked...'"
     },
     "metadata": {}
    },
    {
     "output_type": "display_data",
     "data": {
      "text/plain": "'about your experiences and how we can work together. what are your motivations? how can you contribute with the company what are your goals in the next years'"
     },
     "metadata": {}
    },
    {
     "output_type": "display_data",
     "data": {
      "text/plain": "'No answer'"
     },
     "metadata": {}
    },
    {
     "output_type": "display_data",
     "data": {
      "text/plain": "20"
     },
     "metadata": {}
    },
    {
     "output_type": "display_data",
     "data": {
      "text/plain": "'UX-UI Designer at AppLike Group was asked...'"
     },
     "metadata": {}
    },
    {
     "output_type": "display_data",
     "data": {
      "text/plain": "'Typical HR and some technical questions'"
     },
     "metadata": {}
    },
    {
     "output_type": "display_data",
     "data": {
      "text/plain": "'No answer'"
     },
     "metadata": {}
    },
    {
     "output_type": "display_data",
     "data": {
      "text/plain": "21"
     },
     "metadata": {}
    },
    {
     "output_type": "display_data",
     "data": {
      "text/plain": "'User Experience/UI Designer at HelloFresh was asked...'"
     },
     "metadata": {}
    },
    {
     "output_type": "display_data",
     "data": {
      "text/plain": "'Salary/availability? Why Hello Fresh?'"
     },
     "metadata": {}
    },
    {
     "output_type": "display_data",
     "data": {
      "text/plain": "'No answer'"
     },
     "metadata": {}
    },
    {
     "output_type": "display_data",
     "data": {
      "text/plain": "22"
     },
     "metadata": {}
    },
    {
     "output_type": "display_data",
     "data": {
      "text/plain": "'UI-UX Designer at Blinkist was asked...'"
     },
     "metadata": {}
    },
    {
     "output_type": "display_data",
     "data": {
      "text/plain": "'From what you understand from the job missions why would you be ready to tackle them.'"
     },
     "metadata": {}
    },
    {
     "output_type": "display_data",
     "data": {
      "text/plain": "'No answer'"
     },
     "metadata": {}
    },
    {
     "output_type": "display_data",
     "data": {
      "text/plain": "23"
     },
     "metadata": {}
    },
    {
     "output_type": "display_data",
     "data": {
      "text/plain": "'UI Designer at Kolibri Games was asked...'"
     },
     "metadata": {}
    },
    {
     "output_type": "display_data",
     "data": {
      "text/plain": "'What is your favorite game?'"
     },
     "metadata": {}
    },
    {
     "output_type": "display_data",
     "data": {
      "text/plain": "'No answer'"
     },
     "metadata": {}
    },
    {
     "output_type": "display_data",
     "data": {
      "text/plain": "24"
     },
     "metadata": {}
    },
    {
     "output_type": "display_data",
     "data": {
      "text/plain": "'User Experience/UI Designer at optile was asked...'"
     },
     "metadata": {}
    },
    {
     "output_type": "display_data",
     "data": {
      "text/plain": "'There were a lot of different questions, so it is difficult to choose just few of them. I was asked about myself, my interests, my education, work experience and so much more. There were a lot of practical questions related to particular tasks which I may face in future on this position, which obviously required more time.'"
     },
     "metadata": {}
    },
    {
     "output_type": "display_data",
     "data": {
      "text/plain": "'No answer'"
     },
     "metadata": {}
    },
    {
     "output_type": "display_data",
     "data": {
      "text/plain": "25"
     },
     "metadata": {}
    },
    {
     "output_type": "display_data",
     "data": {
      "text/plain": "'UI/UX Designer at fromAtoB was asked...'"
     },
     "metadata": {}
    },
    {
     "output_type": "display_data",
     "data": {
      "text/plain": "'What gets you going in the morning?'"
     },
     "metadata": {}
    },
    {
     "output_type": "display_data",
     "data": {
      "text/plain": "'No answer'"
     },
     "metadata": {}
    },
    {
     "output_type": "display_data",
     "data": {
      "text/plain": "26"
     },
     "metadata": {}
    },
    {
     "output_type": "display_data",
     "data": {
      "text/plain": "'UI-UX Designer at Cornelsen Schulverlage was asked...'"
     },
     "metadata": {}
    },
    {
     "output_type": "display_data",
     "data": {
      "text/plain": "'Explain your portfolio and many activities'"
     },
     "metadata": {}
    },
    {
     "output_type": "display_data",
     "data": {
      "text/plain": "'No answer'"
     },
     "metadata": {}
    },
    {
     "output_type": "display_data",
     "data": {
      "text/plain": "27"
     },
     "metadata": {}
    },
    {
     "output_type": "display_data",
     "data": {
      "text/plain": "'Junior UI/UX Designer at Enersis was asked...'"
     },
     "metadata": {}
    },
    {
     "output_type": "display_data",
     "data": {
      "text/plain": "'Wie viel Kontrolle hast du über dein Leben, in Prozent?'"
     },
     "metadata": {}
    },
    {
     "output_type": "display_data",
     "data": {
      "text/plain": "'No answer'"
     },
     "metadata": {}
    },
    {
     "output_type": "display_data",
     "data": {
      "text/plain": "28"
     },
     "metadata": {}
    },
    {
     "output_type": "display_data",
     "data": {
      "text/plain": "'UI-UX Designer at Tracks (Germany) was asked...'"
     },
     "metadata": {}
    },
    {
     "output_type": "display_data",
     "data": {
      "text/plain": "'Each rounds had different sets of interview questions.'"
     },
     "metadata": {}
    },
    {
     "output_type": "display_data",
     "data": {
      "text/plain": "'No answer'"
     },
     "metadata": {}
    },
    {
     "output_type": "display_data",
     "data": {
      "text/plain": "29"
     },
     "metadata": {}
    },
    {
     "output_type": "display_data",
     "data": {
      "text/plain": "'UI/User Experience Designer IOS Team at FlixBus was asked...'"
     },
     "metadata": {}
    },
    {
     "output_type": "display_data",
     "data": {
      "text/plain": "'What value would you add to FLIXBUS?'"
     },
     "metadata": {}
    },
    {
     "output_type": "display_data",
     "data": {
      "text/plain": "'No answer'"
     },
     "metadata": {}
    },
    {
     "output_type": "display_data",
     "data": {
      "text/plain": "30"
     },
     "metadata": {}
    },
    {
     "output_type": "display_data",
     "data": {
      "text/plain": "'UI/UX Designer at KKLD* was asked...'"
     },
     "metadata": {}
    },
    {
     "output_type": "display_data",
     "data": {
      "text/plain": "'They reviews my portfolio and kindly requested for more relevant materials to be sent over email without cutting the interview off'"
     },
     "metadata": {}
    },
    {
     "output_type": "display_data",
     "data": {
      "text/plain": "'No answer'"
     },
     "metadata": {}
    },
    {
     "output_type": "display_data",
     "data": {
      "text/plain": "31"
     },
     "metadata": {}
    },
    {
     "output_type": "display_data",
     "data": {
      "text/plain": "'UI Designer at Fleetster was asked...'"
     },
     "metadata": {}
    },
    {
     "output_type": "display_data",
     "data": {
      "text/plain": "\"We are a small company. Is this something you're looking for? are you ok with that?\""
     },
     "metadata": {}
    },
    {
     "output_type": "display_data",
     "data": {
      "text/plain": "'No answer'"
     },
     "metadata": {}
    },
    {
     "output_type": "display_data",
     "data": {
      "text/plain": "32"
     },
     "metadata": {}
    },
    {
     "output_type": "display_data",
     "data": {
      "text/plain": "'UI Designer at Fleetster was asked...'"
     },
     "metadata": {}
    },
    {
     "output_type": "display_data",
     "data": {
      "text/plain": "'Why are you looking to work in Germany (and particularly, Munich)? Have you been here before? what did you like about it?'"
     },
     "metadata": {}
    },
    {
     "output_type": "display_data",
     "data": {
      "text/plain": "'No answer'"
     },
     "metadata": {}
    },
    {
     "output_type": "display_data",
     "data": {
      "text/plain": "33"
     },
     "metadata": {}
    },
    {
     "output_type": "display_data",
     "data": {
      "text/plain": "'UI Designer at Fleetster was asked...'"
     },
     "metadata": {}
    },
    {
     "output_type": "display_data",
     "data": {
      "text/plain": "'Why do you want to join fleetster?'"
     },
     "metadata": {}
    },
    {
     "output_type": "display_data",
     "data": {
      "text/plain": "'No answer'"
     },
     "metadata": {}
    },
    {
     "output_type": "display_data",
     "data": {
      "text/plain": "34"
     },
     "metadata": {}
    },
    {
     "output_type": "display_data",
     "data": {
      "text/plain": "'UI-UX Designer at homify was asked...'"
     },
     "metadata": {}
    },
    {
     "output_type": "display_data",
     "data": {
      "text/plain": "'How do you get updated in ux/ui? Your process'"
     },
     "metadata": {}
    },
    {
     "output_type": "display_data",
     "data": {
      "text/plain": "'No answer'"
     },
     "metadata": {}
    },
    {
     "output_type": "display_data",
     "data": {
      "text/plain": "35"
     },
     "metadata": {}
    },
    {
     "output_type": "display_data",
     "data": {
      "text/plain": "'UI-UX Designer at HelloFresh was asked...'"
     },
     "metadata": {}
    },
    {
     "output_type": "display_data",
     "data": {
      "text/plain": "'Please tell me more about one of the past projects.'"
     },
     "metadata": {}
    },
    {
     "output_type": "display_data",
     "data": {
      "text/plain": "'No answer'"
     },
     "metadata": {}
    },
    {
     "output_type": "display_data",
     "data": {
      "text/plain": "36"
     },
     "metadata": {}
    },
    {
     "output_type": "display_data",
     "data": {
      "text/plain": "'Junior UI Designer at Gymondo was asked...'"
     },
     "metadata": {}
    },
    {
     "output_type": "display_data",
     "data": {
      "text/plain": "'What is the project you are proud of the most?'"
     },
     "metadata": {}
    },
    {
     "output_type": "display_data",
     "data": {
      "text/plain": "'No answer'"
     },
     "metadata": {}
    },
    {
     "output_type": "display_data",
     "data": {
      "text/plain": "37"
     },
     "metadata": {}
    },
    {
     "output_type": "display_data",
     "data": {
      "text/plain": "'Senior UI Designer at Lingoda was asked...'"
     },
     "metadata": {}
    },
    {
     "output_type": "display_data",
     "data": {
      "text/plain": "'Not applicable, see the above process.'"
     },
     "metadata": {}
    },
    {
     "output_type": "display_data",
     "data": {
      "text/plain": "'No answer'"
     },
     "metadata": {}
    },
    {
     "output_type": "display_data",
     "data": {
      "text/plain": "38"
     },
     "metadata": {}
    },
    {
     "output_type": "display_data",
     "data": {
      "text/plain": "'UI-UX Designer at idealo internet was asked...'"
     },
     "metadata": {}
    },
    {
     "output_type": "display_data",
     "data": {
      "text/plain": "'Hinterfragung der eigenen Motivation und bisheriger Werdegang. Fragen zur Aufgabenstellung sowie typische HR als auch ausgefallene Superhelden Fragen.'"
     },
     "metadata": {}
    },
    {
     "output_type": "display_data",
     "data": {
      "text/plain": "'No answer'"
     },
     "metadata": {}
    },
    {
     "output_type": "display_data",
     "data": {
      "text/plain": "39"
     },
     "metadata": {}
    },
    {
     "output_type": "display_data",
     "data": {
      "text/plain": "'UI Designer at Kolibri Games was asked...'"
     },
     "metadata": {}
    },
    {
     "output_type": "display_data",
     "data": {
      "text/plain": "'Can you tell me the names of the current Kolibri games?'"
     },
     "metadata": {}
    },
    {
     "output_type": "display_data",
     "data": {
      "text/plain": "'No answer'"
     },
     "metadata": {}
    },
    {
     "output_type": "display_data",
     "data": {
      "text/plain": "40"
     },
     "metadata": {}
    },
    {
     "output_type": "display_data",
     "data": {
      "text/plain": "'UI Designer at Kolibri Games was asked...'"
     },
     "metadata": {}
    },
    {
     "output_type": "display_data",
     "data": {
      "text/plain": "'Which game tutorial did you like?'"
     },
     "metadata": {}
    },
    {
     "output_type": "display_data",
     "data": {
      "text/plain": "'No answer'"
     },
     "metadata": {}
    },
    {
     "output_type": "display_data",
     "data": {
      "text/plain": "41"
     },
     "metadata": {}
    },
    {
     "output_type": "display_data",
     "data": {
      "text/plain": "'Junior User Experience/UI Designer at Capgemini was asked...'"
     },
     "metadata": {}
    },
    {
     "output_type": "display_data",
     "data": {
      "text/plain": "'What is the difference between User Personas and User Research? What are the steps in the Design Thinking Process?'"
     },
     "metadata": {}
    },
    {
     "output_type": "display_data",
     "data": {
      "text/plain": "'No answer'"
     },
     "metadata": {}
    },
    {
     "output_type": "display_data",
     "data": {
      "text/plain": "42"
     },
     "metadata": {}
    },
    {
     "output_type": "display_data",
     "data": {
      "text/plain": "'UI Designer at iconmobile was asked...'"
     },
     "metadata": {}
    },
    {
     "output_type": "display_data",
     "data": {
      "text/plain": "'Standard questions'"
     },
     "metadata": {}
    },
    {
     "output_type": "display_data",
     "data": {
      "text/plain": "'No answer'"
     },
     "metadata": {}
    },
    {
     "output_type": "display_data",
     "data": {
      "text/plain": "43"
     },
     "metadata": {}
    },
    {
     "output_type": "display_data",
     "data": {
      "text/plain": "'UI/UX Designer at 1aim was asked...'"
     },
     "metadata": {}
    },
    {
     "output_type": "display_data",
     "data": {
      "text/plain": "'UX methodologies, design thinking, ideas about 1aim product & ecosystem'"
     },
     "metadata": {}
    },
    {
     "output_type": "display_data",
     "data": {
      "text/plain": "'No answer'"
     },
     "metadata": {}
    },
    {
     "output_type": "display_data",
     "data": {
      "text/plain": "44"
     },
     "metadata": {}
    },
    {
     "output_type": "display_data",
     "data": {
      "text/plain": "'Senior User Experience/UI Designer at foodspring was asked...'"
     },
     "metadata": {}
    },
    {
     "output_type": "display_data",
     "data": {
      "text/plain": "'The task was about coming up with UX improvements for two pages of their e-commerce in order to solve some performance issues.'"
     },
     "metadata": {}
    },
    {
     "output_type": "display_data",
     "data": {
      "text/plain": "'No answer'"
     },
     "metadata": {}
    },
    {
     "output_type": "display_data",
     "data": {
      "text/plain": "45"
     },
     "metadata": {}
    },
    {
     "output_type": "display_data",
     "data": {
      "text/plain": "'UI/UX Designer at Me & Company was asked...'"
     },
     "metadata": {}
    },
    {
     "output_type": "display_data",
     "data": {
      "text/plain": "'Was erwarten Sie von uns?'"
     },
     "metadata": {}
    },
    {
     "output_type": "display_data",
     "data": {
      "text/plain": "'No answer'"
     },
     "metadata": {}
    },
    {
     "output_type": "display_data",
     "data": {
      "text/plain": "46"
     },
     "metadata": {}
    },
    {
     "output_type": "display_data",
     "data": {
      "text/plain": "'UI/UX Designer at Me & Company was asked...'"
     },
     "metadata": {}
    },
    {
     "output_type": "display_data",
     "data": {
      "text/plain": "'Was stellen Sie sich für ein Gehalt vor?'"
     },
     "metadata": {}
    },
    {
     "output_type": "display_data",
     "data": {
      "text/plain": "'No answer'"
     },
     "metadata": {}
    },
    {
     "output_type": "display_data",
     "data": {
      "text/plain": "47"
     },
     "metadata": {}
    },
    {
     "output_type": "display_data",
     "data": {
      "text/plain": "'Senior UX/UI Designer at Limehome was asked...'"
     },
     "metadata": {}
    },
    {
     "output_type": "display_data",
     "data": {
      "text/plain": "'Questions about: Work Experiences, Background, Case study, Technical questions.'"
     },
     "metadata": {}
    },
    {
     "output_type": "display_data",
     "data": {
      "text/plain": "'No answer'"
     },
     "metadata": {}
    },
    {
     "output_type": "display_data",
     "data": {
      "text/plain": "48"
     },
     "metadata": {}
    },
    {
     "output_type": "display_data",
     "data": {
      "text/plain": "'UI-UX Designer at Mobimeo was asked...'"
     },
     "metadata": {}
    },
    {
     "output_type": "display_data",
     "data": {
      "text/plain": "\"I got asked lots of relevant questions while I was presenting the portfolio. Another thing they ask was how do I work with POs and developers. I didn't get ask unexpected or difficult questions\""
     },
     "metadata": {}
    },
    {
     "output_type": "display_data",
     "data": {
      "text/plain": "'No answer'"
     },
     "metadata": {}
    },
    {
     "output_type": "display_data",
     "data": {
      "text/plain": "49"
     },
     "metadata": {}
    },
    {
     "output_type": "display_data",
     "data": {
      "text/plain": "'UI Designer at Mobimeo was asked...'"
     },
     "metadata": {}
    },
    {
     "output_type": "display_data",
     "data": {
      "text/plain": "'Design process'"
     },
     "metadata": {}
    },
    {
     "output_type": "display_data",
     "data": {
      "text/plain": "'No answer'"
     },
     "metadata": {}
    },
    {
     "output_type": "display_data",
     "data": {
      "text/plain": "50"
     },
     "metadata": {}
    },
    {
     "output_type": "display_data",
     "data": {
      "text/plain": "'Ui\\\\Ux Designer at Blacklane was asked...'"
     },
     "metadata": {}
    },
    {
     "output_type": "display_data",
     "data": {
      "text/plain": "'The questions ranged from general organizational questions to more technical questions about the design process.'"
     },
     "metadata": {}
    },
    {
     "output_type": "display_data",
     "data": {
      "text/plain": "'No answer'"
     },
     "metadata": {}
    },
    {
     "output_type": "display_data",
     "data": {
      "text/plain": "51"
     },
     "metadata": {}
    },
    {
     "output_type": "display_data",
     "data": {
      "text/plain": "'Junior UI Designer at Gymondo was asked...'"
     },
     "metadata": {}
    },
    {
     "output_type": "display_data",
     "data": {
      "text/plain": "'What apps do you use the most?'"
     },
     "metadata": {}
    },
    {
     "output_type": "display_data",
     "data": {
      "text/plain": "'No answer'"
     },
     "metadata": {}
    },
    {
     "output_type": "display_data",
     "data": {
      "text/plain": "52"
     },
     "metadata": {}
    },
    {
     "output_type": "display_data",
     "data": {
      "text/plain": "'Junior UI Designer at Gymondo was asked...'"
     },
     "metadata": {}
    },
    {
     "output_type": "display_data",
     "data": {
      "text/plain": "'What do you value the most in the work environment?'"
     },
     "metadata": {}
    },
    {
     "output_type": "display_data",
     "data": {
      "text/plain": "'No answer'"
     },
     "metadata": {}
    },
    {
     "output_type": "display_data",
     "data": {
      "text/plain": "53"
     },
     "metadata": {}
    },
    {
     "output_type": "display_data",
     "data": {
      "text/plain": "'Junior UI Designer at Gymondo was asked...'"
     },
     "metadata": {}
    },
    {
     "output_type": "display_data",
     "data": {
      "text/plain": "'How do you organize your work?'"
     },
     "metadata": {}
    },
    {
     "output_type": "display_data",
     "data": {
      "text/plain": "'No answer'"
     },
     "metadata": {}
    },
    {
     "output_type": "display_data",
     "data": {
      "text/plain": "54"
     },
     "metadata": {}
    },
    {
     "output_type": "display_data",
     "data": {
      "text/plain": "'UI Designer at The Jodel Venture was asked...'"
     },
     "metadata": {}
    },
    {
     "output_type": "display_data",
     "data": {
      "text/plain": "'Welche Erfahrungen konntest du bisher sammeln? Was ist das verrückteste was du innerhalb des letzten Jahres gemacht hast? Was bedeutet Glück für dich?'"
     },
     "metadata": {}
    },
    {
     "output_type": "display_data",
     "data": {
      "text/plain": "'No answer'"
     },
     "metadata": {}
    },
    {
     "output_type": "display_data",
     "data": {
      "text/plain": "55"
     },
     "metadata": {}
    },
    {
     "output_type": "display_data",
     "data": {
      "text/plain": "'UI-UX Designer at Future Voice was asked...'"
     },
     "metadata": {}
    },
    {
     "output_type": "display_data",
     "data": {
      "text/plain": "'Was war dein Beweggrund für deinen Karrierewechsel.'"
     },
     "metadata": {}
    },
    {
     "output_type": "display_data",
     "data": {
      "text/plain": "'No answer'"
     },
     "metadata": {}
    },
    {
     "output_type": "display_data",
     "data": {
      "text/plain": "56"
     },
     "metadata": {}
    },
    {
     "output_type": "display_data",
     "data": {
      "text/plain": "'UI/UX Designer at Me & Company was asked...'"
     },
     "metadata": {}
    },
    {
     "output_type": "display_data",
     "data": {
      "text/plain": "'Was macht Sie beruflich aus?'"
     },
     "metadata": {}
    },
    {
     "output_type": "display_data",
     "data": {
      "text/plain": "'No answer'"
     },
     "metadata": {}
    },
    {
     "output_type": "display_data",
     "data": {
      "text/plain": "57"
     },
     "metadata": {}
    },
    {
     "output_type": "display_data",
     "data": {
      "text/plain": "'Ui\\\\Ux Designer at HQ Revenue was asked...'"
     },
     "metadata": {}
    },
    {
     "output_type": "display_data",
     "data": {
      "text/plain": "'The questions asked were about my working process and relating to my assignment and previous experience working as a UX / UI Designer.'"
     },
     "metadata": {}
    },
    {
     "output_type": "display_data",
     "data": {
      "text/plain": "'No answer'"
     },
     "metadata": {}
    },
    {
     "output_type": "display_data",
     "data": {
      "text/plain": "58"
     },
     "metadata": {}
    },
    {
     "output_type": "display_data",
     "data": {
      "text/plain": "'UI/User Experience Designer IOS Team at FlixBus was asked...'"
     },
     "metadata": {}
    },
    {
     "output_type": "display_data",
     "data": {
      "text/plain": "'Tell us about your work flow process'"
     },
     "metadata": {}
    },
    {
     "output_type": "display_data",
     "data": {
      "text/plain": "'No answer'"
     },
     "metadata": {}
    },
    {
     "output_type": "display_data",
     "data": {
      "text/plain": "59"
     },
     "metadata": {}
    },
    {
     "output_type": "display_data",
     "data": {
      "text/plain": "'UI Designer at Fleetster was asked...'"
     },
     "metadata": {}
    },
    {
     "output_type": "display_data",
     "data": {
      "text/plain": "'Why UX and UI are separate? what differences are there between them?'"
     },
     "metadata": {}
    },
    {
     "output_type": "display_data",
     "data": {
      "text/plain": "'No answer'"
     },
     "metadata": {}
    },
    {
     "output_type": "display_data",
     "data": {
      "text/plain": "60"
     },
     "metadata": {}
    },
    {
     "output_type": "display_data",
     "data": {
      "text/plain": "'UI/User Experience Designer at NewStore was asked...'"
     },
     "metadata": {}
    },
    {
     "output_type": "display_data",
     "data": {
      "text/plain": "'They asked me about my prior experience, work history, vision, design ideology and some personal questions in regards to hobbies etc. It was a very smooth process.'"
     },
     "metadata": {}
    },
    {
     "output_type": "display_data",
     "data": {
      "text/plain": "'No answer'"
     },
     "metadata": {}
    },
    {
     "output_type": "display_data",
     "data": {
      "text/plain": "61"
     },
     "metadata": {}
    },
    {
     "output_type": "display_data",
     "data": {
      "text/plain": "'UI/UX Designer at 99chairs was asked...'"
     },
     "metadata": {}
    },
    {
     "output_type": "display_data",
     "data": {
      "text/plain": "'What is my process during UX part?'"
     },
     "metadata": {}
    },
    {
     "output_type": "display_data",
     "data": {
      "text/plain": "'No answer'"
     },
     "metadata": {}
    },
    {
     "output_type": "display_data",
     "data": {
      "text/plain": "62"
     },
     "metadata": {}
    },
    {
     "output_type": "display_data",
     "data": {
      "text/plain": "'UI-UX Designer at TDSoftware was asked...'"
     },
     "metadata": {}
    },
    {
     "output_type": "display_data",
     "data": {
      "text/plain": "'Warum hast du dich für diese Stelle beworben?'"
     },
     "metadata": {}
    },
    {
     "output_type": "display_data",
     "data": {
      "text/plain": "'No answer'"
     },
     "metadata": {}
    },
    {
     "output_type": "display_data",
     "data": {
      "text/plain": "63"
     },
     "metadata": {}
    },
    {
     "output_type": "display_data",
     "data": {
      "text/plain": "'UI Designer at CHECK24 was asked...'"
     },
     "metadata": {}
    },
    {
     "output_type": "display_data",
     "data": {
      "text/plain": "'Welche UX/UI-relevanten Skills hast du aus deinen vorherigen Stationen mitgenommen?'"
     },
     "metadata": {}
    },
    {
     "output_type": "display_data",
     "data": {
      "text/plain": "'No answer'"
     },
     "metadata": {}
    },
    {
     "output_type": "display_data",
     "data": {
      "text/plain": "64"
     },
     "metadata": {}
    },
    {
     "output_type": "display_data",
     "data": {
      "text/plain": "'UI/User Experience Designer at HelloFresh was asked...'"
     },
     "metadata": {}
    },
    {
     "output_type": "display_data",
     "data": {
      "text/plain": "'Standard initial phone screen questions'"
     },
     "metadata": {}
    },
    {
     "output_type": "display_data",
     "data": {
      "text/plain": "'No answer'"
     },
     "metadata": {}
    },
    {
     "output_type": "display_data",
     "data": {
      "text/plain": "65"
     },
     "metadata": {}
    },
    {
     "output_type": "display_data",
     "data": {
      "text/plain": "'User Experience UI Designer at HelloFresh was asked...'"
     },
     "metadata": {}
    },
    {
     "output_type": "display_data",
     "data": {
      "text/plain": "'How would you design a new feature or redesign an existing feature for our current mobile app?'"
     },
     "metadata": {}
    },
    {
     "output_type": "display_data",
     "data": {
      "text/plain": "'No answer'"
     },
     "metadata": {}
    },
    {
     "output_type": "display_data",
     "data": {
      "text/plain": "66"
     },
     "metadata": {}
    },
    {
     "output_type": "display_data",
     "data": {
      "text/plain": "'UI-UX Designer at HelloFresh was asked...'"
     },
     "metadata": {}
    },
    {
     "output_type": "display_data",
     "data": {
      "text/plain": "'Why do you want to work for Hello Fresh?'"
     },
     "metadata": {}
    },
    {
     "output_type": "display_data",
     "data": {
      "text/plain": "'No answer'"
     },
     "metadata": {}
    },
    {
     "output_type": "display_data",
     "data": {
      "text/plain": "67"
     },
     "metadata": {}
    },
    {
     "output_type": "display_data",
     "data": {
      "text/plain": "'UI/UX Designer at Global Savings Group was asked...'"
     },
     "metadata": {}
    },
    {
     "output_type": "display_data",
     "data": {
      "text/plain": "'What was the most interesting project in your work experience?'"
     },
     "metadata": {}
    },
    {
     "output_type": "display_data",
     "data": {
      "text/plain": "'No answer'"
     },
     "metadata": {}
    },
    {
     "output_type": "display_data",
     "data": {
      "text/plain": "68"
     },
     "metadata": {}
    },
    {
     "output_type": "display_data",
     "data": {
      "text/plain": "'Junior UI Designer at Gymondo was asked...'"
     },
     "metadata": {}
    },
    {
     "output_type": "display_data",
     "data": {
      "text/plain": "'Tell me more about your experience?'"
     },
     "metadata": {}
    },
    {
     "output_type": "display_data",
     "data": {
      "text/plain": "'No answer'"
     },
     "metadata": {}
    },
    {
     "output_type": "display_data",
     "data": {
      "text/plain": "69"
     },
     "metadata": {}
    },
    {
     "output_type": "display_data",
     "data": {
      "text/plain": "'UI/UX Designer at Robert Bosch was asked...'"
     },
     "metadata": {}
    },
    {
     "output_type": "display_data",
     "data": {
      "text/plain": "'Atomic Design? Aktuelle und vergangene Projekte? Tools?'"
     },
     "metadata": {}
    },
    {
     "output_type": "display_data",
     "data": {
      "text/plain": "'No answer'"
     },
     "metadata": {}
    },
    {
     "output_type": "display_data",
     "data": {
      "text/plain": "70"
     },
     "metadata": {}
    },
    {
     "output_type": "display_data",
     "data": {
      "text/plain": "'UI Designer at Kolibri Games was asked...'"
     },
     "metadata": {}
    },
    {
     "output_type": "display_data",
     "data": {
      "text/plain": "'How many hours do you spend for gaming?'"
     },
     "metadata": {}
    },
    {
     "output_type": "display_data",
     "data": {
      "text/plain": "'No answer'"
     },
     "metadata": {}
    },
    {
     "output_type": "display_data",
     "data": {
      "text/plain": "71"
     },
     "metadata": {}
    },
    {
     "output_type": "display_data",
     "data": {
      "text/plain": "'Junior UI Designer at Gymondo was asked...'"
     },
     "metadata": {}
    },
    {
     "output_type": "display_data",
     "data": {
      "text/plain": "'Tell me more about your experience?'"
     },
     "metadata": {}
    },
    {
     "output_type": "display_data",
     "data": {
      "text/plain": "'No answer'"
     },
     "metadata": {}
    },
    {
     "output_type": "display_data",
     "data": {
      "text/plain": "72"
     },
     "metadata": {}
    },
    {
     "output_type": "display_data",
     "data": {
      "text/plain": "'UI Designer at Quandoo was asked...'"
     },
     "metadata": {}
    },
    {
     "output_type": "display_data",
     "data": {
      "text/plain": "'Design Process, tools used'"
     },
     "metadata": {}
    },
    {
     "output_type": "display_data",
     "data": {
      "text/plain": "'No answer'"
     },
     "metadata": {}
    },
    {
     "output_type": "display_data",
     "data": {
      "text/plain": "73"
     },
     "metadata": {}
    },
    {
     "output_type": "display_data",
     "data": {
      "text/plain": "'UI-UX Designer at DB Schenker was asked...'"
     },
     "metadata": {}
    },
    {
     "output_type": "display_data",
     "data": {
      "text/plain": "'- Can you introduce yourself? - How would you design this website? - What kind of residence do you have?'"
     },
     "metadata": {}
    },
    {
     "output_type": "display_data",
     "data": {
      "text/plain": "'No answer'"
     },
     "metadata": {}
    },
    {
     "output_type": "display_data",
     "data": {
      "text/plain": "74"
     },
     "metadata": {}
    },
    {
     "output_type": "display_data",
     "data": {
      "text/plain": "'UI-UX Designer at ShareTheMeal was asked...'"
     },
     "metadata": {}
    },
    {
     "output_type": "display_data",
     "data": {
      "text/plain": "'Questions were more related to my design desitions and workflow (methodologies, interface with developers, etc)'"
     },
     "metadata": {}
    },
    {
     "output_type": "display_data",
     "data": {
      "text/plain": "'No answer'"
     },
     "metadata": {}
    },
    {
     "output_type": "display_data",
     "data": {
      "text/plain": "75"
     },
     "metadata": {}
    },
    {
     "output_type": "display_data",
     "data": {
      "text/plain": "'UI Designer at Goodgame Studios was asked...'"
     },
     "metadata": {}
    },
    {
     "output_type": "display_data",
     "data": {
      "text/plain": "'Design UI for 5 new features.'"
     },
     "metadata": {}
    },
    {
     "output_type": "display_data",
     "data": {
      "text/plain": "'No answer'"
     },
     "metadata": {}
    },
    {
     "output_type": "display_data",
     "data": {
      "text/plain": "76"
     },
     "metadata": {}
    },
    {
     "output_type": "display_data",
     "data": {
      "text/plain": "'UI/User Experience Designer at Mine Safety Appliances was asked...'"
     },
     "metadata": {}
    },
    {
     "output_type": "display_data",
     "data": {
      "text/plain": "'how do you fill working with all men'"
     },
     "metadata": {}
    },
    {
     "output_type": "display_data",
     "data": {
      "text/plain": "'No answer'"
     },
     "metadata": {}
    },
    {
     "output_type": "display_data",
     "data": {
      "text/plain": "77"
     },
     "metadata": {}
    },
    {
     "output_type": "display_data",
     "data": {
      "text/plain": "'UI Designer at Wunder Mobility was asked...'"
     },
     "metadata": {}
    },
    {
     "output_type": "display_data",
     "data": {
      "text/plain": "'What is your strenth of designing.'"
     },
     "metadata": {}
    },
    {
     "output_type": "display_data",
     "data": {
      "text/plain": "'No answer'"
     },
     "metadata": {}
    },
    {
     "output_type": "display_data",
     "data": {
      "text/plain": "78"
     },
     "metadata": {}
    },
    {
     "output_type": "display_data",
     "data": {
      "text/plain": "'UI Designer at Mobimeo was asked...'"
     },
     "metadata": {}
    },
    {
     "output_type": "display_data",
     "data": {
      "text/plain": "'Recent project'"
     },
     "metadata": {}
    },
    {
     "output_type": "display_data",
     "data": {
      "text/plain": "'No answer'"
     },
     "metadata": {}
    },
    {
     "output_type": "display_data",
     "data": {
      "text/plain": "79"
     },
     "metadata": {}
    },
    {
     "output_type": "display_data",
     "data": {
      "text/plain": "'Junior UI Designer at Gymondo was asked...'"
     },
     "metadata": {}
    },
    {
     "output_type": "display_data",
     "data": {
      "text/plain": "'Have you already tried the Gymondo app?'"
     },
     "metadata": {}
    },
    {
     "output_type": "display_data",
     "data": {
      "text/plain": "'No answer'"
     },
     "metadata": {}
    },
    {
     "output_type": "display_data",
     "data": {
      "text/plain": "80"
     },
     "metadata": {}
    },
    {
     "output_type": "display_data",
     "data": {
      "text/plain": "'UI-UX Designer at Gymondo was asked...'"
     },
     "metadata": {}
    },
    {
     "output_type": "display_data",
     "data": {
      "text/plain": "\"What's your role in your current team?\""
     },
     "metadata": {}
    },
    {
     "output_type": "display_data",
     "data": {
      "text/plain": "'No answer'"
     },
     "metadata": {}
    },
    {
     "output_type": "display_data",
     "data": {
      "text/plain": "81"
     },
     "metadata": {}
    },
    {
     "output_type": "display_data",
     "data": {
      "text/plain": "'UI-UX Designer at Gymondo was asked...'"
     },
     "metadata": {}
    },
    {
     "output_type": "display_data",
     "data": {
      "text/plain": "\"What's your role in your current team?\""
     },
     "metadata": {}
    },
    {
     "output_type": "display_data",
     "data": {
      "text/plain": "'No answer'"
     },
     "metadata": {}
    },
    {
     "output_type": "display_data",
     "data": {
      "text/plain": "82"
     },
     "metadata": {}
    },
    {
     "output_type": "display_data",
     "data": {
      "text/plain": "'UI-UX Designer at Wunderflats was asked...'"
     },
     "metadata": {}
    },
    {
     "output_type": "display_data",
     "data": {
      "text/plain": "'What is your design process and how do you solve design problems?'"
     },
     "metadata": {}
    },
    {
     "output_type": "display_data",
     "data": {
      "text/plain": "'No answer'"
     },
     "metadata": {}
    },
    {
     "output_type": "display_data",
     "data": {
      "text/plain": "83"
     },
     "metadata": {}
    },
    {
     "output_type": "display_data",
     "data": {
      "text/plain": "'UI Designer at Quandoo was asked...'"
     },
     "metadata": {}
    },
    {
     "output_type": "display_data",
     "data": {
      "text/plain": "'A few simple questions'"
     },
     "metadata": {}
    },
    {
     "output_type": "display_data",
     "data": {
      "text/plain": "'No answer'"
     },
     "metadata": {}
    },
    {
     "output_type": "display_data",
     "data": {
      "text/plain": "84"
     },
     "metadata": {}
    },
    {
     "output_type": "display_data",
     "data": {
      "text/plain": "'UI Designer at Kolibri Games was asked...'"
     },
     "metadata": {}
    },
    {
     "output_type": "display_data",
     "data": {
      "text/plain": "'Superficial Questions about CV'"
     },
     "metadata": {}
    },
    {
     "output_type": "display_data",
     "data": {
      "text/plain": "'No answer'"
     },
     "metadata": {}
    },
    {
     "output_type": "display_data",
     "data": {
      "text/plain": "                                          job_company  \\\n0                UI Designer at scoutbee was asked...   \n1   UI-UX Designer at REBELLE - StyleRemains was a...   \n2   UI-UX Designer at Native Instruments was asked...   \n3   Senior UI/User Experience Designer at Native I...   \n4            UI-UX Designer at Solvemate was asked...   \n..                                                ...   \n79             UI-UX Designer at Gymondo was asked...   \n80             UI-UX Designer at Gymondo was asked...   \n81         UI-UX Designer at Wunderflats was asked...   \n82                UI Designer at Quandoo was asked...   \n83          UI Designer at Kolibri Games was asked...   \n\n                                            questions  \\\n0     Could you describe your typical design process?   \n1   What were your UI-UX responsibilities in your ...   \n2                   What do you expect from this job?   \n3   I've applied to a Senior UX/UI Designer positi...   \n4            Working for free on unpaid offsite tasks   \n..                                                ...   \n79             What's your role in your current team?   \n80             What's your role in your current team?   \n81  What is your design process and how do you sol...   \n82                             A few simple questions   \n83                     Superficial Questions about CV   \n\n                                              answers  country         area  \n0   I gave an in-depth walk-through of my typical ...  Germany  UI Designer  \n1           Design and usability of the Website......  Germany  UI Designer  \n2                 Designing interfaces and workflows.  Germany  UI Designer  \n3   I've answered that, since I had applied to a U...  Germany  UI Designer  \n4                                                  No  Germany  UI Designer  \n..                                                ...      ...          ...  \n79                                          No answer  Germany  UI Designer  \n80                                          No answer  Germany  UI Designer  \n81                                          No answer  Germany  UI Designer  \n82                                          No answer  Germany  UI Designer  \n83                                          No answer  Germany  UI Designer  \n\n[84 rows x 5 columns]",
      "text/html": "<div>\n<style scoped>\n    .dataframe tbody tr th:only-of-type {\n        vertical-align: middle;\n    }\n\n    .dataframe tbody tr th {\n        vertical-align: top;\n    }\n\n    .dataframe thead th {\n        text-align: right;\n    }\n</style>\n<table border=\"1\" class=\"dataframe\">\n  <thead>\n    <tr style=\"text-align: right;\">\n      <th></th>\n      <th>job_company</th>\n      <th>questions</th>\n      <th>answers</th>\n      <th>country</th>\n      <th>area</th>\n    </tr>\n  </thead>\n  <tbody>\n    <tr>\n      <th>0</th>\n      <td>UI Designer at scoutbee was asked...</td>\n      <td>Could you describe your typical design process?</td>\n      <td>I gave an in-depth walk-through of my typical ...</td>\n      <td>Germany</td>\n      <td>UI Designer</td>\n    </tr>\n    <tr>\n      <th>1</th>\n      <td>UI-UX Designer at REBELLE - StyleRemains was a...</td>\n      <td>What were your UI-UX responsibilities in your ...</td>\n      <td>Design and usability of the Website......</td>\n      <td>Germany</td>\n      <td>UI Designer</td>\n    </tr>\n    <tr>\n      <th>2</th>\n      <td>UI-UX Designer at Native Instruments was asked...</td>\n      <td>What do you expect from this job?</td>\n      <td>Designing interfaces and workflows.</td>\n      <td>Germany</td>\n      <td>UI Designer</td>\n    </tr>\n    <tr>\n      <th>3</th>\n      <td>Senior UI/User Experience Designer at Native I...</td>\n      <td>I've applied to a Senior UX/UI Designer positi...</td>\n      <td>I've answered that, since I had applied to a U...</td>\n      <td>Germany</td>\n      <td>UI Designer</td>\n    </tr>\n    <tr>\n      <th>4</th>\n      <td>UI-UX Designer at Solvemate was asked...</td>\n      <td>Working for free on unpaid offsite tasks</td>\n      <td>No</td>\n      <td>Germany</td>\n      <td>UI Designer</td>\n    </tr>\n    <tr>\n      <th>...</th>\n      <td>...</td>\n      <td>...</td>\n      <td>...</td>\n      <td>...</td>\n      <td>...</td>\n    </tr>\n    <tr>\n      <th>79</th>\n      <td>UI-UX Designer at Gymondo was asked...</td>\n      <td>What's your role in your current team?</td>\n      <td>No answer</td>\n      <td>Germany</td>\n      <td>UI Designer</td>\n    </tr>\n    <tr>\n      <th>80</th>\n      <td>UI-UX Designer at Gymondo was asked...</td>\n      <td>What's your role in your current team?</td>\n      <td>No answer</td>\n      <td>Germany</td>\n      <td>UI Designer</td>\n    </tr>\n    <tr>\n      <th>81</th>\n      <td>UI-UX Designer at Wunderflats was asked...</td>\n      <td>What is your design process and how do you sol...</td>\n      <td>No answer</td>\n      <td>Germany</td>\n      <td>UI Designer</td>\n    </tr>\n    <tr>\n      <th>82</th>\n      <td>UI Designer at Quandoo was asked...</td>\n      <td>A few simple questions</td>\n      <td>No answer</td>\n      <td>Germany</td>\n      <td>UI Designer</td>\n    </tr>\n    <tr>\n      <th>83</th>\n      <td>UI Designer at Kolibri Games was asked...</td>\n      <td>Superficial Questions about CV</td>\n      <td>No answer</td>\n      <td>Germany</td>\n      <td>UI Designer</td>\n    </tr>\n  </tbody>\n</table>\n<p>84 rows × 5 columns</p>\n</div>"
     },
     "metadata": {}
    }
   ],
   "source": [
    "job_title_da = 'UI Designer' ## Lets search Data analytics\n",
    "location_pt = 'Germany' ## Lets search Data analytics\n",
    "\n",
    "data_to_csv(location_pt,interview_info(job_title_da,location_pt))"
   ]
  },
  {
   "cell_type": "code",
   "execution_count": null,
   "metadata": {},
   "outputs": [],
   "source": []
  },
  {
   "cell_type": "code",
   "execution_count": null,
   "metadata": {},
   "outputs": [],
   "source": []
  },
  {
   "cell_type": "code",
   "execution_count": 51,
   "id": "0a5b5795",
   "metadata": {},
   "outputs": [],
   "source": [
    "driver.close()\n",
    "\n",
    "#Italy\n",
    "#Sweden\n",
    "#United Kingdom\n",
    "#Brazil\n",
    "#Netherlands\n",
    "#France\n",
    "#Mexico"
   ]
  },
  {
   "cell_type": "code",
   "execution_count": null,
   "metadata": {},
   "outputs": [],
   "source": [
    "job_title_da = 'Data Analyst' ## Lets search Data analytics\n",
    "location_pt = 'Spain' ## Lets search Data analytics\n",
    "\n",
    "data_to_csv(location_pt,interview_info(job_title_da,location_pt))"
   ]
  },
  {
   "cell_type": "code",
   "execution_count": null,
   "metadata": {},
   "outputs": [],
   "source": [
    "job_title_da = 'Web Developer' ## Lets search Data analytics\n",
    "location_pt = 'Spain' ## Lets search Data analytics\n",
    "\n",
    "data_to_csv(location_pt,interview_info(job_title_da,location_pt))"
   ]
  },
  {
   "cell_type": "code",
   "execution_count": null,
   "metadata": {},
   "outputs": [],
   "source": [
    "job_title_da = 'UX Designer' ## Lets search Data analytics\n",
    "location_pt = 'Spain' ## Lets search Data analytics\n",
    "\n",
    "data_to_csv(location_pt,interview_info(job_title_da,location_pt))"
   ]
  },
  {
   "cell_type": "code",
   "execution_count": null,
   "metadata": {},
   "outputs": [],
   "source": [
    "job_title_da = 'UI Designer' ## Lets search Data analytics\n",
    "location_pt = 'Spain' ## Lets search Data analytics\n",
    "\n",
    "data_to_csv(location_pt,interview_info(job_title_da,location_pt))"
   ]
  }
 ],
 "metadata": {
  "kernelspec": {
   "name": "python388jvsc74a57bd0f01b1a26c0677924dfb9bb3c0adc99f4a4ad3f1a3781fcda47cbcaac5b4f6244",
   "display_name": "Python 3.8.8 64-bit ('Ironhack': conda)"
  },
  "language_info": {
   "codemirror_mode": {
    "name": "ipython",
    "version": 3
   },
   "file_extension": ".py",
   "mimetype": "text/x-python",
   "name": "python",
   "nbconvert_exporter": "python",
   "pygments_lexer": "ipython3",
   "version": "3.8.8"
  }
 },
 "nbformat": 4,
 "nbformat_minor": 5
}