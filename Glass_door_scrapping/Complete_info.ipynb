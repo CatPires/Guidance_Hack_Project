{
 "metadata": {
  "language_info": {
   "codemirror_mode": {
    "name": "ipython",
    "version": 3
   },
   "file_extension": ".py",
   "mimetype": "text/x-python",
   "name": "python",
   "nbconvert_exporter": "python",
   "pygments_lexer": "ipython3",
   "version": "3.9.2"
  },
  "orig_nbformat": 2,
  "kernelspec": {
   "name": "python392jvsc74a57bd07101ece57323ae226d3ee33127f20849298572704d5292ba75a6e287de47f3f2",
   "display_name": "Python 3.9.2 64-bit"
  }
 },
 "nbformat": 4,
 "nbformat_minor": 2,
 "cells": [
  {
   "cell_type": "code",
   "execution_count": 1,
   "metadata": {},
   "outputs": [],
   "source": [
    "## Compile information scrapped in Glass door for different countries and position"
   ]
  },
  {
   "cell_type": "code",
   "execution_count": 1,
   "metadata": {},
   "outputs": [],
   "source": [
    "from os import listdir"
   ]
  },
  {
   "cell_type": "code",
   "execution_count": 16,
   "metadata": {},
   "outputs": [
    {
     "output_type": "execute_result",
     "data": {
      "text/plain": [
       "                                          job_company  \\\n",
       "0   UI/UX Designer Sênior at Agência Bend was aske...   \n",
       "1   UI/UX Designer at Instituto de Desenvolvimento...   \n",
       "2                  UX Designer at MobLee was asked...   \n",
       "3   UI/UX Designer Estágio at Reino Studio was ask...   \n",
       "4               UI/UX Designer at Revelo was asked...   \n",
       "..                                                ...   \n",
       "88              UX Designer at Microlise was asked...   \n",
       "89          Senior UX Designer at Amazon was asked...   \n",
       "90                    UX Designer at OVO was asked...   \n",
       "91                 UX Designer at Rapid7 was asked...   \n",
       "92           UX Designer at ThoughtWorks was asked...   \n",
       "\n",
       "                                            questions  \\\n",
       "0   Sobre inteligência emocional, pois hoje é muit...   \n",
       "1   O fato de você ser muito centrado te atrapalha...   \n",
       "2   Se interessaram pelo processo de criação usand...   \n",
       "3            qual seu processo de produção de um app?   \n",
       "4     Perguntas sobre marketing como Roi de campanha.   \n",
       "..                                                ...   \n",
       "88        Describe what User Experience means to you?   \n",
       "89  Describe a time where you made a mistake on a ...   \n",
       "90  General questions regarding experience and ski...   \n",
       "91  General questions based around the topic of re...   \n",
       "92              What kind of experience have you had?   \n",
       "\n",
       "                                              answers         country  \\\n",
       "0   Sou uma pessoa comunicativa e tento sempre man...          Brazil   \n",
       "1   Que atrapalhar, atrapalha. Mas não significati...          Brazil   \n",
       "2             Desenvolvi a partir do que havia feito.          Brazil   \n",
       "3   pesquisa, fluxograma, wireframe, entrevista co...          Brazil   \n",
       "4                              Minha area é de design          Brazil   \n",
       "..                                                ...             ...   \n",
       "88                                          No answer  United Kingdom   \n",
       "89                                          No answer  United Kingdom   \n",
       "90                                          No answer  United Kingdom   \n",
       "91                                          No answer  United Kingdom   \n",
       "92                                          No answer  United Kingdom   \n",
       "\n",
       "           area  \n",
       "0   UX Designer  \n",
       "1   UX Designer  \n",
       "2   UX Designer  \n",
       "3   UX Designer  \n",
       "4   UX Designer  \n",
       "..          ...  \n",
       "88  UX Designer  \n",
       "89  UX Designer  \n",
       "90  UX Designer  \n",
       "91  UX Designer  \n",
       "92  UX Designer  \n",
       "\n",
       "[1789 rows x 5 columns]"
      ],
      "text/html": "<div>\n<style scoped>\n    .dataframe tbody tr th:only-of-type {\n        vertical-align: middle;\n    }\n\n    .dataframe tbody tr th {\n        vertical-align: top;\n    }\n\n    .dataframe thead th {\n        text-align: right;\n    }\n</style>\n<table border=\"1\" class=\"dataframe\">\n  <thead>\n    <tr style=\"text-align: right;\">\n      <th></th>\n      <th>job_company</th>\n      <th>questions</th>\n      <th>answers</th>\n      <th>country</th>\n      <th>area</th>\n    </tr>\n  </thead>\n  <tbody>\n    <tr>\n      <th>0</th>\n      <td>UI/UX Designer Sênior at Agência Bend was aske...</td>\n      <td>Sobre inteligência emocional, pois hoje é muit...</td>\n      <td>Sou uma pessoa comunicativa e tento sempre man...</td>\n      <td>Brazil</td>\n      <td>UX Designer</td>\n    </tr>\n    <tr>\n      <th>1</th>\n      <td>UI/UX Designer at Instituto de Desenvolvimento...</td>\n      <td>O fato de você ser muito centrado te atrapalha...</td>\n      <td>Que atrapalhar, atrapalha. Mas não significati...</td>\n      <td>Brazil</td>\n      <td>UX Designer</td>\n    </tr>\n    <tr>\n      <th>2</th>\n      <td>UX Designer at MobLee was asked...</td>\n      <td>Se interessaram pelo processo de criação usand...</td>\n      <td>Desenvolvi a partir do que havia feito.</td>\n      <td>Brazil</td>\n      <td>UX Designer</td>\n    </tr>\n    <tr>\n      <th>3</th>\n      <td>UI/UX Designer Estágio at Reino Studio was ask...</td>\n      <td>qual seu processo de produção de um app?</td>\n      <td>pesquisa, fluxograma, wireframe, entrevista co...</td>\n      <td>Brazil</td>\n      <td>UX Designer</td>\n    </tr>\n    <tr>\n      <th>4</th>\n      <td>UI/UX Designer at Revelo was asked...</td>\n      <td>Perguntas sobre marketing como Roi de campanha.</td>\n      <td>Minha area é de design</td>\n      <td>Brazil</td>\n      <td>UX Designer</td>\n    </tr>\n    <tr>\n      <th>...</th>\n      <td>...</td>\n      <td>...</td>\n      <td>...</td>\n      <td>...</td>\n      <td>...</td>\n    </tr>\n    <tr>\n      <th>88</th>\n      <td>UX Designer at Microlise was asked...</td>\n      <td>Describe what User Experience means to you?</td>\n      <td>No answer</td>\n      <td>United Kingdom</td>\n      <td>UX Designer</td>\n    </tr>\n    <tr>\n      <th>89</th>\n      <td>Senior UX Designer at Amazon was asked...</td>\n      <td>Describe a time where you made a mistake on a ...</td>\n      <td>No answer</td>\n      <td>United Kingdom</td>\n      <td>UX Designer</td>\n    </tr>\n    <tr>\n      <th>90</th>\n      <td>UX Designer at OVO was asked...</td>\n      <td>General questions regarding experience and ski...</td>\n      <td>No answer</td>\n      <td>United Kingdom</td>\n      <td>UX Designer</td>\n    </tr>\n    <tr>\n      <th>91</th>\n      <td>UX Designer at Rapid7 was asked...</td>\n      <td>General questions based around the topic of re...</td>\n      <td>No answer</td>\n      <td>United Kingdom</td>\n      <td>UX Designer</td>\n    </tr>\n    <tr>\n      <th>92</th>\n      <td>UX Designer at ThoughtWorks was asked...</td>\n      <td>What kind of experience have you had?</td>\n      <td>No answer</td>\n      <td>United Kingdom</td>\n      <td>UX Designer</td>\n    </tr>\n  </tbody>\n</table>\n<p>1789 rows × 5 columns</p>\n</div>"
     },
     "metadata": {},
     "execution_count": 16
    }
   ],
   "source": [
    "filepaths = [f for f in os.listdir(os.getcwd()) if f.endswith('.csv')]\n",
    "glassdoor_interviews = pd.concat(map(pd.read_csv, filepaths))\n",
    "glassdoor_interviews"
   ]
  },
  {
   "cell_type": "code",
   "execution_count": 27,
   "metadata": {},
   "outputs": [
    {
     "output_type": "execute_result",
     "data": {
      "text/plain": [
       "job_company    108\n",
       "questions      169\n",
       "answers         19\n",
       "country          1\n",
       "area             0\n",
       "dtype: int64"
      ]
     },
     "metadata": {},
     "execution_count": 27
    }
   ],
   "source": []
  },
  {
   "cell_type": "code",
   "execution_count": 28,
   "metadata": {},
   "outputs": [
    {
     "output_type": "execute_result",
     "data": {
      "text/plain": [
       "array(['UX/UX/UI Designer', 'UX/UI Designer', 'Web Developer',\n",
       "       'Data Analyst', nan], dtype=object)"
      ]
     },
     "metadata": {},
     "execution_count": 28
    }
   ],
   "source": [
    "glassdoor_interviews['area'] = glassdoor_interviews['area'].str.replace('UX Designer','UX/UI Designer')\n",
    "glassdoor_interviews['area'] = glassdoor_interviews['area'].str.replace('UI Designer','UX/UI Designer')\n",
    "glassdoor_interviews['area'].unique()"
   ]
  },
  {
   "cell_type": "code",
   "execution_count": 30,
   "metadata": {},
   "outputs": [
    {
     "output_type": "execute_result",
     "data": {
      "text/plain": [
       "                                          job_company  \\\n",
       "0   UI/UX Designer Sênior at Agência Bend was aske...   \n",
       "1   UI/UX Designer at Instituto de Desenvolvimento...   \n",
       "2                  UX Designer at MobLee was asked...   \n",
       "3   UI/UX Designer Estágio at Reino Studio was ask...   \n",
       "4               UI/UX Designer at Revelo was asked...   \n",
       "..                                                ...   \n",
       "88              UX Designer at Microlise was asked...   \n",
       "89          Senior UX Designer at Amazon was asked...   \n",
       "90                    UX Designer at OVO was asked...   \n",
       "91                 UX Designer at Rapid7 was asked...   \n",
       "92           UX Designer at ThoughtWorks was asked...   \n",
       "\n",
       "                                            questions  \\\n",
       "0   Sobre inteligência emocional, pois hoje é muit...   \n",
       "1   O fato de você ser muito centrado te atrapalha...   \n",
       "2   Se interessaram pelo processo de criação usand...   \n",
       "3            qual seu processo de produção de um app?   \n",
       "4     Perguntas sobre marketing como Roi de campanha.   \n",
       "..                                                ...   \n",
       "88        Describe what User Experience means to you?   \n",
       "89  Describe a time where you made a mistake on a ...   \n",
       "90  General questions regarding experience and ski...   \n",
       "91  General questions based around the topic of re...   \n",
       "92              What kind of experience have you had?   \n",
       "\n",
       "                                              answers         country  \\\n",
       "0   Sou uma pessoa comunicativa e tento sempre man...          Brazil   \n",
       "1   Que atrapalhar, atrapalha. Mas não significati...          Brazil   \n",
       "2             Desenvolvi a partir do que havia feito.          Brazil   \n",
       "3   pesquisa, fluxograma, wireframe, entrevista co...          Brazil   \n",
       "4                              Minha area é de design          Brazil   \n",
       "..                                                ...             ...   \n",
       "88                                          No answer  United Kingdom   \n",
       "89                                          No answer  United Kingdom   \n",
       "90                                          No answer  United Kingdom   \n",
       "91                                          No answer  United Kingdom   \n",
       "92                                          No answer  United Kingdom   \n",
       "\n",
       "                 area  \n",
       "0   UX/UX/UI Designer  \n",
       "1   UX/UX/UI Designer  \n",
       "2   UX/UX/UI Designer  \n",
       "3   UX/UX/UI Designer  \n",
       "4   UX/UX/UI Designer  \n",
       "..                ...  \n",
       "88  UX/UX/UI Designer  \n",
       "89  UX/UX/UI Designer  \n",
       "90  UX/UX/UI Designer  \n",
       "91  UX/UX/UI Designer  \n",
       "92  UX/UX/UI Designer  \n",
       "\n",
       "[566 rows x 5 columns]"
      ],
      "text/html": "<div>\n<style scoped>\n    .dataframe tbody tr th:only-of-type {\n        vertical-align: middle;\n    }\n\n    .dataframe tbody tr th {\n        vertical-align: top;\n    }\n\n    .dataframe thead th {\n        text-align: right;\n    }\n</style>\n<table border=\"1\" class=\"dataframe\">\n  <thead>\n    <tr style=\"text-align: right;\">\n      <th></th>\n      <th>job_company</th>\n      <th>questions</th>\n      <th>answers</th>\n      <th>country</th>\n      <th>area</th>\n    </tr>\n  </thead>\n  <tbody>\n    <tr>\n      <th>0</th>\n      <td>UI/UX Designer Sênior at Agência Bend was aske...</td>\n      <td>Sobre inteligência emocional, pois hoje é muit...</td>\n      <td>Sou uma pessoa comunicativa e tento sempre man...</td>\n      <td>Brazil</td>\n      <td>UX/UX/UI Designer</td>\n    </tr>\n    <tr>\n      <th>1</th>\n      <td>UI/UX Designer at Instituto de Desenvolvimento...</td>\n      <td>O fato de você ser muito centrado te atrapalha...</td>\n      <td>Que atrapalhar, atrapalha. Mas não significati...</td>\n      <td>Brazil</td>\n      <td>UX/UX/UI Designer</td>\n    </tr>\n    <tr>\n      <th>2</th>\n      <td>UX Designer at MobLee was asked...</td>\n      <td>Se interessaram pelo processo de criação usand...</td>\n      <td>Desenvolvi a partir do que havia feito.</td>\n      <td>Brazil</td>\n      <td>UX/UX/UI Designer</td>\n    </tr>\n    <tr>\n      <th>3</th>\n      <td>UI/UX Designer Estágio at Reino Studio was ask...</td>\n      <td>qual seu processo de produção de um app?</td>\n      <td>pesquisa, fluxograma, wireframe, entrevista co...</td>\n      <td>Brazil</td>\n      <td>UX/UX/UI Designer</td>\n    </tr>\n    <tr>\n      <th>4</th>\n      <td>UI/UX Designer at Revelo was asked...</td>\n      <td>Perguntas sobre marketing como Roi de campanha.</td>\n      <td>Minha area é de design</td>\n      <td>Brazil</td>\n      <td>UX/UX/UI Designer</td>\n    </tr>\n    <tr>\n      <th>...</th>\n      <td>...</td>\n      <td>...</td>\n      <td>...</td>\n      <td>...</td>\n      <td>...</td>\n    </tr>\n    <tr>\n      <th>88</th>\n      <td>UX Designer at Microlise was asked...</td>\n      <td>Describe what User Experience means to you?</td>\n      <td>No answer</td>\n      <td>United Kingdom</td>\n      <td>UX/UX/UI Designer</td>\n    </tr>\n    <tr>\n      <th>89</th>\n      <td>Senior UX Designer at Amazon was asked...</td>\n      <td>Describe a time where you made a mistake on a ...</td>\n      <td>No answer</td>\n      <td>United Kingdom</td>\n      <td>UX/UX/UI Designer</td>\n    </tr>\n    <tr>\n      <th>90</th>\n      <td>UX Designer at OVO was asked...</td>\n      <td>General questions regarding experience and ski...</td>\n      <td>No answer</td>\n      <td>United Kingdom</td>\n      <td>UX/UX/UI Designer</td>\n    </tr>\n    <tr>\n      <th>91</th>\n      <td>UX Designer at Rapid7 was asked...</td>\n      <td>General questions based around the topic of re...</td>\n      <td>No answer</td>\n      <td>United Kingdom</td>\n      <td>UX/UX/UI Designer</td>\n    </tr>\n    <tr>\n      <th>92</th>\n      <td>UX Designer at ThoughtWorks was asked...</td>\n      <td>What kind of experience have you had?</td>\n      <td>No answer</td>\n      <td>United Kingdom</td>\n      <td>UX/UX/UI Designer</td>\n    </tr>\n  </tbody>\n</table>\n<p>566 rows × 5 columns</p>\n</div>"
     },
     "metadata": {},
     "execution_count": 30
    }
   ],
   "source": [
    "glassdoor_interviews[glassdoor_interviews['area'] == 'UX/UX/UI Designer']"
   ]
  },
  {
   "cell_type": "code",
   "execution_count": 31,
   "metadata": {},
   "outputs": [
    {
     "output_type": "execute_result",
     "data": {
      "text/plain": [
       "array(['UX/UI Designer', 'Web Developer', 'Data Analyst', nan],\n",
       "      dtype=object)"
      ]
     },
     "metadata": {},
     "execution_count": 31
    }
   ],
   "source": [
    "glassdoor_interviews['area'] = glassdoor_interviews['area'].str.replace('UX/UX/UI Designer','UX/UI Designer')\n",
    "glassdoor_interviews['area'].unique()"
   ]
  },
  {
   "cell_type": "code",
   "execution_count": 32,
   "metadata": {},
   "outputs": [],
   "source": [
    "glassdoor_interviews.to_csv(r'interviews.csv',sep = ',',index=False)"
   ]
  },
  {
   "cell_type": "code",
   "execution_count": null,
   "metadata": {},
   "outputs": [],
   "source": []
  }
 ]
}