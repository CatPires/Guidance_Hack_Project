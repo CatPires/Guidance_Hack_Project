{
 "metadata": {
  "language_info": {
   "codemirror_mode": {
    "name": "ipython",
    "version": 3
   },
   "file_extension": ".py",
   "mimetype": "text/x-python",
   "name": "python",
   "nbconvert_exporter": "python",
   "pygments_lexer": "ipython3",
   "version": "3.8.8"
  },
  "orig_nbformat": 2,
  "kernelspec": {
   "name": "python388jvsc74a57bd0f01b1a26c0677924dfb9bb3c0adc99f4a4ad3f1a3781fcda47cbcaac5b4f6244",
   "display_name": "Python 3.8.8 64-bit ('Ironhack': conda)"
  }
 },
 "nbformat": 4,
 "nbformat_minor": 2,
 "cells": [
  {
   "cell_type": "code",
   "execution_count": 1,
   "metadata": {},
   "outputs": [],
   "source": [
    "import mysql.connector\n",
    "from getpass import getpass\n",
    "import pandas as pd"
   ]
  },
  {
   "cell_type": "code",
   "execution_count": 3,
   "metadata": {},
   "outputs": [],
   "source": [
    "passw = getpass('Enter your password')\n",
    "\n",
    "cnx = mysql.connector.connect(user = \"root\", password = passw,host=\"localhost\",database=\"jobs_interviews\")"
   ]
  },
  {
   "cell_type": "code",
   "execution_count": 4,
   "metadata": {},
   "outputs": [
    {
     "output_type": "execute_result",
     "data": {
      "text/plain": [
       "True"
      ]
     },
     "metadata": {},
     "execution_count": 4
    }
   ],
   "source": [
    "cnx.is_connected()"
   ]
  },
  {
   "cell_type": "code",
   "execution_count": 5,
   "metadata": {},
   "outputs": [
    {
     "output_type": "execute_result",
     "data": {
      "text/plain": [
       "<mysql.connector.cursor.MySQLCursor at 0x18a42f4bb50>"
      ]
     },
     "metadata": {},
     "execution_count": 5
    }
   ],
   "source": [
    "cursor = cnx.cursor()\n",
    "cursor"
   ]
  },
  {
   "cell_type": "code",
   "execution_count": 6,
   "metadata": {},
   "outputs": [],
   "source": [
    "def queries_execute(x):\n",
    "    cursor.execute(x)\n",
    "    queries_result = cursor.fetchall()\n",
    "    return queries_result"
   ]
  },
  {
   "cell_type": "code",
   "execution_count": 50,
   "metadata": {},
   "outputs": [],
   "source": [
    "def job_search():\n",
    "    #first lets show courses possibilities:\n",
    "    courses_possibilites = queries_execute(\"\"\"SELECT DISTINCT Course FROM jobs_interviews.jobs;\"\"\")\n",
    "    options = pd.DataFrame(courses_possibilites)\n",
    "    display(options)\n",
    "    course_choice = int(input('Choose your course:'))\n",
    "    while course_choice not in range(int(options.shape[0])):\n",
    "        display('Please try again')\n",
    "        course_choice = int(input('Choose your course:'))\n",
    "    course = options.loc[course_choice,0]\n",
    "    \n",
    "    #second lets show locations possibilities:\n",
    "    locations_possibilites = queries_execute(\"\"\"SELECT DISTINCT Country FROM jobs_interviews.jobs;\"\"\")\n",
    "    options1 = pd.DataFrame(locations_possibilites)\n",
    "    display(options1)\n",
    "    location_choice = int(input('Choose your location:'))\n",
    "    while location_choice not in range(int(options1.shape[0])):\n",
    "        display('Please try again')\n",
    "        location_choice = int(input('Choose your course:'))\n",
    "\n",
    "    location = options1.loc[location_choice,0]\n",
    "    \n",
    "    #your jobs possibilities\n",
    "    your_jobs = queries_execute(\"\"\"SELECT Course,Job,Company,Link,City,Country FROM jobs_interviews.jobs WHERE ((Course = '\"\"\"+course+\"\"\"') & (Country = '\"\"\"+location+\"\"\"'));\"\"\")\n",
    "    job_option = pd.DataFrame(your_jobs, columns=['Course','Job','Company','Link','City','Country'])\n",
    "    display(job_option)\n",
    "\n",
    "    #lets choose your perfect job\n",
    "    application_choice = int(input('Choose the job you want to apply:'))\n",
    "    while application_choice not in range(int(job_option.shape[0])):\n",
    "        display('Please try again')\n",
    "        application_choice = int(input('Choose the job you want to apply:'))\n",
    "\n",
    "    the_job = job_option.iloc[application_choice]\n",
    "    the_job = pd.Series(the_job, index=['Course','Job','Company','Link','City','Country'])\n",
    "    display(the_job)\n",
    "    return the_job"
   ]
  },
  {
   "cell_type": "code",
   "execution_count": 51,
   "metadata": {},
   "outputs": [
    {
     "output_type": "display_data",
     "data": {
      "text/plain": "                0\n0  Data Analytics\n1  UX/UI Designer\n2   Web Developer",
      "text/html": "<div>\n<style scoped>\n    .dataframe tbody tr th:only-of-type {\n        vertical-align: middle;\n    }\n\n    .dataframe tbody tr th {\n        vertical-align: top;\n    }\n\n    .dataframe thead th {\n        text-align: right;\n    }\n</style>\n<table border=\"1\" class=\"dataframe\">\n  <thead>\n    <tr style=\"text-align: right;\">\n      <th></th>\n      <th>0</th>\n    </tr>\n  </thead>\n  <tbody>\n    <tr>\n      <th>0</th>\n      <td>Data Analytics</td>\n    </tr>\n    <tr>\n      <th>1</th>\n      <td>UX/UI Designer</td>\n    </tr>\n    <tr>\n      <th>2</th>\n      <td>Web Developer</td>\n    </tr>\n  </tbody>\n</table>\n</div>"
     },
     "metadata": {}
    },
    {
     "output_type": "display_data",
     "data": {
      "text/plain": "                0\n0          Sweden\n1         Germany\n2  United Kingdom\n3          Brazil\n4           Italy\n5           Spain\n6        Portugal",
      "text/html": "<div>\n<style scoped>\n    .dataframe tbody tr th:only-of-type {\n        vertical-align: middle;\n    }\n\n    .dataframe tbody tr th {\n        vertical-align: top;\n    }\n\n    .dataframe thead th {\n        text-align: right;\n    }\n</style>\n<table border=\"1\" class=\"dataframe\">\n  <thead>\n    <tr style=\"text-align: right;\">\n      <th></th>\n      <th>0</th>\n    </tr>\n  </thead>\n  <tbody>\n    <tr>\n      <th>0</th>\n      <td>Sweden</td>\n    </tr>\n    <tr>\n      <th>1</th>\n      <td>Germany</td>\n    </tr>\n    <tr>\n      <th>2</th>\n      <td>United Kingdom</td>\n    </tr>\n    <tr>\n      <th>3</th>\n      <td>Brazil</td>\n    </tr>\n    <tr>\n      <th>4</th>\n      <td>Italy</td>\n    </tr>\n    <tr>\n      <th>5</th>\n      <td>Spain</td>\n    </tr>\n    <tr>\n      <th>6</th>\n      <td>Portugal</td>\n    </tr>\n  </tbody>\n</table>\n</div>"
     },
     "metadata": {}
    },
    {
     "output_type": "display_data",
     "data": {
      "text/plain": "           Course                                               Job  \\\n0  Data Analytics                         Data Analytics Consultant   \n1  Data Analytics  Data Analytics - Python Developer (m/f) - Lisboa   \n2  Data Analytics             Senior Data Analytics Architect (M/F)   \n3  Data Analytics                                    Data Analytics   \n4  Data Analytics                  Data Analytics Senior Consultant   \n\n           Company                                               Link    City  \\\n0            Ytech  https://www.linkedin.com/jobs/view/2552620190/...  Lisboa   \n1  BOLD by Devotam  https://www.linkedin.com/jobs/view/2547701342/...  Lisboa   \n2           Adidas  https://www.linkedin.com/jobs/view/2467276236/...   Porto   \n3              EDP  https://www.linkedin.com/jobs/view/2577668656/...  Lisboa   \n4            Ytech  https://www.linkedin.com/jobs/view/2552623043/...  Lisboa   \n\n    Country  \n0  Portugal  \n1  Portugal  \n2  Portugal  \n3  Portugal  \n4  Portugal  ",
      "text/html": "<div>\n<style scoped>\n    .dataframe tbody tr th:only-of-type {\n        vertical-align: middle;\n    }\n\n    .dataframe tbody tr th {\n        vertical-align: top;\n    }\n\n    .dataframe thead th {\n        text-align: right;\n    }\n</style>\n<table border=\"1\" class=\"dataframe\">\n  <thead>\n    <tr style=\"text-align: right;\">\n      <th></th>\n      <th>Course</th>\n      <th>Job</th>\n      <th>Company</th>\n      <th>Link</th>\n      <th>City</th>\n      <th>Country</th>\n    </tr>\n  </thead>\n  <tbody>\n    <tr>\n      <th>0</th>\n      <td>Data Analytics</td>\n      <td>Data Analytics Consultant</td>\n      <td>Ytech</td>\n      <td>https://www.linkedin.com/jobs/view/2552620190/...</td>\n      <td>Lisboa</td>\n      <td>Portugal</td>\n    </tr>\n    <tr>\n      <th>1</th>\n      <td>Data Analytics</td>\n      <td>Data Analytics - Python Developer (m/f) - Lisboa</td>\n      <td>BOLD by Devotam</td>\n      <td>https://www.linkedin.com/jobs/view/2547701342/...</td>\n      <td>Lisboa</td>\n      <td>Portugal</td>\n    </tr>\n    <tr>\n      <th>2</th>\n      <td>Data Analytics</td>\n      <td>Senior Data Analytics Architect (M/F)</td>\n      <td>Adidas</td>\n      <td>https://www.linkedin.com/jobs/view/2467276236/...</td>\n      <td>Porto</td>\n      <td>Portugal</td>\n    </tr>\n    <tr>\n      <th>3</th>\n      <td>Data Analytics</td>\n      <td>Data Analytics</td>\n      <td>EDP</td>\n      <td>https://www.linkedin.com/jobs/view/2577668656/...</td>\n      <td>Lisboa</td>\n      <td>Portugal</td>\n    </tr>\n    <tr>\n      <th>4</th>\n      <td>Data Analytics</td>\n      <td>Data Analytics Senior Consultant</td>\n      <td>Ytech</td>\n      <td>https://www.linkedin.com/jobs/view/2552623043/...</td>\n      <td>Lisboa</td>\n      <td>Portugal</td>\n    </tr>\n  </tbody>\n</table>\n</div>"
     },
     "metadata": {}
    },
    {
     "output_type": "display_data",
     "data": {
      "text/plain": "Course                                        Data Analytics\nJob                                           Data Analytics\nCompany                                                  EDP\nLink       https://www.linkedin.com/jobs/view/2577668656/...\nCity                                                  Lisboa\nCountry                                             Portugal\nName: 3, dtype: object"
     },
     "metadata": {}
    }
   ],
   "source": [
    "job_choice = job_search()"
   ]
  },
  {
   "cell_type": "code",
   "execution_count": 56,
   "metadata": {},
   "outputs": [
    {
     "output_type": "execute_result",
     "data": {
      "text/plain": [
       "'Portugal'"
      ]
     },
     "metadata": {},
     "execution_count": 56
    }
   ],
   "source": [
    "job_choice.iloc[5]"
   ]
  },
  {
   "cell_type": "code",
   "execution_count": 59,
   "metadata": {},
   "outputs": [],
   "source": [
    "def interview_prep():\n",
    "    #first get the job information\n",
    "    job_choice = job_search()\n",
    "    job_area = job_choice.iloc[0]\n",
    "    job_location = job_choice.iloc[5]\n",
    "\n",
    "    #your preparation\n",
    "    your_questions = queries_execute(\"\"\"SELECT job_company,questions,answers,country,area FROM jobs_interviews.interviews WHERE ((country = '\"\"\"+job_location+\"\"\"') & (area = '\"\"\"+job_area+\"\"\"'));\"\"\")\n",
    "    prep_option = pd.DataFrame(your_questions, columns=['job_company','questions','answers','country','area'])\n",
    "    display(prep_option)\n",
    "\n",
    "    #maybe choose by country or area only\n",
    "\n",
    "    #choose only the lines that you want\t\n"
   ]
  },
  {
   "cell_type": "code",
   "execution_count": 60,
   "metadata": {},
   "outputs": [
    {
     "output_type": "display_data",
     "data": {
      "text/plain": "                0\n0  Data Analytics\n1  UX/UI Designer\n2   Web Developer",
      "text/html": "<div>\n<style scoped>\n    .dataframe tbody tr th:only-of-type {\n        vertical-align: middle;\n    }\n\n    .dataframe tbody tr th {\n        vertical-align: top;\n    }\n\n    .dataframe thead th {\n        text-align: right;\n    }\n</style>\n<table border=\"1\" class=\"dataframe\">\n  <thead>\n    <tr style=\"text-align: right;\">\n      <th></th>\n      <th>0</th>\n    </tr>\n  </thead>\n  <tbody>\n    <tr>\n      <th>0</th>\n      <td>Data Analytics</td>\n    </tr>\n    <tr>\n      <th>1</th>\n      <td>UX/UI Designer</td>\n    </tr>\n    <tr>\n      <th>2</th>\n      <td>Web Developer</td>\n    </tr>\n  </tbody>\n</table>\n</div>"
     },
     "metadata": {}
    },
    {
     "output_type": "display_data",
     "data": {
      "text/plain": "                0\n0          Sweden\n1         Germany\n2  United Kingdom\n3          Brazil\n4           Italy\n5           Spain\n6        Portugal",
      "text/html": "<div>\n<style scoped>\n    .dataframe tbody tr th:only-of-type {\n        vertical-align: middle;\n    }\n\n    .dataframe tbody tr th {\n        vertical-align: top;\n    }\n\n    .dataframe thead th {\n        text-align: right;\n    }\n</style>\n<table border=\"1\" class=\"dataframe\">\n  <thead>\n    <tr style=\"text-align: right;\">\n      <th></th>\n      <th>0</th>\n    </tr>\n  </thead>\n  <tbody>\n    <tr>\n      <th>0</th>\n      <td>Sweden</td>\n    </tr>\n    <tr>\n      <th>1</th>\n      <td>Germany</td>\n    </tr>\n    <tr>\n      <th>2</th>\n      <td>United Kingdom</td>\n    </tr>\n    <tr>\n      <th>3</th>\n      <td>Brazil</td>\n    </tr>\n    <tr>\n      <th>4</th>\n      <td>Italy</td>\n    </tr>\n    <tr>\n      <th>5</th>\n      <td>Spain</td>\n    </tr>\n    <tr>\n      <th>6</th>\n      <td>Portugal</td>\n    </tr>\n  </tbody>\n</table>\n</div>"
     },
     "metadata": {}
    },
    {
     "output_type": "display_data",
     "data": {
      "text/plain": "           Course                                               Job  \\\n0  Data Analytics                         Data Analytics Consultant   \n1  Data Analytics  Data Analytics - Python Developer (m/f) - Lisboa   \n2  Data Analytics             Senior Data Analytics Architect (M/F)   \n3  Data Analytics                                    Data Analytics   \n4  Data Analytics                  Data Analytics Senior Consultant   \n\n           Company                                               Link    City  \\\n0            Ytech  https://www.linkedin.com/jobs/view/2552620190/...  Lisboa   \n1  BOLD by Devotam  https://www.linkedin.com/jobs/view/2547701342/...  Lisboa   \n2           Adidas  https://www.linkedin.com/jobs/view/2467276236/...   Porto   \n3              EDP  https://www.linkedin.com/jobs/view/2577668656/...  Lisboa   \n4            Ytech  https://www.linkedin.com/jobs/view/2552623043/...  Lisboa   \n\n    Country  \n0  Portugal  \n1  Portugal  \n2  Portugal  \n3  Portugal  \n4  Portugal  ",
      "text/html": "<div>\n<style scoped>\n    .dataframe tbody tr th:only-of-type {\n        vertical-align: middle;\n    }\n\n    .dataframe tbody tr th {\n        vertical-align: top;\n    }\n\n    .dataframe thead th {\n        text-align: right;\n    }\n</style>\n<table border=\"1\" class=\"dataframe\">\n  <thead>\n    <tr style=\"text-align: right;\">\n      <th></th>\n      <th>Course</th>\n      <th>Job</th>\n      <th>Company</th>\n      <th>Link</th>\n      <th>City</th>\n      <th>Country</th>\n    </tr>\n  </thead>\n  <tbody>\n    <tr>\n      <th>0</th>\n      <td>Data Analytics</td>\n      <td>Data Analytics Consultant</td>\n      <td>Ytech</td>\n      <td>https://www.linkedin.com/jobs/view/2552620190/...</td>\n      <td>Lisboa</td>\n      <td>Portugal</td>\n    </tr>\n    <tr>\n      <th>1</th>\n      <td>Data Analytics</td>\n      <td>Data Analytics - Python Developer (m/f) - Lisboa</td>\n      <td>BOLD by Devotam</td>\n      <td>https://www.linkedin.com/jobs/view/2547701342/...</td>\n      <td>Lisboa</td>\n      <td>Portugal</td>\n    </tr>\n    <tr>\n      <th>2</th>\n      <td>Data Analytics</td>\n      <td>Senior Data Analytics Architect (M/F)</td>\n      <td>Adidas</td>\n      <td>https://www.linkedin.com/jobs/view/2467276236/...</td>\n      <td>Porto</td>\n      <td>Portugal</td>\n    </tr>\n    <tr>\n      <th>3</th>\n      <td>Data Analytics</td>\n      <td>Data Analytics</td>\n      <td>EDP</td>\n      <td>https://www.linkedin.com/jobs/view/2577668656/...</td>\n      <td>Lisboa</td>\n      <td>Portugal</td>\n    </tr>\n    <tr>\n      <th>4</th>\n      <td>Data Analytics</td>\n      <td>Data Analytics Senior Consultant</td>\n      <td>Ytech</td>\n      <td>https://www.linkedin.com/jobs/view/2552623043/...</td>\n      <td>Lisboa</td>\n      <td>Portugal</td>\n    </tr>\n  </tbody>\n</table>\n</div>"
     },
     "metadata": {}
    },
    {
     "output_type": "display_data",
     "data": {
      "text/plain": "Course                                        Data Analytics\nJob                                           Data Analytics\nCompany                                                  EDP\nLink       https://www.linkedin.com/jobs/view/2577668656/...\nCity                                                  Lisboa\nCountry                                             Portugal\nName: 3, dtype: object"
     },
     "metadata": {}
    },
    {
     "output_type": "display_data",
     "data": {
      "text/plain": "Empty DataFrame\nColumns: [job_company, questions, answers, country, area]\nIndex: []",
      "text/html": "<div>\n<style scoped>\n    .dataframe tbody tr th:only-of-type {\n        vertical-align: middle;\n    }\n\n    .dataframe tbody tr th {\n        vertical-align: top;\n    }\n\n    .dataframe thead th {\n        text-align: right;\n    }\n</style>\n<table border=\"1\" class=\"dataframe\">\n  <thead>\n    <tr style=\"text-align: right;\">\n      <th></th>\n      <th>job_company</th>\n      <th>questions</th>\n      <th>answers</th>\n      <th>country</th>\n      <th>area</th>\n    </tr>\n  </thead>\n  <tbody>\n  </tbody>\n</table>\n</div>"
     },
     "metadata": {}
    }
   ],
   "source": [
    "interview_prep()"
   ]
  },
  {
   "cell_type": "code",
   "execution_count": 62,
   "metadata": {},
   "outputs": [
    {
     "output_type": "display_data",
     "data": {
      "text/plain": "[]"
     },
     "metadata": {}
    }
   ],
   "source": [
    "#first get the job information\n",
    "#job_choice = job_search()\n",
    "job_area = 'Data Analytics'\n",
    "job_location = 'Portugal'\n",
    "\n",
    "#your preparation\n",
    "your_questions = queries_execute(\"\"\"SELECT job_company,questions,answers,country,area FROM jobs_interviews.interviews WHERE ((country = '\"\"\"+job_location+\"\"\"') & (area = '\"\"\"+job_area+\"\"\"'));\"\"\")\n",
    "#prep_option = pd.DataFrame(your_questions, columns=['job_company','questions','answers','country','area'])\n",
    "display(your_questions)"
   ]
  },
  {
   "cell_type": "code",
   "execution_count": 63,
   "metadata": {},
   "outputs": [
    {
     "output_type": "display_data",
     "data": {
      "text/plain": "[]"
     },
     "metadata": {}
    }
   ],
   "source": [
    "your_questions = queries_execute(\"\"\"SELECT job_company,questions,answers,country,area FROM jobs_interviews.interviews WHERE ((country = 'Portugal') & (area = 'Data Analytics'));\"\"\")\n",
    "#prep_option = pd.DataFrame(your_questions, columns=['job_company','questions','answers','country','area'])\n",
    "display(your_questions)"
   ]
  },
  {
   "cell_type": "code",
   "execution_count": null,
   "metadata": {},
   "outputs": [],
   "source": []
  }
 ]
}