{
 "metadata": {
  "language_info": {
   "codemirror_mode": {
    "name": "ipython",
    "version": 3
   },
   "file_extension": ".py",
   "mimetype": "text/x-python",
   "name": "python",
   "nbconvert_exporter": "python",
   "pygments_lexer": "ipython3",
   "version": "3.8.8"
  },
  "orig_nbformat": 2,
  "kernelspec": {
   "name": "python388jvsc74a57bd0f01b1a26c0677924dfb9bb3c0adc99f4a4ad3f1a3781fcda47cbcaac5b4f6244",
   "display_name": "Python 3.8.8 64-bit ('Ironhack': conda)"
  }
 },
 "nbformat": 4,
 "nbformat_minor": 2,
 "cells": [
  {
   "cell_type": "code",
   "execution_count": 3,
   "metadata": {},
   "outputs": [],
   "source": [
    "import mysql.connector\n",
    "from getpass import getpass\n",
    "import pandas as pd"
   ]
  },
  {
   "cell_type": "code",
   "execution_count": 4,
   "metadata": {},
   "outputs": [],
   "source": [
    "passw = getpass('Enter your password')\n",
    "\n",
    "cnx = mysql.connector.connect(user = \"root\", password = passw,host=\"localhost\",database=\"jobs_interviews\")"
   ]
  },
  {
   "cell_type": "code",
   "execution_count": 5,
   "metadata": {},
   "outputs": [
    {
     "output_type": "execute_result",
     "data": {
      "text/plain": [
       "True"
      ]
     },
     "metadata": {},
     "execution_count": 5
    }
   ],
   "source": [
    "cnx.is_connected()"
   ]
  },
  {
   "cell_type": "code",
   "execution_count": 6,
   "metadata": {},
   "outputs": [
    {
     "output_type": "execute_result",
     "data": {
      "text/plain": [
       "<mysql.connector.cursor.MySQLCursor at 0x20ca5abb520>"
      ]
     },
     "metadata": {},
     "execution_count": 6
    }
   ],
   "source": [
    "cursor = cnx.cursor()\n",
    "cursor"
   ]
  },
  {
   "cell_type": "code",
   "execution_count": 7,
   "metadata": {},
   "outputs": [],
   "source": [
    "def queries_execute(x):\n",
    "    cursor.execute(x)\n",
    "    queries_result = cursor.fetchall()\n",
    "    return queries_result"
   ]
  },
  {
   "cell_type": "code",
   "execution_count": 8,
   "metadata": {},
   "outputs": [],
   "source": [
    "def job_search():\n",
    "    #first lets show courses possibilities:\n",
    "    courses_possibilites = queries_execute(\"\"\"SELECT DISTINCT Course FROM jobs_interviews.jobs;\"\"\")\n",
    "    options = pd.DataFrame(courses_possibilites)\n",
    "    display(options)\n",
    "    course_choice = int(input('Choose your course:'))\n",
    "    while course_choice not in range(int(options.shape[0])):\n",
    "        display('Please try again')\n",
    "        course_choice = int(input('Choose your course:'))\n",
    "    course = options.loc[course_choice,0]\n",
    "    \n",
    "    #second lets show locations possibilities:\n",
    "    locations_possibilites = queries_execute(\"\"\"SELECT DISTINCT Country FROM jobs_interviews.jobs;\"\"\")\n",
    "    options1 = pd.DataFrame(locations_possibilites)\n",
    "    display(options1)\n",
    "    location_choice = int(input('Choose your location:'))\n",
    "    while location_choice not in range(int(options1.shape[0])):\n",
    "        display('Please try again')\n",
    "        location_choice = int(input('Choose your course:'))\n",
    "\n",
    "    location = options1.loc[location_choice,0]\n",
    "    \n",
    "    #your jobs possibilities\n",
    "    your_jobs = queries_execute(\"\"\"SELECT Course,Job,Company,Link,City,Country FROM jobs_interviews.jobs WHERE ((Course = '\"\"\"+course+\"\"\"') & (Country = '\"\"\"+location+\"\"\"'));\"\"\")\n",
    "    job_option = pd.DataFrame(your_jobs, columns=['Course','Job','Company','Link','City','Country'])\n",
    "    display(job_option)\n",
    "\n",
    "    #lets choose your perfect job\n",
    "    application_choice = int(input('Choose the job you want to apply:'))\n",
    "    while application_choice not in range(int(job_option.shape[0])):\n",
    "        display('Please try again')\n",
    "        application_choice = int(input('Choose the job you want to apply:'))\n",
    "\n",
    "    the_job = job_option.iloc[application_choice]\n",
    "    the_job = pd.Series(the_job, index=['Course','Job','Company','Link','City','Country'])\n",
    "    display(the_job)\n",
    "    return the_job"
   ]
  },
  {
   "cell_type": "code",
   "execution_count": 29,
   "metadata": {},
   "outputs": [],
   "source": [
    "def interview_prep():\n",
    "    #first get the job information\n",
    "    job_choice = job_search()\n",
    "    job_area = job_choice.iloc[0]\n",
    "    job_location = job_choice.iloc[5]\n",
    "\n",
    "    #your preparation\n",
    "    your_questions = queries_execute(\"\"\"SELECT job_company,questions,answers FROM jobs_interviews.interviews WHERE ((country = '\"\"\"+job_location+\"\"\"') & (area = '\"\"\"+job_area+\"\"\"'));\"\"\")\n",
    "    prep_option = pd.DataFrame(your_questions, columns=['job_company','questions','answers'])\n",
    "    display(prep_option)\n",
    "\n",
    "    #read a specific question\n",
    "    spec_question = (input('Do you want to see specific question? Y/N:')).lower()\n",
    "    while spec_question != 'n':\n",
    "        if spec_question == 'y':\n",
    "            question_choice = int(input('Choose the question you want to read:'))\n",
    "            while question_choice not in range(int(prep_option.shape[0])):\n",
    "                display('Please try again')\n",
    "                question_choice = int(input('Choose the question you want to read:'))\n",
    "            quest = prep_option.at[question_choice,'questions']\n",
    "            display(quest)\n",
    "            spec_question = (input('Do you want to see another question? Y/N:')).lower()\n",
    "        \n",
    "        else:\n",
    "            spec_question = (input('You option is not possible. Do you want to see another question? Y/N:')).lower()\n",
    "\n",
    "    if spec_question == 'n':\n",
    "        display('Lets get the job!!')\n"
   ]
  },
  {
   "cell_type": "code",
   "execution_count": 30,
   "metadata": {},
   "outputs": [
    {
     "output_type": "display_data",
     "data": {
      "text/plain": "                0\n0  Data Analytics\n1  UX/UI Designer\n2   Web Developer",
      "text/html": "<div>\n<style scoped>\n    .dataframe tbody tr th:only-of-type {\n        vertical-align: middle;\n    }\n\n    .dataframe tbody tr th {\n        vertical-align: top;\n    }\n\n    .dataframe thead th {\n        text-align: right;\n    }\n</style>\n<table border=\"1\" class=\"dataframe\">\n  <thead>\n    <tr style=\"text-align: right;\">\n      <th></th>\n      <th>0</th>\n    </tr>\n  </thead>\n  <tbody>\n    <tr>\n      <th>0</th>\n      <td>Data Analytics</td>\n    </tr>\n    <tr>\n      <th>1</th>\n      <td>UX/UI Designer</td>\n    </tr>\n    <tr>\n      <th>2</th>\n      <td>Web Developer</td>\n    </tr>\n  </tbody>\n</table>\n</div>"
     },
     "metadata": {}
    },
    {
     "output_type": "display_data",
     "data": {
      "text/plain": "                0\n0          Sweden\n1         Germany\n2  United Kingdom\n3          Brazil\n4           Italy\n5           Spain\n6        Portugal",
      "text/html": "<div>\n<style scoped>\n    .dataframe tbody tr th:only-of-type {\n        vertical-align: middle;\n    }\n\n    .dataframe tbody tr th {\n        vertical-align: top;\n    }\n\n    .dataframe thead th {\n        text-align: right;\n    }\n</style>\n<table border=\"1\" class=\"dataframe\">\n  <thead>\n    <tr style=\"text-align: right;\">\n      <th></th>\n      <th>0</th>\n    </tr>\n  </thead>\n  <tbody>\n    <tr>\n      <th>0</th>\n      <td>Sweden</td>\n    </tr>\n    <tr>\n      <th>1</th>\n      <td>Germany</td>\n    </tr>\n    <tr>\n      <th>2</th>\n      <td>United Kingdom</td>\n    </tr>\n    <tr>\n      <th>3</th>\n      <td>Brazil</td>\n    </tr>\n    <tr>\n      <th>4</th>\n      <td>Italy</td>\n    </tr>\n    <tr>\n      <th>5</th>\n      <td>Spain</td>\n    </tr>\n    <tr>\n      <th>6</th>\n      <td>Portugal</td>\n    </tr>\n  </tbody>\n</table>\n</div>"
     },
     "metadata": {}
    },
    {
     "output_type": "display_data",
     "data": {
      "text/plain": "           Course                                               Job  \\\n0  Data Analytics                         Data Analytics Consultant   \n1  Data Analytics  Data Analytics - Python Developer (m/f) - Lisboa   \n2  Data Analytics             Senior Data Analytics Architect (M/F)   \n3  Data Analytics                                    Data Analytics   \n4  Data Analytics                  Data Analytics Senior Consultant   \n\n           Company                                               Link    City  \\\n0            Ytech  https://www.linkedin.com/jobs/view/2552620190/...  Lisboa   \n1  BOLD by Devotam  https://www.linkedin.com/jobs/view/2547701342/...  Lisboa   \n2           Adidas  https://www.linkedin.com/jobs/view/2467276236/...   Porto   \n3              EDP  https://www.linkedin.com/jobs/view/2577668656/...  Lisboa   \n4            Ytech  https://www.linkedin.com/jobs/view/2552623043/...  Lisboa   \n\n    Country  \n0  Portugal  \n1  Portugal  \n2  Portugal  \n3  Portugal  \n4  Portugal  ",
      "text/html": "<div>\n<style scoped>\n    .dataframe tbody tr th:only-of-type {\n        vertical-align: middle;\n    }\n\n    .dataframe tbody tr th {\n        vertical-align: top;\n    }\n\n    .dataframe thead th {\n        text-align: right;\n    }\n</style>\n<table border=\"1\" class=\"dataframe\">\n  <thead>\n    <tr style=\"text-align: right;\">\n      <th></th>\n      <th>Course</th>\n      <th>Job</th>\n      <th>Company</th>\n      <th>Link</th>\n      <th>City</th>\n      <th>Country</th>\n    </tr>\n  </thead>\n  <tbody>\n    <tr>\n      <th>0</th>\n      <td>Data Analytics</td>\n      <td>Data Analytics Consultant</td>\n      <td>Ytech</td>\n      <td>https://www.linkedin.com/jobs/view/2552620190/...</td>\n      <td>Lisboa</td>\n      <td>Portugal</td>\n    </tr>\n    <tr>\n      <th>1</th>\n      <td>Data Analytics</td>\n      <td>Data Analytics - Python Developer (m/f) - Lisboa</td>\n      <td>BOLD by Devotam</td>\n      <td>https://www.linkedin.com/jobs/view/2547701342/...</td>\n      <td>Lisboa</td>\n      <td>Portugal</td>\n    </tr>\n    <tr>\n      <th>2</th>\n      <td>Data Analytics</td>\n      <td>Senior Data Analytics Architect (M/F)</td>\n      <td>Adidas</td>\n      <td>https://www.linkedin.com/jobs/view/2467276236/...</td>\n      <td>Porto</td>\n      <td>Portugal</td>\n    </tr>\n    <tr>\n      <th>3</th>\n      <td>Data Analytics</td>\n      <td>Data Analytics</td>\n      <td>EDP</td>\n      <td>https://www.linkedin.com/jobs/view/2577668656/...</td>\n      <td>Lisboa</td>\n      <td>Portugal</td>\n    </tr>\n    <tr>\n      <th>4</th>\n      <td>Data Analytics</td>\n      <td>Data Analytics Senior Consultant</td>\n      <td>Ytech</td>\n      <td>https://www.linkedin.com/jobs/view/2552623043/...</td>\n      <td>Lisboa</td>\n      <td>Portugal</td>\n    </tr>\n  </tbody>\n</table>\n</div>"
     },
     "metadata": {}
    },
    {
     "output_type": "display_data",
     "data": {
      "text/plain": "Course                                        Data Analytics\nJob                         Data Analytics Senior Consultant\nCompany                                                Ytech\nLink       https://www.linkedin.com/jobs/view/2552623043/...\nCity                                                  Lisboa\nCountry                                             Portugal\nName: 4, dtype: object"
     },
     "metadata": {}
    },
    {
     "output_type": "display_data",
     "data": {
      "text/plain": "                                        job_company  \\\n0   Senior Data Scientist at OLX Group was asked...   \n1     Data Science at MOG Technologies was asked...   \n2   Data Scientist at Smart Consulting was asked...   \n3           Data Scientist at Deloitte was asked...   \n4        Data Scientist at 360imprimir was asked...   \n..                                              ...   \n61          Data Scientist at Builtrix was asked...   \n62           Data Scientist at Feedzai was asked...   \n63           Data Scientist at Feedzai was asked...   \n64          Data Scientist at Miniclip was asked...   \n65   Junior Data Scientist at FARFETCH was asked...   \n\n                                            questions  \\\n0         explain the reasoning in resolving the case   \n1   Nothing too technical, they presented one of t...   \n2   Tell me about 2 projects that you seem fit to ...   \n3                          What your motivations are?   \n4                   Logic question( cases resolution)   \n..                                                ...   \n61  Questions related to your past work experience...   \n62  that is quite fuzzy screening test, with neces...   \n63  Describe two of your past projects that had Ma...   \n64          - Technical questions about the challenge   \n65  They asked me to explain the advantages of my ...   \n\n                                              answers  \n0   I answer all the insights I had based on data ...  \n1   I told them that it could be solved and presen...  \n2                     Described two projetcs about AI  \n3   If the data adequately represent reality, by s...  \n4   Detailed explanation about the reasoning behin...  \n..                                                ...  \n61                                          No answer  \n62                                          No answer  \n63                                          No answer  \n64                                          No answer  \n65                                          No answer  \n\n[66 rows x 3 columns]",
      "text/html": "<div>\n<style scoped>\n    .dataframe tbody tr th:only-of-type {\n        vertical-align: middle;\n    }\n\n    .dataframe tbody tr th {\n        vertical-align: top;\n    }\n\n    .dataframe thead th {\n        text-align: right;\n    }\n</style>\n<table border=\"1\" class=\"dataframe\">\n  <thead>\n    <tr style=\"text-align: right;\">\n      <th></th>\n      <th>job_company</th>\n      <th>questions</th>\n      <th>answers</th>\n    </tr>\n  </thead>\n  <tbody>\n    <tr>\n      <th>0</th>\n      <td>Senior Data Scientist at OLX Group was asked...</td>\n      <td>explain the reasoning in resolving the case</td>\n      <td>I answer all the insights I had based on data ...</td>\n    </tr>\n    <tr>\n      <th>1</th>\n      <td>Data Science at MOG Technologies was asked...</td>\n      <td>Nothing too technical, they presented one of t...</td>\n      <td>I told them that it could be solved and presen...</td>\n    </tr>\n    <tr>\n      <th>2</th>\n      <td>Data Scientist at Smart Consulting was asked...</td>\n      <td>Tell me about 2 projects that you seem fit to ...</td>\n      <td>Described two projetcs about AI</td>\n    </tr>\n    <tr>\n      <th>3</th>\n      <td>Data Scientist at Deloitte was asked...</td>\n      <td>What your motivations are?</td>\n      <td>If the data adequately represent reality, by s...</td>\n    </tr>\n    <tr>\n      <th>4</th>\n      <td>Data Scientist at 360imprimir was asked...</td>\n      <td>Logic question( cases resolution)</td>\n      <td>Detailed explanation about the reasoning behin...</td>\n    </tr>\n    <tr>\n      <th>...</th>\n      <td>...</td>\n      <td>...</td>\n      <td>...</td>\n    </tr>\n    <tr>\n      <th>61</th>\n      <td>Data Scientist at Builtrix was asked...</td>\n      <td>Questions related to your past work experience...</td>\n      <td>No answer</td>\n    </tr>\n    <tr>\n      <th>62</th>\n      <td>Data Scientist at Feedzai was asked...</td>\n      <td>that is quite fuzzy screening test, with neces...</td>\n      <td>No answer</td>\n    </tr>\n    <tr>\n      <th>63</th>\n      <td>Data Scientist at Feedzai was asked...</td>\n      <td>Describe two of your past projects that had Ma...</td>\n      <td>No answer</td>\n    </tr>\n    <tr>\n      <th>64</th>\n      <td>Data Scientist at Miniclip was asked...</td>\n      <td>- Technical questions about the challenge</td>\n      <td>No answer</td>\n    </tr>\n    <tr>\n      <th>65</th>\n      <td>Junior Data Scientist at FARFETCH was asked...</td>\n      <td>They asked me to explain the advantages of my ...</td>\n      <td>No answer</td>\n    </tr>\n  </tbody>\n</table>\n<p>66 rows × 3 columns</p>\n</div>"
     },
     "metadata": {}
    },
    {
     "output_type": "display_data",
     "data": {
      "text/plain": "'The pipeline of a machine learning project.'"
     },
     "metadata": {}
    },
    {
     "output_type": "display_data",
     "data": {
      "text/plain": "'What do you value most in a working environment?'"
     },
     "metadata": {}
    },
    {
     "output_type": "display_data",
     "data": {
      "text/plain": "'Lets get the job!!'"
     },
     "metadata": {}
    }
   ],
   "source": [
    "interview_prep()"
   ]
  },
  {
   "cell_type": "code",
   "execution_count": null,
   "metadata": {},
   "outputs": [],
   "source": []
  }
 ]
}